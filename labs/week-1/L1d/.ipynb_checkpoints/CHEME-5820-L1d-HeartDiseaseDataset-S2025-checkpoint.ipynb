{
 "cells": [
  {
   "cell_type": "markdown",
   "id": "c695f5e9-6b72-4869-972f-1f48e03fe7e5",
   "metadata": {},
   "source": [
    "# Lab 1d: K-Means Clustering Analysis of a Heart Failure Clinical Dataset\n",
    "In this lab, we will cluster a dataset describing the clinical risk factors linked with death from heart disease using [the K-means clustering algorithm](https://en.wikipedia.org/wiki/K-means_clustering). In this dataset, several risk factors (features) are measured per patient (some of these features are continuous, some are categorical), along with the binary clinical outcome (target variable) `{death | not death}.` \n",
    "\n",
    "Before we start, divide into teams and familiarize yourself with the lab. Then, execute the `Run All Cells` command to check if you (or your neighbor) have any code or setup issues. Code issues, then raise your hands - and let's get those fixed!\n",
    "\n",
    "### Tasks\n",
    "* __Task 1: Setup, Data, Constants (10 min)__: Let's take 10 minutes to review the dataset we'll explore today and set up some values we'll use in the other tasks. We'll load the data and do some initial _data munging_ (also called [data wrangling](https://en.wikipedia.org/wiki/Data_wrangling)) to get the clinical dataset in a form that we'll use in our analysis.\n",
    "* __Task 2: Cluster (20 min)__: In this task, you will set up the clustering problem and execute the clustering algorithm on our dataset using a default value for parameters (such as the number of clusters $K$). We'll check that the _energy_ of the system decreases to a minimum.\n",
    "* __Task 3: Analysis of clustering results (20 min)__: Now that we have clustered the data (using the specified number of clusters that we computed), let's take some time to explore what's in each cluster and what the clinical data says about heart disease and heart disease risk factors."
   ]
  },
  {
   "cell_type": "markdown",
   "id": "c0afa002-b0cc-44b2-92e7-8c7229d22a3a",
   "metadata": {},
   "source": [
    "## Task 1: Setup, Data, and Prerequisites\n",
    "We set up the computational environment by including the `Include.jl` file. The `Include.jl` file loads external packages, various functions that we will use in the exercise, and custom types to model the components of our lab problem."
   ]
  },
  {
   "cell_type": "code",
   "execution_count": 1,
   "id": "791e8a3f-3718-4848-ad53-93bd5827d2ed",
   "metadata": {
    "scrolled": true
   },
   "outputs": [
    {
     "name": "stderr",
     "output_type": "stream",
     "text": [
      "\u001b[32m\u001b[1m  Activating\u001b[22m\u001b[39m project at `~/Documents/GitHub/CHEME-5820-Labs-Spring-2025/labs/week-1/L1d`\n",
      "\u001b[32m\u001b[1m   Installed\u001b[22m\u001b[39m ImageIO ────────────────────────── v0.6.9\n",
      "\u001b[32m\u001b[1m   Installed\u001b[22m\u001b[39m GR_jll ─────────────────────────── v0.72.8+0\n",
      "\u001b[32m\u001b[1m   Installed\u001b[22m\u001b[39m ImageSegmentation ──────────────── v1.8.3\n",
      "\u001b[32m\u001b[1m   Installed\u001b[22m\u001b[39m AxisArrays ─────────────────────── v0.4.7\n",
      "\u001b[32m\u001b[1m   Installed\u001b[22m\u001b[39m TiledIteration ─────────────────── v0.5.0\n",
      "\u001b[32m\u001b[1m   Installed\u001b[22m\u001b[39m PNGFiles ───────────────────────── v0.4.3\n",
      "\u001b[32m\u001b[1m   Installed\u001b[22m\u001b[39m JpegTurbo ──────────────────────── v0.1.5\n",
      "\u001b[32m\u001b[1m   Installed\u001b[22m\u001b[39m TiffImages ─────────────────────── v0.11.2\n",
      "\u001b[32m\u001b[1m   Installed\u001b[22m\u001b[39m LERC_jll ───────────────────────── v3.0.0+1\n",
      "\u001b[32m\u001b[1m   Installed\u001b[22m\u001b[39m ImageMagick ────────────────────── v1.4.0\n",
      "\u001b[32m\u001b[1m   Installed\u001b[22m\u001b[39m HistogramThresholding ──────────── v0.3.1\n",
      "\u001b[32m\u001b[1m   Installed\u001b[22m\u001b[39m Images ─────────────────────────── v0.26.2\n",
      "\u001b[32m\u001b[1m   Installed\u001b[22m\u001b[39m OpenEXR ────────────────────────── v0.3.3\n",
      "\u001b[32m\u001b[1m   Installed\u001b[22m\u001b[39m Sixel ──────────────────────────── v0.1.3\n",
      "\u001b[32m\u001b[1m   Installed\u001b[22m\u001b[39m ProgressMeter ──────────────────── v1.10.2\n",
      "\u001b[32m\u001b[1m   Installed\u001b[22m\u001b[39m MetaGraphs ─────────────────────── v0.8.0\n",
      "\u001b[32m\u001b[1m   Installed\u001b[22m\u001b[39m Polynomials ────────────────────── v4.0.13\n",
      "\u001b[32m\u001b[1m   Installed\u001b[22m\u001b[39m CEnum ──────────────────────────── v0.5.0\n",
      "\u001b[32m\u001b[1m   Installed\u001b[22m\u001b[39m Netpbm ─────────────────────────── v1.1.1\n",
      "\u001b[32m\u001b[1m   Installed\u001b[22m\u001b[39m RegionTrees ────────────────────── v0.3.2\n",
      "\u001b[32m\u001b[1m   Installed\u001b[22m\u001b[39m SLEEFPirates ───────────────────── v0.6.43\n",
      "\u001b[32m\u001b[1m   Installed\u001b[22m\u001b[39m SIMD ───────────────────────────── v3.7.1\n",
      "\u001b[32m\u001b[1m   Installed\u001b[22m\u001b[39m RealDot ────────────────────────── v0.1.0\n",
      "\u001b[32m\u001b[1m   Installed\u001b[22m\u001b[39m ArnoldiMethod ──────────────────── v0.4.0\n",
      "\u001b[32m\u001b[1m   Installed\u001b[22m\u001b[39m SIMDTypes ──────────────────────── v0.1.0\n",
      "\u001b[32m\u001b[1m   Installed\u001b[22m\u001b[39m Static ─────────────────────────── v1.1.1\n",
      "\u001b[32m\u001b[1m   Installed\u001b[22m\u001b[39m Giflib_jll ─────────────────────── v5.2.3+0\n",
      "\u001b[32m\u001b[1m   Installed\u001b[22m\u001b[39m Qt5Base_jll ────────────────────── v5.15.3+2\n",
      "\u001b[32m\u001b[1m   Installed\u001b[22m\u001b[39m IfElse ─────────────────────────── v0.1.1\n",
      "\u001b[32m\u001b[1m   Installed\u001b[22m\u001b[39m QOI ────────────────────────────── v1.0.1\n",
      "\u001b[32m\u001b[1m   Installed\u001b[22m\u001b[39m Graphs ─────────────────────────── v1.12.0\n",
      "\u001b[32m\u001b[1m   Installed\u001b[22m\u001b[39m CpuId ──────────────────────────── v0.3.1\n",
      "\u001b[32m\u001b[1m   Installed\u001b[22m\u001b[39m GR ─────────────────────────────── v0.72.8\n",
      "\u001b[32m\u001b[1m   Installed\u001b[22m\u001b[39m PkgVersion ─────────────────────── v0.3.3\n",
      "\u001b[32m\u001b[1m   Installed\u001b[22m\u001b[39m WebP ───────────────────────────── v0.1.3\n",
      "\u001b[32m\u001b[1m   Installed\u001b[22m\u001b[39m ThreadingUtilities ─────────────── v0.5.2\n",
      "\u001b[32m\u001b[1m   Installed\u001b[22m\u001b[39m CustomUnitRanges ───────────────── v1.0.2\n",
      "\u001b[32m\u001b[1m   Installed\u001b[22m\u001b[39m Graphics ───────────────────────── v1.1.3\n",
      "\u001b[32m\u001b[1m   Installed\u001b[22m\u001b[39m ImageContrastAdjustment ────────── v0.3.12\n",
      "\u001b[32m\u001b[1m   Installed\u001b[22m\u001b[39m ManualMemory ───────────────────── v0.1.8\n",
      "\u001b[32m\u001b[1m   Installed\u001b[22m\u001b[39m ImageMagick_jll ────────────────── v7.1.1+1\n",
      "\u001b[32m\u001b[1m   Installed\u001b[22m\u001b[39m ImageMetadata ──────────────────── v0.9.10\n",
      "\u001b[32m\u001b[1m   Installed\u001b[22m\u001b[39m ComputationalResources ─────────── v0.3.2\n",
      "\u001b[32m\u001b[1m   Installed\u001b[22m\u001b[39m CatIndices ─────────────────────── v0.2.2\n",
      "\u001b[32m\u001b[1m   Installed\u001b[22m\u001b[39m MappedArrays ───────────────────── v0.4.2\n",
      "\u001b[32m\u001b[1m   Installed\u001b[22m\u001b[39m PaddedViews ────────────────────── v0.5.12\n",
      "\u001b[32m\u001b[1m   Installed\u001b[22m\u001b[39m ImageFiltering ─────────────────── v0.7.9\n",
      "\u001b[32m\u001b[1m   Installed\u001b[22m\u001b[39m ImageTransformations ───────────── v0.10.1\n",
      "\u001b[32m\u001b[1m   Installed\u001b[22m\u001b[39m StaticArrayInterface ───────────── v1.8.0\n",
      "\u001b[32m\u001b[1m   Installed\u001b[22m\u001b[39m LazyModules ────────────────────── v0.3.1\n",
      "\u001b[32m\u001b[1m   Installed\u001b[22m\u001b[39m MosaicViews ────────────────────── v0.3.4\n",
      "\u001b[32m\u001b[1m   Installed\u001b[22m\u001b[39m CommonWorldInvalidations ───────── v1.0.0\n",
      "\u001b[32m\u001b[1m   Installed\u001b[22m\u001b[39m ImageCorners ───────────────────── v0.1.3\n",
      "\u001b[32m\u001b[1m   Installed\u001b[22m\u001b[39m ImageCore ──────────────────────── v0.10.5\n",
      "\u001b[32m\u001b[1m   Installed\u001b[22m\u001b[39m BitTwiddlingConvenienceFunctions ─ v0.1.6\n",
      "\u001b[32m\u001b[1m   Installed\u001b[22m\u001b[39m LayoutPointers ─────────────────── v0.1.17\n",
      "\u001b[32m\u001b[1m   Installed\u001b[22m\u001b[39m Inflate ────────────────────────── v0.1.5\n",
      "\u001b[32m\u001b[1m   Installed\u001b[22m\u001b[39m Plots ──────────────────────────── v1.40.7\n",
      "\u001b[32m\u001b[1m   Installed\u001b[22m\u001b[39m ImageQualityIndexes ────────────── v0.3.7\n",
      "\u001b[32m\u001b[1m   Installed\u001b[22m\u001b[39m ImageShow ──────────────────────── v0.3.8\n",
      "\u001b[32m\u001b[1m   Installed\u001b[22m\u001b[39m Imath_jll ──────────────────────── v3.1.11+0\n",
      "\u001b[32m\u001b[1m   Installed\u001b[22m\u001b[39m LoopVectorization ──────────────── v0.12.171\n",
      "\u001b[32m\u001b[1m   Installed\u001b[22m\u001b[39m Libtiff_jll ────────────────────── v4.4.0+0\n",
      "\u001b[32m\u001b[1m   Installed\u001b[22m\u001b[39m CoordinateTransformations ──────── v0.6.3\n",
      "\u001b[32m\u001b[1m   Installed\u001b[22m\u001b[39m ConstructionBase ───────────────── v1.5.8\n",
      "\u001b[32m\u001b[1m   Installed\u001b[22m\u001b[39m PolyesterWeave ─────────────────── v0.2.2\n",
      "\u001b[32m\u001b[1m   Installed\u001b[22m\u001b[39m IntegralArrays ─────────────────── v0.1.6\n",
      "\u001b[32m\u001b[1m   Installed\u001b[22m\u001b[39m Ghostscript_jll ────────────────── v9.55.0+4\n",
      "\u001b[32m\u001b[1m   Installed\u001b[22m\u001b[39m Setfield ───────────────────────── v1.1.1\n",
      "\u001b[32m\u001b[1m   Installed\u001b[22m\u001b[39m Quaternions ────────────────────── v0.7.6\n",
      "\u001b[32m\u001b[1m   Installed\u001b[22m\u001b[39m LittleCMS_jll ──────────────────── v2.12.0+0\n",
      "\u001b[32m\u001b[1m   Installed\u001b[22m\u001b[39m StackViews ─────────────────────── v0.1.1\n",
      "\u001b[32m\u001b[1m   Installed\u001b[22m\u001b[39m ArrayInterface ─────────────────── v7.18.0\n",
      "\u001b[32m\u001b[1m   Installed\u001b[22m\u001b[39m CloseOpenIntervals ─────────────── v0.1.13\n",
      "\u001b[32m\u001b[1m   Installed\u001b[22m\u001b[39m UnPack ─────────────────────────── v1.0.2\n",
      "\u001b[32m\u001b[1m   Installed\u001b[22m\u001b[39m RangeArrays ────────────────────── v0.3.2\n",
      "\u001b[32m\u001b[1m   Installed\u001b[22m\u001b[39m SimpleTraits ───────────────────── v0.9.4\n",
      "\u001b[32m\u001b[1m   Installed\u001b[22m\u001b[39m OpenEXR_jll ────────────────────── v3.2.4+0\n",
      "\u001b[32m\u001b[1m   Installed\u001b[22m\u001b[39m OpenJpeg_jll ───────────────────── v2.4.0+0\n",
      "\u001b[32m\u001b[1m   Installed\u001b[22m\u001b[39m VectorizationBase ──────────────── v0.21.71\n",
      "\u001b[32m\u001b[1m   Installed\u001b[22m\u001b[39m ImageBase ──────────────────────── v0.1.7\n",
      "\u001b[32m\u001b[1m   Installed\u001b[22m\u001b[39m Rotations ──────────────────────── v1.7.1\n",
      "\u001b[32m\u001b[1m   Installed\u001b[22m\u001b[39m ImageBinarization ──────────────── v0.3.1\n",
      "\u001b[32m\u001b[1m   Installed\u001b[22m\u001b[39m OpenSSL_jll ────────────────────── v1.1.23+1\n",
      "\u001b[32m\u001b[1m   Installed\u001b[22m\u001b[39m IntervalSets ───────────────────── v0.7.10\n",
      "\u001b[32m\u001b[1m   Installed\u001b[22m\u001b[39m FFMPEG_jll ─────────────────────── v4.4.2+2\n",
      "\u001b[32m\u001b[1m   Installed\u001b[22m\u001b[39m HostCPUFeatures ────────────────── v0.1.17\n",
      "\u001b[32m\u001b[1m   Installed\u001b[22m\u001b[39m CPUSummary ─────────────────────── v0.2.6\n",
      "\u001b[32m\u001b[1m   Installed\u001b[22m\u001b[39m libsixel_jll ───────────────────── v1.10.5+0\n",
      "\u001b[32m\u001b[1m   Installed\u001b[22m\u001b[39m IterTools ──────────────────────── v1.10.0\n",
      "\u001b[32m\u001b[1m   Installed\u001b[22m\u001b[39m IndirectArrays ─────────────────── v1.0.0\n",
      "\u001b[32m\u001b[1m   Installed\u001b[22m\u001b[39m libwebp_jll ────────────────────── v1.4.0+0\n",
      "\u001b[32m\u001b[1m   Installed\u001b[22m\u001b[39m ImageAxes ──────────────────────── v0.6.12\n",
      "\u001b[32m\u001b[1m   Installed\u001b[22m\u001b[39m SimpleWeightedGraphs ───────────── v1.4.0\n",
      "\u001b[32m\u001b[1m   Installed\u001b[22m\u001b[39m FFTViews ───────────────────────── v0.3.2\n",
      "\u001b[32m\u001b[1m   Installed\u001b[22m\u001b[39m ImageDistances ─────────────────── v0.2.17\n",
      "\u001b[32m\u001b[1m   Installed\u001b[22m\u001b[39m Parameters ─────────────────────── v0.12.3\n",
      "\u001b[32m\u001b[1m   Installed\u001b[22m\u001b[39m ImageMorphology ────────────────── v0.4.5\n",
      "\u001b[32m\u001b[1m    Updating\u001b[22m\u001b[39m `~/Documents/GitHub/CHEME-5820-Labs-Spring-2025/labs/week-1/L1d/Project.toml`\n",
      "  \u001b[90m[336ed68f] \u001b[39m\u001b[92m+ CSV v0.10.15\u001b[39m\n",
      "  \u001b[90m[aaaa29a8] \u001b[39m\u001b[92m+ Clustering v0.15.8\u001b[39m\n",
      "  \u001b[90m[a93c6f00] \u001b[39m\u001b[92m+ DataFrames v1.7.0\u001b[39m\n",
      "  \u001b[90m[b4f34e82] \u001b[39m\u001b[92m+ Distances v0.10.12\u001b[39m\n",
      "  \u001b[90m[5789e2e9] \u001b[39m\u001b[92m+ FileIO v1.16.6\u001b[39m\n",
      "  \u001b[90m[916415d5] \u001b[39m\u001b[92m+ Images v0.26.2\u001b[39m\n",
      "  \u001b[90m[033835bb] \u001b[39m\u001b[92m+ JLD2 v0.5.11\u001b[39m\n",
      "\u001b[32m⌃\u001b[39m \u001b[90m[91a5bcdd] \u001b[39m\u001b[92m+ Plots v1.40.7\u001b[39m\n",
      "  \u001b[90m[08abe8d2] \u001b[39m\u001b[92m+ PrettyTables v2.4.0\u001b[39m\n",
      "  \u001b[90m[10745b16] \u001b[39m\u001b[92m+ Statistics v1.11.1\u001b[39m\n",
      "  \u001b[90m[f3b207a7] \u001b[39m\u001b[92m+ StatsPlots v0.15.7\u001b[39m\n",
      "  \u001b[90m[37e2e46d] \u001b[39m\u001b[93m~ LinearAlgebra ⇒ v1.11.0\u001b[39m\n",
      "\u001b[32m\u001b[1m    Updating\u001b[22m\u001b[39m `~/Documents/GitHub/CHEME-5820-Labs-Spring-2025/labs/week-1/L1d/Manifest.toml`\n",
      "  \u001b[90m[621f4979] \u001b[39m\u001b[92m+ AbstractFFTs v1.5.0\u001b[39m\n",
      "  \u001b[90m[79e6a3ab] \u001b[39m\u001b[92m+ Adapt v4.1.1\u001b[39m\n",
      "  \u001b[90m[66dad0bd] \u001b[39m\u001b[92m+ AliasTables v1.1.3\u001b[39m\n",
      "  \u001b[90m[ec485272] \u001b[39m\u001b[92m+ ArnoldiMethod v0.4.0\u001b[39m\n",
      "  \u001b[90m[7d9fca2a] \u001b[39m\u001b[92m+ Arpack v0.5.4\u001b[39m\n",
      "  \u001b[90m[4fba245c] \u001b[39m\u001b[92m+ ArrayInterface v7.18.0\u001b[39m\n",
      "  \u001b[90m[13072b0f] \u001b[39m\u001b[92m+ AxisAlgorithms v1.1.0\u001b[39m\n",
      "  \u001b[90m[39de3d68] \u001b[39m\u001b[92m+ AxisArrays v0.4.7\u001b[39m\n",
      "  \u001b[90m[d1d4a3ce] \u001b[39m\u001b[92m+ BitFlags v0.1.9\u001b[39m\n",
      "  \u001b[90m[62783981] \u001b[39m\u001b[92m+ BitTwiddlingConvenienceFunctions v0.1.6\u001b[39m\n",
      "  \u001b[90m[fa961155] \u001b[39m\u001b[92m+ CEnum v0.5.0\u001b[39m\n",
      "  \u001b[90m[2a0fbf3d] \u001b[39m\u001b[92m+ CPUSummary v0.2.6\u001b[39m\n",
      "  \u001b[90m[336ed68f] \u001b[39m\u001b[92m+ CSV v0.10.15\u001b[39m\n",
      "  \u001b[90m[aafaddc9] \u001b[39m\u001b[92m+ CatIndices v0.2.2\u001b[39m\n",
      "  \u001b[90m[d360d2e6] \u001b[39m\u001b[92m+ ChainRulesCore v1.25.1\u001b[39m\n",
      "  \u001b[90m[fb6a15b2] \u001b[39m\u001b[92m+ CloseOpenIntervals v0.1.13\u001b[39m\n",
      "  \u001b[90m[aaaa29a8] \u001b[39m\u001b[92m+ Clustering v0.15.8\u001b[39m\n",
      "  \u001b[90m[944b1d66] \u001b[39m\u001b[92m+ CodecZlib v0.7.6\u001b[39m\n",
      "  \u001b[90m[35d6a980] \u001b[39m\u001b[92m+ ColorSchemes v3.28.0\u001b[39m\n",
      "  \u001b[90m[3da002f7] \u001b[39m\u001b[92m+ ColorTypes v0.12.0\u001b[39m\n",
      "  \u001b[90m[c3611d14] \u001b[39m\u001b[92m+ ColorVectorSpace v0.11.0\u001b[39m\n",
      "  \u001b[90m[5ae59095] \u001b[39m\u001b[92m+ Colors v0.13.0\u001b[39m\n",
      "  \u001b[90m[f70d9fcc] \u001b[39m\u001b[92m+ CommonWorldInvalidations v1.0.0\u001b[39m\n",
      "  \u001b[90m[34da2185] \u001b[39m\u001b[92m+ Compat v4.16.0\u001b[39m\n",
      "  \u001b[90m[ed09eef8] \u001b[39m\u001b[92m+ ComputationalResources v0.3.2\u001b[39m\n",
      "  \u001b[90m[f0e56b4a] \u001b[39m\u001b[92m+ ConcurrentUtilities v2.4.3\u001b[39m\n",
      "  \u001b[90m[187b0558] \u001b[39m\u001b[92m+ ConstructionBase v1.5.8\u001b[39m\n",
      "  \u001b[90m[d38c429a] \u001b[39m\u001b[92m+ Contour v0.6.3\u001b[39m\n",
      "  \u001b[90m[150eb455] \u001b[39m\u001b[92m+ CoordinateTransformations v0.6.3\u001b[39m\n",
      "  \u001b[90m[adafc99b] \u001b[39m\u001b[92m+ CpuId v0.3.1\u001b[39m\n",
      "  \u001b[90m[a8cc5b0e] \u001b[39m\u001b[92m+ Crayons v4.1.1\u001b[39m\n",
      "  \u001b[90m[dc8bdbbb] \u001b[39m\u001b[92m+ CustomUnitRanges v1.0.2\u001b[39m\n",
      "  \u001b[90m[9a962f9c] \u001b[39m\u001b[92m+ DataAPI v1.16.0\u001b[39m\n",
      "  \u001b[90m[a93c6f00] \u001b[39m\u001b[92m+ DataFrames v1.7.0\u001b[39m\n",
      "  \u001b[90m[864edb3b] \u001b[39m\u001b[92m+ DataStructures v0.18.20\u001b[39m\n",
      "  \u001b[90m[e2d170a0] \u001b[39m\u001b[92m+ DataValueInterfaces v1.0.0\u001b[39m\n",
      "  \u001b[90m[8bb1440f] \u001b[39m\u001b[92m+ DelimitedFiles v1.9.1\u001b[39m\n",
      "  \u001b[90m[b4f34e82] \u001b[39m\u001b[92m+ Distances v0.10.12\u001b[39m\n",
      "  \u001b[90m[31c24e10] \u001b[39m\u001b[92m+ Distributions v0.25.117\u001b[39m\n",
      "  \u001b[90m[ffbed154] \u001b[39m\u001b[92m+ DocStringExtensions v0.9.3\u001b[39m\n",
      "  \u001b[90m[460bff9d] \u001b[39m\u001b[92m+ ExceptionUnwrapping v0.1.11\u001b[39m\n",
      "  \u001b[90m[c87230d0] \u001b[39m\u001b[92m+ FFMPEG v0.4.2\u001b[39m\n",
      "  \u001b[90m[4f61f5a4] \u001b[39m\u001b[92m+ FFTViews v0.3.2\u001b[39m\n",
      "  \u001b[90m[7a1cc6ca] \u001b[39m\u001b[92m+ FFTW v1.8.0\u001b[39m\n",
      "  \u001b[90m[5789e2e9] \u001b[39m\u001b[92m+ FileIO v1.16.6\u001b[39m\n",
      "  \u001b[90m[48062228] \u001b[39m\u001b[92m+ FilePathsBase v0.9.22\u001b[39m\n",
      "  \u001b[90m[1a297f60] \u001b[39m\u001b[92m+ FillArrays v1.13.0\u001b[39m\n",
      "  \u001b[90m[53c48c17] \u001b[39m\u001b[92m+ FixedPointNumbers v0.8.5\u001b[39m\n",
      "  \u001b[90m[1fa38f19] \u001b[39m\u001b[92m+ Format v1.3.7\u001b[39m\n",
      "\u001b[32m⌃\u001b[39m \u001b[90m[28b8d3ca] \u001b[39m\u001b[92m+ GR v0.72.8\u001b[39m\n",
      "  \u001b[90m[a2bd30eb] \u001b[39m\u001b[92m+ Graphics v1.1.3\u001b[39m\n",
      "  \u001b[90m[86223c79] \u001b[39m\u001b[92m+ Graphs v1.12.0\u001b[39m\n",
      "  \u001b[90m[42e2da0e] \u001b[39m\u001b[92m+ Grisu v1.0.2\u001b[39m\n",
      "  \u001b[90m[cd3eb016] \u001b[39m\u001b[92m+ HTTP v1.10.15\u001b[39m\n",
      "  \u001b[90m[2c695a8d] \u001b[39m\u001b[92m+ HistogramThresholding v0.3.1\u001b[39m\n",
      "  \u001b[90m[3e5b6fbb] \u001b[39m\u001b[92m+ HostCPUFeatures v0.1.17\u001b[39m\n",
      "  \u001b[90m[34004b35] \u001b[39m\u001b[92m+ HypergeometricFunctions v0.3.25\u001b[39m\n",
      "  \u001b[90m[615f187c] \u001b[39m\u001b[92m+ IfElse v0.1.1\u001b[39m\n",
      "  \u001b[90m[2803e5a7] \u001b[39m\u001b[92m+ ImageAxes v0.6.12\u001b[39m\n",
      "  \u001b[90m[c817782e] \u001b[39m\u001b[92m+ ImageBase v0.1.7\u001b[39m\n",
      "  \u001b[90m[cbc4b850] \u001b[39m\u001b[92m+ ImageBinarization v0.3.1\u001b[39m\n",
      "  \u001b[90m[f332f351] \u001b[39m\u001b[92m+ ImageContrastAdjustment v0.3.12\u001b[39m\n",
      "  \u001b[90m[a09fc81d] \u001b[39m\u001b[92m+ ImageCore v0.10.5\u001b[39m\n",
      "  \u001b[90m[89d5987c] \u001b[39m\u001b[92m+ ImageCorners v0.1.3\u001b[39m\n",
      "  \u001b[90m[51556ac3] \u001b[39m\u001b[92m+ ImageDistances v0.2.17\u001b[39m\n",
      "  \u001b[90m[6a3955dd] \u001b[39m\u001b[92m+ ImageFiltering v0.7.9\u001b[39m\n",
      "  \u001b[90m[82e4d734] \u001b[39m\u001b[92m+ ImageIO v0.6.9\u001b[39m\n",
      "  \u001b[90m[6218d12a] \u001b[39m\u001b[92m+ ImageMagick v1.4.0\u001b[39m\n",
      "  \u001b[90m[bc367c6b] \u001b[39m\u001b[92m+ ImageMetadata v0.9.10\u001b[39m\n",
      "  \u001b[90m[787d08f9] \u001b[39m\u001b[92m+ ImageMorphology v0.4.5\u001b[39m\n",
      "  \u001b[90m[2996bd0c] \u001b[39m\u001b[92m+ ImageQualityIndexes v0.3.7\u001b[39m\n",
      "  \u001b[90m[80713f31] \u001b[39m\u001b[92m+ ImageSegmentation v1.8.3\u001b[39m\n",
      "  \u001b[90m[4e3cecfd] \u001b[39m\u001b[92m+ ImageShow v0.3.8\u001b[39m\n",
      "  \u001b[90m[02fcd773] \u001b[39m\u001b[92m+ ImageTransformations v0.10.1\u001b[39m\n",
      "  \u001b[90m[916415d5] \u001b[39m\u001b[92m+ Images v0.26.2\u001b[39m\n",
      "  \u001b[90m[9b13fd28] \u001b[39m\u001b[92m+ IndirectArrays v1.0.0\u001b[39m\n",
      "  \u001b[90m[d25df0c9] \u001b[39m\u001b[92m+ Inflate v0.1.5\u001b[39m\n",
      "  \u001b[90m[842dd82b] \u001b[39m\u001b[92m+ InlineStrings v1.4.2\u001b[39m\n",
      "  \u001b[90m[1d092043] \u001b[39m\u001b[92m+ IntegralArrays v0.1.6\u001b[39m\n",
      "  \u001b[90m[a98d9a8b] \u001b[39m\u001b[92m+ Interpolations v0.15.1\u001b[39m\n",
      "  \u001b[90m[8197267c] \u001b[39m\u001b[92m+ IntervalSets v0.7.10\u001b[39m\n",
      "  \u001b[90m[41ab1584] \u001b[39m\u001b[92m+ InvertedIndices v1.3.1\u001b[39m\n",
      "  \u001b[90m[92d709cd] \u001b[39m\u001b[92m+ IrrationalConstants v0.2.2\u001b[39m\n",
      "  \u001b[90m[c8e1da08] \u001b[39m\u001b[92m+ IterTools v1.10.0\u001b[39m\n",
      "  \u001b[90m[82899510] \u001b[39m\u001b[92m+ IteratorInterfaceExtensions v1.0.0\u001b[39m\n",
      "  \u001b[90m[033835bb] \u001b[39m\u001b[92m+ JLD2 v0.5.11\u001b[39m\n",
      "  \u001b[90m[1019f520] \u001b[39m\u001b[92m+ JLFzf v0.1.9\u001b[39m\n",
      "  \u001b[90m[692b3bcd] \u001b[39m\u001b[92m+ JLLWrappers v1.7.0\u001b[39m\n",
      "  \u001b[90m[682c06a0] \u001b[39m\u001b[92m+ JSON v0.21.4\u001b[39m\n",
      "  \u001b[90m[b835a17e] \u001b[39m\u001b[92m+ JpegTurbo v0.1.5\u001b[39m\n",
      "  \u001b[90m[5ab0869b] \u001b[39m\u001b[92m+ KernelDensity v0.6.9\u001b[39m\n",
      "  \u001b[90m[b964fa9f] \u001b[39m\u001b[92m+ LaTeXStrings v1.4.0\u001b[39m\n",
      "  \u001b[90m[23fbe1c1] \u001b[39m\u001b[92m+ Latexify v0.16.5\u001b[39m\n",
      "  \u001b[90m[10f19ff3] \u001b[39m\u001b[92m+ LayoutPointers v0.1.17\u001b[39m\n",
      "  \u001b[90m[8cdb02fc] \u001b[39m\u001b[92m+ LazyModules v0.3.1\u001b[39m\n",
      "  \u001b[90m[2ab3a3ac] \u001b[39m\u001b[92m+ LogExpFunctions v0.3.29\u001b[39m\n",
      "  \u001b[90m[e6f89c97] \u001b[39m\u001b[92m+ LoggingExtras v1.1.0\u001b[39m\n",
      "  \u001b[90m[bdcacae8] \u001b[39m\u001b[92m+ LoopVectorization v0.12.171\u001b[39m\n",
      "  \u001b[90m[1914dd2f] \u001b[39m\u001b[92m+ MacroTools v0.5.15\u001b[39m\n",
      "  \u001b[90m[d125e4d3] \u001b[39m\u001b[92m+ ManualMemory v0.1.8\u001b[39m\n",
      "  \u001b[90m[dbb5928d] \u001b[39m\u001b[92m+ MappedArrays v0.4.2\u001b[39m\n",
      "  \u001b[90m[739be429] \u001b[39m\u001b[92m+ MbedTLS v1.1.9\u001b[39m\n",
      "  \u001b[90m[442fdcdd] \u001b[39m\u001b[92m+ Measures v0.3.2\u001b[39m\n",
      "  \u001b[90m[626554b9] \u001b[39m\u001b[92m+ MetaGraphs v0.8.0\u001b[39m\n",
      "  \u001b[90m[e1d29d7a] \u001b[39m\u001b[92m+ Missings v1.2.0\u001b[39m\n",
      "  \u001b[90m[e94cdb99] \u001b[39m\u001b[92m+ MosaicViews v0.3.4\u001b[39m\n",
      "  \u001b[90m[6f286f6a] \u001b[39m\u001b[92m+ MultivariateStats v0.10.3\u001b[39m\n",
      "  \u001b[90m[77ba4419] \u001b[39m\u001b[92m+ NaNMath v1.0.3\u001b[39m\n",
      "  \u001b[90m[b8a86587] \u001b[39m\u001b[92m+ NearestNeighbors v0.4.21\u001b[39m\n",
      "  \u001b[90m[f09324ee] \u001b[39m\u001b[92m+ Netpbm v1.1.1\u001b[39m\n",
      "  \u001b[90m[510215fc] \u001b[39m\u001b[92m+ Observables v0.5.5\u001b[39m\n",
      "  \u001b[90m[6fe1bfb0] \u001b[39m\u001b[92m+ OffsetArrays v1.15.0\u001b[39m\n",
      "  \u001b[90m[52e1d378] \u001b[39m\u001b[92m+ OpenEXR v0.3.3\u001b[39m\n",
      "  \u001b[90m[4d8831e6] \u001b[39m\u001b[92m+ OpenSSL v1.4.3\u001b[39m\n",
      "  \u001b[90m[bac558e1] \u001b[39m\u001b[92m+ OrderedCollections v1.7.0\u001b[39m\n",
      "  \u001b[90m[90014a1f] \u001b[39m\u001b[92m+ PDMats v0.11.32\u001b[39m\n",
      "  \u001b[90m[f57f5aa1] \u001b[39m\u001b[92m+ PNGFiles v0.4.3\u001b[39m\n",
      "  \u001b[90m[5432bcbf] \u001b[39m\u001b[92m+ PaddedViews v0.5.12\u001b[39m\n",
      "  \u001b[90m[d96e819e] \u001b[39m\u001b[92m+ Parameters v0.12.3\u001b[39m\n",
      "  \u001b[90m[69de0a69] \u001b[39m\u001b[92m+ Parsers v2.8.1\u001b[39m\n",
      "  \u001b[90m[b98c9c47] \u001b[39m\u001b[92m+ Pipe v1.3.0\u001b[39m\n",
      "  \u001b[90m[eebad327] \u001b[39m\u001b[92m+ PkgVersion v0.3.3\u001b[39m\n",
      "  \u001b[90m[ccf2f8ad] \u001b[39m\u001b[92m+ PlotThemes v3.3.0\u001b[39m\n",
      "  \u001b[90m[995b91a9] \u001b[39m\u001b[92m+ PlotUtils v1.4.3\u001b[39m\n",
      "\u001b[32m⌃\u001b[39m \u001b[90m[91a5bcdd] \u001b[39m\u001b[92m+ Plots v1.40.7\u001b[39m\n",
      "  \u001b[90m[1d0040c9] \u001b[39m\u001b[92m+ PolyesterWeave v0.2.2\u001b[39m\n",
      "  \u001b[90m[f27b6e38] \u001b[39m\u001b[92m+ Polynomials v4.0.13\u001b[39m\n",
      "  \u001b[90m[2dfb63ee] \u001b[39m\u001b[92m+ PooledArrays v1.4.3\u001b[39m\n",
      "  \u001b[90m[aea7be01] \u001b[39m\u001b[92m+ PrecompileTools v1.2.1\u001b[39m\n",
      "  \u001b[90m[21216c6a] \u001b[39m\u001b[92m+ Preferences v1.4.3\u001b[39m\n",
      "  \u001b[90m[08abe8d2] \u001b[39m\u001b[92m+ PrettyTables v2.4.0\u001b[39m\n",
      "  \u001b[90m[92933f4c] \u001b[39m\u001b[92m+ ProgressMeter v1.10.2\u001b[39m\n",
      "  \u001b[90m[43287f4e] \u001b[39m\u001b[92m+ PtrArrays v1.3.0\u001b[39m\n",
      "  \u001b[90m[4b34888f] \u001b[39m\u001b[92m+ QOI v1.0.1\u001b[39m\n",
      "  \u001b[90m[1fd47b50] \u001b[39m\u001b[92m+ QuadGK v2.11.1\u001b[39m\n",
      "  \u001b[90m[94ee1d12] \u001b[39m\u001b[92m+ Quaternions v0.7.6\u001b[39m\n",
      "  \u001b[90m[b3c3ace0] \u001b[39m\u001b[92m+ RangeArrays v0.3.2\u001b[39m\n",
      "  \u001b[90m[c84ed2f1] \u001b[39m\u001b[92m+ Ratios v0.4.5\u001b[39m\n",
      "  \u001b[90m[c1ae055f] \u001b[39m\u001b[92m+ RealDot v0.1.0\u001b[39m\n",
      "  \u001b[90m[3cdcf5f2] \u001b[39m\u001b[92m+ RecipesBase v1.3.4\u001b[39m\n",
      "  \u001b[90m[01d81517] \u001b[39m\u001b[92m+ RecipesPipeline v0.6.12\u001b[39m\n",
      "  \u001b[90m[189a3867] \u001b[39m\u001b[92m+ Reexport v1.2.2\u001b[39m\n",
      "  \u001b[90m[dee08c22] \u001b[39m\u001b[92m+ RegionTrees v0.3.2\u001b[39m\n",
      "  \u001b[90m[05181044] \u001b[39m\u001b[92m+ RelocatableFolders v1.0.1\u001b[39m\n",
      "  \u001b[90m[ae029012] \u001b[39m\u001b[92m+ Requires v1.3.0\u001b[39m\n",
      "  \u001b[90m[79098fc4] \u001b[39m\u001b[92m+ Rmath v0.8.0\u001b[39m\n",
      "  \u001b[90m[6038ab10] \u001b[39m\u001b[92m+ Rotations v1.7.1\u001b[39m\n",
      "  \u001b[90m[fdea26ae] \u001b[39m\u001b[92m+ SIMD v3.7.1\u001b[39m\n",
      "  \u001b[90m[94e857df] \u001b[39m\u001b[92m+ SIMDTypes v0.1.0\u001b[39m\n",
      "  \u001b[90m[476501e8] \u001b[39m\u001b[92m+ SLEEFPirates v0.6.43\u001b[39m\n",
      "  \u001b[90m[6c6a2e73] \u001b[39m\u001b[92m+ Scratch v1.2.1\u001b[39m\n",
      "  \u001b[90m[91c51154] \u001b[39m\u001b[92m+ SentinelArrays v1.4.8\u001b[39m\n",
      "  \u001b[90m[efcf1570] \u001b[39m\u001b[92m+ Setfield v1.1.1\u001b[39m\n",
      "  \u001b[90m[992d4aef] \u001b[39m\u001b[92m+ Showoff v1.0.3\u001b[39m\n",
      "  \u001b[90m[777ac1f9] \u001b[39m\u001b[92m+ SimpleBufferStream v1.2.0\u001b[39m\n",
      "  \u001b[90m[699a6c99] \u001b[39m\u001b[92m+ SimpleTraits v0.9.4\u001b[39m\n",
      "  \u001b[90m[47aef6b3] \u001b[39m\u001b[92m+ SimpleWeightedGraphs v1.4.0\u001b[39m\n",
      "  \u001b[90m[45858cf5] \u001b[39m\u001b[92m+ Sixel v0.1.3\u001b[39m\n",
      "  \u001b[90m[a2af1166] \u001b[39m\u001b[92m+ SortingAlgorithms v1.2.1\u001b[39m\n",
      "  \u001b[90m[276daf66] \u001b[39m\u001b[92m+ SpecialFunctions v2.5.0\u001b[39m\n",
      "  \u001b[90m[860ef19b] \u001b[39m\u001b[92m+ StableRNGs v1.0.2\u001b[39m\n",
      "  \u001b[90m[cae243ae] \u001b[39m\u001b[92m+ StackViews v0.1.1\u001b[39m\n",
      "  \u001b[90m[aedffcd0] \u001b[39m\u001b[92m+ Static v1.1.1\u001b[39m\n",
      "  \u001b[90m[0d7ed370] \u001b[39m\u001b[92m+ StaticArrayInterface v1.8.0\u001b[39m\n",
      "  \u001b[90m[90137ffa] \u001b[39m\u001b[92m+ StaticArrays v1.9.10\u001b[39m\n",
      "  \u001b[90m[1e83bf80] \u001b[39m\u001b[92m+ StaticArraysCore v1.4.3\u001b[39m\n",
      "  \u001b[90m[10745b16] \u001b[39m\u001b[92m+ Statistics v1.11.1\u001b[39m\n",
      "  \u001b[90m[82ae8749] \u001b[39m\u001b[92m+ StatsAPI v1.7.0\u001b[39m\n",
      "  \u001b[90m[2913bbd2] \u001b[39m\u001b[92m+ StatsBase v0.34.4\u001b[39m\n",
      "  \u001b[90m[4c63d2b9] \u001b[39m\u001b[92m+ StatsFuns v1.3.2\u001b[39m\n",
      "  \u001b[90m[f3b207a7] \u001b[39m\u001b[92m+ StatsPlots v0.15.7\u001b[39m\n",
      "  \u001b[90m[892a3eda] \u001b[39m\u001b[92m+ StringManipulation v0.4.0\u001b[39m\n",
      "  \u001b[90m[ab02a1b2] \u001b[39m\u001b[92m+ TableOperations v1.2.0\u001b[39m\n",
      "  \u001b[90m[3783bdb8] \u001b[39m\u001b[92m+ TableTraits v1.0.1\u001b[39m\n",
      "  \u001b[90m[bd369af6] \u001b[39m\u001b[92m+ Tables v1.12.0\u001b[39m\n",
      "  \u001b[90m[62fd8b95] \u001b[39m\u001b[92m+ TensorCore v0.1.1\u001b[39m\n",
      "  \u001b[90m[8290d209] \u001b[39m\u001b[92m+ ThreadingUtilities v0.5.2\u001b[39m\n",
      "  \u001b[90m[731e570b] \u001b[39m\u001b[92m+ TiffImages v0.11.2\u001b[39m\n",
      "  \u001b[90m[06e1c1a7] \u001b[39m\u001b[92m+ TiledIteration v0.5.0\u001b[39m\n",
      "  \u001b[90m[3bb67fe8] \u001b[39m\u001b[92m+ TranscodingStreams v0.11.3\u001b[39m\n",
      "  \u001b[90m[5c2747f8] \u001b[39m\u001b[92m+ URIs v1.5.1\u001b[39m\n",
      "  \u001b[90m[3a884ed6] \u001b[39m\u001b[92m+ UnPack v1.0.2\u001b[39m\n",
      "  \u001b[90m[1cfade01] \u001b[39m\u001b[92m+ UnicodeFun v0.4.1\u001b[39m\n",
      "  \u001b[90m[1986cc42] \u001b[39m\u001b[92m+ Unitful v1.22.0\u001b[39m\n",
      "  \u001b[90m[45397f5d] \u001b[39m\u001b[92m+ UnitfulLatexify v1.6.4\u001b[39m\n",
      "  \u001b[90m[41fe7b60] \u001b[39m\u001b[92m+ Unzip v0.2.0\u001b[39m\n",
      "  \u001b[90m[3d5dd08c] \u001b[39m\u001b[92m+ VectorizationBase v0.21.71\u001b[39m\n",
      "  \u001b[90m[ea10d353] \u001b[39m\u001b[92m+ WeakRefStrings v1.4.2\u001b[39m\n",
      "  \u001b[90m[e3aaa7dc] \u001b[39m\u001b[92m+ WebP v0.1.3\u001b[39m\n",
      "  \u001b[90m[cc8bc4a8] \u001b[39m\u001b[92m+ Widgets v0.6.7\u001b[39m\n",
      "  \u001b[90m[efce3f68] \u001b[39m\u001b[92m+ WoodburyMatrices v1.0.0\u001b[39m\n",
      "  \u001b[90m[76eceee3] \u001b[39m\u001b[92m+ WorkerUtilities v1.6.1\u001b[39m\n",
      "\u001b[33m⌅\u001b[39m \u001b[90m[68821587] \u001b[39m\u001b[92m+ Arpack_jll v3.5.1+1\u001b[39m\n",
      "  \u001b[90m[6e34b625] \u001b[39m\u001b[92m+ Bzip2_jll v1.0.8+4\u001b[39m\n",
      "  \u001b[90m[83423d85] \u001b[39m\u001b[92m+ Cairo_jll v1.18.2+1\u001b[39m\n",
      "  \u001b[90m[ee1fde0b] \u001b[39m\u001b[92m+ Dbus_jll v1.14.10+0\u001b[39m\n",
      "  \u001b[90m[2702e6a9] \u001b[39m\u001b[92m+ EpollShim_jll v0.0.20230411+1\u001b[39m\n",
      "  \u001b[90m[2e619515] \u001b[39m\u001b[92m+ Expat_jll v2.6.4+3\u001b[39m\n",
      "\u001b[33m⌅\u001b[39m \u001b[90m[b22a6f82] \u001b[39m\u001b[92m+ FFMPEG_jll v4.4.2+2\u001b[39m\n",
      "  \u001b[90m[f5851436] \u001b[39m\u001b[92m+ FFTW_jll v3.3.10+3\u001b[39m\n",
      "  \u001b[90m[a3f928ae] \u001b[39m\u001b[92m+ Fontconfig_jll v2.15.0+0\u001b[39m\n",
      "  \u001b[90m[d7e528f0] \u001b[39m\u001b[92m+ FreeType2_jll v2.13.3+1\u001b[39m\n",
      "  \u001b[90m[559328eb] \u001b[39m\u001b[92m+ FriBidi_jll v1.0.16+0\u001b[39m\n",
      "  \u001b[90m[0656b61e] \u001b[39m\u001b[92m+ GLFW_jll v3.4.0+2\u001b[39m\n",
      "\u001b[33m⌅\u001b[39m \u001b[90m[d2c73de3] \u001b[39m\u001b[92m+ GR_jll v0.72.8+0\u001b[39m\n",
      "  \u001b[90m[78b55507] \u001b[39m\u001b[92m+ Gettext_jll v0.21.0+0\u001b[39m\n",
      "  \u001b[90m[61579ee1] \u001b[39m\u001b[92m+ Ghostscript_jll v9.55.0+4\u001b[39m\n",
      "  \u001b[90m[59f7168a] \u001b[39m\u001b[92m+ Giflib_jll v5.2.3+0\u001b[39m\n",
      "  \u001b[90m[7746bdde] \u001b[39m\u001b[92m+ Glib_jll v2.82.4+0\u001b[39m\n",
      "  \u001b[90m[3b182d85] \u001b[39m\u001b[92m+ Graphite2_jll v1.3.14+1\u001b[39m\n",
      "  \u001b[90m[2e76f6c2] \u001b[39m\u001b[92m+ HarfBuzz_jll v8.5.0+0\u001b[39m\n",
      "  \u001b[90m[c73af94c] \u001b[39m\u001b[92m+ ImageMagick_jll v7.1.1+1\u001b[39m\n",
      "  \u001b[90m[905a6f67] \u001b[39m\u001b[92m+ Imath_jll v3.1.11+0\u001b[39m\n",
      "\u001b[33m⌅\u001b[39m \u001b[90m[1d5cc7b8] \u001b[39m\u001b[92m+ IntelOpenMP_jll v2024.2.1+0\u001b[39m\n",
      "  \u001b[90m[aacddb02] \u001b[39m\u001b[92m+ JpegTurbo_jll v3.1.1+0\u001b[39m\n",
      "  \u001b[90m[c1c5ebd0] \u001b[39m\u001b[92m+ LAME_jll v3.100.2+0\u001b[39m\n",
      "\u001b[33m⌅\u001b[39m \u001b[90m[88015f11] \u001b[39m\u001b[92m+ LERC_jll v3.0.0+1\u001b[39m\n",
      "  \u001b[90m[1d63c593] \u001b[39m\u001b[92m+ LLVMOpenMP_jll v18.1.7+0\u001b[39m\n",
      "  \u001b[90m[dd4b983a] \u001b[39m\u001b[92m+ LZO_jll v2.10.3+0\u001b[39m\n",
      "\u001b[33m⌅\u001b[39m \u001b[90m[e9f186c6] \u001b[39m\u001b[92m+ Libffi_jll v3.2.2+2\u001b[39m\n",
      "  \u001b[90m[d4300ac3] \u001b[39m\u001b[92m+ Libgcrypt_jll v1.11.0+0\u001b[39m\n",
      "  \u001b[90m[7e76a0d4] \u001b[39m\u001b[92m+ Libglvnd_jll v1.7.0+0\u001b[39m\n",
      "  \u001b[90m[7add5ba3] \u001b[39m\u001b[92m+ Libgpg_error_jll v1.51.1+0\u001b[39m\n",
      "  \u001b[90m[94ce4f54] \u001b[39m\u001b[92m+ Libiconv_jll v1.18.0+0\u001b[39m\n",
      "  \u001b[90m[4b2f31a3] \u001b[39m\u001b[92m+ Libmount_jll v2.40.3+0\u001b[39m\n",
      "\u001b[33m⌅\u001b[39m \u001b[90m[89763e89] \u001b[39m\u001b[92m+ Libtiff_jll v4.4.0+0\u001b[39m\n",
      "  \u001b[90m[38a345b3] \u001b[39m\u001b[92m+ Libuuid_jll v2.40.3+0\u001b[39m\n",
      "\u001b[32m⌃\u001b[39m \u001b[90m[d3a379c0] \u001b[39m\u001b[92m+ LittleCMS_jll v2.12.0+0\u001b[39m\n",
      "\u001b[33m⌅\u001b[39m \u001b[90m[856f044c] \u001b[39m\u001b[92m+ MKL_jll v2024.2.0+0\u001b[39m\n",
      "  \u001b[90m[e7412a2a] \u001b[39m\u001b[92m+ Ogg_jll v1.3.5+1\u001b[39m\n",
      "  \u001b[90m[18a262bb] \u001b[39m\u001b[92m+ OpenEXR_jll v3.2.4+0\u001b[39m\n",
      "\u001b[32m⌃\u001b[39m \u001b[90m[643b3616] \u001b[39m\u001b[92m+ OpenJpeg_jll v2.4.0+0\u001b[39m\n",
      "\u001b[33m⌅\u001b[39m \u001b[90m[458c3c95] \u001b[39m\u001b[92m+ OpenSSL_jll v1.1.23+1\u001b[39m\n",
      "  \u001b[90m[efe28fd5] \u001b[39m\u001b[92m+ OpenSpecFun_jll v0.5.6+0\u001b[39m\n",
      "  \u001b[90m[91d4177d] \u001b[39m\u001b[92m+ Opus_jll v1.3.3+0\u001b[39m\n",
      "  \u001b[90m[36c8627f] \u001b[39m\u001b[92m+ Pango_jll v1.55.5+0\u001b[39m\n",
      "\u001b[33m⌅\u001b[39m \u001b[90m[30392449] \u001b[39m\u001b[92m+ Pixman_jll v0.43.4+0\u001b[39m\n",
      "  \u001b[90m[ea2cea3b] \u001b[39m\u001b[92m+ Qt5Base_jll v5.15.3+2\u001b[39m\n",
      "  \u001b[90m[f50d1b31] \u001b[39m\u001b[92m+ Rmath_jll v0.5.1+0\u001b[39m\n",
      "  \u001b[90m[a2964d1f] \u001b[39m\u001b[92m+ Wayland_jll v1.21.0+2\u001b[39m\n",
      "  \u001b[90m[2381bf8a] \u001b[39m\u001b[92m+ Wayland_protocols_jll v1.36.0+0\u001b[39m\n",
      "  \u001b[90m[02c8fc9c] \u001b[39m\u001b[92m+ XML2_jll v2.13.5+0\u001b[39m\n",
      "  \u001b[90m[aed1982a] \u001b[39m\u001b[92m+ XSLT_jll v1.1.42+0\u001b[39m\n",
      "  \u001b[90m[4f6342f7] \u001b[39m\u001b[92m+ Xorg_libX11_jll v1.8.6+3\u001b[39m\n",
      "  \u001b[90m[0c0b7dd1] \u001b[39m\u001b[92m+ Xorg_libXau_jll v1.0.12+0\u001b[39m\n",
      "  \u001b[90m[935fb764] \u001b[39m\u001b[92m+ Xorg_libXcursor_jll v1.2.3+0\u001b[39m\n",
      "  \u001b[90m[a3789734] \u001b[39m\u001b[92m+ Xorg_libXdmcp_jll v1.1.5+0\u001b[39m\n",
      "  \u001b[90m[1082639a] \u001b[39m\u001b[92m+ Xorg_libXext_jll v1.3.6+3\u001b[39m\n",
      "  \u001b[90m[d091e8ba] \u001b[39m\u001b[92m+ Xorg_libXfixes_jll v6.0.0+0\u001b[39m\n",
      "  \u001b[90m[a51aa0fd] \u001b[39m\u001b[92m+ Xorg_libXi_jll v1.8.2+0\u001b[39m\n",
      "  \u001b[90m[d1454406] \u001b[39m\u001b[92m+ Xorg_libXinerama_jll v1.1.5+0\u001b[39m\n",
      "  \u001b[90m[ec84b674] \u001b[39m\u001b[92m+ Xorg_libXrandr_jll v1.5.4+0\u001b[39m\n",
      "  \u001b[90m[ea2f1a96] \u001b[39m\u001b[92m+ Xorg_libXrender_jll v0.9.11+1\u001b[39m\n",
      "  \u001b[90m[14d82f49] \u001b[39m\u001b[92m+ Xorg_libpthread_stubs_jll v0.1.2+0\u001b[39m\n",
      "  \u001b[90m[c7cfdc94] \u001b[39m\u001b[92m+ Xorg_libxcb_jll v1.17.0+3\u001b[39m\n",
      "  \u001b[90m[cc61e674] \u001b[39m\u001b[92m+ Xorg_libxkbfile_jll v1.1.2+1\u001b[39m\n",
      "  \u001b[90m[12413925] \u001b[39m\u001b[92m+ Xorg_xcb_util_image_jll v0.4.0+1\u001b[39m\n",
      "  \u001b[90m[2def613f] \u001b[39m\u001b[92m+ Xorg_xcb_util_jll v0.4.0+1\u001b[39m\n",
      "  \u001b[90m[975044d2] \u001b[39m\u001b[92m+ Xorg_xcb_util_keysyms_jll v0.4.0+1\u001b[39m\n",
      "  \u001b[90m[0d47668e] \u001b[39m\u001b[92m+ Xorg_xcb_util_renderutil_jll v0.3.9+1\u001b[39m\n",
      "  \u001b[90m[c22f9ab0] \u001b[39m\u001b[92m+ Xorg_xcb_util_wm_jll v0.4.1+1\u001b[39m\n",
      "  \u001b[90m[35661453] \u001b[39m\u001b[92m+ Xorg_xkbcomp_jll v1.4.6+1\u001b[39m\n",
      "  \u001b[90m[33bec58e] \u001b[39m\u001b[92m+ Xorg_xkeyboard_config_jll v2.39.0+0\u001b[39m\n",
      "  \u001b[90m[c5fb5394] \u001b[39m\u001b[92m+ Xorg_xtrans_jll v1.5.1+0\u001b[39m\n",
      "  \u001b[90m[3161d3a3] \u001b[39m\u001b[92m+ Zstd_jll v1.5.7+0\u001b[39m\n",
      "  \u001b[90m[214eeab7] \u001b[39m\u001b[92m+ fzf_jll v0.56.3+0\u001b[39m\n",
      "  \u001b[90m[a4ae2306] \u001b[39m\u001b[92m+ libaom_jll v3.11.0+0\u001b[39m\n",
      "  \u001b[90m[0ac62f75] \u001b[39m\u001b[92m+ libass_jll v0.15.2+0\u001b[39m\n",
      "  \u001b[90m[1183f4f0] \u001b[39m\u001b[92m+ libdecor_jll v0.2.2+0\u001b[39m\n",
      "  \u001b[90m[f638f0a6] \u001b[39m\u001b[92m+ libfdk_aac_jll v2.0.3+0\u001b[39m\n",
      "  \u001b[90m[b53b4c65] \u001b[39m\u001b[92m+ libpng_jll v1.6.45+1\u001b[39m\n",
      "  \u001b[90m[075b6546] \u001b[39m\u001b[92m+ libsixel_jll v1.10.5+0\u001b[39m\n",
      "  \u001b[90m[f27f6e37] \u001b[39m\u001b[92m+ libvorbis_jll v1.3.7+2\u001b[39m\n",
      "\u001b[32m⌃\u001b[39m \u001b[90m[c5f90fcd] \u001b[39m\u001b[92m+ libwebp_jll v1.4.0+0\u001b[39m\n",
      "  \u001b[90m[1317d2d5] \u001b[39m\u001b[92m+ oneTBB_jll v2021.12.0+0\u001b[39m\n",
      "\u001b[33m⌅\u001b[39m \u001b[90m[1270edf5] \u001b[39m\u001b[92m+ x264_jll v2021.5.5+0\u001b[39m\n",
      "\u001b[33m⌅\u001b[39m \u001b[90m[dfaa095f] \u001b[39m\u001b[92m+ x265_jll v3.5.0+0\u001b[39m\n",
      "  \u001b[90m[d8fb68d0] \u001b[39m\u001b[92m+ xkbcommon_jll v1.4.1+2\u001b[39m\n",
      "  \u001b[90m[0dad84c5] \u001b[39m\u001b[92m+ ArgTools v1.1.2\u001b[39m\n",
      "  \u001b[90m[56f22d72] \u001b[39m\u001b[92m+ Artifacts v1.11.0\u001b[39m\n",
      "  \u001b[90m[2a0f44e3] \u001b[39m\u001b[92m+ Base64 v1.11.0\u001b[39m\n",
      "  \u001b[90m[ade2ca70] \u001b[39m\u001b[92m+ Dates v1.11.0\u001b[39m\n",
      "  \u001b[90m[8ba89e20] \u001b[39m\u001b[92m+ Distributed v1.11.0\u001b[39m\n",
      "  \u001b[90m[f43a241f] \u001b[39m\u001b[92m+ Downloads v1.6.0\u001b[39m\n",
      "  \u001b[90m[7b1f6079] \u001b[39m\u001b[92m+ FileWatching v1.11.0\u001b[39m\n",
      "  \u001b[90m[9fa8497b] \u001b[39m\u001b[92m+ Future v1.11.0\u001b[39m\n",
      "  \u001b[90m[b77e0a4c] \u001b[39m\u001b[92m+ InteractiveUtils v1.11.0\u001b[39m\n",
      "  \u001b[90m[4af54fe1] \u001b[39m\u001b[92m+ LazyArtifacts v1.11.0\u001b[39m\n",
      "  \u001b[90m[b27032c2] \u001b[39m\u001b[92m+ LibCURL v0.6.4\u001b[39m\n",
      "  \u001b[90m[76f85450] \u001b[39m\u001b[92m+ LibGit2 v1.11.0\u001b[39m\n",
      "  \u001b[90m[8f399da3] \u001b[39m\u001b[92m+ Libdl v1.11.0\u001b[39m\n",
      "  \u001b[90m[37e2e46d] \u001b[39m\u001b[92m+ LinearAlgebra v1.11.0\u001b[39m\n",
      "  \u001b[90m[56ddb016] \u001b[39m\u001b[92m+ Logging v1.11.0\u001b[39m\n",
      "  \u001b[90m[d6f4376e] \u001b[39m\u001b[92m+ Markdown v1.11.0\u001b[39m\n",
      "  \u001b[90m[a63ad114] \u001b[39m\u001b[92m+ Mmap v1.11.0\u001b[39m\n",
      "  \u001b[90m[ca575930] \u001b[39m\u001b[92m+ NetworkOptions v1.2.0\u001b[39m\n",
      "  \u001b[90m[44cfe95a] \u001b[39m\u001b[92m+ Pkg v1.11.0\u001b[39m\n",
      "  \u001b[90m[de0858da] \u001b[39m\u001b[92m+ Printf v1.11.0\u001b[39m\n",
      "  \u001b[90m[3fa0cd96] \u001b[39m\u001b[92m+ REPL v1.11.0\u001b[39m\n",
      "  \u001b[90m[9a3f8284] \u001b[39m\u001b[92m+ Random v1.11.0\u001b[39m\n",
      "  \u001b[90m[ea8e919c] \u001b[39m\u001b[92m+ SHA v0.7.0\u001b[39m\n",
      "  \u001b[90m[9e88b42a] \u001b[39m\u001b[92m+ Serialization v1.11.0\u001b[39m\n",
      "  \u001b[90m[1a1011a3] \u001b[39m\u001b[92m+ SharedArrays v1.11.0\u001b[39m\n",
      "  \u001b[90m[6462fe0b] \u001b[39m\u001b[92m+ Sockets v1.11.0\u001b[39m\n",
      "  \u001b[90m[2f01184e] \u001b[39m\u001b[92m+ SparseArrays v1.11.0\u001b[39m\n",
      "  \u001b[90m[f489334b] \u001b[39m\u001b[92m+ StyledStrings v1.11.0\u001b[39m\n",
      "  \u001b[90m[4607b0f0] \u001b[39m\u001b[92m+ SuiteSparse\u001b[39m\n",
      "  \u001b[90m[fa267f1f] \u001b[39m\u001b[92m+ TOML v1.0.3\u001b[39m\n",
      "  \u001b[90m[a4e569a6] \u001b[39m\u001b[92m+ Tar v1.10.0\u001b[39m\n",
      "  \u001b[90m[8dfed614] \u001b[39m\u001b[92m+ Test v1.11.0\u001b[39m\n",
      "  \u001b[90m[cf7118a7] \u001b[39m\u001b[92m+ UUIDs v1.11.0\u001b[39m\n",
      "  \u001b[90m[4ec0a83e] \u001b[39m\u001b[92m+ Unicode v1.11.0\u001b[39m\n",
      "  \u001b[90m[e66e0078] \u001b[39m\u001b[92m+ CompilerSupportLibraries_jll v1.1.1+0\u001b[39m\n",
      "  \u001b[90m[deac9b47] \u001b[39m\u001b[92m+ LibCURL_jll v8.6.0+0\u001b[39m\n",
      "  \u001b[90m[e37daf67] \u001b[39m\u001b[92m+ LibGit2_jll v1.7.2+0\u001b[39m\n",
      "  \u001b[90m[29816b5a] \u001b[39m\u001b[92m+ LibSSH2_jll v1.11.0+1\u001b[39m\n",
      "  \u001b[90m[c8ffd9c3] \u001b[39m\u001b[92m+ MbedTLS_jll v2.28.6+0\u001b[39m\n",
      "  \u001b[90m[14a3606d] \u001b[39m\u001b[92m+ MozillaCACerts_jll v2023.12.12\u001b[39m\n",
      "  \u001b[90m[4536629a] \u001b[39m\u001b[92m+ OpenBLAS_jll v0.3.27+1\u001b[39m\n",
      "  \u001b[90m[05823500] \u001b[39m\u001b[92m+ OpenLibm_jll v0.8.1+2\u001b[39m\n",
      "  \u001b[90m[efcefdf7] \u001b[39m\u001b[92m+ PCRE2_jll v10.42.0+1\u001b[39m\n",
      "  \u001b[90m[bea87d4a] \u001b[39m\u001b[92m+ SuiteSparse_jll v7.7.0+0\u001b[39m\n",
      "  \u001b[90m[83775a58] \u001b[39m\u001b[92m+ Zlib_jll v1.2.13+1\u001b[39m\n",
      "  \u001b[90m[8e850b90] \u001b[39m\u001b[92m+ libblastrampoline_jll v5.11.0+0\u001b[39m\n",
      "  \u001b[90m[8e850ede] \u001b[39m\u001b[92m+ nghttp2_jll v1.59.0+0\u001b[39m\n",
      "  \u001b[90m[3f19e933] \u001b[39m\u001b[92m+ p7zip_jll v17.4.0+2\u001b[39m\n",
      "\u001b[36m\u001b[1m        Info\u001b[22m\u001b[39m Packages marked with \u001b[32m⌃\u001b[39m and \u001b[33m⌅\u001b[39m have new versions available. Those with \u001b[32m⌃\u001b[39m may be upgradable, but those with \u001b[33m⌅\u001b[39m are restricted by compatibility constraints from upgrading. To see why use `status --outdated -m`\n",
      "\u001b[92m\u001b[1mPrecompiling\u001b[22m\u001b[39m project...\n",
      "    823.9 ms\u001b[32m  ✓ \u001b[39m\u001b[90mCustomUnitRanges\u001b[39m\n",
      "    830.0 ms\u001b[32m  ✓ \u001b[39m\u001b[90mRealDot\u001b[39m\n",
      "    827.1 ms\u001b[32m  ✓ \u001b[39m\u001b[90mStackViews\u001b[39m\n",
      "   1057.1 ms\u001b[32m  ✓ \u001b[39m\u001b[90mPaddedViews\u001b[39m\n",
      "    870.9 ms\u001b[32m  ✓ \u001b[39m\u001b[90mIntervalSets\u001b[39m\n",
      "    311.3 ms\u001b[32m  ✓ \u001b[39m\u001b[90mUnPack\u001b[39m\n",
      "    344.2 ms\u001b[32m  ✓ \u001b[39m\u001b[90mMappedArrays\u001b[39m\n",
      "    348.4 ms\u001b[32m  ✓ \u001b[39m\u001b[90mLazyModules\u001b[39m\n",
      "    336.3 ms\u001b[32m  ✓ \u001b[39m\u001b[90mRangeArrays\u001b[39m\n",
      "    483.6 ms\u001b[32m  ✓ \u001b[39m\u001b[90mIterTools\u001b[39m\n",
      "    346.3 ms\u001b[32m  ✓ \u001b[39m\u001b[90mIndirectArrays\u001b[39m\n",
      "    312.6 ms\u001b[32m  ✓ \u001b[39m\u001b[90mIfElse\u001b[39m\n",
      "    352.3 ms\u001b[32m  ✓ \u001b[39m\u001b[90mManualMemory\u001b[39m\n",
      "    387.9 ms\u001b[32m  ✓ \u001b[39m\u001b[90mInflate\u001b[39m\n",
      "    393.6 ms\u001b[32m  ✓ \u001b[39m\u001b[90mConstructionBase\u001b[39m\n",
      "    333.4 ms\u001b[32m  ✓ \u001b[39m\u001b[90mCommonWorldInvalidations\u001b[39m\n",
      "    351.6 ms\u001b[32m  ✓ \u001b[39m\u001b[90mSIMDTypes\u001b[39m\n",
      "    398.9 ms\u001b[32m  ✓ \u001b[39m\u001b[90mCEnum\u001b[39m\n",
      "    516.5 ms\u001b[32m  ✓ \u001b[39m\u001b[90mComputationalResources\u001b[39m\n",
      "    555.8 ms\u001b[32m  ✓ \u001b[39m\u001b[90mArrayInterface\u001b[39m\n",
      "    645.9 ms\u001b[32m  ✓ \u001b[39m\u001b[90mCpuId\u001b[39m\n",
      "    819.6 ms\u001b[32m  ✓ \u001b[39m\u001b[90mProgressMeter\u001b[39m\n",
      "    674.7 ms\u001b[32m  ✓ \u001b[39m\u001b[90mSimpleTraits\u001b[39m\n",
      "    633.8 ms\u001b[32m  ✓ \u001b[39m\u001b[90mGraphics\u001b[39m\n",
      "    522.3 ms\u001b[32m  ✓ \u001b[39m\u001b[90mImath_jll\u001b[39m\n",
      "    572.8 ms\u001b[32m  ✓ \u001b[39m\u001b[90mOpenSSL_jll\u001b[39m\n",
      "    524.1 ms\u001b[32m  ✓ \u001b[39m\u001b[90mGiflib_jll\u001b[39m\n",
      "    777.4 ms\u001b[32m  ✓ \u001b[39m\u001b[90mGhostscript_jll\u001b[39m\n",
      "    585.2 ms\u001b[32m  ✓ \u001b[39m\u001b[90mlibsixel_jll\u001b[39m\n",
      "    503.2 ms\u001b[32m  ✓ \u001b[39m\u001b[90mLERC_jll\u001b[39m\n",
      "    785.3 ms\u001b[32m  ✓ \u001b[39m\u001b[90mCoordinateTransformations\u001b[39m\n",
      "   1029.6 ms\u001b[32m  ✓ \u001b[39m\u001b[90mPkgVersion\u001b[39m\n",
      "    968.6 ms\u001b[32m  ✓ \u001b[39m\u001b[90mArnoldiMethod\u001b[39m\n",
      "   1127.2 ms\u001b[32m  ✓ \u001b[39m\u001b[90mQOI\u001b[39m\n",
      "    605.6 ms\u001b[32m  ✓ \u001b[39m\u001b[90mFFTViews\u001b[39m\n",
      "    662.8 ms\u001b[32m  ✓ \u001b[39m\u001b[90mCatIndices\u001b[39m\n",
      "    626.3 ms\u001b[32m  ✓ \u001b[39m\u001b[90mQuaternions\u001b[39m\n",
      "    457.3 ms\u001b[32m  ✓ \u001b[39m\u001b[90mIntervalSets → IntervalSetsStatisticsExt\u001b[39m\n",
      "    469.1 ms\u001b[32m  ✓ \u001b[39m\u001b[90mIntervalSets → IntervalSetsRandomExt\u001b[39m\n",
      "    668.5 ms\u001b[32m  ✓ \u001b[39m\u001b[90mIntervalSets → IntervalSetsRecipesBaseExt\u001b[39m\n",
      "    476.6 ms\u001b[32m  ✓ \u001b[39m\u001b[90mParameters\u001b[39m\n",
      "    572.5 ms\u001b[32m  ✓ \u001b[39m\u001b[90mConstructionBase → ConstructionBaseIntervalSetsExt\u001b[39m\n",
      "    798.6 ms\u001b[32m  ✓ \u001b[39m\u001b[90mThreadingUtilities\u001b[39m\n",
      "   1042.1 ms\u001b[32m  ✓ \u001b[39m\u001b[90mRegionTrees\u001b[39m\n",
      "    392.6 ms\u001b[32m  ✓ \u001b[39m\u001b[90mConstructionBase → ConstructionBaseLinearAlgebraExt\u001b[39m\n",
      "   1206.4 ms\u001b[32m  ✓ \u001b[39m\u001b[90mMosaicViews\u001b[39m\n",
      "    607.6 ms\u001b[32m  ✓ \u001b[39m\u001b[90mConstructionBase → ConstructionBaseStaticArraysExt\u001b[39m\n",
      "    475.3 ms\u001b[32m  ✓ \u001b[39m\u001b[90mUnitful → ConstructionBaseUnitfulExt\u001b[39m\n",
      "    405.1 ms\u001b[32m  ✓ \u001b[39m\u001b[90mArrayInterface → ArrayInterfaceStaticArraysCoreExt\u001b[39m\n",
      "    736.8 ms\u001b[32m  ✓ \u001b[39m\u001b[90mArrayInterface → ArrayInterfaceChainRulesCoreExt\u001b[39m\n",
      "    511.8 ms\u001b[32m  ✓ \u001b[39m\u001b[90mArrayInterface → ArrayInterfaceSparseArraysExt\u001b[39m\n",
      "   1049.4 ms\u001b[32m  ✓ \u001b[39m\u001b[90mStatic\u001b[39m\n",
      "    899.8 ms\u001b[32m  ✓ \u001b[39m\u001b[90mOpenEXR_jll\u001b[39m\n",
      "   5242.2 ms\u001b[32m  ✓ \u001b[39m\u001b[90mSIMD\u001b[39m\n",
      "   1076.2 ms\u001b[32m  ✓ \u001b[39m\u001b[90mQt5Base_jll\u001b[39m\n",
      "   1282.0 ms\u001b[32m  ✓ \u001b[39m\u001b[90mFFMPEG_jll\u001b[39m\n",
      "    794.3 ms\u001b[32m  ✓ \u001b[39m\u001b[90mLibtiff_jll\u001b[39m\n",
      "   2106.0 ms\u001b[32m  ✓ \u001b[39m\u001b[90mOpenSSL\u001b[39m\n",
      "    794.7 ms\u001b[32m  ✓ \u001b[39m\u001b[90mIntegralArrays\u001b[39m\n",
      "   1000.9 ms\u001b[32m  ✓ \u001b[39m\u001b[90mAxisArrays\u001b[39m\n",
      "   1561.8 ms\u001b[32m  ✓ \u001b[39m\u001b[90mRotations\u001b[39m\n",
      "    940.6 ms\u001b[32m  ✓ \u001b[39m\u001b[90mSetfield\u001b[39m\n",
      "    565.5 ms\u001b[32m  ✓ \u001b[39m\u001b[90mBitTwiddlingConvenienceFunctions\u001b[39m\n",
      "    450.6 ms\u001b[32m  ✓ \u001b[39m\u001b[90mCPUSummary\u001b[39m\n",
      "   1105.8 ms\u001b[32m  ✓ \u001b[39m\u001b[90mStaticArrayInterface\u001b[39m\n",
      "   3812.2 ms\u001b[32m  ✓ \u001b[39m\u001b[90mGraphs\u001b[39m\n",
      "   1604.1 ms\u001b[32m  ✓ \u001b[39m\u001b[90mLittleCMS_jll\u001b[39m\n",
      "   3704.1 ms\u001b[32m  ✓ \u001b[39m\u001b[90mOpenEXR\u001b[39m\n",
      "   1065.5 ms\u001b[32m  ✓ \u001b[39m\u001b[90mlibwebp_jll\u001b[39m\n",
      "   4016.4 ms\u001b[32m  ✓ \u001b[39m\u001b[90mFFMPEG\u001b[39m\n",
      "   1062.2 ms\u001b[32m  ✓ \u001b[39m\u001b[90mRotations → RotationsRecipesBaseExt\u001b[39m\n",
      "   3926.4 ms\u001b[32m  ✓ \u001b[39m\u001b[90mGR_jll\u001b[39m\n",
      "   1158.4 ms\u001b[32m  ✓ \u001b[39m\u001b[90mHostCPUFeatures\u001b[39m\n",
      "    890.5 ms\u001b[32m  ✓ \u001b[39m\u001b[90mPolyesterWeave\u001b[39m\n",
      "    672.4 ms\u001b[32m  ✓ \u001b[39m\u001b[90mStaticArrayInterface → StaticArrayInterfaceOffsetArraysExt\u001b[39m\n",
      "    703.8 ms\u001b[32m  ✓ \u001b[39m\u001b[90mStaticArrayInterface → StaticArrayInterfaceStaticArraysExt\u001b[39m\n",
      "  12368.9 ms\u001b[32m  ✓ \u001b[39m\u001b[90mImageCore\u001b[39m\n",
      "    436.5 ms\u001b[32m  ✓ \u001b[39m\u001b[90mCloseOpenIntervals\u001b[39m\n",
      "    704.3 ms\u001b[32m  ✓ \u001b[39m\u001b[90mLayoutPointers\u001b[39m\n",
      "   1030.3 ms\u001b[32m  ✓ \u001b[39m\u001b[90mSimpleWeightedGraphs\u001b[39m\n",
      "   2226.3 ms\u001b[32m  ✓ \u001b[39m\u001b[90mMetaGraphs\u001b[39m\n",
      "   1011.6 ms\u001b[32m  ✓ \u001b[39m\u001b[90mOpenJpeg_jll\u001b[39m\n",
      "    786.2 ms\u001b[32m  ✓ \u001b[39m\u001b[90mTiledIteration\u001b[39m\n",
      "   2259.0 ms\u001b[32m  ✓ \u001b[39m\u001b[90mImageBase\u001b[39m\n",
      "   3141.9 ms\u001b[32m  ✓ \u001b[39m\u001b[90mSixel\u001b[39m\n",
      "  14378.6 ms\u001b[32m  ✓ \u001b[39m\u001b[90mHTTP\u001b[39m\n",
      "   3242.4 ms\u001b[32m  ✓ \u001b[39m\u001b[90mWebP\u001b[39m\n",
      "   3204.8 ms\u001b[32m  ✓ \u001b[39m\u001b[90mPNGFiles\u001b[39m\n",
      "   2509.6 ms\u001b[32m  ✓ \u001b[39m\u001b[90mJpegTurbo\u001b[39m\n",
      "  16463.0 ms\u001b[32m  ✓ \u001b[39m\u001b[90mPolynomials\u001b[39m\n",
      "   1077.0 ms\u001b[32m  ✓ \u001b[39m\u001b[90mHistogramThresholding\u001b[39m\n",
      "   1469.9 ms\u001b[32m  ✓ \u001b[39m\u001b[90mImageMagick_jll\u001b[39m\n",
      "   1411.3 ms\u001b[32m  ✓ \u001b[39m\u001b[90mImageShow\u001b[39m\n",
      "   1787.6 ms\u001b[32m  ✓ \u001b[39m\u001b[90mImageTransformations\u001b[39m\n",
      "   1904.3 ms\u001b[32m  ✓ \u001b[39m\u001b[90mImageAxes\u001b[39m\n",
      "   1565.6 ms\u001b[32m  ✓ \u001b[39mFileIO → HTTPExt\n",
      "   6693.4 ms\u001b[32m  ✓ \u001b[39m\u001b[90mVectorizationBase\u001b[39m\n",
      "   1280.5 ms\u001b[32m  ✓ \u001b[39m\u001b[90mPolynomials → PolynomialsChainRulesCoreExt\u001b[39m\n",
      "    907.9 ms\u001b[32m  ✓ \u001b[39m\u001b[90mPolynomials → PolynomialsFFTWExt\u001b[39m\n",
      "   1820.9 ms\u001b[32m  ✓ \u001b[39m\u001b[90mImageBinarization\u001b[39m\n",
      "   3730.8 ms\u001b[32m  ✓ \u001b[39m\u001b[90mGR\u001b[39m\n",
      "   1309.2 ms\u001b[32m  ✓ \u001b[39m\u001b[90mImageMetadata\u001b[39m\n",
      "   3679.2 ms\u001b[32m  ✓ \u001b[39m\u001b[90mImageMagick\u001b[39m\n",
      "   2641.2 ms\u001b[32m  ✓ \u001b[39m\u001b[90mImageContrastAdjustment\u001b[39m\n",
      "   1131.1 ms\u001b[32m  ✓ \u001b[39m\u001b[90mSLEEFPirates\u001b[39m\n",
      "   2080.6 ms\u001b[32m  ✓ \u001b[39m\u001b[90mNetpbm\u001b[39m\n",
      "  44680.7 ms\u001b[32m  ✓ \u001b[39m\u001b[90mTiffImages\u001b[39m\n",
      "   1187.7 ms\u001b[32m  ✓ \u001b[39m\u001b[90mImageIO\u001b[39m\n",
      "  17595.5 ms\u001b[32m  ✓ \u001b[39m\u001b[90mLoopVectorization\u001b[39m\n",
      "   1165.6 ms\u001b[32m  ✓ \u001b[39m\u001b[90mLoopVectorization → SpecialFunctionsExt\u001b[39m\n",
      "   2455.0 ms\u001b[32m  ✓ \u001b[39m\u001b[90mImageMorphology\u001b[39m\n",
      "   1392.2 ms\u001b[32m  ✓ \u001b[39m\u001b[90mImageDistances\u001b[39m\n",
      "  38003.6 ms\u001b[32m  ✓ \u001b[39m\u001b[90mImageFiltering\u001b[39m\n",
      "   4253.5 ms\u001b[32m  ✓ \u001b[39m\u001b[90mImageSegmentation\u001b[39m\n",
      "   6908.6 ms\u001b[32m  ✓ \u001b[39m\u001b[90mImageCorners\u001b[39m\n",
      "   7957.2 ms\u001b[32m  ✓ \u001b[39m\u001b[90mImageQualityIndexes\u001b[39m\n",
      "  42309.2 ms\u001b[32m  ✓ \u001b[39mPlots\n",
      "   5533.1 ms\u001b[32m  ✓ \u001b[39mImages\n",
      "   3178.8 ms\u001b[32m  ✓ \u001b[39mPlots → FileIOExt\n",
      "   3606.1 ms\u001b[32m  ✓ \u001b[39mPlots → UnitfulExt\n",
      "   3348.6 ms\u001b[32m  ✓ \u001b[39mStatsPlots\n",
      "  121 dependencies successfully precompiled in 92 seconds. 244 already precompiled.\n",
      "\u001b[32m\u001b[1m    Updating\u001b[22m\u001b[39m registry at `~/.julia/registries/General.toml`\n",
      "\u001b[32m\u001b[1m   Installed\u001b[22m\u001b[39m MKL_jll ───────────────── v2025.0.1+1\n",
      "\u001b[32m\u001b[1m   Installed\u001b[22m\u001b[39m IntelOpenMP_jll ───────── v2025.0.4+0\n",
      "\u001b[32m\u001b[1m   Installed\u001b[22m\u001b[39m NaNMath ───────────────── v1.1.1\n",
      "\u001b[32m\u001b[1m   Installed\u001b[22m\u001b[39m FFTW ──────────────────── v1.8.1\n",
      "\u001b[32m\u001b[1m   Installed\u001b[22m\u001b[39m HypergeometricFunctions ─ v0.3.27\n",
      "\u001b[32m\u001b[1m  No Changes\u001b[22m\u001b[39m to `~/Documents/GitHub/CHEME-5820-Labs-Spring-2025/labs/week-1/L1d/Project.toml`\n",
      "\u001b[32m\u001b[1m    Updating\u001b[22m\u001b[39m `~/Documents/GitHub/CHEME-5820-Labs-Spring-2025/labs/week-1/L1d/Manifest.toml`\n",
      "  \u001b[90m[7a1cc6ca] \u001b[39m\u001b[93m↑ FFTW v1.8.0 ⇒ v1.8.1\u001b[39m\n",
      "  \u001b[90m[34004b35] \u001b[39m\u001b[93m↑ HypergeometricFunctions v0.3.25 ⇒ v0.3.27\u001b[39m\n",
      "  \u001b[90m[77ba4419] \u001b[39m\u001b[93m↑ NaNMath v1.0.3 ⇒ v1.1.1\u001b[39m\n",
      "  \u001b[90m[1d5cc7b8] \u001b[39m\u001b[93m↑ IntelOpenMP_jll v2024.2.1+0 ⇒ v2025.0.4+0\u001b[39m\n",
      "  \u001b[90m[856f044c] \u001b[39m\u001b[93m↑ MKL_jll v2024.2.0+0 ⇒ v2025.0.1+1\u001b[39m\n",
      "\u001b[92m\u001b[1mPrecompiling\u001b[22m\u001b[39m project...\n",
      "    407.4 ms\u001b[32m  ✓ \u001b[39m\u001b[90mNaNMath\u001b[39m\n",
      "    490.4 ms\u001b[32m  ✓ \u001b[39m\u001b[90mGraphics\u001b[39m\n",
      "    706.7 ms\u001b[32m  ✓ \u001b[39m\u001b[90mIntelOpenMP_jll\u001b[39m\n",
      "    702.3 ms\u001b[32m  ✓ \u001b[39m\u001b[90mHypergeometricFunctions\u001b[39m\n",
      "    656.1 ms\u001b[32m  ✓ \u001b[39m\u001b[90mMKL_jll\u001b[39m\n",
      "   1139.1 ms\u001b[32m  ✓ \u001b[39m\u001b[90mStatsFuns\u001b[39m\n",
      "   2549.2 ms\u001b[32m  ✓ \u001b[39m\u001b[90mRecipesPipeline\u001b[39m\n",
      "   1239.5 ms\u001b[32m  ✓ \u001b[39m\u001b[90mStatsFuns → StatsFunsChainRulesCoreExt\u001b[39m\n",
      "   3495.5 ms\u001b[32m  ✓ \u001b[39m\u001b[90mDistributions\u001b[39m\n",
      "   1183.3 ms\u001b[32m  ✓ \u001b[39m\u001b[90mDistributions → DistributionsChainRulesCoreExt\u001b[39m\n",
      "   1227.5 ms\u001b[32m  ✓ \u001b[39m\u001b[90mDistributions → DistributionsTestExt\u001b[39m\n",
      "   5452.2 ms\u001b[32m  ✓ \u001b[39m\u001b[90mFFTW\u001b[39m\n",
      "   1502.8 ms\u001b[32m  ✓ \u001b[39m\u001b[90mMultivariateStats\u001b[39m\n",
      "    697.8 ms\u001b[32m  ✓ \u001b[39m\u001b[90mFFTViews\u001b[39m\n",
      "    792.8 ms\u001b[32m  ✓ \u001b[39m\u001b[90mPolynomials → PolynomialsFFTWExt\u001b[39m\n",
      "   1407.8 ms\u001b[32m  ✓ \u001b[39m\u001b[90mKernelDensity\u001b[39m\n",
      "  30305.0 ms\u001b[32m  ✓ \u001b[39m\u001b[90mImageFiltering\u001b[39m\n",
      "  35914.4 ms\u001b[32m  ✓ \u001b[39mPlots\n",
      "   3915.7 ms\u001b[32m  ✓ \u001b[39m\u001b[90mImageSegmentation\u001b[39m\n",
      "   3609.8 ms\u001b[32m  ✓ \u001b[39mPlots → FileIOExt\n",
      "   4139.9 ms\u001b[32m  ✓ \u001b[39mPlots → UnitfulExt\n",
      "   6974.6 ms\u001b[32m  ✓ \u001b[39m\u001b[90mImageCorners\u001b[39m\n",
      "   7543.5 ms\u001b[32m  ✓ \u001b[39m\u001b[90mImageQualityIndexes\u001b[39m\n",
      "   4308.1 ms\u001b[32m  ✓ \u001b[39mStatsPlots\n",
      "   3948.2 ms\u001b[32m  ✓ \u001b[39mImages\n",
      "  25 dependencies successfully precompiled in 50 seconds. 340 already precompiled.\n",
      "\u001b[36m\u001b[1m[ \u001b[22m\u001b[39m\u001b[36m\u001b[1mInfo: \u001b[22m\u001b[39mPrecompiling IJuliaExt [2f4121a4-3b3a-5ce6-9c5e-1f2673ce168a] (cache misses: wrong dep version loaded (2))\n"
     ]
    }
   ],
   "source": [
    "include(\"Include.jl\"); # this executes the Include.jl file - what does that do?"
   ]
  },
  {
   "cell_type": "markdown",
   "id": "829d7d60-1c00-406a-aedf-87037918dd6e",
   "metadata": {},
   "source": [
    "### Data\n",
    "Next, let's load up the dataset that we will explore. The data for this lab was taken from this `2020` publication:\n",
    "* [Davide Chicco, Giuseppe Jurman: \"Machine learning can predict survival of patients with heart failure from serum creatinine and ejection fraction alone.\" BMC Medical Informatics and Decision Making 20, 16 (2020). https://doi.org/10.1186/s12911-020-1023-5](https://pubmed.ncbi.nlm.nih.gov/32013925/)\n",
    "\n",
    "In this paper, the authors analyzed a dataset of 299 heart failure patients collected in 2015. The patients comprised 105 women and 194 men, aged between 40 and 95 years old. The dataset contains 13 features (a mixture of continuous and categorical data), which report clinical, body, and lifestyle information:\n",
    "* Some features are binary: anemia, high blood pressure, diabetes, sex, and smoking status.\n",
    "* The remaining features were continuous biochemical measurements, such as the level of the Creatinine phosphokinase (CPK) enzyme in the blood, the number of platelets, etc.\n",
    "* The class (target) variable is encoded as a binary (boolean) death event: `1` if the patient died during the follow-up period, `0` if the patient did not die during the follow-up period.\n",
    "\n",
    "We'll load this dataset as a [DataFrame instance](https://dataframes.juliadata.org/stable/) and store it in the `originaldataset::DataFrame` variable:"
   ]
  },
  {
   "cell_type": "code",
   "execution_count": 2,
   "id": "656d5710-9346-40b5-a3ba-74df8a44b85a",
   "metadata": {},
   "outputs": [
    {
     "data": {
      "text/html": [
       "<div><div style = \"float: left;\"><span>299×13 DataFrame</span></div><div style = \"float: right;\"><span style = \"font-style: italic;\">274 rows omitted</span></div><div style = \"clear: both;\"></div></div><div class = \"data-frame\" style = \"overflow-x: scroll;\"><table class = \"data-frame\" style = \"margin-bottom: 6px;\"><thead><tr class = \"header\"><th class = \"rowNumber\" style = \"font-weight: bold; text-align: right;\">Row</th><th style = \"text-align: left;\">age</th><th style = \"text-align: left;\">anaemia</th><th style = \"text-align: left;\">creatinine_phosphokinase</th><th style = \"text-align: left;\">diabetes</th><th style = \"text-align: left;\">ejection_fraction</th><th style = \"text-align: left;\">high_blood_pressure</th><th style = \"text-align: left;\">platelets</th><th style = \"text-align: left;\">serum_creatinine</th><th style = \"text-align: left;\">serum_sodium</th><th style = \"text-align: left;\">sex</th><th style = \"text-align: left;\">smoking</th><th style = \"text-align: left;\">time</th><th style = \"text-align: left;\">death_event</th></tr><tr class = \"subheader headerLastRow\"><th class = \"rowNumber\" style = \"font-weight: bold; text-align: right;\"></th><th title = \"Float64\" style = \"text-align: left;\">Float64</th><th title = \"Int64\" style = \"text-align: left;\">Int64</th><th title = \"Int64\" style = \"text-align: left;\">Int64</th><th title = \"Int64\" style = \"text-align: left;\">Int64</th><th title = \"Int64\" style = \"text-align: left;\">Int64</th><th title = \"Int64\" style = \"text-align: left;\">Int64</th><th title = \"Float64\" style = \"text-align: left;\">Float64</th><th title = \"Float64\" style = \"text-align: left;\">Float64</th><th title = \"Int64\" style = \"text-align: left;\">Int64</th><th title = \"Int64\" style = \"text-align: left;\">Int64</th><th title = \"Int64\" style = \"text-align: left;\">Int64</th><th title = \"Int64\" style = \"text-align: left;\">Int64</th><th title = \"Int64\" style = \"text-align: left;\">Int64</th></tr></thead><tbody><tr><td class = \"rowNumber\" style = \"font-weight: bold; text-align: right;\">1</td><td style = \"text-align: right;\">75.0</td><td style = \"text-align: right;\">0</td><td style = \"text-align: right;\">582</td><td style = \"text-align: right;\">0</td><td style = \"text-align: right;\">20</td><td style = \"text-align: right;\">1</td><td style = \"text-align: right;\">265000.0</td><td style = \"text-align: right;\">1.9</td><td style = \"text-align: right;\">130</td><td style = \"text-align: right;\">1</td><td style = \"text-align: right;\">0</td><td style = \"text-align: right;\">4</td><td style = \"text-align: right;\">1</td></tr><tr><td class = \"rowNumber\" style = \"font-weight: bold; text-align: right;\">2</td><td style = \"text-align: right;\">55.0</td><td style = \"text-align: right;\">0</td><td style = \"text-align: right;\">7861</td><td style = \"text-align: right;\">0</td><td style = \"text-align: right;\">38</td><td style = \"text-align: right;\">0</td><td style = \"text-align: right;\">263358.0</td><td style = \"text-align: right;\">1.1</td><td style = \"text-align: right;\">136</td><td style = \"text-align: right;\">1</td><td style = \"text-align: right;\">0</td><td style = \"text-align: right;\">6</td><td style = \"text-align: right;\">1</td></tr><tr><td class = \"rowNumber\" style = \"font-weight: bold; text-align: right;\">3</td><td style = \"text-align: right;\">65.0</td><td style = \"text-align: right;\">0</td><td style = \"text-align: right;\">146</td><td style = \"text-align: right;\">0</td><td style = \"text-align: right;\">20</td><td style = \"text-align: right;\">0</td><td style = \"text-align: right;\">162000.0</td><td style = \"text-align: right;\">1.3</td><td style = \"text-align: right;\">129</td><td style = \"text-align: right;\">1</td><td style = \"text-align: right;\">1</td><td style = \"text-align: right;\">7</td><td style = \"text-align: right;\">1</td></tr><tr><td class = \"rowNumber\" style = \"font-weight: bold; text-align: right;\">4</td><td style = \"text-align: right;\">50.0</td><td style = \"text-align: right;\">1</td><td style = \"text-align: right;\">111</td><td style = \"text-align: right;\">0</td><td style = \"text-align: right;\">20</td><td style = \"text-align: right;\">0</td><td style = \"text-align: right;\">210000.0</td><td style = \"text-align: right;\">1.9</td><td style = \"text-align: right;\">137</td><td style = \"text-align: right;\">1</td><td style = \"text-align: right;\">0</td><td style = \"text-align: right;\">7</td><td style = \"text-align: right;\">1</td></tr><tr><td class = \"rowNumber\" style = \"font-weight: bold; text-align: right;\">5</td><td style = \"text-align: right;\">65.0</td><td style = \"text-align: right;\">1</td><td style = \"text-align: right;\">160</td><td style = \"text-align: right;\">1</td><td style = \"text-align: right;\">20</td><td style = \"text-align: right;\">0</td><td style = \"text-align: right;\">327000.0</td><td style = \"text-align: right;\">2.7</td><td style = \"text-align: right;\">116</td><td style = \"text-align: right;\">0</td><td style = \"text-align: right;\">0</td><td style = \"text-align: right;\">8</td><td style = \"text-align: right;\">1</td></tr><tr><td class = \"rowNumber\" style = \"font-weight: bold; text-align: right;\">6</td><td style = \"text-align: right;\">90.0</td><td style = \"text-align: right;\">1</td><td style = \"text-align: right;\">47</td><td style = \"text-align: right;\">0</td><td style = \"text-align: right;\">40</td><td style = \"text-align: right;\">1</td><td style = \"text-align: right;\">204000.0</td><td style = \"text-align: right;\">2.1</td><td style = \"text-align: right;\">132</td><td style = \"text-align: right;\">1</td><td style = \"text-align: right;\">1</td><td style = \"text-align: right;\">8</td><td style = \"text-align: right;\">1</td></tr><tr><td class = \"rowNumber\" style = \"font-weight: bold; text-align: right;\">7</td><td style = \"text-align: right;\">75.0</td><td style = \"text-align: right;\">1</td><td style = \"text-align: right;\">246</td><td style = \"text-align: right;\">0</td><td style = \"text-align: right;\">15</td><td style = \"text-align: right;\">0</td><td style = \"text-align: right;\">127000.0</td><td style = \"text-align: right;\">1.2</td><td style = \"text-align: right;\">137</td><td style = \"text-align: right;\">1</td><td style = \"text-align: right;\">0</td><td style = \"text-align: right;\">10</td><td style = \"text-align: right;\">1</td></tr><tr><td class = \"rowNumber\" style = \"font-weight: bold; text-align: right;\">8</td><td style = \"text-align: right;\">60.0</td><td style = \"text-align: right;\">1</td><td style = \"text-align: right;\">315</td><td style = \"text-align: right;\">1</td><td style = \"text-align: right;\">60</td><td style = \"text-align: right;\">0</td><td style = \"text-align: right;\">454000.0</td><td style = \"text-align: right;\">1.1</td><td style = \"text-align: right;\">131</td><td style = \"text-align: right;\">1</td><td style = \"text-align: right;\">1</td><td style = \"text-align: right;\">10</td><td style = \"text-align: right;\">1</td></tr><tr><td class = \"rowNumber\" style = \"font-weight: bold; text-align: right;\">9</td><td style = \"text-align: right;\">65.0</td><td style = \"text-align: right;\">0</td><td style = \"text-align: right;\">157</td><td style = \"text-align: right;\">0</td><td style = \"text-align: right;\">65</td><td style = \"text-align: right;\">0</td><td style = \"text-align: right;\">263358.0</td><td style = \"text-align: right;\">1.5</td><td style = \"text-align: right;\">138</td><td style = \"text-align: right;\">0</td><td style = \"text-align: right;\">0</td><td style = \"text-align: right;\">10</td><td style = \"text-align: right;\">1</td></tr><tr><td class = \"rowNumber\" style = \"font-weight: bold; text-align: right;\">10</td><td style = \"text-align: right;\">80.0</td><td style = \"text-align: right;\">1</td><td style = \"text-align: right;\">123</td><td style = \"text-align: right;\">0</td><td style = \"text-align: right;\">35</td><td style = \"text-align: right;\">1</td><td style = \"text-align: right;\">388000.0</td><td style = \"text-align: right;\">9.4</td><td style = \"text-align: right;\">133</td><td style = \"text-align: right;\">1</td><td style = \"text-align: right;\">1</td><td style = \"text-align: right;\">10</td><td style = \"text-align: right;\">1</td></tr><tr><td class = \"rowNumber\" style = \"font-weight: bold; text-align: right;\">11</td><td style = \"text-align: right;\">75.0</td><td style = \"text-align: right;\">1</td><td style = \"text-align: right;\">81</td><td style = \"text-align: right;\">0</td><td style = \"text-align: right;\">38</td><td style = \"text-align: right;\">1</td><td style = \"text-align: right;\">368000.0</td><td style = \"text-align: right;\">4.0</td><td style = \"text-align: right;\">131</td><td style = \"text-align: right;\">1</td><td style = \"text-align: right;\">1</td><td style = \"text-align: right;\">10</td><td style = \"text-align: right;\">1</td></tr><tr><td class = \"rowNumber\" style = \"font-weight: bold; text-align: right;\">12</td><td style = \"text-align: right;\">62.0</td><td style = \"text-align: right;\">0</td><td style = \"text-align: right;\">231</td><td style = \"text-align: right;\">0</td><td style = \"text-align: right;\">25</td><td style = \"text-align: right;\">1</td><td style = \"text-align: right;\">253000.0</td><td style = \"text-align: right;\">0.9</td><td style = \"text-align: right;\">140</td><td style = \"text-align: right;\">1</td><td style = \"text-align: right;\">1</td><td style = \"text-align: right;\">10</td><td style = \"text-align: right;\">1</td></tr><tr><td class = \"rowNumber\" style = \"font-weight: bold; text-align: right;\">13</td><td style = \"text-align: right;\">45.0</td><td style = \"text-align: right;\">1</td><td style = \"text-align: right;\">981</td><td style = \"text-align: right;\">0</td><td style = \"text-align: right;\">30</td><td style = \"text-align: right;\">0</td><td style = \"text-align: right;\">136000.0</td><td style = \"text-align: right;\">1.1</td><td style = \"text-align: right;\">137</td><td style = \"text-align: right;\">1</td><td style = \"text-align: right;\">0</td><td style = \"text-align: right;\">11</td><td style = \"text-align: right;\">1</td></tr><tr><td style = \"text-align: right;\">&vellip;</td><td style = \"text-align: right;\">&vellip;</td><td style = \"text-align: right;\">&vellip;</td><td style = \"text-align: right;\">&vellip;</td><td style = \"text-align: right;\">&vellip;</td><td style = \"text-align: right;\">&vellip;</td><td style = \"text-align: right;\">&vellip;</td><td style = \"text-align: right;\">&vellip;</td><td style = \"text-align: right;\">&vellip;</td><td style = \"text-align: right;\">&vellip;</td><td style = \"text-align: right;\">&vellip;</td><td style = \"text-align: right;\">&vellip;</td><td style = \"text-align: right;\">&vellip;</td><td style = \"text-align: right;\">&vellip;</td></tr><tr><td class = \"rowNumber\" style = \"font-weight: bold; text-align: right;\">288</td><td style = \"text-align: right;\">45.0</td><td style = \"text-align: right;\">0</td><td style = \"text-align: right;\">582</td><td style = \"text-align: right;\">1</td><td style = \"text-align: right;\">55</td><td style = \"text-align: right;\">0</td><td style = \"text-align: right;\">543000.0</td><td style = \"text-align: right;\">1.0</td><td style = \"text-align: right;\">132</td><td style = \"text-align: right;\">0</td><td style = \"text-align: right;\">0</td><td style = \"text-align: right;\">250</td><td style = \"text-align: right;\">0</td></tr><tr><td class = \"rowNumber\" style = \"font-weight: bold; text-align: right;\">289</td><td style = \"text-align: right;\">65.0</td><td style = \"text-align: right;\">0</td><td style = \"text-align: right;\">892</td><td style = \"text-align: right;\">1</td><td style = \"text-align: right;\">35</td><td style = \"text-align: right;\">0</td><td style = \"text-align: right;\">263358.0</td><td style = \"text-align: right;\">1.1</td><td style = \"text-align: right;\">142</td><td style = \"text-align: right;\">0</td><td style = \"text-align: right;\">0</td><td style = \"text-align: right;\">256</td><td style = \"text-align: right;\">0</td></tr><tr><td class = \"rowNumber\" style = \"font-weight: bold; text-align: right;\">290</td><td style = \"text-align: right;\">90.0</td><td style = \"text-align: right;\">1</td><td style = \"text-align: right;\">337</td><td style = \"text-align: right;\">0</td><td style = \"text-align: right;\">38</td><td style = \"text-align: right;\">0</td><td style = \"text-align: right;\">390000.0</td><td style = \"text-align: right;\">0.9</td><td style = \"text-align: right;\">144</td><td style = \"text-align: right;\">0</td><td style = \"text-align: right;\">0</td><td style = \"text-align: right;\">256</td><td style = \"text-align: right;\">0</td></tr><tr><td class = \"rowNumber\" style = \"font-weight: bold; text-align: right;\">291</td><td style = \"text-align: right;\">45.0</td><td style = \"text-align: right;\">0</td><td style = \"text-align: right;\">615</td><td style = \"text-align: right;\">1</td><td style = \"text-align: right;\">55</td><td style = \"text-align: right;\">0</td><td style = \"text-align: right;\">222000.0</td><td style = \"text-align: right;\">0.8</td><td style = \"text-align: right;\">141</td><td style = \"text-align: right;\">0</td><td style = \"text-align: right;\">0</td><td style = \"text-align: right;\">257</td><td style = \"text-align: right;\">0</td></tr><tr><td class = \"rowNumber\" style = \"font-weight: bold; text-align: right;\">292</td><td style = \"text-align: right;\">60.0</td><td style = \"text-align: right;\">0</td><td style = \"text-align: right;\">320</td><td style = \"text-align: right;\">0</td><td style = \"text-align: right;\">35</td><td style = \"text-align: right;\">0</td><td style = \"text-align: right;\">133000.0</td><td style = \"text-align: right;\">1.4</td><td style = \"text-align: right;\">139</td><td style = \"text-align: right;\">1</td><td style = \"text-align: right;\">0</td><td style = \"text-align: right;\">258</td><td style = \"text-align: right;\">0</td></tr><tr><td class = \"rowNumber\" style = \"font-weight: bold; text-align: right;\">293</td><td style = \"text-align: right;\">52.0</td><td style = \"text-align: right;\">0</td><td style = \"text-align: right;\">190</td><td style = \"text-align: right;\">1</td><td style = \"text-align: right;\">38</td><td style = \"text-align: right;\">0</td><td style = \"text-align: right;\">382000.0</td><td style = \"text-align: right;\">1.0</td><td style = \"text-align: right;\">140</td><td style = \"text-align: right;\">1</td><td style = \"text-align: right;\">1</td><td style = \"text-align: right;\">258</td><td style = \"text-align: right;\">0</td></tr><tr><td class = \"rowNumber\" style = \"font-weight: bold; text-align: right;\">294</td><td style = \"text-align: right;\">63.0</td><td style = \"text-align: right;\">1</td><td style = \"text-align: right;\">103</td><td style = \"text-align: right;\">1</td><td style = \"text-align: right;\">35</td><td style = \"text-align: right;\">0</td><td style = \"text-align: right;\">179000.0</td><td style = \"text-align: right;\">0.9</td><td style = \"text-align: right;\">136</td><td style = \"text-align: right;\">1</td><td style = \"text-align: right;\">1</td><td style = \"text-align: right;\">270</td><td style = \"text-align: right;\">0</td></tr><tr><td class = \"rowNumber\" style = \"font-weight: bold; text-align: right;\">295</td><td style = \"text-align: right;\">62.0</td><td style = \"text-align: right;\">0</td><td style = \"text-align: right;\">61</td><td style = \"text-align: right;\">1</td><td style = \"text-align: right;\">38</td><td style = \"text-align: right;\">1</td><td style = \"text-align: right;\">155000.0</td><td style = \"text-align: right;\">1.1</td><td style = \"text-align: right;\">143</td><td style = \"text-align: right;\">1</td><td style = \"text-align: right;\">1</td><td style = \"text-align: right;\">270</td><td style = \"text-align: right;\">0</td></tr><tr><td class = \"rowNumber\" style = \"font-weight: bold; text-align: right;\">296</td><td style = \"text-align: right;\">55.0</td><td style = \"text-align: right;\">0</td><td style = \"text-align: right;\">1820</td><td style = \"text-align: right;\">0</td><td style = \"text-align: right;\">38</td><td style = \"text-align: right;\">0</td><td style = \"text-align: right;\">270000.0</td><td style = \"text-align: right;\">1.2</td><td style = \"text-align: right;\">139</td><td style = \"text-align: right;\">0</td><td style = \"text-align: right;\">0</td><td style = \"text-align: right;\">271</td><td style = \"text-align: right;\">0</td></tr><tr><td class = \"rowNumber\" style = \"font-weight: bold; text-align: right;\">297</td><td style = \"text-align: right;\">45.0</td><td style = \"text-align: right;\">0</td><td style = \"text-align: right;\">2060</td><td style = \"text-align: right;\">1</td><td style = \"text-align: right;\">60</td><td style = \"text-align: right;\">0</td><td style = \"text-align: right;\">742000.0</td><td style = \"text-align: right;\">0.8</td><td style = \"text-align: right;\">138</td><td style = \"text-align: right;\">0</td><td style = \"text-align: right;\">0</td><td style = \"text-align: right;\">278</td><td style = \"text-align: right;\">0</td></tr><tr><td class = \"rowNumber\" style = \"font-weight: bold; text-align: right;\">298</td><td style = \"text-align: right;\">45.0</td><td style = \"text-align: right;\">0</td><td style = \"text-align: right;\">2413</td><td style = \"text-align: right;\">0</td><td style = \"text-align: right;\">38</td><td style = \"text-align: right;\">0</td><td style = \"text-align: right;\">140000.0</td><td style = \"text-align: right;\">1.4</td><td style = \"text-align: right;\">140</td><td style = \"text-align: right;\">1</td><td style = \"text-align: right;\">1</td><td style = \"text-align: right;\">280</td><td style = \"text-align: right;\">0</td></tr><tr><td class = \"rowNumber\" style = \"font-weight: bold; text-align: right;\">299</td><td style = \"text-align: right;\">50.0</td><td style = \"text-align: right;\">0</td><td style = \"text-align: right;\">196</td><td style = \"text-align: right;\">0</td><td style = \"text-align: right;\">45</td><td style = \"text-align: right;\">0</td><td style = \"text-align: right;\">395000.0</td><td style = \"text-align: right;\">1.6</td><td style = \"text-align: right;\">136</td><td style = \"text-align: right;\">1</td><td style = \"text-align: right;\">1</td><td style = \"text-align: right;\">285</td><td style = \"text-align: right;\">0</td></tr></tbody></table></div>"
      ],
      "text/latex": [
       "\\begin{tabular}{r|ccccccc}\n",
       "\t& age & anaemia & creatinine\\_phosphokinase & diabetes & ejection\\_fraction & high\\_blood\\_pressure & \\\\\n",
       "\t\\hline\n",
       "\t& Float64 & Int64 & Int64 & Int64 & Int64 & Int64 & \\\\\n",
       "\t\\hline\n",
       "\t1 & 75.0 & 0 & 582 & 0 & 20 & 1 & $\\dots$ \\\\\n",
       "\t2 & 55.0 & 0 & 7861 & 0 & 38 & 0 & $\\dots$ \\\\\n",
       "\t3 & 65.0 & 0 & 146 & 0 & 20 & 0 & $\\dots$ \\\\\n",
       "\t4 & 50.0 & 1 & 111 & 0 & 20 & 0 & $\\dots$ \\\\\n",
       "\t5 & 65.0 & 1 & 160 & 1 & 20 & 0 & $\\dots$ \\\\\n",
       "\t6 & 90.0 & 1 & 47 & 0 & 40 & 1 & $\\dots$ \\\\\n",
       "\t7 & 75.0 & 1 & 246 & 0 & 15 & 0 & $\\dots$ \\\\\n",
       "\t8 & 60.0 & 1 & 315 & 1 & 60 & 0 & $\\dots$ \\\\\n",
       "\t9 & 65.0 & 0 & 157 & 0 & 65 & 0 & $\\dots$ \\\\\n",
       "\t10 & 80.0 & 1 & 123 & 0 & 35 & 1 & $\\dots$ \\\\\n",
       "\t11 & 75.0 & 1 & 81 & 0 & 38 & 1 & $\\dots$ \\\\\n",
       "\t12 & 62.0 & 0 & 231 & 0 & 25 & 1 & $\\dots$ \\\\\n",
       "\t13 & 45.0 & 1 & 981 & 0 & 30 & 0 & $\\dots$ \\\\\n",
       "\t14 & 50.0 & 1 & 168 & 0 & 38 & 1 & $\\dots$ \\\\\n",
       "\t15 & 49.0 & 1 & 80 & 0 & 30 & 1 & $\\dots$ \\\\\n",
       "\t16 & 82.0 & 1 & 379 & 0 & 50 & 0 & $\\dots$ \\\\\n",
       "\t17 & 87.0 & 1 & 149 & 0 & 38 & 0 & $\\dots$ \\\\\n",
       "\t18 & 45.0 & 0 & 582 & 0 & 14 & 0 & $\\dots$ \\\\\n",
       "\t19 & 70.0 & 1 & 125 & 0 & 25 & 1 & $\\dots$ \\\\\n",
       "\t20 & 48.0 & 1 & 582 & 1 & 55 & 0 & $\\dots$ \\\\\n",
       "\t21 & 65.0 & 1 & 52 & 0 & 25 & 1 & $\\dots$ \\\\\n",
       "\t22 & 65.0 & 1 & 128 & 1 & 30 & 1 & $\\dots$ \\\\\n",
       "\t23 & 68.0 & 1 & 220 & 0 & 35 & 1 & $\\dots$ \\\\\n",
       "\t24 & 53.0 & 0 & 63 & 1 & 60 & 0 & $\\dots$ \\\\\n",
       "\t25 & 75.0 & 0 & 582 & 1 & 30 & 1 & $\\dots$ \\\\\n",
       "\t26 & 80.0 & 0 & 148 & 1 & 38 & 0 & $\\dots$ \\\\\n",
       "\t27 & 95.0 & 1 & 112 & 0 & 40 & 1 & $\\dots$ \\\\\n",
       "\t28 & 70.0 & 0 & 122 & 1 & 45 & 1 & $\\dots$ \\\\\n",
       "\t29 & 58.0 & 1 & 60 & 0 & 38 & 0 & $\\dots$ \\\\\n",
       "\t30 & 82.0 & 0 & 70 & 1 & 30 & 0 & $\\dots$ \\\\\n",
       "\t$\\dots$ & $\\dots$ & $\\dots$ & $\\dots$ & $\\dots$ & $\\dots$ & $\\dots$ &  \\\\\n",
       "\\end{tabular}\n"
      ],
      "text/plain": [
       "\u001b[1m299×13 DataFrame\u001b[0m\n",
       "\u001b[1m Row \u001b[0m│\u001b[1m age     \u001b[0m\u001b[1m anaemia \u001b[0m\u001b[1m creatinine_phosphokinase \u001b[0m\u001b[1m diabetes \u001b[0m\u001b[1m ejection_fraction\u001b[0m ⋯\n",
       "     │\u001b[90m Float64 \u001b[0m\u001b[90m Int64   \u001b[0m\u001b[90m Int64                    \u001b[0m\u001b[90m Int64    \u001b[0m\u001b[90m Int64            \u001b[0m ⋯\n",
       "─────┼──────────────────────────────────────────────────────────────────────────\n",
       "   1 │    75.0        0                       582         0                 20 ⋯\n",
       "   2 │    55.0        0                      7861         0                 38\n",
       "   3 │    65.0        0                       146         0                 20\n",
       "   4 │    50.0        1                       111         0                 20\n",
       "   5 │    65.0        1                       160         1                 20 ⋯\n",
       "   6 │    90.0        1                        47         0                 40\n",
       "   7 │    75.0        1                       246         0                 15\n",
       "   8 │    60.0        1                       315         1                 60\n",
       "   9 │    65.0        0                       157         0                 65 ⋯\n",
       "  10 │    80.0        1                       123         0                 35\n",
       "  11 │    75.0        1                        81         0                 38\n",
       "  ⋮  │    ⋮        ⋮                ⋮                 ⋮              ⋮         ⋱\n",
       " 290 │    90.0        1                       337         0                 38\n",
       " 291 │    45.0        0                       615         1                 55 ⋯\n",
       " 292 │    60.0        0                       320         0                 35\n",
       " 293 │    52.0        0                       190         1                 38\n",
       " 294 │    63.0        1                       103         1                 35\n",
       " 295 │    62.0        0                        61         1                 38 ⋯\n",
       " 296 │    55.0        0                      1820         0                 38\n",
       " 297 │    45.0        0                      2060         1                 60\n",
       " 298 │    45.0        0                      2413         0                 38\n",
       " 299 │    50.0        0                       196         0                 45 ⋯\n",
       "\u001b[36m                                                  8 columns and 278 rows omitted\u001b[0m"
      ]
     },
     "execution_count": 2,
     "metadata": {},
     "output_type": "execute_result"
    }
   ],
   "source": [
    "originaldataset = CSV.read(joinpath(_PATH_TO_DATA, \"heart_failure_clinical_records_dataset.csv\"), DataFrame)"
   ]
  },
  {
   "cell_type": "markdown",
   "id": "bc960b2d-1c40-4dad-9a0f-665687ce0e55",
   "metadata": {},
   "source": [
    "#### Data scaling\n",
    "We know from lecture that [the K-means approach](https://en.wikipedia.org/wiki/K-means_clustering) works on [an instance of a `Matrix`](https://docs.julialang.org/en/v1/base/arrays/#Base.Matrix-Tuple{UndefInitializer,%20Any,%20Any}) and not [a `DataFrame` instance](https://dataframes.juliadata.org/stable/). Thus, we need to convert the data to [a `Matrix`](https://docs.julialang.org/en/v1/base/arrays/#Base.Matrix-Tuple{UndefInitializer,%20Any,%20Any}). In addition, there are several ways we can pretreat the data to make the clustering easier.\n",
    "* Convert `0,1` data to `-1,1`. This is a preference (not technically required), but it makes (binary) classification problems easier, so let's convert all categorical `0,1` data to `-1,1`. In this rescaled data, `0` will be replaced by `-1`. Thus, _false_ will be mapped to `-1`, and _true_ will remain `1`.\n",
    "* Next, let's [z-score center](https://en.wikipedia.org/wiki/Feature_scaling) the continous feature data. In [z-score feature scaling](https://en.wikipedia.org/wiki/Feature_scaling), we subtract off the mean of each feature and then divide by the standard deviation, i.e., $x^{\\prime} = (x - \\mu)/\\sigma$ where $x$ is the unscaled data, and $x^{\\prime}$ is the scaled data. Under this scaling regime, $x^{\\prime}\\leq{0}$ will be values that are less than or equal to the mean value $\\mu$, while $x^{\\prime}>0$ indicate values that are greater than the mean. The range of data is measured in quanta of the standard deviation $\\sigma$.\n",
    "* Finally, we can include (exclude) specific data from the clustering problem. For example, let's initially exclude the `death_event` label data and explore the hypothesis underlying [K-means](https://en.wikipedia.org/wiki/K-means_clustering) that feature vectors that are close together will be similar, i.e., have the same `death_event` label value."
   ]
  },
  {
   "cell_type": "code",
   "execution_count": 3,
   "id": "7031d366-1274-45f5-ba01-1629622056b4",
   "metadata": {},
   "outputs": [],
   "source": [
    "(D, dataset) = let\n",
    "\n",
    "    # convert 0,1 into -1,1\n",
    "    treated_dataset = copy(originaldataset);\n",
    "    transform!(treated_dataset, :anaemia => ByRow(x -> (x==0 ? -1 : 1)) => :anaemia); # maps anaemia to -1,1\n",
    "    transform!(treated_dataset, :diabetes => ByRow(x -> (x==0 ? -1 : 1)) => :diabetes); # maps diabetes to -1,1\n",
    "    transform!(treated_dataset, :high_blood_pressure => ByRow(x -> (x==0 ? -1 : 1)) => :high_blood_pressure); # maps high_blood_pressure to -1,1\n",
    "    transform!(treated_dataset, :sex => ByRow(x -> (x==0 ? -1 : 1)) => :sex); # maps sex to -1,1\n",
    "    transform!(treated_dataset, :smoking => ByRow(x -> (x==0 ? -1 : 1)) => :smoking); # maps smoking to -1,1\n",
    "    transform!(treated_dataset, :death_event => ByRow(x -> (x==0 ? -1 : 1)) => :death_event); # maps death_event to -1,1\n",
    "    \n",
    "    D = treated_dataset[:,1:end] |> Matrix; # build a data matrix from the DataFrame\n",
    "    (number_of_examples, number_of_features) = size(D);\n",
    "\n",
    "    # Which cols do we want to rescale?\n",
    "    index_to_z_scale = [\n",
    "        1 ; # 1 age\n",
    "        3 ; # 2 creatinine_phosphokinase\n",
    "        5 ; # 3 ejection_fraction\n",
    "        7 ; # 4 platelets\n",
    "        8 ; # 5 serum_creatinine\n",
    "        9 ; # 6 serum_sodium\n",
    "        12 ; # 7 time\n",
    "    ];\n",
    "\n",
    "    D̂ = copy(D);\n",
    "    for i ∈ eachindex(index_to_z_scale)\n",
    "        j = index_to_z_scale[i];\n",
    "        μ = mean(D[:,j]); # compute the mean\n",
    "        σ = std(D[:,j]); # compute std\n",
    "\n",
    "        # rescale -\n",
    "        for k ∈ 1:number_of_examples\n",
    "            D̂[k,j] = (D[k,j] - μ)/σ;\n",
    "        end\n",
    "    end\n",
    "\n",
    "    # remove categorical cols -\n",
    "    # D̂₂ = D̂[:,index_to_z_scale]; # z-scaled data, no label, no categorical\n",
    "    D̂₂ = D̂[:,1:end-1]; # z-scaled data, no label, with unscaled categorical\n",
    "    #D̂₂ = D̂[:,1:end-1]; # raw (unscaled) data, no label\n",
    "    \n",
    "    D̂₂, treated_dataset\n",
    "end;"
   ]
  },
  {
   "cell_type": "markdown",
   "id": "b0ea2fe9-57d8-4020-9ef8-a6bad7fbd078",
   "metadata": {},
   "source": [
    "What's in the `D::Array{Float64,2}` variable?"
   ]
  },
  {
   "cell_type": "code",
<<<<<<< Updated upstream
   "execution_count": 9,
=======
   "execution_count": 4,
>>>>>>> Stashed changes
   "id": "8a4435f4-e93f-4d4e-a59b-3607b6940fb8",
   "metadata": {},
   "outputs": [
    {
     "data": {
      "text/plain": [
       "299×12 Matrix{Float64}:\n",
       "  1.19095    -1.0   0.000165451  -1.0  …  -1.50152     1.0  -1.0  -1.62678\n",
       " -0.490457   -1.0   7.50206      -1.0     -0.141739    1.0  -1.0  -1.60101\n",
       "  0.350246   -1.0  -0.449186     -1.0     -1.72815     1.0   1.0  -1.58812\n",
       " -0.910808    1.0  -0.485257     -1.0      0.0848915   1.0  -1.0  -1.58812\n",
       "  0.350246    1.0  -0.434757      1.0     -4.67434    -1.0  -1.0  -1.57524\n",
       "  2.452       1.0  -0.551217     -1.0  …  -1.04826     1.0   1.0  -1.57524\n",
       "  1.19095     1.0  -0.346124     -1.0      0.0848915   1.0  -1.0  -1.54947\n",
       " -0.0701056   1.0  -0.275011      1.0     -1.27489     1.0   1.0  -1.54947\n",
       "  0.350246   -1.0  -0.437849     -1.0      0.311522   -1.0  -1.0  -1.54947\n",
       "  1.6113      1.0  -0.47289      -1.0     -0.821629    1.0   1.0  -1.54947\n",
       "  1.19095     1.0  -0.516176     -1.0  …  -1.27489     1.0   1.0  -1.54947\n",
       "  0.098035   -1.0  -0.361583     -1.0      0.764782    1.0   1.0  -1.54947\n",
       " -1.33116     1.0   0.411384     -1.0      0.0848915   1.0  -1.0  -1.53659\n",
       "  ⋮                                    ⋱                     ⋮    \n",
       " -1.33116    -1.0   0.000165451   1.0     -1.04826    -1.0  -1.0   1.54275\n",
       "  0.350246   -1.0   0.319658      1.0      1.21804    -1.0  -1.0   1.62005\n",
       "  2.452       1.0  -0.252337     -1.0      1.6713     -1.0  -1.0   1.62005\n",
       " -1.33116    -1.0   0.034176      1.0  …   0.991412   -1.0  -1.0   1.63294\n",
       " -0.0701056  -1.0  -0.269858     -1.0      0.538152    1.0  -1.0   1.64582\n",
       " -0.742668   -1.0  -0.403838      1.0      0.764782    1.0   1.0   1.64582\n",
       "  0.182105    1.0  -0.493502      1.0     -0.141739    1.0   1.0   1.80043\n",
       "  0.098035   -1.0  -0.536789      1.0      1.44467     1.0   1.0   1.80043\n",
       " -0.490457   -1.0   1.27608      -1.0  …   0.538152   -1.0  -1.0   1.81332\n",
       " -1.33116    -1.0   1.52342       1.0      0.311522   -1.0  -1.0   1.90351\n",
       " -1.33116    -1.0   1.88723      -1.0      0.764782    1.0   1.0   1.92927\n",
       " -0.910808   -1.0  -0.397655     -1.0     -0.141739    1.0   1.0   1.9937"
      ]
     },
<<<<<<< Updated upstream
     "execution_count": 9,
=======
     "execution_count": 4,
>>>>>>> Stashed changes
     "metadata": {},
     "output_type": "execute_result"
    }
   ],
   "source": [
    "D"
   ]
  },
  {
   "cell_type": "markdown",
   "id": "d84792cd-8632-4c74-ac2e-47826e779af0",
   "metadata": {},
   "source": [
    "Finally, let's set some constants that we'll need in the examples below. See the comment next to the constant for a description of what it is, it's permissible values, etc."
   ]
  },
  {
   "cell_type": "code",
<<<<<<< Updated upstream
   "execution_count": 11,
=======
   "execution_count": 5,
>>>>>>> Stashed changes
   "id": "1c6ac207-c756-4f20-b3e8-d8e019c9028b",
   "metadata": {},
   "outputs": [],
   "source": [
    "n = nrow(originaldataset); # how many example data points do we have?\n",
    "m = size(D,2); # number of features (number of cols)\n",
    "maxiter = 10000; # maximum iterations\n",
    "K = 4; # number of clusters. What number should we pick?\n",
    "ϵ = 1e-6; # tolerance for termination. We can set this to whatever we want"
   ]
  },
  {
   "cell_type": "markdown",
<<<<<<< Updated upstream
=======
   "id": "f1a43c53-12b1-457a-b53f-6cac8298b2b4",
   "metadata": {},
   "source": [
    "Finally, let's set up the color dictionary for the visualizations in the lecture. The keys of the `my_color_dictionary::Dict{Int64,RGB}` dictionary are the cluster indexes, while the values are the colors mapped to that index."
   ]
  },
  {
   "cell_type": "code",
   "execution_count": 6,
   "id": "440e48b5-e728-40c8-8370-0cb06e408004",
   "metadata": {},
   "outputs": [],
   "source": [
    "my_color_dictionary = Dict{Int64,RGB}();\n",
    "my_color_dictionary[1] = colorant\"#03045e\";\n",
    "my_color_dictionary[2] = colorant\"#0077b6\";\n",
    "my_color_dictionary[3] = colorant\"#00b4d8\";\n",
    "my_color_dictionary[4] = colorant\"#ffc300\";\n",
    "my_color_dictionary[5] = colorant\"#e36414\";"
   ]
  },
  {
   "cell_type": "markdown",
>>>>>>> Stashed changes
   "id": "930e6ac3-c305-479a-b6d6-e9d513aae614",
   "metadata": {},
   "source": [
    "## Task 2: Build a K-means model and cluster the data\n",
    "We've developed an [initial K-means implementation](src/Cluster.jl) based on [our pseudo-code](https://github.com/varnerlab/CHEME-5820-Lectures-Spring-2025/blob/main/lectures/week-1/L1c/docs/L1c-5820-S2025.pdf). Let's explore how this implementation performs on our sample dataset. There is [already a good clustering package `Clustering.jl` that is available](https://github.com/JuliaStats/Clustering.jl) that exports [a `K-means` function](https://juliastats.org/Clustering.jl/stable/kmeans.html). However, in this demo, we'll use our implementation.\n",
    "* __Problem model__: Build [a `MyNaiveKMeansClusteringAlgorithm` instance](src/Types.jl), which holds information about the clustering, i.e., the number of clusters `K::Int,` information about the dataset such as the number of features `m::Int,` and the number of points `n::Int,` and stopping criteria information such as the maximum number of iterations `maxiter::Int` and tolerance `ϵ::Float64`. We'll store this model in the `model::MyNaiveKMeansClusteringAlgorithm` variable.\n",
    "\n",
    "This is an example of [a factory type pattern](https://en.wikipedia.org/wiki/Factory_method_pattern), which uses [a `build(...)` method](src/Factory.jl) to construct and configure a complex object, i.e., set values for the properties on the model that must be computed. The [`build(...)` method](src/Factory.jl) takes the type of thing we want to build as the first argument, and the data required to construct the object (encoded [in a `NamedTupe` type](https://docs.julialang.org/en/v1/base/base/#Core.NamedTuple)) as the second argument."
   ]
  },
  {
   "cell_type": "code",
<<<<<<< Updated upstream
   "execution_count": 13,
=======
   "execution_count": 7,
>>>>>>> Stashed changes
   "id": "4f0de927-6c68-4ca0-addb-0b665ead7d16",
   "metadata": {},
   "outputs": [],
   "source": [
    "model = build(MyNaiveKMeansClusteringAlgorithm, (\n",
    "        maxiter = maxiter,\n",
    "        dimension = m,\n",
    "        number_of_points = n,\n",
    "        K = K,\n",
    "        ϵ = ϵ,\n",
    "        scale_factor = 1.0, # scale of the data\n",
    "));"
   ]
  },
  {
   "cell_type": "markdown",
   "id": "fc4c8883-9372-4134-bddc-8c9fde2bf664",
   "metadata": {},
   "source": [
    "### Initial clustering values\n",
    "The `model::MyNaiveKMeansClusteringAlgorithm` contains the data that we passed in, as well as two derived fields that we computed in [the `build(...)` method](src/Factory.jl), the centroids and initial assignments: \n",
    "* The `centroids::Dict{Int64, Vector{Float64}}` dictionary holds the centroid values $\\mu_1, \\dots, \\mu_K$ for each cluster. The dictionary's keys are the cluster index, while the values are the `m`-dimensional centroids (means) of the data points in that cluster. We initialize the centroids randomly.\n",
    "* The `assignments::Vector{Int64}` field is an `n`-dimensional vector holding the clustered index that each data point is assigned to. We initialize the assignments randomly.\n",
    "\n",
    "What is in the `centroids` and `assignments` fields of your model?"
   ]
  },
  {
   "cell_type": "code",
<<<<<<< Updated upstream
   "execution_count": 15,
=======
   "execution_count": 8,
>>>>>>> Stashed changes
   "id": "cc308bed-e6fa-478f-8f6b-56d3289eced1",
   "metadata": {},
   "outputs": [
    {
     "data": {
      "text/plain": [
       "Dict{Int64, Vector{Float64}} with 3 entries:\n",
<<<<<<< Updated upstream
       "  2 => [0.33186, 0.741507, 0.751985, 0.574875, 0.553383, 0.646365, 0.298529, 0.…\n",
       "  3 => [0.594919, 0.81249, 0.313136, 0.908246, 0.49264, 0.504952, 0.735693, 0.7…\n",
       "  1 => [0.596303, 0.0590925, 0.366193, 0.425667, 0.0736525, 0.753837, 0.251021,…"
      ]
     },
     "execution_count": 15,
=======
       "  2 => [0.0963429, 0.402114, 0.410914, 0.773702, 0.639297, 0.298513, 0.274462, …\n",
       "  3 => [0.111339, 0.726983, 0.0345126, 0.884096, 0.60194, 0.1176, 0.570353, 0.4…\n",
       "  1 => [0.0812402, 0.73805, 0.866138, 0.82064, 0.107321, 0.659767, 0.45091, 0.4…"
      ]
     },
     "execution_count": 8,
>>>>>>> Stashed changes
     "metadata": {},
     "output_type": "execute_result"
    }
   ],
   "source": [
    "model.centroids"
   ]
  },
  {
   "cell_type": "code",
   "execution_count": 24,
   "id": "10198cf8-76a4-4e9f-80d3-8d167e8aa160",
   "metadata": {},
   "outputs": [
    {
     "data": {
      "text/plain": [
       "299-element Vector{Int64}:\n",
       " 1\n",
       " 1\n",
       " 1\n",
       " 1\n",
       " 1\n",
       " 1\n",
       " 1\n",
       " 1\n",
       " 1\n",
       " 2\n",
       " 2\n",
       " 1\n",
       " 1\n",
       " ⋮\n",
       " 3\n",
       " 3\n",
       " 3\n",
       " 3\n",
       " 3\n",
       " 3\n",
       " 3\n",
       " 3\n",
       " 3\n",
       " 3\n",
       " 3\n",
       " 3"
      ]
     },
     "execution_count": 24,
     "metadata": {},
     "output_type": "execute_result"
    }
   ],
   "source": [
    "model.assignments"
   ]
  },
  {
   "cell_type": "markdown",
   "id": "7bfb9469-f3b5-4257-b3b8-f32d60061182",
   "metadata": {},
   "source": [
    "### Execute the Clustering\n",
    "We'll call [the `cluster(...)` method](src/Cluster.jl) to refine our initial random cluster assignments and centroid values. The [`cluster(...)` method](src/Cluster.jl) takes a few arguments (and returns the clustering results):\n",
    "\n",
    "* __Data__: `D::Array{<:Number, 2}`: The first argument is the data matrix `D::Array{<:Number,2}` which we want to cluster. The data matrix has the feature vectors $\\mathbf{x}\\in\\mathbb{R}^{m}$ as columns. Its values can be any subtype [of Number](https://docs.julialang.org/en/v1/base/numbers/#Core.Number). \n",
    "* __Model__: `model::<: MyAbstractUnsupervisedClusteringAlgorithm`: The second argument is the cluster model instance, i.e.,  the `model::MyNaiveKMeansClusteringAlgorithm` instance that we built above. However, the model can be any subtype of ` MyAbstractUnsupervisedClusteringAlgorithm.`\n",
    "    * __Why an abstract generic type?__ Suppose we have different K-means implementations or different clustering logic altogether. In that case, we can take advantage of Julia's multiple dispatch functionality by passing in a different clustering model. This provides a single method for a user to call, which calls a different implementation.\n",
    "* __Verbose (optional)__: `verbose::Bool`: The `verbose::Bool` argument tells our implementation whether to save data from each algorithm iteration. The default value is `false`. However, if the value is set to `true,` a save file holding the assignments, centroids, and loop index is written at each iteration.\n",
    "* __Measure (optional)__:`d::Any`. The optional distance argument is the $d(p,q)$ function and can be used to change how the similarity between feature vectors $\\mathbf{x}\\in\\mathcal{D}$ is calculated. We can use [any metrics exported by the `Distances.jl` package](https://github.com/JuliaStats/Distances.jl); by default, we [use the Euclidian distance](https://en.wikipedia.org/wiki/Euclidean_distance). \n",
    "\n",
    "The [`cluster(...)` method](src/Cluster.jl) returns cluster centroids, the assignments, and the number of iterations that it took to reach the final assignment in the `result::NamedTuple.`\n",
    "* The `result` named tuple has the fields `{assignments|centroids|loopcount).` The `assignments` field is an array of integers that tells us which cluster each data point belongs to. The `centroids` field is a dictionary holding the centroids of the clusters. The `loopcount` field is an integer that tells us how many iterations the algorithm took to converge."
   ]
  },
  {
   "cell_type": "code",
   "execution_count": 17,
   "id": "830db8db-e689-4569-a8ef-caad986c7c8f",
   "metadata": {},
   "outputs": [],
   "source": [
    "result = cluster(D, model, verbose = true); # cluster the data, save each stage to disk in the tmp folder (verbose = true)"
   ]
  },
  {
   "cell_type": "code",
<<<<<<< Updated upstream
   "execution_count": 18,
=======
   "execution_count": 9,
   "id": "830db8db-e689-4569-a8ef-caad986c7c8f",
   "metadata": {},
   "outputs": [],
   "source": [
    "result = cluster(D, model, verbose = false); # cluster the data"
   ]
  },
  {
   "cell_type": "code",
   "execution_count": 10,
>>>>>>> Stashed changes
   "id": "21cb3d0b-4df6-4237-8035-aad07b7bdbb5",
   "metadata": {},
   "outputs": [
    {
     "data": {
      "text/plain": [
       "299-element Vector{Int64}:\n",
       " 1\n",
       " 2\n",
       " 1\n",
       " 1\n",
       " 3\n",
       " 1\n",
       " 1\n",
       " 1\n",
       " 1\n",
       " 2\n",
       " 2\n",
       " 1\n",
       " 1\n",
       " ⋮\n",
       " 3\n",
       " 3\n",
       " 3\n",
       " 3\n",
       " 3\n",
       " 3\n",
       " 3\n",
       " 3\n",
       " 3\n",
       " 3\n",
       " 3\n",
       " 3"
      ]
     },
<<<<<<< Updated upstream
     "execution_count": 18,
=======
     "execution_count": 10,
>>>>>>> Stashed changes
     "metadata": {},
     "output_type": "execute_result"
    }
   ],
   "source": [
    "result.assignments"
   ]
  },
  {
   "cell_type": "code",
<<<<<<< Updated upstream
   "execution_count": 19,
=======
   "execution_count": 11,
>>>>>>> Stashed changes
   "id": "8988047b-f9d1-4089-88cc-e88e0d4781f4",
   "metadata": {},
   "outputs": [
    {
     "data": {
      "text/plain": [
       "Dict{Int64, Vector{Float64}} with 3 entries:\n",
<<<<<<< Updated upstream
       "  2 => [-0.640562, -0.366337, 0.337658, 0.00990099, -0.042202, -0.683168, 0.103…\n",
       "  3 => [0.0391546, 0.191011, -0.245424, 0.0561798, 0.341364, 0.101124, 0.14567,…\n",
       "  1 => [0.561578, -0.192661, -0.112484, -0.504587, -0.239623, -0.266055, -0.214…"
      ]
     },
     "execution_count": 19,
=======
       "  2 => [0.577236, 0.4, 0.124871, -0.6, 0.440765, -0.2, 0.0416932, 4.20114, -0.4…\n",
       "  3 => [-0.223942, -0.229167, -0.0478068, -0.177083, 0.210777, -0.364583, 0.016…\n",
       "  1 => [0.383759, -0.0103093, 0.0817546, -0.0927835, -0.462648, -0.175258, -0.0…"
      ]
     },
     "execution_count": 11,
>>>>>>> Stashed changes
     "metadata": {},
     "output_type": "execute_result"
    }
   ],
   "source": [
    "result.centroids"
   ]
  },
  {
   "cell_type": "code",
   "execution_count": 28,
   "id": "6a574569-a980-4a31-9b0f-0957a817e0a3",
   "metadata": {},
   "outputs": [
    {
     "data": {
      "text/plain": [
       "10"
      ]
     },
     "execution_count": 28,
     "metadata": {},
     "output_type": "execute_result"
    }
   ],
   "source": [
    "result.loopcount"
   ]
  },
  {
   "cell_type": "markdown",
   "id": "be54a97e-9264-4d85-b078-a09b7ffd729b",
   "metadata": {},
   "source": [
    "Finally, how balanced are the clusters? Let's compute the fraction of our patient population in each cluster, and display this information in a table [using the `pretty_table(...)` function exported by the `PrettyTables.jl` package](https://github.com/ronisbr/PrettyTables.jl)"
   ]
  },
  {
   "cell_type": "code",
<<<<<<< Updated upstream
   "execution_count": 21,
=======
   "execution_count": 12,
>>>>>>> Stashed changes
   "id": "1b35f283-a24f-4aae-a891-70b4796ad6bd",
   "metadata": {},
   "outputs": [
    {
     "name": "stdout",
     "output_type": "stream",
     "text": [
<<<<<<< Updated upstream
      "========== ===========\n",
      " \u001b[1m cluster \u001b[0m \u001b[1m fraction \u001b[0m\n",
      " \u001b[90m   Int64 \u001b[0m \u001b[90m  Float64 \u001b[0m\n",
      "========== ===========\n",
      "        1   0.364548\n",
      "        2   0.337793\n",
      "        3   0.297659\n",
      "========== ===========\n"
=======
      "========== ============\n",
      " \u001b[1m cluster \u001b[0m \u001b[1m  fraction \u001b[0m\n",
      " \u001b[90m   Int64 \u001b[0m \u001b[90m   Float64 \u001b[0m\n",
      "========== ============\n",
      "        1    0.324415\n",
      "        2   0.0334448\n",
      "        3     0.64214\n",
      "========== ============\n"
>>>>>>> Stashed changes
     ]
    }
   ],
   "source": [
    "let\n",
    "\n",
    "    df = DataFrame(); # container for the fraction data\n",
    "    \n",
    "    for k ∈ 1:K # iterate over the number of clusters\n",
    "        Nᵢ = findall(x-> x == k, result.assignments) |> length;\n",
    "        row_df = (\n",
    "            cluster = k,\n",
    "            fraction = (Nᵢ/n)\n",
    "        );\n",
    "        push!(df, row_df)\n",
    "    end\n",
    "\n",
    "    pretty_table(df, tf=tf_simple)\n",
    "end"
   ]
  },
  {
   "cell_type": "markdown",
   "id": "81a49ead-3743-4900-95a5-40093f73c5dd",
   "metadata": {},
   "source": [
    "### Check: Does the Energy decrease?\n",
    "The problem of [K-means clustering](https://en.wikipedia.org/wiki/K-means_clustering) can be formulated as an optimization problem, \n",
    "where the objective is to minimize the sum of squared distances between each data point and its assigned cluster centroid. If we think about this objective in terms of a pseudo-energy $E(c_{1},\\dots,c_{K})$, then we are looking for the cluster assignments that minimize the energy:\n",
    "$$\n",
    "\\begin{equation}\n",
    "\\min_{c_{1},\\dots,c_{K}} E\\left(c_{1},\\dots,c_{K}\\right)= \\sum_{j=1}^{K}\\sum_{\\mathbf{x}\\in c_{j}}d(\\mathbf{x},\\mu_{j})^{2}\\quad\\text{where}\\,\\mu_{j} = |c_{j}|^{-1}\\cdot\\sum_{\\mathbf{x}\\in{c_{j}}}\\mathbf{x}\n",
    "\\end{equation}\n",
    "$$\n",
    "where $d(\\mathbf{x},\\mu_{j})$ denotes the distance (similarity) between two vectors (in this case, a feature vector and the cluster centroid), \n",
    "and $|c_{\\star}|$ denotes the number of elements in cluster $\\star$. By default, we [use the Euclidian distance](https://en.wikipedia.org/wiki/Euclidean_distance) as our similarity measure $d(\\mathbf{x},\\mu_{j})$. The K-means algorithm aims to find the optimal cluster assignments $\\mathcal{C}$ and cluster centroids $\\mu$ that minimize this objective function.\n",
    "\n",
    "We need to compute the pseudo-energy $E(c_{1},\\dots,c_{K})$ from the iteration data files. What's in these files?"
   ]
  },
  {
   "cell_type": "code",
   "execution_count": 23,
   "id": "08a1ace0-d606-415b-88d0-677882fab0f0",
   "metadata": {},
   "outputs": [
    {
     "data": {
      "text/plain": [
       "Dict{String, Any} with 3 entries:\n",
       "  \"centroids\"   => Dict(2=>[0.33186, 0.741507, 0.751985, 0.574875, 0.553383, 0.…\n",
       "  \"loopcount\"   => 1\n",
       "  \"assignments\" => [3, 1, 3, 1, 1, 3, 3, 2, 3, 3  …  2, 3, 3, 1, 2, 3, 1, 1, 1,…"
      ]
     },
     "execution_count": 23,
     "metadata": {},
     "output_type": "execute_result"
    }
   ],
   "source": [
    "tmp = load(joinpath(_PATH_TO_TMP, \"data-1.jld2\"))"
   ]
  },
  {
   "cell_type": "markdown",
   "id": "a50d314b-b87f-48f5-99a1-87a41e94c41c",
   "metadata": {},
   "source": [
    "Given the cluster results that we saved at each iteration (when `verbose = true`), we can compute the values for the pseudo-energy $E(c_{1},\\dots,c_{K})$ as a function iteration. Save that data in the `energy_array::Array{Float64,2}` array.\n",
    "* To compute pseudo-energy $E(c_{1},\\dots,c_{K})$, we call [the `configurationenergy(...)` function](src/Cluster.jl). This function takes the dataset $\\mathcal{D}$, the cluster assignment array, and the centroid array and returns the energy for that configuration. Because we don't care about the actual value of energy $E(c_{1},\\dots,c_{K})$, we'll scale this to be in the range `[0,1]`."
   ]
  },
  {
   "cell_type": "code",
   "execution_count": 91,
   "id": "4be8c799-5868-4199-bcc1-941b46adae38",
   "metadata": {},
   "outputs": [],
   "source": [
    "energy_array = let\n",
    "\n",
    "    number_of_iterations = result.loopcount; # how many iterations did we take to converge?\n",
    "    energy_array = Array{Float64,1}(undef, number_of_iterations);\n",
    "    \n",
    "    # compute the (unscaled) energy for each configuration\n",
    "    for i ∈ 1:number_of_iterations\n",
    "        tmp = load(joinpath(_PATH_TO_TMP, \"data-$(i).jld2\")); # returns a dictionary\n",
    "        a = tmp[\"assignments\"]; # get the assignment vector for this iteration\n",
    "        μ = tmp[\"centroids\"]; # get the cluster centroids for this iteration\n",
    "        energy_array[i] = configurationenergy(D, a, μ); # call the energy function with ith clustering resulys\n",
    "    end\n",
    "\n",
    "    # 0,1 scale the energy\n",
    "    L = minimum(energy_array); # low value\n",
    "    H = maximum(energy_array); # high value\n",
    "    scaled_energy_array = Array{Float64,2}(undef, number_of_iterations,2);\n",
    "    for i ∈ 1:number_of_iterations\n",
    "        scaled_energy_array[i,1] = i; # save the iteration count in col 1\n",
    "        scaled_energy_array[i,2] = (energy_array[i] - L)/(H - L); # save 0,1 scaled energy in col 2\n",
    "    end\n",
    "\n",
    "    # return \n",
    "    scaled_energy_array\n",
    "end;"
   ]
  },
  {
   "cell_type": "markdown",
   "id": "b6a2aacd-2514-41bb-9fd8-93af3836ef11",
   "metadata": {},
   "source": [
    "#### Visualize\n",
    "`Unhide` the code block below to see how we plotted the scaled energy as a function of the number of iterations of [our K-means implementation](src/Cluster.jl). If the clustering worked properly, we should see the energy (scaled) decrease and flatten out (converge) as the number of iterations increases."
   ]
  },
  {
   "cell_type": "code",
   "execution_count": 72,
   "id": "7c719a45-389f-4773-a2b7-e67053c53540",
   "metadata": {
    "jupyter": {
     "source_hidden": true
    }
   },
   "outputs": [
    {
     "data": {
      "image/png": "iVBORw0KGgoAAAANSUhEUgAAAlgAAAGQCAIAAAD9V4nPAAAABmJLR0QA/wD/AP+gvaeTAAAgAElEQVR4nOzdd3xT5f4H8CerTdqmK+mmdLeMsldLC8hesluVpYgUUMQr18EQrwiCMhVQQeWCP/QqQ0AEBAHZyCgtRUYXLaV7pEln2mad3x9HQkdoS0lyMj7vly9fycnJ6SfHmm+fc57BoiiKAAAAWCs20wEAAACYhEIIAABWDYUQAACsGgohAABYNRRCAACwaiiEAABg1VAIAQDAqqEQAgCAVUMhBAAAq4ZCCAAAVs1cC6FcLl++fDnTKRig0WgwK55+qdVqpiNYGpxS/aIoSqPRMJ3CkplrISwtLd29ezfTKRhQV1eHbxn9ksvlTEewNDil+qXRaOrq6phOYcnMtRACAADoBQohAABYNRRCAACwaiiEAABg1QxVCLdt2zZjxoy+ffuePXtW5w5KpXLRokW+vr6dO3f+4YcftNtv3LgRHR3t5eU1ceLE/Pz8Z08ikUgOHDiwffs3ly9ffvajAQCAhTFUIUxLS4uIiCgoKJDJZDp32LRp06VLl65du/btt9++9dZbt27dIoQoFIrx48dPmzbt3r17Xl5es2fPfsYYX3/9XefO/WfO3LFgwfHx49/v0aN/QUHBMx4TAAAsCcugg9I6d+68atWqyZMnN30pKCho06ZNEyZMIIS8/vrrXC5369atBw4cWLZsWWpqKiFEKpV6enqmpaX5+/s3fXtOTk5UVFR2dnYzP/3q1atjx8ZJpZMI4dBb2OyHPXqk37hx8dk/GlNqamp4PB6Xy2U6iOWorKwUCoVMp7AoOKX6pVarFQqFQCBgOojFYuYeYV1d3YMHD3r06EE/7d69e3JyMiEkOTlZu9HV1dXX1zclJaXNP2Xjxm1SaV9tFSSEaDR+OTnVDx8+fIbsAABgUZhpWJSWllIU5ejoSD91cnIqKSmht9f/Q9LZ2Vkikeg8Qk1NTX5+vouLi3bLokWLFi1aVH+fjIwHhPRr9Eal0jklJcXV1VUvH8T40CLUu6qqKqYjWBqcUv2iW4QqlYrpIGaJz+fzeLzm92Hm+5QuYJWVlc7OzoSQiooKsVhMby8sLNTuVl5eLhKJdB5BIBB4eXn9/fffjY5ZX/v27W7eLCfEof5GHq8iKCjIfK/bcLlcFEK9M9/fB5OFU6pHuDRqaMxcGhUIBD4+Pvfu3aOfJicnBwUFEUKCg4O1GysrK3Nzc+ntOrFYLJd6mu7w1ltzXFxuEFL/JmiBWMwKDg7W30cBAADzZqhCWFBQkJmZqVAoioqKMjMza2trCSHnz59ftWoVvcOsWbM2bNhQW1ubmZn5008/zZo1ixAyYcKEnJyc3377TaPRbNy4sVevXqGhoW3OMGTIkIULp4jFe9nsREJSOZw/g4OvHDmyVx+fDwAALIShCuG77747fPhwjUazYcOG4cOH3717lxCSm5t77do1eoelS5eKRCJ3d/c+ffq8++67/fv3J4TY29vv3bv37bffFgqFJ06c2LVr1zPG+PjjD65dO7Z8+QBCCkWi0JSUxMDAwGc8JgAAWBLDDp9oEUVRLBar9du1WjN8Qkul0tjbr1GpNFVVywQC8767hs4yeoe+/nqHU6pfuEdoaAxPsfakatd8FXxaXC47MNBFo6Hu35fq8bAAAGABrGWu0bAwESEkNVX3YAwAALBa1lMIxYSQ1NRSpoMAAIBpsZZCGBqKFiEAAOhgLYXw0aVRtAgBAKAB6ymE9KVRtAgBAKABaymEbm52rq6C8vK6oqJqprMAAIAJsZZCSHCbEAAAdLGiQkjfJkxLw21CAAB4zKoKIUZQAABAY1ZVCHFpFAAAGrOiQvjoHiFahAAA8JgVFcKQEBGHw8rMlCmVGqazAACAqbCiQmhry2nf3kml0mRmypjOAgAApsKKCiHBsHoAAGjC2gohbhMCAEAD1lYIxQRDCQEAoB5rK4QYQQEAAA1YWyHEmHoAAGjAugqht7eDg4NNcXG1VFrDdBYAADAJ1lUIWSwWPaw+PV3KdBYAADAJ1lUICdagAACAhqyuEGIEBQAA1GeFhRBj6gEA4DErLIRoEQIAwGNWWAjFLBZJTy9VqymmswAAAPOsrhDa2/O8vYV1deqcnHKmswAAAPOsrhASDKsHAIB6rLMQYgQFAAD8wxoLIZaqBwAALWsshBhBAQAAWlydW9Vq9a1bt/7++2+JRMLlct3d3fv27RscHGzkcAaCERQAAKDVuBCmpKRs27btxx9/lEobz8YZEBDw2muvxcXFubu7GyueQfj7O/P53Ly8iqoqhYODDdNxAACASY8vjUokknnz5oWHh584cSIuLu7XX39NTk4uKirKy8v7+++/f/jhh5EjR27ZsiU4OHjNmjUKhYLB0M+IzWYFBblQFKbeBgCAei3C48ePZ2dnnz9/PioqqtFO3t7eXbp0mTFjxtatWw8fPvzxxx/HxMSEhoYaN6o+hYWJ794tSU2V9OjhyXQWAABg0uNC+OKLL86cObOFvbncKVOmTJo0Sa1WGziYYdG3CdPScJsQAMDaPS6ENjatvVvGZrPZbPPuboox9QAAQGvQWSY7O1ulUjXag81mi8ViBwcHI6YyOIypBwAAWoNCOHDgwIcPH+rcr3PnzkuXLp0+fbpRUhkc3SJMSyulKIrFYjEdBwAAGNOgEC5evLiioqLRHtXV1bm5uadPn54xY0ZVVdW8efOMGM9QXFz4YrGdRCIvKKjy9hYyHQcAABjToBC+/vrrT9pPoVDExMR89NFHcXFx5n6DkBYWJpJI5KmppSiEAADWrLUlzcbGZunSpUVFRenp6QYNZDSYaA0AAMhTzTXarl07Qkh5uYUs44eJ1gAAgDxVIaTbgm5ubgYLY1Ta/jJMBwEAACa1thAWFRUtW7YsKCgoICDAoIGMBiMoAACANOoss2DBgpKSkkZ7aDSaoqKiGzduKJXKgwcPGjGbYQUGunC57KysstpaFZ+vexUOAACweA0KwLFjx5qOI7SxsRGJRKNHj37vvfciIyONmM2wbGw4AQHO6enSzExZp04Wcr0XAACeVoNCmJWVxVAMZoSFidPTpamppSiEAABW6yk6y6jV6hMnThguivGFhuI2IQCAtWvVvbGcnJyffvpp+/btWVlZFEUZOpPRYAQFAAA0Vwirq6v379+/a9euixcvstnswYMHf/TRR0ZLZgQYUw8AALoL4eXLl3fu3Ll///7KykpnZ2c+n5+RkeHl5WXkcIaGFiEAADS4R1hQULB58+auXbtGR0cfOnRo6tSpFy9e3LhxI4fDsbwqSAjx9HRwduZLpTUSiZzpLAAAwIwGLcL+/fsXFBQ8//zzq1evHjVqFI/HI4SkpaUxlM0YQkJc4+Pz09JKxWI7prMAAAADGrQIuVyuUqksKyuTyWR1dXVMZTImLFUPAGDlGhTChISEXbt2sVisWbNmubm5vfDCC0eOHFGr1UyFMwJMtAYAYOUaXBp1dHR8+eWXX3755Xv37u3cufPHH3/cv38/n88nhNy5cyc8PJyhkAb0aCghWoQAAFZK94D6Tp06bdiwIScn59dffx0xYoRKperSpUu3bt3WrVtn5HyGhhEUAABWrrmZZXg83oQJEw4fPlxUVPTNN9+wWKzFixcbLZlxhIaK2GxWRoZMpdIwnQUAABjQqinWXF1d586dm5SUdOXKFUMHMjKBgNuunaNCoc7KKmM6CwAAMOBxIVQoFC3uHRERQQjRaDQqlcqAoYwLw+oBAKzZ40K4d+/eMWPGXL58uZm9VSrVL7/80r1798zMTMNnMxIsVQ8AYM0e9xodPXr0xYsXBw0aFBwcPHny5IiIiNDQUJFIpFKpJBLJ33///ddff/3yyy81NTWLFy/29/dnLrOeYQQFAIA1e1wIxWLxt99+++9///vrr7/evn37p59+2mhXPz+/hQsXzp07193d3bghDQtj6gEArFnjSbc7dOiwZcuWzz//PCkp6fbt2yUlJVwu18PDo0+fPiEhIYxENDS0CAEArJnu1Sc4HE6vXr169epl5DSM8PV1tLPjFRRUVVTUOTraMh0HAACM6ilWqLdULBYrONiVoL8MAIBVQiEkBCMoAACsGAohIZhoDQDAiqEQEvKoRYhLowAAVgiFkBCMoAAAsGK6e41evnw5MjKSzW57mVSr1Rs2bDhy5IhIJFqyZElkZGSjHdavXx8fH6996unpuWXLFkLIokWL8vLy6I2dOnVasWJFmzO0nrZFqNFQbDbLCD8RAABMhO5COGXKFB6PN3369DfffLNdu3ZtOO6mTZv+97//ffvtt7dv3x49enRycrKXl1f9HaKiorTT03z++edCoZB+/Mcff0ybNi0sLIwQ4ubm1oYf3QaOjraeng6FhVV5eZW+vo7G+aEAAGASKF1Onjw5efJkHo9nY2MTGxt7+vRpjUajc0+dNBqNn5/fsWPH6KcTJkxYs2bNk3aWy+XOzs6XLl2in3bs2FH7uBnZ2dm+vr6tj9SiQYN2EbLi1KkMPR7TEORyuVKpZDqFRamoqGA6gqXBKdUvlUoll8uZTmHJdF/8HD58+IEDB7Kzs1euXJmQkDBs2LDQ0NC1a9cWFxe3prjKZLKHDx/269ePftqvX7+bN28+aed9+/a5u7v3799fu2X16tUxMTGrV6+urKx8mpr+TLBUPQCAddJ9aZTm6em5ePHi99577/Tp09u3b1+6dOlHH300adKkRYsW9e3bt5k3FhUVsVgsZ2dn+qmrq2tRUdGTdt65c+ecOXNYrH/uzM2aNSsoKIiiqG3bth08ePDq1as8Hq/pu2pqaoqKinr06KHdMnPmzLi4uGZSNc/fX0gIuX0735jVtw1qamp4PB6X29x/OHgqVVVVTEewNDil+qVWqxUKhSUtfmdMfD5fZxGpr+Xv06Kiohs3biQlJVEU1bVr1ytXruzZs2fWrFk7d+7UVq9GHB0dKYqqqalxcHAghFRXVzs5OencMz09nT6gdsv7779PPxg7dqyvr+/FixeHDBnS9I0CgcDV1XXHjh3aLSEhIdobjW3Qtas3IeTBg8pnOYgRcLlcFEK9M/H/6OYIp1SP6EIoEAiYDmKxnvh9qtFoTp069e233x45csTGxmb69Onz58/v0aOHWq3+/vvv4+LiZs6cqbNEEUI8PDwEAkFGRka3bt0IIffv3/fz89O5586dO8eMGdOoHw1NIBCIxWKpVPqkhDweT4+zoWJMPQCAddJ9j3DDhg3BwcGjRo1KTU3dtGlTXl7eN998Q1+H5HA4r732WlBQUFZW1pMOyuVyY2Njv/76a0JIUVHRwYMHp06dSggpLS1ds2ZNXV0dvZtKpdq9e/fs2bO1b5RKpTk5OfTjX375JTs7W3uj0dACApxtbDg5ORU1Nbj+AABgRXS3CLds2RIVFfX9998PHDhQ5w5Llizp3bt3M8ddvXr12LFjQ0JCpFLpnDlz6L4wJSUlH3zwwYIFC2xtbQkhJ06cUKvVo0eP1r6rsLAwKipKKBRSFEWXSV9f37Z/uKfB5bIDA11SUiT370u7dLGoBRcBAKAZLIqimm6VyWQuLi7PeGiKonJycoRC4VMdSq1W5+fnczgcb2/vZnbLycmJiorKzs5+xpD1TZy45/Dh1P37Y2NiOunxsPqFzjJ6V1lp6jeGzQ5OqX7hHqGh6f4+ffYqSAhhsVjt27d/2ndxOByjtQIbCQsTE5KKERQAAFZFdyEcMWKEzl4qIpHI399/ypQpI0aMMHAwBjwaSoj+MgAAVkR3Zxk/P78HDx7cuXPH1tbWx8eHw+HcvHmzuLiYy+UeP3585MiRxpkC1MiwKiEAgBXSXQgDAwODgoIyMzMvX758+PDha9euJScn83i8GTNmZGZm/utf/1qzZk1+fr6RsxoaRlAAAFghHYVQoVB8+umnmzZtqt9dJTQ0dMWKFatWreJyuWvXruVwOFevXjViTmNwc7NzdRWUl9cVFVUznQUAAIxERyGUSCSVlZXaCdK0XFxcMjMzCSG2tra+vr4WOYsSbhMCAFgbHYVQLBYLhcJvv/22/kaNRvPdd98FBAQQQiiKKioqMtoaScaE24QAANZGR69RGxubpUuXLlu27NatW+PGjROLxQUFBfv27bt169b//vc/QsiZM2cqKyubH1BvpujbhGlpKIQAANZC9/CJpUuXikSiDRs2vPfee4QQNpvdpUuXgwcPTpw4kRASFRUllUqbXju1AI9ahLg0CgBgLXQUQrVanZSUNGnSpLlz59KrHXl5edGTotH4fD6fzzdiSON51HEULUIAAGuh4x5hUVFR7969k5OTCSECgcDf379+FbRswcGuHA4rM1OmVGqYzgIAAMagoxCKRCI+n19TU2P8NIyzteW0b++kUmkyM2VMZwEAAGPQUQhtbW3nzJmzZcsW61wQGcPqAQCsiu7OMoGBgfv27evQocOYMWO8vb3rr0S/ePFiY2VjRliY6MSJ+7hNCABgJXQXwrVr1xYXFxcXF2/durXRS1ZQCNEiBACwIroLYWFhoZFzmA56BAWGEgIAWAndk25bM4ygAACwKk9c6LyysnL//v13796Vy+Xbtm0jhJw5c8bZ2blnz55GjMcAb28HodCmuLhaKq1xdcWS0AAAFk53izA9PT08PHzevHk///zzkSNH6I1nz56Ni4szYjZmsFiskBARISQ9XcfSxAAAYGF0F8K4uDhXV9f09PSffvpJu3Hy5Mk3b97UuXK9hcFEawAA1kNHIayoqLhw4cKGDRv8/f3rD5wIDAykKCo3N9eI8ZjxaDEm3CYEALB8OgphdXU1RVGenp5NtxNCNBrLn3sMIygAAKyHjkLo5ubm5OR0/vx5Qkj9FuHRo0dtbGxCQkKMl44hWJUQAMB66Og1yuVy4+Lili1bJhQKRSIRIaSiomL//v3vvfferFmz7O3tjR7S2MLCxCwWSU8vVaspDofV8hsAAMBs6R4+8cknnzx8+PDll18mhLDZbBcXF41GM3To0I0bNxo3HjPs7Xne3sK8vMrs7PKAAAtcdhEAALR0F0JbW9t9+/ZdvXr11KlT+fn5rq6uzz333LBhw+pfKbVsYWHivLzKtLRSFEIAAMv2xAH1hJCIiIiIiAijRTEpYWGiM2cepKZKRo4MYjoLAAAYUHOFkBBSUFDQaGHCwMBAQ+YxFZhoDQDASuguhDk5Oe++++7hw4fr6uoavURRlOFTMe/RUEKMoAAAsHC6C2FsbGxycvJbb70VHh4uEFjjfJsYQQEAYCV0FMKqqqr4+Pjdu3dPnz7d+IFMhL+/M5/PzcurqKpSODjYMB0HAAAMRceAeqVSqdFoOnbsaPw0poPNZgUFuVAUpt4GALBwOgqhi4vLgAEDzpw5Y/w0JgUTrQEAWAPd9whXrVr1yiuvqNXqkSNHOjo61n/JSnqNEtwmBACwDroL4YsvvlhUVLRkyZIlS5Y0eslKeo2SRy3CtDQUQgAAS6a7EH733Xe1tbVGjmJqsCohAIA10F0Ix40bZ+QcJkjbIqQoynrmlgMAsDa6V6jXqbq6Oisry2BJTI6LC9/Nza6yUlFQUMV0FgAAMJQGhTA4OHjdunX0Y4qihg0bdu7cOe2rhw8fDggIMGY4xmGpegAAi9egECqVSrVaTT+mKOrPP/8sLCxkIpWpwAgKAACL9xSXRq0QRlAAAFg8FMLmoEUIAGDxUAibQ7cIMZQQAMCCNR4+IZfLJRIJeTRwvrKykn5KCKmqsrrOk0FBrjweOyurrLZWxee3sHYjAACYI1b9mWL8/Pyys7Obf4OJzCyTk5MTFRXVYtpnFxq6NT1devfuG506uRn6Z7VGTU0Nj8fjclGV9aayslIoFDKdwqLglOqXWq1WKBTWuSKecTT4Pn3jjTdkMhlTUUxTWJg4PV2amlpqIoUQAAD0q0EhXLx4MVM5TFZYmOjoUfSXAQCwWOgs0wKMqQcAsGwohC3ACAoAAMuGQtgCjKkHALBsKIQt8PR0cHbmS6U1Eomc6SwAAKB/KIQtCwlxJWgUAgBYKBTClmGpegAAC/bEcdmlpaU7duxISkrKzc319PQMDw+Pi4vz9vY2ZjgTgaXqAQAsmO4WYWpqapcuXZYsWfLXX38plcrExMSPP/64c+fOV69eNXI+U/Co4yhahAAAFkh3IZw/fz6Xy/3rr78ePnx49erVjIyMW7du+fr6vvrqqyYyxZoxPRpKiBYhAIAF0lEIKysrL1y48OWXX0ZGRmo3dunSZefOnSkpKffv3zdiPJMQGipis1kZGTKVSsN0FgAA0DPdhVCj0fj7+zfaHhAQQAgpLy83QiyTIhBw27VzVCjUWVllTGcBAAA901EI3d3dnZyc9u3b12j7/v37ORxOYGCgUYKZFgyrBwCwVDp6jXK53AULFqxZsyYnJyc2Ntbb27ukpOTo0aPffvvtzJkzXV1djZ+ScWFh4lOnMlNTJWPHhjCdBQAA9En38ImVK1fW1tZ++eWXu3fvprdwOJyXX375q6++MmI2E4Kl6gEALJXuQsjhcDZu3Lhs2bJr167JZDJHR8c+ffp4enoaOZzpwAgKAABL1dxC5yKRaMyYMUaLYsowph4AwFI9LoT5+fn37t1r8Q3Dhg0zZB4T5evraGfHKyioqqioc3S0ZToOAADozeNC+Mcff8yePbvFN1jhgHpCCIvFCglxvXWrKC2ttHdva5xnDgDAUj0uhOPHj79x4wb9OCcnZ968eQMHDpwyZYqHh0dpaenvv//+66+/btmyhaGczAsNFd26VZSaikIIAGBRHhdCkUgkEonox++++25cXNwnn3yifTUmJqZ3796rVq2aNm0am22Na1ZgqXoAAIuko6SVlZWdO3du2rRpjbZPnz49LS0tJSXFKMFMDsbUAwBYJB2FUKlUEkIePnzYaHtWVhYhRKVSGT6VKUKLEADAIukohG5ubn379n399dcvXbqk3Xjr1q1XXnnFz8+vc+fORoxnQrRj6jUaa+wuBABgqXTf7fu///s/Fos1YMAADw+PHj16+Pj4dO/ePT8/f+/evRwOx8gRTYSjo62np0NNjSovr5LpLAAAoDe6B9R36NDhzp07P//8882bN3Nzc/v16xceHj59+nQXF5dWHreurm7r1q2JiYkdO3Z8++23hUJhox327duXmJhIP+bxeKtWraIfy2Syzz///P79+xEREa+//jqPx2vT5zKIsDBRYWFVaqrE19eR6SwAAKAfT5xZxt7efs6cOW0+7ty5c7Ozs998880ff/wxJibmjz/+aLTD77//XlpaGh0dTQipX+3GjBnj5+cXGxu7YcOG9PT0rVu3tjmD3oWFic+ff5iaWjpsmDUuwQEAYJGam2KtzfLz8/fs2fPw4UNPT88xY8a4u7vfunWrW7dujXYbMmTIokWL6m+5ePFiRkbGxYsXuVxut27dunbtunLlytY3Qw0NS9UDAFge3YWwX79+Eonur/uMjIwWD3rjxo2goCB6km6BQNCvX78rV640LYSnT5/Ozs4OCQmZOXMmfe306tWr/fv353K5hJDg4GCRSJSUlDR48OCn+kiGgxEUAACWR3chHDduXFVVlfZpcXHxpUuXJBLJa6+91pqDFhYWasfmE0LEYnFhYWGjfbp06SKXy52cnA4dOrRhw4bExERnZ+embywoKND5I2pra0tLSydPnlw/c2xsbGvitZmvrx0hJCWlpP7JMbKamhoej0f/rQB6UV1dzWKxmE5hUXBK9UutVisUCrVazXQQs8Tn81v8wtT98vLlyxttUalUr7zySkVFRWt+sEAgoAcj0mprawUCQaN93nnnHfrBm2++2bdv3127di1atEggEJSUlNR/o52dnc4fYWtra2dn99JLL2m39O7d+0k760vHjnwbG05ubiUhPDs7ZnrxsFgsFEL9UqvVhv7NsTY4pfqlVqu5XG7Tb1FojdZMhdba71Mul/vhhx927tx55cqVHh4eze/s4+OTnZ1NURT9V2F2dnYzbTU2m92lS5e8vDz6jRcvXqS3q1Sq/Pz8du3a6XwXi8USCAQvvPBCK/PrhY0NOzDQJSVFkplZ1rVrCyfBQNiPMPLTLRLOp97hlOoXRVE4pQb1FGfW3t5eo9Hk5+e3uGd0dLRGozl9+jQh5Pbt22lpafS6hvfv3z9x4gS9j7blV1hYePLkyV69ehFCJkyYEB8fT9+G/O2330QiUc+ePZ/yExkWbhMCAFiY1rYIy8rKPvjgAy6XGxIS0uLONjY2n3/++dSpU/v16xcfH79mzRq65+epU6e++eabUaNGEUICAgK6dOliZ2eXmJgYExNDX+T09vb+4IMPoqKievbsGR8f/9///tfU/ggKCxMTkpqWhkIIAGAhWtVrtKamprCwkMVirVixwsHBoTXHnTp16pAhQ+7cuRMWFqa9vDlz5syJEyfSjwsKCu7cuaNQKIKDg318fLRv/OCDD6ZPn56Zmdm1a1exWNzGj2UwWKoeAMDCtKrXKCHE09Nz2LBh4eHhrT+0h4dHo7uJDg4O2joqFAojIyN1vtHf39/f37/1P8iYHk29jRYhAICFaG2vUaBhTD0AgIVp4Q6cRCK5c+eOcaKYBTc3O1dXQXl5XVFRNdNZAABAD3QXQoqi1q9f7+Hh4ebmRvdtIYQsWLBgwYIFRsxmotAoBACwJLoL4aeffrps2bKYmJgPP/xQu3HYsGE//vhj/ZHy1gkjKAAALImOQqhSqdavX79q1aqvvvpq6NCh2u29evWqqKjIyckxYjxThKXqAQAsiY5CWFxcXFZWNm7cuEbbXV1dCSGlpdbeEtIuVc90EAAA0AMdhdDBwYHFYtWf85OWnJxMCHF3dzdGLhOGERQAAJZERyF0dHSMiIhYs2ZNbW2tdgp5uVz+wQcfdOrUyc/Pz7gJTU5wsCuHw8rMlCmVGqazAADAs9I9jvCLL74YPHhwly5dOnfuXFlZuXDhwqNHj+bm5h4/ftzI+UyQrS3Hz885M1OWmSmjL5MCAID50t1rtG6gFUMAACAASURBVG/fvlevXu3UqdOpU6cqKiq2b98eEBBw7ty5YcOGGTmfacJEawAAFuOJk2536dLl8OHDhJCysjKhUMjhcIyYytSFhoqOH7+P24QAABag5bUdnJ2da2pqbt++XVNTY4RAZgEjKAAALIbuQvjOO+9s3ryZfpyYmBgQENC1a1cvL6/z588bMZvpwph6AACLoaMQqtXq7du3BwUF0U/fe+89R0fHffv2DRw4cP78+RoNukr+0yLEUEIAAAug4x6hTCaTy+WhoaGEkLKysgsXLmzfvj02NrZv377+/v65ubnt27c3ek7T4u3tIBTaFBdXS6U1rq4CpuMAAEDbtXCP8OTJkyqVasSIEYQQLy8vQkhxcbExcpk2FosVEiIihKSnS5nOAgAAz0RHIRSLxSKR6MCBAxRF7dq1q1OnTr6+voSQ3Nxc8miiNcAICgAAy6C7Rbh06dJly5YJhcITJ04sWrSI3njq1CknJyfMLEN7tBgTbhMCAJg33eMI33nnnfDw8ISEhF69eo0cOZLeWFtb++GHH2JAIQ0jKAAALIPuzjJpaWlhYWEjRozQzjVKCPnXv/5lxGCmDiMoAAAsQ4NLo2q1evbs2SKRKCIiIiAgIDw8PD09nalkJi4sTMxikfT0UrWaYjoLAAC0XYNC+PXXX+/atWvQoEGffPJJXFxcenr6q6++ylQyE2dvz/P2FtbVqbOzy5nOAgAAbdfg0ujvv/8eHR195swZ+opot27d3nzzzfLycicnJ4bimbSwMHFeXmVqqiQgwJnpLAAA0EYNWoQPHz4cOXKk9r4g3U3mwYMHDOQyB1iqHgDAAjQohHK53N7eXvvUwcGB3mjsUGYCS9UDAFiAxr1Gc3NzExIS6MelpaWEkNTUVFtbW+0OvXr1Mlo4E4cx9QAAFqBxIdy0adOmTZvqb5k9e3b9pxSFTpL/wJh6AAAL0KAQrlmzpqqqiqkoZsff35nP5+blVVRVKRwcbJiOAwAAbdGgEE6bNo2pHOaIzWYFBbncvVuSni7t0cOT6TgAANAWLa9QD83ARGsAAOYOhfCZYKI1AABzh0L4TLBUPQCAuUMhfCYYQQEAYO5QCJ+JtkWIUSUAAGYKhfCZuLjw3dzsKisVBQUYdgIAYJYeD5/IysqKj49v8Q2xsbGGzGN+wsLEJSXZqaml3t5CprMAAMBTe1wIz54922gSGZ1wDbCR0FDRpUvZqamSwYP9mc4CAABP7XEhjImJGTRoEP04JSXl1VdfjY2NjYmJ8fDwkEgkv//++44dO7Zs2cJQTtOFERQAAGbtcSEUCoVC4T8X91566aV33333vffe0746YMCA8PDw999/PzY2lsttPEOpNcOYegAAs6ajs0xpaWl8fPy4ceMabR8/fnxubm5ycrJRgpkNtAgBAMyajkJIL8x77969Rtvv3r1LCGGz0dG0gaAgVx6PnZVVVlurYjoLAAA8NR1VzdXVdfDgwfPnzz9w4IBKpSKEaDSakydPTp8+vWPHjp06dTJ6SJPG47H9/Z01GiozU8Z0FgAAeGq6m3e7d+/29vaOiYnh8/menp58Pn/kyJEsFuuXX36h24tQH5aqBwAwX7q7vbRr1+7GjRvHjx+/efNmfn6+h4dHly5dxo0bV3+petAKCxMdPYr+MgAAZumJ/T+5XO64ceOadpmBprBUPQCA+XpiIayrqzty5Mjdu3flcvnatWsJIdevX3d0dOzQoYMR45kHjKAAADBfugthdnb2iBEjUlNTnZycHBwc6EJ44MCBc+fOXbt2zbgJzQBGUAAAmC/dnWXmzJnDZrPv3r3766+/ajfGxsbGx8eXlZUZK5vZ8PR0cHbmS6U1Eomc6SwAAPB0dBTCysrKP//8c9OmTZ06darfRzQoKIiiqJycHCPGMxshIa4EjUIAADOkuxBqNJr27ds32l5XV0cIoUcWQiO4TQgAYKZ0FEI3NzehUPjXX3812v7HH3/weLzg4GCjBDMz9G3CtDS0CAEAzIyOzjI8Hu/ll19eunQpXREJIUql8tdff33nnXdeeukl7cTcUB/G1AMAmCndvUbXrVuXkZExceJEeqEJoVBYV1cXERGxefNm48YzG486juLSKACAmdFdCO3s7H7//fdTp06dPHmyoKBAJBINHDhw0qRJHA7HyPnMRUiIiM1mZWTIVCoNl4t5yQEAzMYTB9SzWKwRI0aMGDHCmGnMl0DAbdfOMTu7PCurLDjYlek4AADQWmi76A2G1QMAmKPHLcI9e/a89dZbLb6huLjYkHnMWFiY+NSpzNRUydixIUxnAQCA1npcCIOCgmbOnMlgFHOHFiEAgDl6XAj79OnTp08fBqOYO3oEBYYSAgCYF9wj1BuMoAAAMEdP7DWqUCiuXbuWkZFRVFRUf/vixYsNn8os+fo62tnxCgqqysvrnJywgjEAgHnQXQhTUlJGjx6dlZXV9CUUwidhsVghIa63bhWlp5f27u3NdBwAAGgV3ZdG586da2dnl5CQMGPGjCVLlmRlZX311Vd+fn5nz541cj7zgonWAADMjo4WoUqlunbt2oEDB3r27ElPsebn5/fGG2+IRKLp06dnZ2djfpknCQ3FbUIAADOjo0UokUgUCkVoaCghxN7evqKigt4+ZsyY/Pz8lJQUowY0KxhBAQBgdnQUQrFYzOFwSkpKCCG+vr4JCQn09ry8PKNGM0NYlRAAwOzoKIRcLrdPnz4XLlwghEyZMuXGjRuvvvrql19++cILL/j4+ISEYNqUJ9KuSqjRUExnAQCAVtHdWeaTTz6hV6gPDg7evHnzsWPHFi5cWFNTs2fPHhsbG+MmNCeOjraeng41Narc3AqmswAAQKvoHj4xdOhQ7eMFCxYsWLCgurra3t7eWKnMWFiYqLCwKi2ttH17J6azAABAy1o7swyqYCthBAUAgHnR3SKMjY319PTcunVr/Y2ffvrpiRMnzp8/38pDX7t27dixY66uri+//LKra+Ml+mQy2fHjx1NSUkQiUWxsrLf3PyPQ9+3bV1ZWRj/28vIaN27cU3waE4CJ1gAAzIuOFqFKpfrtt9/Gjh3baPv48eMvXLjQaMa1J/ntt9/GjBnD5/OvX78eGRkpl8sb7TBt2rT9+/fzeLykpKQOHTrcvn2b3r5ixYpjx44lJCQkJCSkpaU9/Sdi2KOhhGgRAgCYBx0twpKSEoVC4e/v32i7n58fISQ3N9fDw6PF465evXrt2rVz5syhKCoiImLv3r2vvvpq/R3279/v4OBAP5bL5f/973+/+OIL+un7778fFRX19J/FJGAEBQCAedHRInRwcGCxWE0nGs3MzCStu1lYXV19/fr10aNHE0JYLNaoUaPOnDnT9KfUf8rn87WPjx8//tVXX125cqVVn8DEBAQ429hwcnIq5HIl01kAAKBlOlqEQqGwd+/eH3300cCBA+3s7OiNSqVy+fLlPj4+9IwzzcvPzyeEuLu70089PDwuXbr0pJ0vXrz4xx9/JCUl0U87duwok8mkUunKlSsnTpz4zTff6HyXQqGQyWRz5szRbhk/fvyIESNazGYEAQHOqamld+8WdOnirveD19bWqtVqeuo70Iva2loej8d0CouCU6pfarVaoVCwWCymg5glHo/X4rSgur9P169fP3z48JCQkBdffNHX17egoODQoUMZGRl79+5ls1vuaEr/VI1GQz9Vq9VP+r/izp07L7zwwq5du7RXYg8cOEA/WLJkSYcOHebNm9ezZ0+dP8LGxqZXr17aLV5eXiYyCWpoqGtqamlGRnn37l56PzjnEb0f2WrhfOodTqne4ZS2WWv+gNBdCAcNGnTmzJklS5Zs2bJFrVazWKxevXodO3aMvtrZIi8vLxaLlZ+fHxAQQAjJz8/38tJRElJTU0eNGrVp06ZJkyY1fbV9+/aBgYHp6elPKoT29vavv/56a/IYWceO7keOpN+/LzPEH8UqlYrH46FFqEc8Hg/NF/3CKdUvNptNURROqeE8sXkXHR196dKlioqKBw8eVFZWxsfHt7IKEkIEAsGQIUMOHjxICFEqlUeOHKH7oNbW1l69elWtVhNC7t+/P2zYsI8++mjq1KnaNyqVSor6Z3KyjIyMjIyMDh06tPmzMUU70RrTQQAAoGUtNCzs7Oz8/f3r6uqe9rgrVqwYP358ampqSkqKs7PzhAkTCCEPHjyIjIyUyWTOzs6vvfaaXC7ft2/fvn37CCGRkZErV668devWjBkz+vXrR1HU0aNH33jjjW7durXtgzEIY+oBAMwIS9sCI4Tcvn07NTV18uTJ2huBFy9efPPNN+/evWtraztjxozNmzfX797ZvJycnD///NPV1XXUqFH0DKVyufz69evR0dFcLvf69evaBZ4IIW5ubt26dVOr1fHx8ampqVwut0ePHp06dWrm4FFRUdnZ2W350AYmkcjd3NY7OdmWlS3R+8FrampwaVS/KisrhUIh0yksCk6pftGdZQQCAdNBLFaDQjhu3Ljy8nJ63QlCSHZ2dteuXevq6kaNGlVYWHj16tWFCxdu2bKFoagNmHIhJISIROuk0prCwnc9PPQ8NR0Kod7hW1vvcEr1C4XQ0BrcI7x8+XJsbKz26Y4dO8rLyw8fPnzo0KErV67ExcXt3LlTpVIZPaT5wVL1AADm4nEhlMvlMpmsfueUEydOhISEaAfnzZ8/v7q6mh4jCM3DUvUAAObicSHUDvujyeXypKSk6Oho7RZ6ZrXi4mKjhTNfmGgNAMBcPC6EDg4Obm5uFy9epJ/++eefSqVy8ODB2h0ePnxICHFzczNyRHOEFiEAgLlo0Odi0qRJ69at43K5vr6+q1evdnR0rL8GxfXr1x0cHLTrJUEz6BYhhhICAJi+BoXws88+u3v37kcffUQIsbOz27Fjh3YdQYqitm/fPmTIEMxu0BrBwa4cDiszU6ZQqG1sMDESAIDpalAIXVxcLl68mJiYWFlZGR4eLhaLtS/V1tZ++eWX9JRp0CJbW46fn3NmpuzBgzL6MikAAJimxsPR6GlFm+4nEAiGDRtmlEgWIixMlJkpS02VoBACAJiyFpaSKCwsDA8PT0lJMU4aS4KJ1gAAzEILhVChUNy9e7empsY4aSwJxtQDAJiFlhcXhLbBCAoAALOAQmgoGFMPAGAWWiiELi4ua9eu9fHxMU4aS+Lt7SAU2pSUyKVSXFgGADBdLRRCoVD4/vvvu7u7GyeNJWGxWCEhWKEXAMDUPcWl0cLCwtOnTxsuiuXBUvUAAKbvKQrhmTNnhg8fbrgolgcjKAAATB86yxjQo46j6C8DAGC6Gswss2zZstLSJzZf7t+/b/g8FuXRUEK0CAEATFeDQvjTTz/Ray2BXoSFiVkskp5eqlZTHA6L6TgAAKBDg0uj3t7eEyZMoJ7gf//7H1MpzZS9Pc/bW1hXp87OLmc6CwAA6NagEPbu3TshIYGpKBYJw+oBAExcg0I4YMAAGxsbmUymc9fg4OC5c+caJZXlwERrAAAmrsE9wtjY2NjY2Cft2rdv3759+xo+kkXBUvUAACYOwycMCyMoAABMHAqhYWFMPQCAiWttIVSpVL17954yZUpiYqJBA1kYPz8nPp+bl1dRVaVgOgsAAOjwFC1CmUx29uzZ3r17v/LKK4YLZGHYbFZwsCtFkfR0KdNZAABAh9YWQi6Xm5GRIZFIEhISBg4caNBMFgZL1QMAmDJuy7vUw2aze/To0aNHDwOlsUgYQQEAYMqaaxFWVFRIpbig96wwph4AwJQ1LoQFBQXvvvtup06d7O3tnZycRCKRQCAICgqaN29eamoqIxHNHVqEAACmrMGl0Zs3bw4fPlwqlfbp02fq1Kmurq5cLre0tDQ1NXXnzp27d+8+ePDg6NGjmcpqprQtQoqiWCxMvQ0AYFoaFML58+f7+/vHx8cHBAQ02k8ikbzyyiuzZ8/Oycnhcp/uzqKVc3Hhu7nZlZTICwqqvL2FTMcBAIAGHl8ara6uvn79+meffda0ChJCxGLx1q1bCwsLk5OTjRjPQmBYPQCAyWp8j1Cj0Txp12ZeguZhojUAAJP1uBDa29v369dv8eLFOleiLyoqWrBggbe3d8eOHY0Yz0JgqXoAAJPV4G7fN998M2zYsNDQ0B49eoSHh7u6unI4nNLS0vT09KtXr9rY2Bw6dAg3CNsAIygAAExWg6rWrVu327dvf/HFF8eOHTt06FBlZSUhhM1mBwQEzJs37+233w4JCWEop3nDCAoAAJPFoijqSa/J5fLa2lp7e3tbW1tjZmqNnJycqKio7OxspoO0ilKpsbdfrVZT1dXL+PxnalLX1NTweDy0y/WosrJSKERvXn3CKdUvtVqtUCgEAgHTQSxWczPL2NnZubq6mmAVNDs8Htvf31mjoTIyZExnAQCABrAeoZFgqXoAANOEQmgkGEEBAGCaUAiNBGPqAQBMEwqhkTg51RBy7cSJb3bu3FVdXc10HAAA+AcKoTGsW/fFG2+8RohtYaH4jTf2h4b2vHbtGtOhAACAkKddmBfaICkpae3aHVLpi/SfHXV1Qfn5HaZMefnBgzs8Ho/pdAAA1g4tQoP77rvdUmm3hqfaqabG6+rVq4xlAgCAR1AIDS4np4AQx0Yby8psNm489ccfGdXVSkZSAQAADZdGDa5jx6CjR9MoyrP+Ro2m5PDhwsOHf7Sx4fTr5zNkSMDQoYH9+vnY2HCYygkAYJ2am2LNlJnRFGsPHjzo23ekRDKZEO0MSXnt2v01e/aWv/7KO38+S6n8Z30rOzte//6+UVG+0dHtBw3y5/F0tNcxxZreYT4wvcMp1S9MsWZo+D41uICAgF27vpg79225vH1VlcDZWerlpTpy5Ki/vz8hpKpKcfVq7unTmadPZyYmFtAPCCEODjYREe2GDQscNiywZ09PFovF8McAALBQaBEaSXV19eXLl/Pz8zt27Ni3b1+dha2kRH7uXNalS9mXL2cnJBRot7u72w8a5DdsWGBUVPvAQAe0CPULzRe9wynVL7QIDQ2F0EQVFFRdupR9+nTmiRP3s7PLtds9Pe2jo9sPHx40alRw+/ZODCa0GPjW1jucUv1CITQ0FEIzkJkpoy+ZnjnzoLS0Rrs9MNCFvnY6ZEiASIT/SdoI39p6h1OqXyiEhoZCaGbu3Su4cCH3zJmsU6cyy8pq6Y1sNqtDB3F0dPthwwJHjAhycsLKWU8B39p6h1OqXyiEhoZCaGa0vUbVaiopqZBuKV66lF1bq6J34HBY3bt70i3F6Oj29dcBpihq167dX3yxXSYrc3d3W778nUmTJjD0OUwIvrX1DqdUv1AIDQ2F0MzoHD5RU6NKSMi/fDnn9OnMCxceKhRqertAwO3Z04tuKQ4a5D9lytTz54sqKvoRYkdIhbPzpalT+3/99edMfA4Tgm9tvcMp1S8UQkNDITQzLY4jrK5WXrmSQ7cUb94s1Gj++e8rEBSoVNeUyon19qXE4gNXrhwKDg42cGqThm9tvcMp1S8UQkNDL3xLY2/Po6+LEkJKSuRnzz44c+bBmTMP0tMvEBLacF+WVOq/du3/5syZExTkIhbbMRIYAIBZaBGamTbPLBMX9+8dO4qa1MJEQtSE9CGEODnZBga6BAW5BgX98+/AQBdfXycOx8LH8qP5onc4pfqFFqGhoUVoLcaOHbhv3+aKigaFUCDI6d//BZnMNSNDWl5ed/Nm4c2bhfV3sLHh+Ps706UxMNBFWyPr98EBADBr+DqzFuPGjWvf/tPU1DtKZWdCWIRobG0T+/b1OH16Cb2DTFabmSlr9E9WVllaWmlaWmmjo7m48AMDXZr+08ow9+7dW7dua0pKemCg/6JF8/r06aPPjwoA8DRwadTMPMuk2+Xl5YsWLT127CSLZcdi1UyfHrtq1YfNX29RKNS5uRWNqmNyskQu17F6FJ/PDQx06dzZrX5p9PNzbnRxdfPmrz/55CuJpDchYkJkIlHCnDkTP/vs4zZ8Ir3AdTy9wynVL1waNTQUQjOjl9UnKioqHB0bL5H4VOjm4927xffuldDV8f59aXl5XdM9eTy2r6+Tti66uCgXL44rK5tKiHbBKUokOnDu3M/h4eHPEqnN8K2tdzil+oVCaGgohGbGlJdhKimRZ2RIMzJk9f9dWFjVcK8kQmoIiay/icW6M3as++zZC8ViOzc3Ozc3e2POGIdvbb3DKdUvFEJDM8XvUzBTbm52bm52ERHt6m+Uy5X1S+PZsxkpKY3fSFH8o0dvHz26V7uFy2W7udmJxXbu7vYeHg7aAunhYS8W27m52bu727u48J8x8MGDvy5fvlomK+fzbadNi/nww8V8/rMeEwDMDgohGJadHa9LF/cuXdzpp3/+yY+JWVlW1mAfHq8wKqqPs3OHkpJqiUReXFwtk9UWFFQVFFTpOOLjd7Hd3OzFYjsPD3t3938KpIeHPb3Rzc3Ow8OhmWlX33vvgx07TpeVDSbEnhD155/fOHZs8I0bF02ztQ0AhoP/58GonnvuOS+v98vLMykq8NG2XC+vvN9//63RlR+ZrDY/v1Imq5HJagsKKvPzK2WyWpmspqCgit5eVFSdn1+Zn1/Z/E90ceF7eQldXPguLgJvb6GXl4OLi8DeXrljx76ysumE0B15ODU1vTMyLuzZs2/GjGkG+NwAYLpQCMGoOBzOmTPHZsyI+/vvBI3GjcOR+fs779lzrOn9DxcXfvMXP+vq1BKJXCKRFxZW0U3JkhJ5YWGVRCIvKakuKZEXFVVVVipkslqZrLbJu1MJ8XlUBf9RVRW4dOnOy5edRCKBSGRX/99isd2zX4l9EqVS+csvv1y7luTt7T5hwvNhYWEG+kEAoBM6y5gZU+4s81QkEkl6enpAQICnp6fhfkptrYoukEVFVSUlcvq6a1FR1Z07FxMTb6rVAxvunk9IAiHjdB6Kw2HRddHVtUGBFIvtGhVOLpfd+oSpqamjRk0pLvaWy91ZrBqRKGXWrEnr13/yDB+67e7fv5+UlOTo6NinTx8Xl9aOCm0KnWX0C51lDM2AhTAhISExMbFjx47R0dE6d8jPzz916pSDg8OYMWPq/zc+c+ZMZmZm3759u3bt+qSDoxAyHcS85eXl9egxvKTkxfob+fzLr7wysFu3UaWl8tLSmvr/lkjk2tUfW+TkZCsW2zVqU9L/dnN7vF0g4BJCwsJ6pKX1J8T90bspF5eje/asGTFihD4/cEvkcvlLL7169WpKdbUPj6fk8x8uX/7Om2/Oa9vRnqUQVlRUrF69/uzZy7a2ts8/P2zRooU2NjZtO9QzKikpSUxMpCiqR48eHh4ejGSgqdXquro6OzvMBmwohiqEmzZt2rRp08SJE0+cODFlypS1a9c22iEpKWnIkCETJ07MyckpLS29fPkyXQvnz59//vz5oUOHHjhwYNWqVXPmzNF5fBRCpoOYvbi4hXv33qqsHECIDSEUj3c3IOD+7dvXnvS1q1JppNKaRgWypKS60RaptEal0rQmgJ0dz9GxSiI5olLFNHwlv2PHB7Nnr3B0tKV3s7XlsljE2ZlPCOHzuQIBjxDi7MxnsYitLdfOjkcIcXKyZbPbPitsTMzMI0eqFYpu2o/r4vLbnj3r21aP21wI09PTBw9+vqQkXKEIIERtZ5fu45N77drZZ2mets3SpSt27txTV+dLUSxb25ypU8d98cVaFsvY8+7ev38/Lu5fycnpFEXc3Fy2bPl0yJAhRs5ACJHJZO+888GpU2fVao2Xl/sXX6wZMGCA8WPU1NR89NHqX345XFencHcXr1u3Yvjw4Xo5skEKYXV1tY+Pz+nTp3v37p2dnR0WFpaRkeHt7V1/n5iYmI4dO65atUqj0fTv3z8uLu611167f/9+t27dHjx44O7ufvbs2WnTpj18+FDnFxMKIdNBzJ5Go9m+fce6dVvk8jobG87o0cM3bPjEycnp2Y9cVlYrkTRuU9YvnFJpTWmpvKZGRUg2IfcIGdXwANWE/ErI9Db8aB6P7eBgQwgRCm25XDaXyxYKbQgh9vY2NjYcNptFd6OliyshhL7xyeGoN2+eX109q+HBJJ063V6x4mtCiFBoU/96r5MTv37RrX/3lMViOTvzq6qqHBwcCCEcDosu560UGTn06tUQQry0W7jcezNninbu/Lr1B3l2mzd/9Z///FxRMZQQ+lNTDg7nFi8evXz5YmPGSE9PHzBgTFHRYEJ8CCGElLu4nNy+/eMXXphizBgymaxHj6i8vK4qVQdCWITIXFxOb9y4+NVXZxozRl1dXY8eUQ8etKut7UoIh5ByF5ezS5a8/P77i5794AYphH/88ce8efOysrLop5GRkfPmzZs1a5Z2B4qi7Ozsrly50r17d0LIZ599dv369YMHD27ZsuXo0aMnT56k93Fzczty5EhkZGTTH4FCyHQQy/Hs8+y0jVyu/Pvv9LFjp0qlkxu+8rBDh8Lnn19UUVFHCKmuVigUao2GoifuqalR1taqCCF0D6DaWlVNjZIQUl5ep1178ulJCTlDSKOGKUXIDkLi2npMHbR1mmZjw7G3f/zU1padnr5WpWp0EUjD538fHf34pqnOtq9AwGs6Eby28Dfi4GDD43Eabayf7YMPpkkkMYTU/xNc5er60/btR5ocR/f9YO2fGk3Z2nLoRnxTXC5bKHwceNq0mSdOCAnxq7dLbbt2v+bkJOt8u4G8++6yzZvTVKou9bYpPD335uamcjiNT6PhfPXV9vfeO1xTE1Fvm9rN7afMzCT6r65nYZDv0/z8fB8fH+1THx+fvLy8+jtIpdLa2lrtPt7e3vn5+Y3eyGKxvLy8Gr1RS6VSVVVVrVmzRrtl6NChPXv21O8HMUFKpZIQYqZdnEyTSqWiz6qR8XikV6+QoCCXsrJMjUY7mETp6nr1++93te2XWaFQV1crCSGVlQq1WqNUaqqqFISQqiqFUqlWq6nKSgUhRC5X1tWpKIrQNz7L2kQV8wAAGKhJREFUymRffXVcLm90sCpnZ+ehQzs8OtrjX7ny8tr6Rbd+p1yNhqqoqKMoir6KqFZTdDn/57MpNU168FbXj19v4j0tdm2t6vTpzKc8E8+oqmEVJIRwpdK6F17Y16insYH91eQPEX5urpLFWkKIMTvO7CUktuEWm8JCe1fXxRyOm9FCVFXtUSr7N9zGUanaX7t2beDAgbrfQ+/E4bDZLfRfM0ghVKvV9S+ms9lstVrdaAdCiHYfDoejUqla80YtiqLUarVUKtVukUgkT9rZkqjVajabbfx7FRZMrVYz+Jtz4MAPkyfPePAgpazMXSBQ2Nllrly5pFu3bm2LxOEQR0ceIf/8u/XOnt2UkJBDUb7aLULhjVWrFsyZM6ENMZ50j1Cp1NB1mlZXp6o/e3ttrWrEiD0SiZKQ+uFlwcE+mzc/7tZUXl7X9O9AbUO5Po2GqqhQNI1B/1nQaKNCoZbL/znCzz9z5XLNo+uiNIrPJ2PGdGh4HOWT7gfTf2rofEmh0Oics54QolSq6T9caBUVLE2Tw7NYGooy8v/+lM7yX1FRS0hre5Dpg7rhfxFCCKEolkKhaP5/lharIDFQIfTy8iouLtY+LSoqanTLXSwW83i84uJisVhM70DfQfTy8kpOTq7/xkZ3FrV4PJ6Tk9OGDRsMkd+UURSFS6P6pVQqGZxZzdfXNz7+fEJCwu3bt8VicXR0tLOzs/FjHDjww5AhzxcWZldX+xBSJxKlDRnS+Y035rXmS6SpJ51SPp8034fmww/f+fDD3RUVwx7VQrmr6+lvvtkyZEiH5t6mbxzOme+/v12v6xDhcu9NmTLqxx9fMmaMl15K2bcvg6KC622rCghwyMj41JgxFi6s2LYtQ63uXG+byt29+s6dz4z5RfTFF7affXZZoRDX20ZxuTkRERF6+P+XMoDS0lKBQJCenk5RlFQq1T6Wy+WlpaX0PsOHD9+4caP28eeff05RVGJioqOjY1VVFUVRN2/edHJyoh83lZ2d7evra4jwJk4ulyuVSqZTWJSKigqmI5gEpVL5ww8/zp79xvvvL79y5cqzHOpZTumWLV97eAS6u/fz8OjTrl3YoUO/PUuStqmsrOzTZ5CT00BCXibkFUfH57p1iywrKzNyjJycHG/vEA5nOiErCFlByOsiUegff5wycozi4mIfn1A2e+ajGO86O3ffsmWbkWNUVlb6+XXkcKY9irHU0bH/okVL9HJwgxRCiqLeeeed8PDwDRs2RERETJ8+nd749ddfd+vWjX585swZJyenlStXvvbaa+3bt5dKpfT2cePGDRo0aMOGDaGhoStXrnzS8VEIQV9QCPXuGU+pSqVKS0t78OCBnuK00eHDh+fOfWvOnIW//HJAo9EwkqGoqOill1718Qnz9g4dMGDU33//zUiM/Pz8iROnenmFuruHdOjQ6+jRY4zEKCkpeeGFVzw9Q9zdw/z9w7/7bqe+/rsYahwhRVEHDx5MTEzs1KnTSy+9RHcuSk1NTU1NHT9+PL1PUlLS4cOHhULhjBkz3N3/GVCsUCh++umn9PT0iIiIceN0z/FBrLjX6PXr193c3AICApgOYjl+/fXXsWPH8nhPd1MNnkStVh8+fHjy5Mkt7wqtk5OTk5ubq7P/vHVSqVT6vSqLKdbMzNy5c7t37/7GG28wHcRyBAcHHz9+PCQkhOkgFiI7OzsqKionJ4fpIJbjv//978WLF7///numg1isttwJB2aZ6d8uANA2+F/e0FAIAQDAqqEQAgCAVTPXe4QZGRldunSJiopiOoixJScnC4XCdu3aMR3Ecvz11189evTAGjf6UldXFx8f/6Q1Z6AN8vPzy8rKOnXqxHQQszRp0qQWO1WYayHUaDT/93//5+vr2/KulqWkpEQgEDz73HqglZWV5efnh8l69IWiqIcPH/r7+zMdxHJUV1dXVVUxuxSU+QoICAgKCmp+H3MthAAAAHqBe4QAAGDVUAgBAMCqoRACAIBVQyEEAACrhtV8TFdqaurNmzd5PN6AAQO0c7HWd+XKlerqf9Y1dXFx6dWrl3EDmpm0tLT6c/INGTKk6RpDKpXq1KlTxcXFQ4YMscI+yU9FrVafPXu2/pam3fNycnJSU1O1TyMjI+3t7Y2Uz6xkZGQ8ePCgb9++jo6O2o1lZWUnTpzgcDijRo3Sub6jWq3+888/8/PzBw0ahPmHnwV6jZqo9evXb9myJSoqqra29ty5cwcOHBg6dGijfTp27CgUCp2cnAgh3bp1s8LVGZ/KokWLDh8+rP2m/v333xtNtK1Wq0eOHFlVVRUeHn7o0KFDhw41v/K1laurq3v++ee1T8+dO7d169b58+fX3+fLL79cvXp1eHg4/XTHjh1+fn5GTWnyFAqFp6cni8UqKyu7du1a79696e25ubkRERGRkZEKheLOnTtXr151c2uwHDxFURMmTMjNze3Vq9ehQ4d+/PHHUaNGMfEJLIJe1rAAvcvKylIoFPTjjz/+ODo6uuk+HTp0uHz5snFzmbG33377P//5TzM7HDlyJCgoqLa2lqKoLVu2DBw40FjRzN7ff//N5/O1i6lpbd26ddq0aYxEMhdqtTozM5OiKAcHh/j4eO32f//73zNnzqQfT5o0acWKFY3eeO7cOW9vb3rF1p07d/bs2dNYkS0Q7hGaKD8/P217xcvLS6FQ6Nzt9u3bp06dKigoMGI0M5afn3/8+PHk5GSdrx49evT555+3tbUlhMTExFy4cKGiosK4Ac3Vd999N3nyZBcXl6YvyWSy48eP37x5U6PRGD+Y6WOz2Tqvah45ciQmJoZ+PGXKlKNHjzba4ejRo6NGjaIvNU+ZMiUxMTEvL8/QaS0VCqGpq66u3rRp05w5c5q+5OjoePDgwXXr1oWEhKxfv9742cwLh8O5d+/etm3bBg4cOH78+KZ/W+Tl5fn4+NCPPT09uVwuvllaQ6FQ/Pzzz7Nnz276EovFKioq2rZt28SJEyMjI6VSqfHjman8/Hztb6OPj0/TX8W8vDztVIuOjo5CoRC/rm2GzjImTaFQvPTSS927d9dZCP/66y96xeMbN25ER0ePHz8+LCzM6BnNxtq1a+nTVVFR0bdv32+//fbNN9+sv4Nara7ffYbFYqlUKmOnNEOHDh1ycHAYPHhw05fmz5+/YMECQohCoRg9evTKlSu/+OILowc0S2q1WjvtH4fDafqrWH8HQgiXy8Wva5uhRWi6VCrVtGnTOBzO7t27dc6ESX+tE0J69+4dGBh469Yt4wY0M9rT5ejoOGbMmJs3bzbawcvLq7i4mH4sk8mUSqW3t7dRI5qnnTt3vvrqq0274JJ659zGxmbKlClJSUnGjWbGPD09S0pK6MdFRUVNfxXr/7rW1taWlZXh17XNUAhNlFqtnjVrVlVV1d69e+t3bqyurtYOmdCSSCQ5OTnt27c3bkZzRVHUzZs3taertLRUrVYTQp577rlTp05RFEUIOXnyZNeuXUUiEZNBzUFubu7Zs2dfeeUV7Ra1Wl1aWtp0z4SEBIxIab3BgwefPHmSfnzy5MnnnnuOfiyVSumW33PPPffnn3/Sv7qnTp0KCAjAN0CbYfiEiVqzZs1//vOf6dOn8/l8QoiDg8PGjRsJIbNmzbK1tf3mm28SEhJWrFjRr18/iqJ++OGHTp06HTp0CEsoNGPo0KGRkZFCofDMmTPJyck3btxwd3evqamxs7O7efNm9+7da2tru3fv3rNnz549e9LDV1588UWmU5u6jz/++MqVKydOnNBuuXHjRp8+fRQKBY/HmzZtmo+Pj7u7e3x8/MmTJy9fvty5c2cG05qm5cuXl5SU7Nq16/nnn3dzc/vss89cXFzu3LkTHR29cOFChULx3XffxcfH0yN/uFzuuXPnoqOjVSpVnz59AgMDo6KiNm7cuGrVKp23aaE1OCtWrGA6A+jA5XL79OnTvn17b29vb2/vdu3adevWjRDi4uLSvXv39u3bOzk5cTgc+trIrFmz/vOf/6AKNs/Dw6O4uFgul0dFRW3bto3u4shms9u1axcZGSkQCLhc7vTp00tKSmQy2bJly8aMGcN0ZDNQUVERGxtbf4UgGxubkJCQ/2/v3oOauNYAgB/yAOQRYCE0IVR5phNACliL4CiVAbRpawWr0cZSpUMLtbVlitPqtI7KoNZRitOOPCrig+kUKA5gUSxKAacFQXAoIm9oCY+4gEB4BAlk7x9nundveMilPu6F7/fX7nfO2XM2Gfiy2bM5L730kp6eno2NDX493d3dk5KSYG2maZEkaWlpKZVKnZycbGxsPDw89PX1ra2tg4OD6+rqDA0Nv/vuOwcHB1xZJBL5+PiYmJiwWKy33357YGCgp6fns88+CwkJebZn8X8NrggBAAAsanCPEAAAwKIGiRAAAMCiBokQAADAogaJEAAAwKIGiRAAAMCiBokQAADAogaJEIAnQqVSnT9/XqFQPM1OS0pKpi5TMHfnzp0rLy9/jONhKioqqqmpeYwHrKys/O233x7jAcGiBYkQLECZmZkODg70L1tev3790qVLT7TH33//PS0tjRnp7u7euXNnVVXVE+1Xx+nTp7/66qt5N4+KisrOzn6M46E1NDSsX79+6q9CHzp0yNHRcerPesTHxzs6OiqVSmZwfHzc0dHxwIEDeHdwcDAwMPApf9QACxIkQrAAqVSqtra2sbExvJucnBwbG/tEe8zIyNi7dy8zwufzY2JiJBLJE+1Xh0wmw6s9/K/Zt2/fhg0bPD09mUGNRnP69Omurq6EhASNRsMs6u/vb21t1UmcFEW1trb29vbiXX9/f09Pz5iYmCc9eLDgQSIEi5parVYqlTOte4wQGhkZuX//Pr07OTlJkiT+pePZEQTx5ZdfisViZlCr1SqVyqGhoZlaabXanp6eadewnZiYuH///ujo6CydBgcHT7ti1+jo6ODg4LRNRkdHmSc41fDwsFKpnMspz0ShUOTm5u7atUsn/vPPP5MkeeLECZIk8/Ly5nHkXbt2paWlwTKH4B+CRAgWuDfffDMnJ6e6upogCIIg1qxZg+Pt7e2bNm0yMzMTCoXm5uYffvghfQV5/fp1giCuXr0aGBhoamrq4uKCECopKVm9erWhoeFzzz1nbGy8bt26hoYGXD8iIiIxMZEkSdyFs7MzQqilpUUoFF67do0eSXx8vFAoFAqFPB7P29u7oqKCLpLJZK+99lpGRoatra21tTWPx4uOjqZLSZIMCQkxNDQUCATGxsYODg4lJSXTnmxkZGRQUBDevnv3LkEQWVlZMpmMx+OZm5u7urpWVlbSldVq9bvvvmtmZiYQCBwcHG7cuKFztLKyMl9fXx6PJxQKra2tT5w4geM1NTUCgWD//v10zYyMDIIgfvzxx2lHdfHiRS6X++qrr+rEU1NTxWLx7t273dzcUlNTp207u5CQkLGxsZ9++mkebQH4NwqABefMmTMIodLSUoqiKisr165d6+zsXFBQUFBQgIO9vb1Lly51cXHJzs6ura09e/asubl5aGgobn7lyhWEkEAg2Lt3b3FxcV5eHkVR6enphw8fLikpqaury87OlkgkDg4O4+PjFEXV1NQEBwcTBIG7KCoqoiiqvr4eIZSdnY2PiRekDQ8Pr6yszM/Pd3FxMTU1bWlpwaVSqdTKysrNze3SpUvl5eWRkZEIocuXL+PSLVu2LFu2LC8vr6WlpaKi4tSpU8XFxdOeuEwm8/DwwNv4FqlQKIyKiiotLc3NzV26dKm7u7tWq8UVQkND9fX14+Pja2trL1y4IBKJDAwM9u3bh0vv3LmzZMmSoKCgwsLCmpqamJgYNpt96tQpXBoXF6enp5eTk0NRVHNzs5mZ2datW2d6OwICAnx9fXWCSqWSy+UePXqUoqijR49yOJyuri66FN8IVCgUzCb4k0pkZCQzKBaLt23bNlPXAMwFJEKwADETIUVRW7Zs8fLyYlY4cODAkiVL2tvb6UhSUhKLxcL/i3EijIiImKULfGlFJ6RPPvlEIBAwKzAT4eTkJJ/Pf+WVV+jS1tZWDoeze/duvCuVSrlcLp0XJyYmbG1tw8LC8K6dnV1UVNRcTnxqItyxYwddiq+6mpubKYpqb29nsVj79++nS7///nuEEJ0IpVKpWCweGxujK4SHh9va2uJtrVa7adMmgiCam5tXrVrl5OQ0ODg406isra137typE/z6669ZLBZ+Czo6Oths9vHjx+nSuSfCjRs3SiSSR74yAMyC89QvQQF49q5du2Zvb9/Q0EB/vcnhcLRa7b1794RCIY5s3LhRp1VbW1tWVpZCoRgbG8PzOJqbm9euXfvI7jo6Onp6epirG9rb23t7ezO/4RSLxfRSO2w2+4UXXqDnQ3p5eaWkpHC5XJzRp10LfibMLyTxWoAKhcLR0bG6ulqr1W7evJku3bx5c3h4ON6emJgoLCxcv379zZs36QoEQXR0dPT391tYWOjp6aWkpHh6enp5eT18+LC0tJTH4007AK1W29fXRxCETvzcuXP+/v54qV6RSOTv75+SkhIdHf3friZmaWkJD1GAfwgSIViMSJLs7OzcunUrM2hhYUHPSEQICQQCZmlCQsLHH3/s4eGxYsUKCwsLPHlkphkoOtrb2xFCdIrFRCJRa2srvauTKgwMDEZGRvB2YmLi559/npiYePz4cT6fHxoaevjwYSMjo7l0jZddxPT19RFCDx8+RAh1dnbqnKOFhQVeBRqf19jY2C+//KJzM9LCwoIkSXxMgiB27Nhx5MiRbdu26UwHZWKxWGw2W2euTWlpaV1d3fLly5OTk+nTLygoKCsr8/HxQQjhdKgzlRTPadL5HKDRaLhc7lxeCgBmAokQLEY8Hu/5558vLi6epY7OpcnBgwflcvn58+fxbnt7Oz155JGMjY0RQj09PcwgSZLm5uZzac7n88+ePZuUlFRRUZGVlfXNN99MTEzgm47zZm1tjRDq7e21sbHBkeHhYXq6kImJCZvNjoiIiIuLm+kIt2/fPnny5PLlyzMyMt57772AgIBZ+mJ+wkAIpaamstlsfEuVDrLZ7NTUVJwIca7t7u62t7enK3R3d6Mpnxj6+vqYywIDMA8waxQsfCYmJmq1mhnx8/OrqKj4888/53iEkZERkiRXrFhBR/B9xFm6YHJxceHxeMwnBEiSvHXr1qpVq+Y4AIQQl8v19fU9efKkv79/WVnZ3BtOy83NDSGUn59PR65evUpvGxgYeHt7X758mU6NOoaHh+Vyubu7e3l5eWBgoFwux1lqWitXrmT+poxarc7MzNy+ffuD//TOO++kp6fj50NefvllNOVFxrve3t7M4B9//IErAzBvkAjBwufq6trU1HThwoWKiop79+4hhKKjo42MjN54440bN24MDQ2RJPnrr7+GhYXN9EChsbGxs7NzSkpKY2Pj6OhoZmamzhP6rq6ug4OD33777a1bt6qrq3WaGxgY7NmzJzc399ixY319ffX19TKZbGJi4tNPP53L+MPCwgoLC/v6+sbHx4uLi6uqqpgpeX6cnZ2lUumRI0dycnJGR0dLSkq++OIL5neMsbGxbW1tISEhVVVVarW6o6MjOzubfqjjgw8+IEkyPT3d0NDw4sWLHA5HLpfP9KxhQEBAbW0t/TVyRkbGwMCAXC7XqSaXy1UqVVZWFkLIx8fHz88vLi4uPj6+qamptbU1OTn54MGDL7744oYNG+gmf/31V2dn5ywXowDMybOerQPA46cza3RoaGj79u18Ph8h5O7ujoN3795dvXo1/Yegr68fFBSk0Wiov2eN3rlzh3nMmzdvikQiXFkgEOA6cXFxuFSj0bz//vv4lpuVlRU15fEJjUYTFRVFZxobGxv66QiKoqRS6Zo1a5jdSaVSPz8/vL1y5Ur6xhiLxXrrrbdUKtW0Jz511uiVK1foUhzJz8/Hu729vX5+fviwJiYmaWlp5ubm9KxR/DrgZyIxU1PTPXv2UBSVkJCAEMrKyqJrFhUVsdns2NjYaUfV399vZGR05swZvOvn58fn8/FLzTQ5OSkSidatW0cPTyaTsdls+sRff/31zs5OZpNjx45ZWlqq1epp+wVgjvQoinpCKRaAZ4WiKK1WS/8PnUVXV1dHR4eJiYmdnd0jp5+Mj4/X19fr6elJJBIO59H31ycnJ3XGoFKp6uvrjYyMJBLJXIZHGxgYUCgUGo3Gzs5u6gxMGv6r/q+mlTY1NQ0ODkokEnwjc6rm5uYHDx4QBLFs2bJ5T0v56KOPbt++PY9vdFUqVWNjo1ardXJy0jnxyclJV1dXmUx26NCh+Y0KAAwSIQDgievp6RGLxT/88MPU35eZt7S0tOjo6MbGxpme3ABgjiARAgCeBqVSyeFwrKysHtcBSZJEf09/BeCfgEQIAABgUYNZowAAABY1SIQAAAAWNUiEAAAAFjVIhAAAABa1fwFUZqSuTRa6ggAAAABJRU5ErkJggg==",
      "image/svg+xml": [
       "<?xml version=\"1.0\" encoding=\"utf-8\"?>\n",
       "<svg xmlns=\"http://www.w3.org/2000/svg\" xmlns:xlink=\"http://www.w3.org/1999/xlink\" width=\"600\" height=\"400\" viewBox=\"0 0 2400 1600\">\n",
       "<defs>\n",
       "  <clipPath id=\"clip500\">\n",
       "    <rect x=\"0\" y=\"0\" width=\"2400\" height=\"1600\"/>\n",
       "  </clipPath>\n",
       "</defs>\n",
       "<path clip-path=\"url(#clip500)\" d=\"M0 1600 L2400 1600 L2400 0 L0 0  Z\" fill=\"#ffffff\" fill-rule=\"evenodd\" fill-opacity=\"1\"/>\n",
       "<defs>\n",
       "  <clipPath id=\"clip501\">\n",
       "    <rect x=\"480\" y=\"0\" width=\"1681\" height=\"1600\"/>\n",
       "  </clipPath>\n",
       "</defs>\n",
       "<path clip-path=\"url(#clip500)\" d=\"M249.542 1423.18 L2352.76 1423.18 L2352.76 47.2441 L249.542 47.2441  Z\" fill=\"#ffffff\" fill-rule=\"evenodd\" fill-opacity=\"1\"/>\n",
       "<defs>\n",
       "  <clipPath id=\"clip502\">\n",
       "    <rect x=\"249\" y=\"47\" width=\"2104\" height=\"1377\"/>\n",
       "  </clipPath>\n",
       "</defs>\n",
       "<polyline clip-path=\"url(#clip502)\" style=\"stroke:#000000; stroke-linecap:round; stroke-linejoin:round; stroke-width:2; stroke-opacity:0.1; fill:none\" points=\"579.635,1423.18 579.635,47.2441 \"/>\n",
       "<polyline clip-path=\"url(#clip502)\" style=\"stroke:#000000; stroke-linecap:round; stroke-linejoin:round; stroke-width:2; stroke-opacity:0.1; fill:none\" points=\"1030.58,1423.18 1030.58,47.2441 \"/>\n",
       "<polyline clip-path=\"url(#clip502)\" style=\"stroke:#000000; stroke-linecap:round; stroke-linejoin:round; stroke-width:2; stroke-opacity:0.1; fill:none\" points=\"1481.53,1423.18 1481.53,47.2441 \"/>\n",
       "<polyline clip-path=\"url(#clip502)\" style=\"stroke:#000000; stroke-linecap:round; stroke-linejoin:round; stroke-width:2; stroke-opacity:0.1; fill:none\" points=\"1932.47,1423.18 1932.47,47.2441 \"/>\n",
       "<polyline clip-path=\"url(#clip502)\" style=\"stroke:#000000; stroke-linecap:round; stroke-linejoin:round; stroke-width:2; stroke-opacity:0.1; fill:none\" points=\"249.542,1384.24 2352.76,1384.24 \"/>\n",
       "<polyline clip-path=\"url(#clip502)\" style=\"stroke:#000000; stroke-linecap:round; stroke-linejoin:round; stroke-width:2; stroke-opacity:0.1; fill:none\" points=\"249.542,1059.73 2352.76,1059.73 \"/>\n",
       "<polyline clip-path=\"url(#clip502)\" style=\"stroke:#000000; stroke-linecap:round; stroke-linejoin:round; stroke-width:2; stroke-opacity:0.1; fill:none\" points=\"249.542,735.212 2352.76,735.212 \"/>\n",
       "<polyline clip-path=\"url(#clip502)\" style=\"stroke:#000000; stroke-linecap:round; stroke-linejoin:round; stroke-width:2; stroke-opacity:0.1; fill:none\" points=\"249.542,410.699 2352.76,410.699 \"/>\n",
       "<polyline clip-path=\"url(#clip502)\" style=\"stroke:#000000; stroke-linecap:round; stroke-linejoin:round; stroke-width:2; stroke-opacity:0.1; fill:none\" points=\"249.542,86.1857 2352.76,86.1857 \"/>\n",
       "<polyline clip-path=\"url(#clip500)\" style=\"stroke:#000000; stroke-linecap:round; stroke-linejoin:round; stroke-width:4; stroke-opacity:1; fill:none\" points=\"249.542,1423.18 2352.76,1423.18 \"/>\n",
       "<polyline clip-path=\"url(#clip500)\" style=\"stroke:#000000; stroke-linecap:round; stroke-linejoin:round; stroke-width:4; stroke-opacity:1; fill:none\" points=\"579.635,1423.18 579.635,1404.28 \"/>\n",
       "<polyline clip-path=\"url(#clip500)\" style=\"stroke:#000000; stroke-linecap:round; stroke-linejoin:round; stroke-width:4; stroke-opacity:1; fill:none\" points=\"1030.58,1423.18 1030.58,1404.28 \"/>\n",
       "<polyline clip-path=\"url(#clip500)\" style=\"stroke:#000000; stroke-linecap:round; stroke-linejoin:round; stroke-width:4; stroke-opacity:1; fill:none\" points=\"1481.53,1423.18 1481.53,1404.28 \"/>\n",
       "<polyline clip-path=\"url(#clip500)\" style=\"stroke:#000000; stroke-linecap:round; stroke-linejoin:round; stroke-width:4; stroke-opacity:1; fill:none\" points=\"1932.47,1423.18 1932.47,1404.28 \"/>\n",
       "<path clip-path=\"url(#clip500)\" d=\"M551.371 1481.64 L567.69 1481.64 L567.69 1485.58 L545.746 1485.58 L545.746 1481.64 Q548.408 1478.89 552.991 1474.26 Q557.598 1469.61 558.778 1468.27 Q561.024 1465.74 561.903 1464.01 Q562.806 1462.25 562.806 1460.56 Q562.806 1457.8 560.862 1456.07 Q558.94 1454.33 555.839 1454.33 Q553.64 1454.33 551.186 1455.09 Q548.755 1455.86 545.978 1457.41 L545.978 1452.69 Q548.802 1451.55 551.255 1450.97 Q553.709 1450.39 555.746 1450.39 Q561.116 1450.39 564.311 1453.08 Q567.505 1455.77 567.505 1460.26 Q567.505 1462.39 566.695 1464.31 Q565.908 1466.2 563.802 1468.8 Q563.223 1469.47 560.121 1472.69 Q557.019 1475.88 551.371 1481.64 Z\" fill=\"#000000\" fill-rule=\"nonzero\" fill-opacity=\"1\" /><path clip-path=\"url(#clip500)\" d=\"M577.505 1479.7 L582.389 1479.7 L582.389 1485.58 L577.505 1485.58 L577.505 1479.7 Z\" fill=\"#000000\" fill-rule=\"nonzero\" fill-opacity=\"1\" /><path clip-path=\"url(#clip500)\" d=\"M592.621 1451.02 L610.977 1451.02 L610.977 1454.96 L596.903 1454.96 L596.903 1463.43 Q597.922 1463.08 598.94 1462.92 Q599.959 1462.73 600.977 1462.73 Q606.764 1462.73 610.144 1465.9 Q613.523 1469.08 613.523 1474.49 Q613.523 1480.07 610.051 1483.17 Q606.579 1486.25 600.26 1486.25 Q598.084 1486.25 595.815 1485.88 Q593.57 1485.51 591.162 1484.77 L591.162 1480.07 Q593.246 1481.2 595.468 1481.76 Q597.69 1482.32 600.167 1482.32 Q604.172 1482.32 606.51 1480.21 Q608.848 1478.1 608.848 1474.49 Q608.848 1470.88 606.51 1468.77 Q604.172 1466.67 600.167 1466.67 Q598.292 1466.67 596.417 1467.08 Q594.565 1467.5 592.621 1468.38 L592.621 1451.02 Z\" fill=\"#000000\" fill-rule=\"nonzero\" fill-opacity=\"1\" /><path clip-path=\"url(#clip500)\" d=\"M997.746 1451.02 L1016.1 1451.02 L1016.1 1454.96 L1002.03 1454.96 L1002.03 1463.43 Q1003.05 1463.08 1004.07 1462.92 Q1005.08 1462.73 1006.1 1462.73 Q1011.89 1462.73 1015.27 1465.9 Q1018.65 1469.08 1018.65 1474.49 Q1018.65 1480.07 1015.18 1483.17 Q1011.7 1486.25 1005.38 1486.25 Q1003.21 1486.25 1000.94 1485.88 Q998.695 1485.51 996.287 1484.77 L996.287 1480.07 Q998.371 1481.2 1000.59 1481.76 Q1002.82 1482.32 1005.29 1482.32 Q1009.3 1482.32 1011.63 1480.21 Q1013.97 1478.1 1013.97 1474.49 Q1013.97 1470.88 1011.63 1468.77 Q1009.3 1466.67 1005.29 1466.67 Q1003.42 1466.67 1001.54 1467.08 Q999.69 1467.5 997.746 1468.38 L997.746 1451.02 Z\" fill=\"#000000\" fill-rule=\"nonzero\" fill-opacity=\"1\" /><path clip-path=\"url(#clip500)\" d=\"M1027.86 1479.7 L1032.75 1479.7 L1032.75 1485.58 L1027.86 1485.58 L1027.86 1479.7 Z\" fill=\"#000000\" fill-rule=\"nonzero\" fill-opacity=\"1\" /><path clip-path=\"url(#clip500)\" d=\"M1052.93 1454.1 Q1049.32 1454.1 1047.49 1457.66 Q1045.69 1461.2 1045.69 1468.33 Q1045.69 1475.44 1047.49 1479.01 Q1049.32 1482.55 1052.93 1482.55 Q1056.56 1482.55 1058.37 1479.01 Q1060.2 1475.44 1060.2 1468.33 Q1060.2 1461.2 1058.37 1457.66 Q1056.56 1454.1 1052.93 1454.1 M1052.93 1450.39 Q1058.74 1450.39 1061.8 1455 Q1064.87 1459.58 1064.87 1468.33 Q1064.87 1477.06 1061.8 1481.67 Q1058.74 1486.25 1052.93 1486.25 Q1047.12 1486.25 1044.04 1481.67 Q1040.99 1477.06 1040.99 1468.33 Q1040.99 1459.58 1044.04 1455 Q1047.12 1450.39 1052.93 1450.39 Z\" fill=\"#000000\" fill-rule=\"nonzero\" fill-opacity=\"1\" /><path clip-path=\"url(#clip500)\" d=\"M1447.85 1451.02 L1470.07 1451.02 L1470.07 1453.01 L1457.52 1485.58 L1452.64 1485.58 L1464.44 1454.96 L1447.85 1454.96 L1447.85 1451.02 Z\" fill=\"#000000\" fill-rule=\"nonzero\" fill-opacity=\"1\" /><path clip-path=\"url(#clip500)\" d=\"M1479.19 1479.7 L1484.07 1479.7 L1484.07 1485.58 L1479.19 1485.58 L1479.19 1479.7 Z\" fill=\"#000000\" fill-rule=\"nonzero\" fill-opacity=\"1\" /><path clip-path=\"url(#clip500)\" d=\"M1494.31 1451.02 L1512.66 1451.02 L1512.66 1454.96 L1498.59 1454.96 L1498.59 1463.43 Q1499.61 1463.08 1500.62 1462.92 Q1501.64 1462.73 1502.66 1462.73 Q1508.45 1462.73 1511.83 1465.9 Q1515.21 1469.08 1515.21 1474.49 Q1515.21 1480.07 1511.74 1483.17 Q1508.26 1486.25 1501.94 1486.25 Q1499.77 1486.25 1497.5 1485.88 Q1495.25 1485.51 1492.85 1484.77 L1492.85 1480.07 Q1494.93 1481.2 1497.15 1481.76 Q1499.37 1482.32 1501.85 1482.32 Q1505.86 1482.32 1508.19 1480.21 Q1510.53 1478.1 1510.53 1474.49 Q1510.53 1470.88 1508.19 1468.77 Q1505.86 1466.67 1501.85 1466.67 Q1499.98 1466.67 1498.1 1467.08 Q1496.25 1467.5 1494.31 1468.38 L1494.31 1451.02 Z\" fill=\"#000000\" fill-rule=\"nonzero\" fill-opacity=\"1\" /><path clip-path=\"url(#clip500)\" d=\"M1884.55 1481.64 L1892.18 1481.64 L1892.18 1455.28 L1883.87 1456.95 L1883.87 1452.69 L1892.14 1451.02 L1896.81 1451.02 L1896.81 1481.64 L1904.45 1481.64 L1904.45 1485.58 L1884.55 1485.58 L1884.55 1481.64 Z\" fill=\"#000000\" fill-rule=\"nonzero\" fill-opacity=\"1\" /><path clip-path=\"url(#clip500)\" d=\"M1923.9 1454.1 Q1920.29 1454.1 1918.46 1457.66 Q1916.65 1461.2 1916.65 1468.33 Q1916.65 1475.44 1918.46 1479.01 Q1920.29 1482.55 1923.9 1482.55 Q1927.53 1482.55 1929.34 1479.01 Q1931.17 1475.44 1931.17 1468.33 Q1931.17 1461.2 1929.34 1457.66 Q1927.53 1454.1 1923.9 1454.1 M1923.9 1450.39 Q1929.71 1450.39 1932.76 1455 Q1935.84 1459.58 1935.84 1468.33 Q1935.84 1477.06 1932.76 1481.67 Q1929.71 1486.25 1923.9 1486.25 Q1918.09 1486.25 1915.01 1481.67 Q1911.95 1477.06 1911.95 1468.33 Q1911.95 1459.58 1915.01 1455 Q1918.09 1450.39 1923.9 1450.39 Z\" fill=\"#000000\" fill-rule=\"nonzero\" fill-opacity=\"1\" /><path clip-path=\"url(#clip500)\" d=\"M1944.06 1479.7 L1948.94 1479.7 L1948.94 1485.58 L1944.06 1485.58 L1944.06 1479.7 Z\" fill=\"#000000\" fill-rule=\"nonzero\" fill-opacity=\"1\" /><path clip-path=\"url(#clip500)\" d=\"M1969.13 1454.1 Q1965.52 1454.1 1963.69 1457.66 Q1961.88 1461.2 1961.88 1468.33 Q1961.88 1475.44 1963.69 1479.01 Q1965.52 1482.55 1969.13 1482.55 Q1972.76 1482.55 1974.57 1479.01 Q1976.4 1475.44 1976.4 1468.33 Q1976.4 1461.2 1974.57 1457.66 Q1972.76 1454.1 1969.13 1454.1 M1969.13 1450.39 Q1974.94 1450.39 1977.99 1455 Q1981.07 1459.58 1981.07 1468.33 Q1981.07 1477.06 1977.99 1481.67 Q1974.94 1486.25 1969.13 1486.25 Q1963.32 1486.25 1960.24 1481.67 Q1957.18 1477.06 1957.18 1468.33 Q1957.18 1459.58 1960.24 1455 Q1963.32 1450.39 1969.13 1450.39 Z\" fill=\"#000000\" fill-rule=\"nonzero\" fill-opacity=\"1\" /><path clip-path=\"url(#clip500)\" d=\"M970.451 1520.52 L976.88 1520.52 L976.88 1568.04 L970.451 1568.04 L970.451 1520.52 Z\" fill=\"#000000\" fill-rule=\"nonzero\" fill-opacity=\"1\" /><path clip-path=\"url(#clip500)\" d=\"M995.213 1522.27 L995.213 1532.4 L1007.28 1532.4 L1007.28 1536.95 L995.213 1536.95 L995.213 1556.3 Q995.213 1560.66 996.391 1561.9 Q997.6 1563.14 1001.26 1563.14 L1007.28 1563.14 L1007.28 1568.04 L1001.26 1568.04 Q994.481 1568.04 991.903 1565.53 Q989.325 1562.98 989.325 1556.3 L989.325 1536.95 L985.028 1536.95 L985.028 1532.4 L989.325 1532.4 L989.325 1522.27 L995.213 1522.27 Z\" fill=\"#000000\" fill-rule=\"nonzero\" fill-opacity=\"1\" /><path clip-path=\"url(#clip500)\" d=\"M1045.47 1548.76 L1045.47 1551.62 L1018.54 1551.62 Q1018.93 1557.67 1022.17 1560.85 Q1025.45 1564 1031.27 1564 Q1034.65 1564 1037.8 1563.17 Q1040.98 1562.35 1044.1 1560.69 L1044.1 1566.23 Q1040.95 1567.57 1037.64 1568.27 Q1034.33 1568.97 1030.92 1568.97 Q1022.39 1568.97 1017.4 1564 Q1012.43 1559.04 1012.43 1550.57 Q1012.43 1541.82 1017.14 1536.69 Q1021.89 1531.54 1029.91 1531.54 Q1037.1 1531.54 1041.27 1536.18 Q1045.47 1540.8 1045.47 1548.76 M1039.61 1547.04 Q1039.55 1542.23 1036.91 1539.37 Q1034.3 1536.5 1029.97 1536.5 Q1025.07 1536.5 1022.11 1539.27 Q1019.18 1542.04 1018.73 1547.07 L1039.61 1547.04 Z\" fill=\"#000000\" fill-rule=\"nonzero\" fill-opacity=\"1\" /><path clip-path=\"url(#clip500)\" d=\"M1075.74 1537.87 Q1074.75 1537.3 1073.57 1537.04 Q1072.43 1536.76 1071.03 1536.76 Q1066.06 1536.76 1063.39 1540 Q1060.75 1543.22 1060.75 1549.27 L1060.75 1568.04 L1054.86 1568.04 L1054.86 1532.4 L1060.75 1532.4 L1060.75 1537.93 Q1062.59 1534.69 1065.55 1533.13 Q1068.51 1531.54 1072.75 1531.54 Q1073.35 1531.54 1074.08 1531.63 Q1074.82 1531.7 1075.71 1531.85 L1075.74 1537.87 Z\" fill=\"#000000\" fill-rule=\"nonzero\" fill-opacity=\"1\" /><path clip-path=\"url(#clip500)\" d=\"M1098.08 1550.12 Q1090.99 1550.12 1088.25 1551.75 Q1085.51 1553.37 1085.51 1557.29 Q1085.51 1560.4 1087.55 1562.25 Q1089.62 1564.07 1093.15 1564.07 Q1098.02 1564.07 1100.95 1560.63 Q1103.91 1557.16 1103.91 1551.43 L1103.91 1550.12 L1098.08 1550.12 M1109.76 1547.71 L1109.76 1568.04 L1103.91 1568.04 L1103.91 1562.63 Q1101.9 1565.88 1098.91 1567.44 Q1095.92 1568.97 1091.59 1568.97 Q1086.12 1568.97 1082.87 1565.91 Q1079.65 1562.82 1079.65 1557.67 Q1079.65 1551.65 1083.66 1548.6 Q1087.71 1545.54 1095.7 1545.54 L1103.91 1545.54 L1103.91 1544.97 Q1103.91 1540.93 1101.23 1538.73 Q1098.59 1536.5 1093.79 1536.5 Q1090.73 1536.5 1087.83 1537.23 Q1084.94 1537.97 1082.26 1539.43 L1082.26 1534.02 Q1085.48 1532.78 1088.5 1532.17 Q1091.53 1531.54 1094.39 1531.54 Q1102.13 1531.54 1105.94 1535.55 Q1109.76 1539.56 1109.76 1547.71 Z\" fill=\"#000000\" fill-rule=\"nonzero\" fill-opacity=\"1\" /><path clip-path=\"url(#clip500)\" d=\"M1127.62 1522.27 L1127.62 1532.4 L1139.68 1532.4 L1139.68 1536.95 L1127.62 1536.95 L1127.62 1556.3 Q1127.62 1560.66 1128.8 1561.9 Q1130.01 1563.14 1133.67 1563.14 L1139.68 1563.14 L1139.68 1568.04 L1133.67 1568.04 Q1126.89 1568.04 1124.31 1565.53 Q1121.73 1562.98 1121.73 1556.3 L1121.73 1536.95 L1117.43 1536.95 L1117.43 1532.4 L1121.73 1532.4 L1121.73 1522.27 L1127.62 1522.27 Z\" fill=\"#000000\" fill-rule=\"nonzero\" fill-opacity=\"1\" /><path clip-path=\"url(#clip500)\" d=\"M1147.39 1532.4 L1153.24 1532.4 L1153.24 1568.04 L1147.39 1568.04 L1147.39 1532.4 M1147.39 1518.52 L1153.24 1518.52 L1153.24 1525.93 L1147.39 1525.93 L1147.39 1518.52 Z\" fill=\"#000000\" fill-rule=\"nonzero\" fill-opacity=\"1\" /><path clip-path=\"url(#clip500)\" d=\"M1179.31 1536.5 Q1174.6 1536.5 1171.86 1540.19 Q1169.12 1543.85 1169.12 1550.25 Q1169.12 1556.65 1171.83 1560.34 Q1174.57 1564 1179.31 1564 Q1183.99 1564 1186.73 1560.31 Q1189.46 1556.62 1189.46 1550.25 Q1189.46 1543.92 1186.73 1540.23 Q1183.99 1536.5 1179.31 1536.5 M1179.31 1531.54 Q1186.95 1531.54 1191.31 1536.5 Q1195.67 1541.47 1195.67 1550.25 Q1195.67 1559 1191.31 1564 Q1186.95 1568.97 1179.31 1568.97 Q1171.64 1568.97 1167.28 1564 Q1162.95 1559 1162.95 1550.25 Q1162.95 1541.47 1167.28 1536.5 Q1171.64 1531.54 1179.31 1531.54 Z\" fill=\"#000000\" fill-rule=\"nonzero\" fill-opacity=\"1\" /><path clip-path=\"url(#clip500)\" d=\"M1235.01 1546.53 L1235.01 1568.04 L1229.15 1568.04 L1229.15 1546.72 Q1229.15 1541.66 1227.18 1539.14 Q1225.21 1536.63 1221.26 1536.63 Q1216.52 1536.63 1213.78 1539.65 Q1211.04 1542.68 1211.04 1547.9 L1211.04 1568.04 L1205.15 1568.04 L1205.15 1532.4 L1211.04 1532.4 L1211.04 1537.93 Q1213.14 1534.72 1215.98 1533.13 Q1218.84 1531.54 1222.56 1531.54 Q1228.71 1531.54 1231.86 1535.36 Q1235.01 1539.14 1235.01 1546.53 Z\" fill=\"#000000\" fill-rule=\"nonzero\" fill-opacity=\"1\" /><path clip-path=\"url(#clip500)\" d=\"M1269.42 1533.45 L1269.42 1538.98 Q1266.93 1537.71 1264.26 1537.07 Q1261.59 1536.44 1258.72 1536.44 Q1254.36 1536.44 1252.16 1537.77 Q1250 1539.11 1250 1541.79 Q1250 1543.82 1251.56 1545 Q1253.12 1546.15 1257.83 1547.2 L1259.84 1547.64 Q1266.07 1548.98 1268.68 1551.43 Q1271.33 1553.85 1271.33 1558.21 Q1271.33 1563.17 1267.38 1566.07 Q1263.46 1568.97 1256.59 1568.97 Q1253.72 1568.97 1250.61 1568.39 Q1247.52 1567.85 1244.08 1566.74 L1244.08 1560.69 Q1247.33 1562.38 1250.48 1563.24 Q1253.63 1564.07 1256.72 1564.07 Q1260.85 1564.07 1263.08 1562.66 Q1265.31 1561.23 1265.31 1558.65 Q1265.31 1556.27 1263.69 1554.99 Q1262.1 1553.72 1256.65 1552.54 L1254.62 1552.07 Q1249.17 1550.92 1246.75 1548.56 Q1244.34 1546.18 1244.34 1542.04 Q1244.34 1537.01 1247.9 1534.27 Q1251.46 1531.54 1258.02 1531.54 Q1261.27 1531.54 1264.13 1532.01 Q1267 1532.49 1269.42 1533.45 Z\" fill=\"#000000\" fill-rule=\"nonzero\" fill-opacity=\"1\" /><path clip-path=\"url(#clip500)\" d=\"M1301.37 1532.4 L1307.23 1532.4 L1307.23 1568.04 L1301.37 1568.04 L1301.37 1532.4 M1301.37 1518.52 L1307.23 1518.52 L1307.23 1525.93 L1301.37 1525.93 L1301.37 1518.52 Z\" fill=\"#000000\" fill-rule=\"nonzero\" fill-opacity=\"1\" /><path clip-path=\"url(#clip500)\" d=\"M1349.11 1546.53 L1349.11 1568.04 L1343.26 1568.04 L1343.26 1546.72 Q1343.26 1541.66 1341.28 1539.14 Q1339.31 1536.63 1335.36 1536.63 Q1330.62 1536.63 1327.88 1539.65 Q1325.15 1542.68 1325.15 1547.9 L1325.15 1568.04 L1319.26 1568.04 L1319.26 1532.4 L1325.15 1532.4 L1325.15 1537.93 Q1327.25 1534.72 1330.08 1533.13 Q1332.95 1531.54 1336.67 1531.54 Q1342.81 1531.54 1345.96 1535.36 Q1349.11 1539.14 1349.11 1546.53 Z\" fill=\"#000000\" fill-rule=\"nonzero\" fill-opacity=\"1\" /><path clip-path=\"url(#clip500)\" d=\"M1384.25 1537.81 L1384.25 1518.52 L1390.11 1518.52 L1390.11 1568.04 L1384.25 1568.04 L1384.25 1562.7 Q1382.41 1565.88 1379.57 1567.44 Q1376.77 1568.97 1372.83 1568.97 Q1366.37 1568.97 1362.29 1563.81 Q1358.25 1558.65 1358.25 1550.25 Q1358.25 1541.85 1362.29 1536.69 Q1366.37 1531.54 1372.83 1531.54 Q1376.77 1531.54 1379.57 1533.1 Q1382.41 1534.62 1384.25 1537.81 M1364.3 1550.25 Q1364.3 1556.71 1366.94 1560.4 Q1369.61 1564.07 1374.26 1564.07 Q1378.91 1564.07 1381.58 1560.4 Q1384.25 1556.71 1384.25 1550.25 Q1384.25 1543.79 1381.58 1540.13 Q1378.91 1536.44 1374.26 1536.44 Q1369.61 1536.44 1366.94 1540.13 Q1364.3 1543.79 1364.3 1550.25 Z\" fill=\"#000000\" fill-rule=\"nonzero\" fill-opacity=\"1\" /><path clip-path=\"url(#clip500)\" d=\"M1432.66 1548.76 L1432.66 1551.62 L1405.74 1551.62 Q1406.12 1557.67 1409.37 1560.85 Q1412.64 1564 1418.47 1564 Q1421.84 1564 1424.99 1563.17 Q1428.18 1562.35 1431.3 1560.69 L1431.3 1566.23 Q1428.14 1567.57 1424.83 1568.27 Q1421.52 1568.97 1418.12 1568.97 Q1409.59 1568.97 1404.59 1564 Q1399.63 1559.04 1399.63 1550.57 Q1399.63 1541.82 1404.34 1536.69 Q1409.08 1531.54 1417.1 1531.54 Q1424.29 1531.54 1428.46 1536.18 Q1432.66 1540.8 1432.66 1548.76 M1426.81 1547.04 Q1426.74 1542.23 1424.1 1539.37 Q1421.49 1536.5 1417.16 1536.5 Q1412.26 1536.5 1409.3 1539.27 Q1406.37 1542.04 1405.93 1547.07 L1426.81 1547.04 Z\" fill=\"#000000\" fill-rule=\"nonzero\" fill-opacity=\"1\" /><path clip-path=\"url(#clip500)\" d=\"M1470.76 1532.4 L1457.87 1549.74 L1471.43 1568.04 L1464.52 1568.04 L1454.15 1554.04 L1443.77 1568.04 L1436.87 1568.04 L1450.71 1549.39 L1438.04 1532.4 L1444.95 1532.4 L1454.4 1545.1 L1463.86 1532.4 L1470.76 1532.4 Z\" fill=\"#000000\" fill-rule=\"nonzero\" fill-opacity=\"1\" /><path clip-path=\"url(#clip500)\" d=\"M1514.5 1518.58 Q1510.23 1525.9 1508.16 1533.06 Q1506.09 1540.23 1506.09 1547.58 Q1506.09 1554.93 1508.16 1562.16 Q1510.26 1569.35 1514.5 1576.64 L1509.4 1576.64 Q1504.63 1569.16 1502.24 1561.93 Q1499.89 1554.71 1499.89 1547.58 Q1499.89 1540.48 1502.24 1533.29 Q1504.6 1526.09 1509.4 1518.58 L1514.5 1518.58 Z\" fill=\"#000000\" fill-rule=\"nonzero\" fill-opacity=\"1\" /><path clip-path=\"url(#clip500)\" d=\"M1542 1526.86 L1533.27 1550.51 L1550.75 1550.51 L1542 1526.86 M1538.37 1520.52 L1545.66 1520.52 L1563.77 1568.04 L1557.08 1568.04 L1552.75 1555.85 L1531.33 1555.85 L1527 1568.04 L1520.22 1568.04 L1538.37 1520.52 Z\" fill=\"#000000\" fill-rule=\"nonzero\" fill-opacity=\"1\" /><path clip-path=\"url(#clip500)\" d=\"M1569.97 1520.52 L1576.43 1520.52 L1576.43 1549.39 Q1576.43 1557.03 1579.2 1560.4 Q1581.97 1563.75 1588.18 1563.75 Q1594.35 1563.75 1597.12 1560.4 Q1599.89 1557.03 1599.89 1549.39 L1599.89 1520.52 L1606.35 1520.52 L1606.35 1550.19 Q1606.35 1559.48 1601.74 1564.22 Q1597.15 1568.97 1588.18 1568.97 Q1579.17 1568.97 1574.56 1564.22 Q1569.97 1559.48 1569.97 1550.19 L1569.97 1520.52 Z\" fill=\"#000000\" fill-rule=\"nonzero\" fill-opacity=\"1\" /><path clip-path=\"url(#clip500)\" d=\"M1617.24 1518.58 L1622.33 1518.58 Q1627.1 1526.09 1629.46 1533.29 Q1631.85 1540.48 1631.85 1547.58 Q1631.85 1554.71 1629.46 1561.93 Q1627.1 1569.16 1622.33 1576.64 L1617.24 1576.64 Q1621.47 1569.35 1623.54 1562.16 Q1625.64 1554.93 1625.64 1547.58 Q1625.64 1540.23 1623.54 1533.06 Q1621.47 1525.9 1617.24 1518.58 Z\" fill=\"#000000\" fill-rule=\"nonzero\" fill-opacity=\"1\" /><polyline clip-path=\"url(#clip500)\" style=\"stroke:#000000; stroke-linecap:round; stroke-linejoin:round; stroke-width:4; stroke-opacity:1; fill:none\" points=\"249.542,1423.18 249.542,47.2441 \"/>\n",
       "<polyline clip-path=\"url(#clip500)\" style=\"stroke:#000000; stroke-linecap:round; stroke-linejoin:round; stroke-width:4; stroke-opacity:1; fill:none\" points=\"249.542,1384.24 268.44,1384.24 \"/>\n",
       "<polyline clip-path=\"url(#clip500)\" style=\"stroke:#000000; stroke-linecap:round; stroke-linejoin:round; stroke-width:4; stroke-opacity:1; fill:none\" points=\"249.542,1059.73 268.44,1059.73 \"/>\n",
       "<polyline clip-path=\"url(#clip500)\" style=\"stroke:#000000; stroke-linecap:round; stroke-linejoin:round; stroke-width:4; stroke-opacity:1; fill:none\" points=\"249.542,735.212 268.44,735.212 \"/>\n",
       "<polyline clip-path=\"url(#clip500)\" style=\"stroke:#000000; stroke-linecap:round; stroke-linejoin:round; stroke-width:4; stroke-opacity:1; fill:none\" points=\"249.542,410.699 268.44,410.699 \"/>\n",
       "<polyline clip-path=\"url(#clip500)\" style=\"stroke:#000000; stroke-linecap:round; stroke-linejoin:round; stroke-width:4; stroke-opacity:1; fill:none\" points=\"249.542,86.1857 268.44,86.1857 \"/>\n",
       "<path clip-path=\"url(#clip500)\" d=\"M126.205 1370.04 Q122.593 1370.04 120.765 1373.6 Q118.959 1377.14 118.959 1384.27 Q118.959 1391.38 120.765 1394.94 Q122.593 1398.49 126.205 1398.49 Q129.839 1398.49 131.644 1394.94 Q133.473 1391.38 133.473 1384.27 Q133.473 1377.14 131.644 1373.6 Q129.839 1370.04 126.205 1370.04 M126.205 1366.33 Q132.015 1366.33 135.07 1370.94 Q138.149 1375.52 138.149 1384.27 Q138.149 1393 135.07 1397.61 Q132.015 1402.19 126.205 1402.19 Q120.394 1402.19 117.316 1397.61 Q114.26 1393 114.26 1384.27 Q114.26 1375.52 117.316 1370.94 Q120.394 1366.33 126.205 1366.33 Z\" fill=\"#000000\" fill-rule=\"nonzero\" fill-opacity=\"1\" /><path clip-path=\"url(#clip500)\" d=\"M146.366 1395.64 L151.251 1395.64 L151.251 1401.52 L146.366 1401.52 L146.366 1395.64 Z\" fill=\"#000000\" fill-rule=\"nonzero\" fill-opacity=\"1\" /><path clip-path=\"url(#clip500)\" d=\"M171.436 1370.04 Q167.825 1370.04 165.996 1373.6 Q164.19 1377.14 164.19 1384.27 Q164.19 1391.38 165.996 1394.94 Q167.825 1398.49 171.436 1398.49 Q175.07 1398.49 176.876 1394.94 Q178.704 1391.38 178.704 1384.27 Q178.704 1377.14 176.876 1373.6 Q175.07 1370.04 171.436 1370.04 M171.436 1366.33 Q177.246 1366.33 180.301 1370.94 Q183.38 1375.52 183.38 1384.27 Q183.38 1393 180.301 1397.61 Q177.246 1402.19 171.436 1402.19 Q165.626 1402.19 162.547 1397.61 Q159.491 1393 159.491 1384.27 Q159.491 1375.52 162.547 1370.94 Q165.626 1366.33 171.436 1366.33 Z\" fill=\"#000000\" fill-rule=\"nonzero\" fill-opacity=\"1\" /><path clip-path=\"url(#clip500)\" d=\"M201.598 1370.04 Q197.987 1370.04 196.158 1373.6 Q194.352 1377.14 194.352 1384.27 Q194.352 1391.38 196.158 1394.94 Q197.987 1398.49 201.598 1398.49 Q205.232 1398.49 207.037 1394.94 Q208.866 1391.38 208.866 1384.27 Q208.866 1377.14 207.037 1373.6 Q205.232 1370.04 201.598 1370.04 M201.598 1366.33 Q207.408 1366.33 210.463 1370.94 Q213.542 1375.52 213.542 1384.27 Q213.542 1393 210.463 1397.61 Q207.408 1402.19 201.598 1402.19 Q195.787 1402.19 192.709 1397.61 Q189.653 1393 189.653 1384.27 Q189.653 1375.52 192.709 1370.94 Q195.787 1366.33 201.598 1366.33 Z\" fill=\"#000000\" fill-rule=\"nonzero\" fill-opacity=\"1\" /><path clip-path=\"url(#clip500)\" d=\"M127.2 1045.52 Q123.589 1045.52 121.76 1049.09 Q119.955 1052.63 119.955 1059.76 Q119.955 1066.87 121.76 1070.43 Q123.589 1073.97 127.2 1073.97 Q130.834 1073.97 132.64 1070.43 Q134.468 1066.87 134.468 1059.76 Q134.468 1052.63 132.64 1049.09 Q130.834 1045.52 127.2 1045.52 M127.2 1041.82 Q133.01 1041.82 136.066 1046.43 Q139.144 1051.01 139.144 1059.76 Q139.144 1068.49 136.066 1073.09 Q133.01 1077.68 127.2 1077.68 Q121.39 1077.68 118.311 1073.09 Q115.256 1068.49 115.256 1059.76 Q115.256 1051.01 118.311 1046.43 Q121.39 1041.82 127.2 1041.82 Z\" fill=\"#000000\" fill-rule=\"nonzero\" fill-opacity=\"1\" /><path clip-path=\"url(#clip500)\" d=\"M147.362 1071.13 L152.246 1071.13 L152.246 1077.01 L147.362 1077.01 L147.362 1071.13 Z\" fill=\"#000000\" fill-rule=\"nonzero\" fill-opacity=\"1\" /><path clip-path=\"url(#clip500)\" d=\"M166.459 1073.07 L182.778 1073.07 L182.778 1077.01 L160.834 1077.01 L160.834 1073.07 Q163.496 1070.32 168.079 1065.69 Q172.686 1061.03 173.866 1059.69 Q176.112 1057.17 176.991 1055.43 Q177.894 1053.67 177.894 1051.98 Q177.894 1049.23 175.95 1047.49 Q174.028 1045.76 170.927 1045.76 Q168.727 1045.76 166.274 1046.52 Q163.843 1047.28 161.065 1048.83 L161.065 1044.11 Q163.89 1042.98 166.343 1042.4 Q168.797 1041.82 170.834 1041.82 Q176.204 1041.82 179.399 1044.51 Q182.593 1047.19 182.593 1051.68 Q182.593 1053.81 181.783 1055.73 Q180.996 1057.63 178.889 1060.22 Q178.311 1060.89 175.209 1064.11 Q172.107 1067.31 166.459 1073.07 Z\" fill=\"#000000\" fill-rule=\"nonzero\" fill-opacity=\"1\" /><path clip-path=\"url(#clip500)\" d=\"M192.639 1042.45 L210.996 1042.45 L210.996 1046.38 L196.922 1046.38 L196.922 1054.85 Q197.94 1054.51 198.959 1054.34 Q199.977 1054.16 200.996 1054.16 Q206.783 1054.16 210.162 1057.33 Q213.542 1060.5 213.542 1065.92 Q213.542 1071.5 210.07 1074.6 Q206.598 1077.68 200.278 1077.68 Q198.102 1077.68 195.834 1077.31 Q193.588 1076.94 191.181 1076.19 L191.181 1071.5 Q193.264 1072.63 195.487 1073.19 Q197.709 1073.74 200.186 1073.74 Q204.19 1073.74 206.528 1071.63 Q208.866 1069.53 208.866 1065.92 Q208.866 1062.31 206.528 1060.2 Q204.19 1058.09 200.186 1058.09 Q198.311 1058.09 196.436 1058.51 Q194.584 1058.93 192.639 1059.81 L192.639 1042.45 Z\" fill=\"#000000\" fill-rule=\"nonzero\" fill-opacity=\"1\" /><path clip-path=\"url(#clip500)\" d=\"M126.205 721.011 Q122.593 721.011 120.765 724.575 Q118.959 728.117 118.959 735.247 Q118.959 742.353 120.765 745.918 Q122.593 749.46 126.205 749.46 Q129.839 749.46 131.644 745.918 Q133.473 742.353 133.473 735.247 Q133.473 728.117 131.644 724.575 Q129.839 721.011 126.205 721.011 M126.205 717.307 Q132.015 717.307 135.07 721.913 Q138.149 726.497 138.149 735.247 Q138.149 743.973 135.07 748.58 Q132.015 753.163 126.205 753.163 Q120.394 753.163 117.316 748.58 Q114.26 743.973 114.26 735.247 Q114.26 726.497 117.316 721.913 Q120.394 717.307 126.205 717.307 Z\" fill=\"#000000\" fill-rule=\"nonzero\" fill-opacity=\"1\" /><path clip-path=\"url(#clip500)\" d=\"M146.366 746.612 L151.251 746.612 L151.251 752.492 L146.366 752.492 L146.366 746.612 Z\" fill=\"#000000\" fill-rule=\"nonzero\" fill-opacity=\"1\" /><path clip-path=\"url(#clip500)\" d=\"M161.482 717.932 L179.839 717.932 L179.839 721.867 L165.765 721.867 L165.765 730.339 Q166.783 729.992 167.802 729.83 Q168.82 729.645 169.839 729.645 Q175.626 729.645 179.005 732.816 Q182.385 735.987 182.385 741.404 Q182.385 746.983 178.913 750.085 Q175.44 753.163 169.121 753.163 Q166.945 753.163 164.677 752.793 Q162.431 752.423 160.024 751.682 L160.024 746.983 Q162.107 748.117 164.329 748.673 Q166.552 749.228 169.028 749.228 Q173.033 749.228 175.371 747.122 Q177.709 745.015 177.709 741.404 Q177.709 737.793 175.371 735.687 Q173.033 733.58 169.028 733.58 Q167.153 733.58 165.278 733.997 Q163.427 734.413 161.482 735.293 L161.482 717.932 Z\" fill=\"#000000\" fill-rule=\"nonzero\" fill-opacity=\"1\" /><path clip-path=\"url(#clip500)\" d=\"M201.598 721.011 Q197.987 721.011 196.158 724.575 Q194.352 728.117 194.352 735.247 Q194.352 742.353 196.158 745.918 Q197.987 749.46 201.598 749.46 Q205.232 749.46 207.037 745.918 Q208.866 742.353 208.866 735.247 Q208.866 728.117 207.037 724.575 Q205.232 721.011 201.598 721.011 M201.598 717.307 Q207.408 717.307 210.463 721.913 Q213.542 726.497 213.542 735.247 Q213.542 743.973 210.463 748.58 Q207.408 753.163 201.598 753.163 Q195.787 753.163 192.709 748.58 Q189.653 743.973 189.653 735.247 Q189.653 726.497 192.709 721.913 Q195.787 717.307 201.598 717.307 Z\" fill=\"#000000\" fill-rule=\"nonzero\" fill-opacity=\"1\" /><path clip-path=\"url(#clip500)\" d=\"M127.2 396.498 Q123.589 396.498 121.76 400.062 Q119.955 403.604 119.955 410.734 Q119.955 417.84 121.76 421.405 Q123.589 424.946 127.2 424.946 Q130.834 424.946 132.64 421.405 Q134.468 417.84 134.468 410.734 Q134.468 403.604 132.64 400.062 Q130.834 396.498 127.2 396.498 M127.2 392.794 Q133.01 392.794 136.066 397.4 Q139.144 401.984 139.144 410.734 Q139.144 419.46 136.066 424.067 Q133.01 428.65 127.2 428.65 Q121.39 428.65 118.311 424.067 Q115.256 419.46 115.256 410.734 Q115.256 401.984 118.311 397.4 Q121.39 392.794 127.2 392.794 Z\" fill=\"#000000\" fill-rule=\"nonzero\" fill-opacity=\"1\" /><path clip-path=\"url(#clip500)\" d=\"M147.362 422.099 L152.246 422.099 L152.246 427.979 L147.362 427.979 L147.362 422.099 Z\" fill=\"#000000\" fill-rule=\"nonzero\" fill-opacity=\"1\" /><path clip-path=\"url(#clip500)\" d=\"M161.251 393.419 L183.473 393.419 L183.473 395.41 L170.927 427.979 L166.042 427.979 L177.848 397.354 L161.251 397.354 L161.251 393.419 Z\" fill=\"#000000\" fill-rule=\"nonzero\" fill-opacity=\"1\" /><path clip-path=\"url(#clip500)\" d=\"M192.639 393.419 L210.996 393.419 L210.996 397.354 L196.922 397.354 L196.922 405.826 Q197.94 405.479 198.959 405.317 Q199.977 405.132 200.996 405.132 Q206.783 405.132 210.162 408.303 Q213.542 411.474 213.542 416.891 Q213.542 422.47 210.07 425.571 Q206.598 428.65 200.278 428.65 Q198.102 428.65 195.834 428.28 Q193.588 427.909 191.181 427.169 L191.181 422.47 Q193.264 423.604 195.487 424.159 Q197.709 424.715 200.186 424.715 Q204.19 424.715 206.528 422.608 Q208.866 420.502 208.866 416.891 Q208.866 413.28 206.528 411.173 Q204.19 409.067 200.186 409.067 Q198.311 409.067 196.436 409.484 Q194.584 409.9 192.639 410.78 L192.639 393.419 Z\" fill=\"#000000\" fill-rule=\"nonzero\" fill-opacity=\"1\" /><path clip-path=\"url(#clip500)\" d=\"M117.015 99.5305 L124.654 99.5305 L124.654 73.1649 L116.343 74.8316 L116.343 70.5723 L124.607 68.9057 L129.283 68.9057 L129.283 99.5305 L136.922 99.5305 L136.922 103.466 L117.015 103.466 L117.015 99.5305 Z\" fill=\"#000000\" fill-rule=\"nonzero\" fill-opacity=\"1\" /><path clip-path=\"url(#clip500)\" d=\"M146.366 97.5861 L151.251 97.5861 L151.251 103.466 L146.366 103.466 L146.366 97.5861 Z\" fill=\"#000000\" fill-rule=\"nonzero\" fill-opacity=\"1\" /><path clip-path=\"url(#clip500)\" d=\"M171.436 71.9844 Q167.825 71.9844 165.996 75.5492 Q164.19 79.0908 164.19 86.2204 Q164.19 93.3268 165.996 96.8916 Q167.825 100.433 171.436 100.433 Q175.07 100.433 176.876 96.8916 Q178.704 93.3268 178.704 86.2204 Q178.704 79.0908 176.876 75.5492 Q175.07 71.9844 171.436 71.9844 M171.436 68.2807 Q177.246 68.2807 180.301 72.8871 Q183.38 77.4704 183.38 86.2204 Q183.38 94.9472 180.301 99.5537 Q177.246 104.137 171.436 104.137 Q165.626 104.137 162.547 99.5537 Q159.491 94.9472 159.491 86.2204 Q159.491 77.4704 162.547 72.8871 Q165.626 68.2807 171.436 68.2807 Z\" fill=\"#000000\" fill-rule=\"nonzero\" fill-opacity=\"1\" /><path clip-path=\"url(#clip500)\" d=\"M201.598 71.9844 Q197.987 71.9844 196.158 75.5492 Q194.352 79.0908 194.352 86.2204 Q194.352 93.3268 196.158 96.8916 Q197.987 100.433 201.598 100.433 Q205.232 100.433 207.037 96.8916 Q208.866 93.3268 208.866 86.2204 Q208.866 79.0908 207.037 75.5492 Q205.232 71.9844 201.598 71.9844 M201.598 68.2807 Q207.408 68.2807 210.463 72.8871 Q213.542 77.4704 213.542 86.2204 Q213.542 94.9472 210.463 99.5537 Q207.408 104.137 201.598 104.137 Q195.787 104.137 192.709 99.5537 Q189.653 94.9472 189.653 86.2204 Q189.653 77.4704 192.709 72.8871 Q195.787 68.2807 201.598 68.2807 Z\" fill=\"#000000\" fill-rule=\"nonzero\" fill-opacity=\"1\" /><path clip-path=\"url(#clip500)\" d=\"M20.7174 1219.98 Q20.7174 1224.94 25.6189 1227.46 Q30.4887 1229.94 40.2919 1229.94 Q50.0633 1229.94 54.9649 1227.46 Q59.8346 1224.94 59.8346 1219.98 Q59.8346 1214.98 54.9649 1212.5 Q50.0633 1209.98 40.2919 1209.98 Q30.4887 1209.98 25.6189 1212.5 Q20.7174 1214.98 20.7174 1219.98 M15.6248 1219.98 Q15.6248 1211.99 21.9587 1207.79 Q28.2607 1203.55 40.2919 1203.55 Q52.2913 1203.55 58.6251 1207.79 Q64.9272 1211.99 64.9272 1219.98 Q64.9272 1227.97 58.6251 1232.2 Q52.2913 1236.4 40.2919 1236.4 Q28.2607 1236.4 21.9587 1232.2 Q15.6248 1227.97 15.6248 1219.98 Z\" fill=\"#000000\" fill-rule=\"nonzero\" fill-opacity=\"1\" /><path clip-path=\"url(#clip500)\" d=\"M55.9197 1191.59 L55.9197 1184.87 L61.3942 1184.87 L71.5793 1190.09 L71.5793 1194.2 L61.3942 1191.59 L55.9197 1191.59 Z\" fill=\"#000000\" fill-rule=\"nonzero\" fill-opacity=\"1\" /><path clip-path=\"url(#clip500)\" d=\"M58.5933 1170.42 L58.5933 1159.92 L22.3406 1159.92 L24.6323 1171.34 L18.7758 1171.34 L16.4842 1159.98 L16.4842 1153.55 L58.5933 1153.55 L58.5933 1143.05 L64.0042 1143.05 L64.0042 1170.42 L58.5933 1170.42 Z\" fill=\"#000000\" fill-rule=\"nonzero\" fill-opacity=\"1\" /><path clip-path=\"url(#clip500)\" d=\"M43.5384 1133.85 L43.5384 1116.69 L48.7583 1116.69 L48.7583 1133.85 L43.5384 1133.85 Z\" fill=\"#000000\" fill-rule=\"nonzero\" fill-opacity=\"1\" /><path clip-path=\"url(#clip500)\" d=\"M18.0438 1078.63 L24.314 1078.63 Q22.5634 1082.29 21.704 1085.53 Q20.8447 1088.78 20.8447 1091.8 Q20.8447 1097.05 22.8817 1099.92 Q24.9187 1102.75 28.6745 1102.75 Q31.8255 1102.75 33.4488 1100.87 Q35.0402 1098.96 36.0269 1093.68 L36.8226 1089.8 Q38.1912 1082.6 41.6605 1079.2 Q45.098 1075.76 50.8908 1075.76 Q57.7976 1075.76 61.3624 1080.41 Q64.9272 1085.02 64.9272 1093.97 Q64.9272 1097.34 64.1633 1101.16 Q63.3994 1104.95 61.9035 1109.02 L55.2831 1109.02 Q57.4793 1105.11 58.5933 1101.35 Q59.7073 1097.6 59.7073 1093.97 Q59.7073 1088.46 57.543 1085.47 Q55.3786 1082.48 51.3682 1082.48 Q47.8671 1082.48 45.8937 1084.64 Q43.9204 1086.77 42.9337 1091.68 L42.1698 1095.59 Q40.7375 1102.78 37.682 1106 Q34.6264 1109.21 29.1837 1109.21 Q22.8817 1109.21 19.2532 1104.79 Q15.6248 1100.33 15.6248 1092.53 Q15.6248 1089.19 16.2295 1085.72 Q16.8343 1082.25 18.0438 1078.63 Z\" fill=\"#000000\" fill-rule=\"nonzero\" fill-opacity=\"1\" /><path clip-path=\"url(#clip500)\" d=\"M29.7248 1040.34 L35.1993 1040.34 Q33.8307 1042.82 33.1623 1045.33 Q32.4621 1047.82 32.4621 1050.36 Q32.4621 1056.06 36.0905 1059.21 Q39.6872 1062.36 46.212 1062.36 Q52.7369 1062.36 56.3653 1059.21 Q59.9619 1056.06 59.9619 1050.36 Q59.9619 1047.82 59.2935 1045.33 Q58.5933 1042.82 57.2247 1040.34 L62.6355 1040.34 Q63.7814 1042.79 64.3543 1045.43 Q64.9272 1048.04 64.9272 1051 Q64.9272 1059.05 59.8664 1063.79 Q54.8057 1068.54 46.212 1068.54 Q37.491 1068.54 32.4939 1063.76 Q27.4968 1058.96 27.4968 1050.62 Q27.4968 1047.91 28.0697 1045.33 Q28.6108 1042.76 29.7248 1040.34 Z\" fill=\"#000000\" fill-rule=\"nonzero\" fill-opacity=\"1\" /><path clip-path=\"url(#clip500)\" d=\"M46.0847 1013.95 Q46.0847 1021.05 47.7079 1023.79 Q49.3312 1026.52 53.2461 1026.52 Q56.3653 1026.52 58.2114 1024.49 Q60.0256 1022.42 60.0256 1018.88 Q60.0256 1014.01 56.5881 1011.09 Q53.1188 1008.13 47.3897 1008.13 L46.0847 1008.13 L46.0847 1013.95 M43.6657 1002.27 L64.0042 1002.27 L64.0042 1008.13 L58.5933 1008.13 Q61.8398 1010.13 63.3994 1013.12 Q64.9272 1016.11 64.9272 1020.44 Q64.9272 1025.92 61.8716 1029.16 Q58.7843 1032.38 53.6281 1032.38 Q47.6125 1032.38 44.5569 1028.37 Q41.5014 1024.33 41.5014 1016.34 L41.5014 1008.13 L40.9285 1008.13 Q36.8862 1008.13 34.6901 1010.8 Q32.4621 1013.44 32.4621 1018.25 Q32.4621 1021.3 33.1941 1024.2 Q33.9262 1027.1 35.3903 1029.77 L29.9795 1029.77 Q28.7381 1026.55 28.1334 1023.53 Q27.4968 1020.51 27.4968 1017.64 Q27.4968 1009.91 31.5072 1006.09 Q35.5176 1002.27 43.6657 1002.27 Z\" fill=\"#000000\" fill-rule=\"nonzero\" fill-opacity=\"1\" /><path clip-path=\"url(#clip500)\" d=\"M14.479 990.206 L14.479 984.35 L64.0042 984.35 L64.0042 990.206 L14.479 990.206 Z\" fill=\"#000000\" fill-rule=\"nonzero\" fill-opacity=\"1\" /><path clip-path=\"url(#clip500)\" d=\"M44.7161 941.604 L47.5806 941.604 L47.5806 968.531 Q53.6281 968.149 56.8109 964.903 Q59.9619 961.624 59.9619 955.8 Q59.9619 952.426 59.1344 949.275 Q58.3069 946.092 56.6518 942.973 L62.1899 942.973 Q63.5267 946.124 64.227 949.434 Q64.9272 952.744 64.9272 956.15 Q64.9272 964.68 59.9619 969.677 Q54.9967 974.642 46.5303 974.642 Q37.7774 974.642 32.6531 969.931 Q27.4968 965.189 27.4968 957.168 Q27.4968 949.975 32.1438 945.805 Q36.7589 941.604 44.7161 941.604 M42.9973 947.461 Q38.1912 947.524 35.3266 950.166 Q32.4621 952.776 32.4621 957.105 Q32.4621 962.006 35.2312 964.966 Q38.0002 967.894 43.0292 968.34 L42.9973 947.461 Z\" fill=\"#000000\" fill-rule=\"nonzero\" fill-opacity=\"1\" /><path clip-path=\"url(#clip500)\" d=\"M33.7671 908.534 L14.479 908.534 L14.479 902.678 L64.0042 902.678 L64.0042 908.534 L58.657 908.534 Q61.8398 910.38 63.3994 913.213 Q64.9272 916.014 64.9272 919.961 Q64.9272 926.422 59.771 930.496 Q54.6147 934.538 46.212 934.538 Q37.8093 934.538 32.6531 930.496 Q27.4968 926.422 27.4968 919.961 Q27.4968 916.014 29.0564 913.213 Q30.5842 910.38 33.7671 908.534 M46.212 928.491 Q52.6732 928.491 56.3653 925.849 Q60.0256 923.175 60.0256 918.528 Q60.0256 913.881 56.3653 911.208 Q52.6732 908.534 46.212 908.534 Q39.7508 908.534 36.0905 911.208 Q32.3984 913.881 32.3984 918.528 Q32.3984 923.175 36.0905 925.849 Q39.7508 928.491 46.212 928.491 Z\" fill=\"#000000\" fill-rule=\"nonzero\" fill-opacity=\"1\" /><path clip-path=\"url(#clip500)\" d=\"M21.7677 863.21 L39.6235 863.21 L39.6235 855.126 Q39.6235 850.638 37.3 848.187 Q34.9765 845.737 30.6797 845.737 Q26.4147 845.737 24.0912 848.187 Q21.7677 850.638 21.7677 855.126 L21.7677 863.21 M16.4842 869.64 L16.4842 855.126 Q16.4842 847.137 20.1126 843.063 Q23.7092 838.957 30.6797 838.957 Q37.7138 838.957 41.3104 843.063 Q44.907 847.137 44.907 855.126 L44.907 863.21 L64.0042 863.21 L64.0042 869.64 L16.4842 869.64 Z\" fill=\"#000000\" fill-rule=\"nonzero\" fill-opacity=\"1\" /><path clip-path=\"url(#clip500)\" d=\"M29.4065 809.006 L34.9447 809.006 Q33.6716 811.489 33.035 814.163 Q32.3984 816.836 32.3984 819.701 Q32.3984 824.061 33.7352 826.257 Q35.072 828.422 37.7456 828.422 Q39.7826 828.422 40.9603 826.862 Q42.1061 825.303 43.1565 820.592 L43.6021 818.587 Q44.9389 812.348 47.3897 809.738 Q49.8086 807.097 54.1691 807.097 Q59.1344 807.097 62.0308 811.043 Q64.9272 814.958 64.9272 821.833 Q64.9272 824.698 64.3543 827.817 Q63.8132 830.904 62.6992 834.342 L56.6518 834.342 Q58.3387 831.095 59.198 827.944 Q60.0256 824.793 60.0256 821.706 Q60.0256 817.568 58.6251 815.34 Q57.1929 813.112 54.6147 813.112 Q52.2276 813.112 50.9545 814.736 Q49.6813 816.327 48.5037 821.77 L48.0262 823.807 Q46.8804 829.249 44.5251 831.668 Q42.138 834.087 38.0002 834.087 Q32.9713 834.087 30.2341 830.523 Q27.4968 826.958 27.4968 820.401 Q27.4968 817.155 27.9743 814.29 Q28.4517 811.425 29.4065 809.006 Z\" fill=\"#000000\" fill-rule=\"nonzero\" fill-opacity=\"1\" /><path clip-path=\"url(#clip500)\" d=\"M44.7161 767.279 L47.5806 767.279 L47.5806 794.206 Q53.6281 793.824 56.8109 790.578 Q59.9619 787.299 59.9619 781.475 Q59.9619 778.101 59.1344 774.95 Q58.3069 771.767 56.6518 768.648 L62.1899 768.648 Q63.5267 771.799 64.227 775.109 Q64.9272 778.419 64.9272 781.825 Q64.9272 790.355 59.9619 795.352 Q54.9967 800.317 46.5303 800.317 Q37.7774 800.317 32.6531 795.607 Q27.4968 790.864 27.4968 782.843 Q27.4968 775.65 32.1438 771.481 Q36.7589 767.279 44.7161 767.279 M42.9973 773.136 Q38.1912 773.199 35.3266 775.841 Q32.4621 778.451 32.4621 782.78 Q32.4621 787.681 35.2312 790.641 Q38.0002 793.57 43.0292 794.015 L42.9973 773.136 Z\" fill=\"#000000\" fill-rule=\"nonzero\" fill-opacity=\"1\" /><path clip-path=\"url(#clip500)\" d=\"M49.9359 758.272 L28.3562 758.272 L28.3562 752.415 L49.7131 752.415 Q54.7739 752.415 57.3202 750.442 Q59.8346 748.469 59.8346 744.522 Q59.8346 739.779 56.8109 737.042 Q53.7872 734.273 48.5673 734.273 L28.3562 734.273 L28.3562 728.417 L64.0042 728.417 L64.0042 734.273 L58.5296 734.273 Q61.7762 736.406 63.3676 739.238 Q64.9272 742.039 64.9272 745.763 Q64.9272 751.906 61.1078 755.089 Q57.2883 758.272 49.9359 758.272 M27.4968 743.535 L27.4968 743.535 Z\" fill=\"#000000\" fill-rule=\"nonzero\" fill-opacity=\"1\" /><path clip-path=\"url(#clip500)\" d=\"M33.7671 692.896 L14.479 692.896 L14.479 687.039 L64.0042 687.039 L64.0042 692.896 L58.657 692.896 Q61.8398 694.742 63.3994 697.575 Q64.9272 700.376 64.9272 704.322 Q64.9272 710.784 59.771 714.858 Q54.6147 718.9 46.212 718.9 Q37.8093 718.9 32.6531 714.858 Q27.4968 710.784 27.4968 704.322 Q27.4968 700.376 29.0564 697.575 Q30.5842 694.742 33.7671 692.896 M46.212 712.852 Q52.6732 712.852 56.3653 710.211 Q60.0256 707.537 60.0256 702.89 Q60.0256 698.243 56.3653 695.57 Q52.6732 692.896 46.212 692.896 Q39.7508 692.896 36.0905 695.57 Q32.3984 698.243 32.3984 702.89 Q32.3984 707.537 36.0905 710.211 Q39.7508 712.852 46.212 712.852 Z\" fill=\"#000000\" fill-rule=\"nonzero\" fill-opacity=\"1\" /><path clip-path=\"url(#clip500)\" d=\"M32.4621 661.163 Q32.4621 665.874 36.1542 668.611 Q39.8145 671.348 46.212 671.348 Q52.6095 671.348 56.3017 668.643 Q59.9619 665.905 59.9619 661.163 Q59.9619 656.484 56.2698 653.747 Q52.5777 651.01 46.212 651.01 Q39.8781 651.01 36.186 653.747 Q32.4621 656.484 32.4621 661.163 M27.4968 661.163 Q27.4968 653.524 32.4621 649.164 Q37.4273 644.803 46.212 644.803 Q54.9649 644.803 59.9619 649.164 Q64.9272 653.524 64.9272 661.163 Q64.9272 668.834 59.9619 673.194 Q54.9649 677.523 46.212 677.523 Q37.4273 677.523 32.4621 673.194 Q27.4968 668.834 27.4968 661.163 Z\" fill=\"#000000\" fill-rule=\"nonzero\" fill-opacity=\"1\" /><path clip-path=\"url(#clip500)\" d=\"M16.4842 614.12 L16.4842 584.074 L21.895 584.074 L21.895 607.691 L35.9632 607.691 L35.9632 585.061 L41.3741 585.061 L41.3741 607.691 L58.5933 607.691 L58.5933 583.501 L64.0042 583.501 L64.0042 614.12 L16.4842 614.12 Z\" fill=\"#000000\" fill-rule=\"nonzero\" fill-opacity=\"1\" /><path clip-path=\"url(#clip500)\" d=\"M42.4881 543.556 L64.0042 543.556 L64.0042 549.413 L42.679 549.413 Q37.6183 549.413 35.1038 551.386 Q32.5894 553.36 32.5894 557.306 Q32.5894 562.049 35.6131 564.786 Q38.6368 567.523 43.8567 567.523 L64.0042 567.523 L64.0042 573.412 L28.3562 573.412 L28.3562 567.523 L33.8944 567.523 Q30.6797 565.423 29.0883 562.59 Q27.4968 559.725 27.4968 556.001 Q27.4968 549.859 31.3163 546.707 Q35.1038 543.556 42.4881 543.556 Z\" fill=\"#000000\" fill-rule=\"nonzero\" fill-opacity=\"1\" /><path clip-path=\"url(#clip500)\" d=\"M44.7161 501.384 L47.5806 501.384 L47.5806 528.311 Q53.6281 527.929 56.8109 524.682 Q59.9619 521.404 59.9619 515.579 Q59.9619 512.205 59.1344 509.054 Q58.3069 505.871 56.6518 502.752 L62.1899 502.752 Q63.5267 505.903 64.227 509.213 Q64.9272 512.524 64.9272 515.929 Q64.9272 524.459 59.9619 529.456 Q54.9967 534.422 46.5303 534.422 Q37.7774 534.422 32.6531 529.711 Q27.4968 524.969 27.4968 516.948 Q27.4968 509.755 32.1438 505.585 Q36.7589 501.384 44.7161 501.384 M42.9973 507.24 Q38.1912 507.304 35.3266 509.946 Q32.4621 512.555 32.4621 516.884 Q32.4621 521.786 35.2312 524.746 Q38.0002 527.674 43.0292 528.12 L42.9973 507.24 Z\" fill=\"#000000\" fill-rule=\"nonzero\" fill-opacity=\"1\" /><path clip-path=\"url(#clip500)\" d=\"M33.8307 471.115 Q33.2578 472.101 33.0032 473.279 Q32.7167 474.425 32.7167 475.825 Q32.7167 480.791 35.9632 483.464 Q39.1779 486.106 45.2253 486.106 L64.0042 486.106 L64.0042 491.994 L28.3562 491.994 L28.3562 486.106 L33.8944 486.106 Q30.6479 484.26 29.0883 481.3 Q27.4968 478.34 27.4968 474.107 Q27.4968 473.502 27.5923 472.77 Q27.656 472.038 27.8151 471.147 L33.8307 471.115 Z\" fill=\"#000000\" fill-rule=\"nonzero\" fill-opacity=\"1\" /><path clip-path=\"url(#clip500)\" d=\"M45.7664 442.66 Q39.4007 442.66 35.8996 445.302 Q32.3984 447.912 32.3984 452.654 Q32.3984 457.365 35.8996 460.007 Q39.4007 462.616 45.7664 462.616 Q52.1003 462.616 55.6014 460.007 Q59.1026 457.365 59.1026 452.654 Q59.1026 447.912 55.6014 445.302 Q52.1003 442.66 45.7664 442.66 M59.58 436.804 Q68.683 436.804 73.1071 440.846 Q77.5631 444.888 77.5631 453.227 Q77.5631 456.314 77.0857 459.052 Q76.6401 461.789 75.6852 464.367 L69.9879 464.367 Q71.3884 461.789 72.0568 459.275 Q72.7252 456.76 72.7252 454.15 Q72.7252 448.389 69.7015 445.525 Q66.7096 442.66 60.6303 442.66 L57.7339 442.66 Q60.885 444.474 62.4446 447.307 Q64.0042 450.14 64.0042 454.086 Q64.0042 460.643 59.0071 464.654 Q54.01 468.664 45.7664 468.664 Q37.491 468.664 32.4939 464.654 Q27.4968 460.643 27.4968 454.086 Q27.4968 450.14 29.0564 447.307 Q30.616 444.474 33.7671 442.66 L28.3562 442.66 L28.3562 436.804 L59.58 436.804 Z\" fill=\"#000000\" fill-rule=\"nonzero\" fill-opacity=\"1\" /><path clip-path=\"url(#clip500)\" d=\"M67.3143 409.908 Q73.68 412.391 75.6216 414.746 Q77.5631 417.102 77.5631 421.048 L77.5631 425.727 L72.6615 425.727 L72.6615 422.29 Q72.6615 419.871 71.5157 418.534 Q70.3699 417.197 66.1048 415.574 L63.4312 414.524 L28.3562 428.942 L28.3562 422.735 L56.238 411.595 L28.3562 400.455 L28.3562 394.249 L67.3143 409.908 Z\" fill=\"#000000\" fill-rule=\"nonzero\" fill-opacity=\"1\" /><path clip-path=\"url(#clip500)\" d=\"M14.5426 351.376 Q21.8632 355.641 29.0246 357.71 Q36.186 359.779 43.5384 359.779 Q50.8908 359.779 58.1159 357.71 Q65.3091 355.609 72.5979 351.376 L72.5979 356.468 Q65.1182 361.243 57.8931 363.63 Q50.668 365.985 43.5384 365.985 Q36.4406 365.985 29.2474 363.63 Q22.0542 361.274 14.5426 356.468 L14.5426 351.376 Z\" fill=\"#000000\" fill-rule=\"nonzero\" fill-opacity=\"1\" /><path clip-path=\"url(#clip500)\" d=\"M22.818 323.876 L46.4666 332.597 L46.4666 315.123 L22.818 323.876 M16.4842 327.504 L16.4842 320.216 L64.0042 302.105 L64.0042 308.789 L51.8138 313.118 L51.8138 334.538 L64.0042 338.867 L64.0042 345.647 L16.4842 327.504 Z\" fill=\"#000000\" fill-rule=\"nonzero\" fill-opacity=\"1\" /><path clip-path=\"url(#clip500)\" d=\"M16.4842 295.899 L16.4842 289.437 L45.3526 289.437 Q52.9915 289.437 56.3653 286.668 Q59.7073 283.899 59.7073 277.693 Q59.7073 271.518 56.3653 268.749 Q52.9915 265.98 45.3526 265.98 L16.4842 265.98 L16.4842 259.519 L46.1484 259.519 Q55.4423 259.519 60.1847 264.134 Q64.9272 268.717 64.9272 277.693 Q64.9272 286.7 60.1847 291.315 Q55.4423 295.899 46.1484 295.899 L16.4842 295.899 Z\" fill=\"#000000\" fill-rule=\"nonzero\" fill-opacity=\"1\" /><path clip-path=\"url(#clip500)\" d=\"M14.5426 248.633 L14.5426 243.541 Q22.0542 238.766 29.2474 236.411 Q36.4406 234.024 43.5384 234.024 Q50.668 234.024 57.8931 236.411 Q65.1182 238.766 72.5979 243.541 L72.5979 248.633 Q65.3091 244.4 58.1159 242.331 Q50.8908 240.231 43.5384 240.231 Q36.186 240.231 29.0246 242.331 Q21.8632 244.4 14.5426 248.633 Z\" fill=\"#000000\" fill-rule=\"nonzero\" fill-opacity=\"1\" /><polyline clip-path=\"url(#clip502)\" style=\"stroke:#000080; stroke-linecap:round; stroke-linejoin:round; stroke-width:8; stroke-opacity:1; fill:none\" points=\"309.067,86.1857 489.446,1273.71 669.824,1320.42 850.203,1345.07 1030.58,1360.17 1210.96,1373.73 1391.34,1378.46 1571.72,1380.91 1752.1,1382.53 1932.47,1383.84 2112.85,1384.13 2293.23,1384.24 \"/>\n",
       "<circle clip-path=\"url(#clip502)\" cx=\"309.067\" cy=\"86.1857\" r=\"14.4\" fill=\"#000080\" fill-rule=\"evenodd\" fill-opacity=\"1\" stroke=\"#000000\" stroke-opacity=\"1\" stroke-width=\"3.2\"/>\n",
       "<circle clip-path=\"url(#clip502)\" cx=\"489.446\" cy=\"1273.71\" r=\"14.4\" fill=\"#000080\" fill-rule=\"evenodd\" fill-opacity=\"1\" stroke=\"#000000\" stroke-opacity=\"1\" stroke-width=\"3.2\"/>\n",
       "<circle clip-path=\"url(#clip502)\" cx=\"669.824\" cy=\"1320.42\" r=\"14.4\" fill=\"#000080\" fill-rule=\"evenodd\" fill-opacity=\"1\" stroke=\"#000000\" stroke-opacity=\"1\" stroke-width=\"3.2\"/>\n",
       "<circle clip-path=\"url(#clip502)\" cx=\"850.203\" cy=\"1345.07\" r=\"14.4\" fill=\"#000080\" fill-rule=\"evenodd\" fill-opacity=\"1\" stroke=\"#000000\" stroke-opacity=\"1\" stroke-width=\"3.2\"/>\n",
       "<circle clip-path=\"url(#clip502)\" cx=\"1030.58\" cy=\"1360.17\" r=\"14.4\" fill=\"#000080\" fill-rule=\"evenodd\" fill-opacity=\"1\" stroke=\"#000000\" stroke-opacity=\"1\" stroke-width=\"3.2\"/>\n",
       "<circle clip-path=\"url(#clip502)\" cx=\"1210.96\" cy=\"1373.73\" r=\"14.4\" fill=\"#000080\" fill-rule=\"evenodd\" fill-opacity=\"1\" stroke=\"#000000\" stroke-opacity=\"1\" stroke-width=\"3.2\"/>\n",
       "<circle clip-path=\"url(#clip502)\" cx=\"1391.34\" cy=\"1378.46\" r=\"14.4\" fill=\"#000080\" fill-rule=\"evenodd\" fill-opacity=\"1\" stroke=\"#000000\" stroke-opacity=\"1\" stroke-width=\"3.2\"/>\n",
       "<circle clip-path=\"url(#clip502)\" cx=\"1571.72\" cy=\"1380.91\" r=\"14.4\" fill=\"#000080\" fill-rule=\"evenodd\" fill-opacity=\"1\" stroke=\"#000000\" stroke-opacity=\"1\" stroke-width=\"3.2\"/>\n",
       "<circle clip-path=\"url(#clip502)\" cx=\"1752.1\" cy=\"1382.53\" r=\"14.4\" fill=\"#000080\" fill-rule=\"evenodd\" fill-opacity=\"1\" stroke=\"#000000\" stroke-opacity=\"1\" stroke-width=\"3.2\"/>\n",
       "<circle clip-path=\"url(#clip502)\" cx=\"1932.47\" cy=\"1383.84\" r=\"14.4\" fill=\"#000080\" fill-rule=\"evenodd\" fill-opacity=\"1\" stroke=\"#000000\" stroke-opacity=\"1\" stroke-width=\"3.2\"/>\n",
       "<circle clip-path=\"url(#clip502)\" cx=\"2112.85\" cy=\"1384.13\" r=\"14.4\" fill=\"#000080\" fill-rule=\"evenodd\" fill-opacity=\"1\" stroke=\"#000000\" stroke-opacity=\"1\" stroke-width=\"3.2\"/>\n",
       "<circle clip-path=\"url(#clip502)\" cx=\"2293.23\" cy=\"1384.24\" r=\"14.4\" fill=\"#000080\" fill-rule=\"evenodd\" fill-opacity=\"1\" stroke=\"#000000\" stroke-opacity=\"1\" stroke-width=\"3.2\"/>\n",
       "</svg>\n"
      ],
      "text/html": [
       "<?xml version=\"1.0\" encoding=\"utf-8\"?>\n",
       "<svg xmlns=\"http://www.w3.org/2000/svg\" xmlns:xlink=\"http://www.w3.org/1999/xlink\" width=\"600\" height=\"400\" viewBox=\"0 0 2400 1600\">\n",
       "<defs>\n",
       "  <clipPath id=\"clip550\">\n",
       "    <rect x=\"0\" y=\"0\" width=\"2400\" height=\"1600\"/>\n",
       "  </clipPath>\n",
       "</defs>\n",
       "<path clip-path=\"url(#clip550)\" d=\"M0 1600 L2400 1600 L2400 0 L0 0  Z\" fill=\"#ffffff\" fill-rule=\"evenodd\" fill-opacity=\"1\"/>\n",
       "<defs>\n",
       "  <clipPath id=\"clip551\">\n",
       "    <rect x=\"480\" y=\"0\" width=\"1681\" height=\"1600\"/>\n",
       "  </clipPath>\n",
       "</defs>\n",
       "<path clip-path=\"url(#clip550)\" d=\"M249.542 1423.18 L2352.76 1423.18 L2352.76 47.2441 L249.542 47.2441  Z\" fill=\"#ffffff\" fill-rule=\"evenodd\" fill-opacity=\"1\"/>\n",
       "<defs>\n",
       "  <clipPath id=\"clip552\">\n",
       "    <rect x=\"249\" y=\"47\" width=\"2104\" height=\"1377\"/>\n",
       "  </clipPath>\n",
       "</defs>\n",
       "<polyline clip-path=\"url(#clip552)\" style=\"stroke:#000000; stroke-linecap:round; stroke-linejoin:round; stroke-width:2; stroke-opacity:0.1; fill:none\" points=\"579.635,1423.18 579.635,47.2441 \"/>\n",
       "<polyline clip-path=\"url(#clip552)\" style=\"stroke:#000000; stroke-linecap:round; stroke-linejoin:round; stroke-width:2; stroke-opacity:0.1; fill:none\" points=\"1030.58,1423.18 1030.58,47.2441 \"/>\n",
       "<polyline clip-path=\"url(#clip552)\" style=\"stroke:#000000; stroke-linecap:round; stroke-linejoin:round; stroke-width:2; stroke-opacity:0.1; fill:none\" points=\"1481.53,1423.18 1481.53,47.2441 \"/>\n",
       "<polyline clip-path=\"url(#clip552)\" style=\"stroke:#000000; stroke-linecap:round; stroke-linejoin:round; stroke-width:2; stroke-opacity:0.1; fill:none\" points=\"1932.47,1423.18 1932.47,47.2441 \"/>\n",
       "<polyline clip-path=\"url(#clip552)\" style=\"stroke:#000000; stroke-linecap:round; stroke-linejoin:round; stroke-width:2; stroke-opacity:0.1; fill:none\" points=\"249.542,1384.24 2352.76,1384.24 \"/>\n",
       "<polyline clip-path=\"url(#clip552)\" style=\"stroke:#000000; stroke-linecap:round; stroke-linejoin:round; stroke-width:2; stroke-opacity:0.1; fill:none\" points=\"249.542,1059.73 2352.76,1059.73 \"/>\n",
       "<polyline clip-path=\"url(#clip552)\" style=\"stroke:#000000; stroke-linecap:round; stroke-linejoin:round; stroke-width:2; stroke-opacity:0.1; fill:none\" points=\"249.542,735.212 2352.76,735.212 \"/>\n",
       "<polyline clip-path=\"url(#clip552)\" style=\"stroke:#000000; stroke-linecap:round; stroke-linejoin:round; stroke-width:2; stroke-opacity:0.1; fill:none\" points=\"249.542,410.699 2352.76,410.699 \"/>\n",
       "<polyline clip-path=\"url(#clip552)\" style=\"stroke:#000000; stroke-linecap:round; stroke-linejoin:round; stroke-width:2; stroke-opacity:0.1; fill:none\" points=\"249.542,86.1857 2352.76,86.1857 \"/>\n",
       "<polyline clip-path=\"url(#clip550)\" style=\"stroke:#000000; stroke-linecap:round; stroke-linejoin:round; stroke-width:4; stroke-opacity:1; fill:none\" points=\"249.542,1423.18 2352.76,1423.18 \"/>\n",
       "<polyline clip-path=\"url(#clip550)\" style=\"stroke:#000000; stroke-linecap:round; stroke-linejoin:round; stroke-width:4; stroke-opacity:1; fill:none\" points=\"579.635,1423.18 579.635,1404.28 \"/>\n",
       "<polyline clip-path=\"url(#clip550)\" style=\"stroke:#000000; stroke-linecap:round; stroke-linejoin:round; stroke-width:4; stroke-opacity:1; fill:none\" points=\"1030.58,1423.18 1030.58,1404.28 \"/>\n",
       "<polyline clip-path=\"url(#clip550)\" style=\"stroke:#000000; stroke-linecap:round; stroke-linejoin:round; stroke-width:4; stroke-opacity:1; fill:none\" points=\"1481.53,1423.18 1481.53,1404.28 \"/>\n",
       "<polyline clip-path=\"url(#clip550)\" style=\"stroke:#000000; stroke-linecap:round; stroke-linejoin:round; stroke-width:4; stroke-opacity:1; fill:none\" points=\"1932.47,1423.18 1932.47,1404.28 \"/>\n",
       "<path clip-path=\"url(#clip550)\" d=\"M551.371 1481.64 L567.69 1481.64 L567.69 1485.58 L545.746 1485.58 L545.746 1481.64 Q548.408 1478.89 552.991 1474.26 Q557.598 1469.61 558.778 1468.27 Q561.024 1465.74 561.903 1464.01 Q562.806 1462.25 562.806 1460.56 Q562.806 1457.8 560.862 1456.07 Q558.94 1454.33 555.839 1454.33 Q553.64 1454.33 551.186 1455.09 Q548.755 1455.86 545.978 1457.41 L545.978 1452.69 Q548.802 1451.55 551.255 1450.97 Q553.709 1450.39 555.746 1450.39 Q561.116 1450.39 564.311 1453.08 Q567.505 1455.77 567.505 1460.26 Q567.505 1462.39 566.695 1464.31 Q565.908 1466.2 563.802 1468.8 Q563.223 1469.47 560.121 1472.69 Q557.019 1475.88 551.371 1481.64 Z\" fill=\"#000000\" fill-rule=\"nonzero\" fill-opacity=\"1\" /><path clip-path=\"url(#clip550)\" d=\"M577.505 1479.7 L582.389 1479.7 L582.389 1485.58 L577.505 1485.58 L577.505 1479.7 Z\" fill=\"#000000\" fill-rule=\"nonzero\" fill-opacity=\"1\" /><path clip-path=\"url(#clip550)\" d=\"M592.621 1451.02 L610.977 1451.02 L610.977 1454.96 L596.903 1454.96 L596.903 1463.43 Q597.922 1463.08 598.94 1462.92 Q599.959 1462.73 600.977 1462.73 Q606.764 1462.73 610.144 1465.9 Q613.523 1469.08 613.523 1474.49 Q613.523 1480.07 610.051 1483.17 Q606.579 1486.25 600.26 1486.25 Q598.084 1486.25 595.815 1485.88 Q593.57 1485.51 591.162 1484.77 L591.162 1480.07 Q593.246 1481.2 595.468 1481.76 Q597.69 1482.32 600.167 1482.32 Q604.172 1482.32 606.51 1480.21 Q608.848 1478.1 608.848 1474.49 Q608.848 1470.88 606.51 1468.77 Q604.172 1466.67 600.167 1466.67 Q598.292 1466.67 596.417 1467.08 Q594.565 1467.5 592.621 1468.38 L592.621 1451.02 Z\" fill=\"#000000\" fill-rule=\"nonzero\" fill-opacity=\"1\" /><path clip-path=\"url(#clip550)\" d=\"M997.746 1451.02 L1016.1 1451.02 L1016.1 1454.96 L1002.03 1454.96 L1002.03 1463.43 Q1003.05 1463.08 1004.07 1462.92 Q1005.08 1462.73 1006.1 1462.73 Q1011.89 1462.73 1015.27 1465.9 Q1018.65 1469.08 1018.65 1474.49 Q1018.65 1480.07 1015.18 1483.17 Q1011.7 1486.25 1005.38 1486.25 Q1003.21 1486.25 1000.94 1485.88 Q998.695 1485.51 996.287 1484.77 L996.287 1480.07 Q998.371 1481.2 1000.59 1481.76 Q1002.82 1482.32 1005.29 1482.32 Q1009.3 1482.32 1011.63 1480.21 Q1013.97 1478.1 1013.97 1474.49 Q1013.97 1470.88 1011.63 1468.77 Q1009.3 1466.67 1005.29 1466.67 Q1003.42 1466.67 1001.54 1467.08 Q999.69 1467.5 997.746 1468.38 L997.746 1451.02 Z\" fill=\"#000000\" fill-rule=\"nonzero\" fill-opacity=\"1\" /><path clip-path=\"url(#clip550)\" d=\"M1027.86 1479.7 L1032.75 1479.7 L1032.75 1485.58 L1027.86 1485.58 L1027.86 1479.7 Z\" fill=\"#000000\" fill-rule=\"nonzero\" fill-opacity=\"1\" /><path clip-path=\"url(#clip550)\" d=\"M1052.93 1454.1 Q1049.32 1454.1 1047.49 1457.66 Q1045.69 1461.2 1045.69 1468.33 Q1045.69 1475.44 1047.49 1479.01 Q1049.32 1482.55 1052.93 1482.55 Q1056.56 1482.55 1058.37 1479.01 Q1060.2 1475.44 1060.2 1468.33 Q1060.2 1461.2 1058.37 1457.66 Q1056.56 1454.1 1052.93 1454.1 M1052.93 1450.39 Q1058.74 1450.39 1061.8 1455 Q1064.87 1459.58 1064.87 1468.33 Q1064.87 1477.06 1061.8 1481.67 Q1058.74 1486.25 1052.93 1486.25 Q1047.12 1486.25 1044.04 1481.67 Q1040.99 1477.06 1040.99 1468.33 Q1040.99 1459.58 1044.04 1455 Q1047.12 1450.39 1052.93 1450.39 Z\" fill=\"#000000\" fill-rule=\"nonzero\" fill-opacity=\"1\" /><path clip-path=\"url(#clip550)\" d=\"M1447.85 1451.02 L1470.07 1451.02 L1470.07 1453.01 L1457.52 1485.58 L1452.64 1485.58 L1464.44 1454.96 L1447.85 1454.96 L1447.85 1451.02 Z\" fill=\"#000000\" fill-rule=\"nonzero\" fill-opacity=\"1\" /><path clip-path=\"url(#clip550)\" d=\"M1479.19 1479.7 L1484.07 1479.7 L1484.07 1485.58 L1479.19 1485.58 L1479.19 1479.7 Z\" fill=\"#000000\" fill-rule=\"nonzero\" fill-opacity=\"1\" /><path clip-path=\"url(#clip550)\" d=\"M1494.31 1451.02 L1512.66 1451.02 L1512.66 1454.96 L1498.59 1454.96 L1498.59 1463.43 Q1499.61 1463.08 1500.62 1462.92 Q1501.64 1462.73 1502.66 1462.73 Q1508.45 1462.73 1511.83 1465.9 Q1515.21 1469.08 1515.21 1474.49 Q1515.21 1480.07 1511.74 1483.17 Q1508.26 1486.25 1501.94 1486.25 Q1499.77 1486.25 1497.5 1485.88 Q1495.25 1485.51 1492.85 1484.77 L1492.85 1480.07 Q1494.93 1481.2 1497.15 1481.76 Q1499.37 1482.32 1501.85 1482.32 Q1505.86 1482.32 1508.19 1480.21 Q1510.53 1478.1 1510.53 1474.49 Q1510.53 1470.88 1508.19 1468.77 Q1505.86 1466.67 1501.85 1466.67 Q1499.98 1466.67 1498.1 1467.08 Q1496.25 1467.5 1494.31 1468.38 L1494.31 1451.02 Z\" fill=\"#000000\" fill-rule=\"nonzero\" fill-opacity=\"1\" /><path clip-path=\"url(#clip550)\" d=\"M1884.55 1481.64 L1892.18 1481.64 L1892.18 1455.28 L1883.87 1456.95 L1883.87 1452.69 L1892.14 1451.02 L1896.81 1451.02 L1896.81 1481.64 L1904.45 1481.64 L1904.45 1485.58 L1884.55 1485.58 L1884.55 1481.64 Z\" fill=\"#000000\" fill-rule=\"nonzero\" fill-opacity=\"1\" /><path clip-path=\"url(#clip550)\" d=\"M1923.9 1454.1 Q1920.29 1454.1 1918.46 1457.66 Q1916.65 1461.2 1916.65 1468.33 Q1916.65 1475.44 1918.46 1479.01 Q1920.29 1482.55 1923.9 1482.55 Q1927.53 1482.55 1929.34 1479.01 Q1931.17 1475.44 1931.17 1468.33 Q1931.17 1461.2 1929.34 1457.66 Q1927.53 1454.1 1923.9 1454.1 M1923.9 1450.39 Q1929.71 1450.39 1932.76 1455 Q1935.84 1459.58 1935.84 1468.33 Q1935.84 1477.06 1932.76 1481.67 Q1929.71 1486.25 1923.9 1486.25 Q1918.09 1486.25 1915.01 1481.67 Q1911.95 1477.06 1911.95 1468.33 Q1911.95 1459.58 1915.01 1455 Q1918.09 1450.39 1923.9 1450.39 Z\" fill=\"#000000\" fill-rule=\"nonzero\" fill-opacity=\"1\" /><path clip-path=\"url(#clip550)\" d=\"M1944.06 1479.7 L1948.94 1479.7 L1948.94 1485.58 L1944.06 1485.58 L1944.06 1479.7 Z\" fill=\"#000000\" fill-rule=\"nonzero\" fill-opacity=\"1\" /><path clip-path=\"url(#clip550)\" d=\"M1969.13 1454.1 Q1965.52 1454.1 1963.69 1457.66 Q1961.88 1461.2 1961.88 1468.33 Q1961.88 1475.44 1963.69 1479.01 Q1965.52 1482.55 1969.13 1482.55 Q1972.76 1482.55 1974.57 1479.01 Q1976.4 1475.44 1976.4 1468.33 Q1976.4 1461.2 1974.57 1457.66 Q1972.76 1454.1 1969.13 1454.1 M1969.13 1450.39 Q1974.94 1450.39 1977.99 1455 Q1981.07 1459.58 1981.07 1468.33 Q1981.07 1477.06 1977.99 1481.67 Q1974.94 1486.25 1969.13 1486.25 Q1963.32 1486.25 1960.24 1481.67 Q1957.18 1477.06 1957.18 1468.33 Q1957.18 1459.58 1960.24 1455 Q1963.32 1450.39 1969.13 1450.39 Z\" fill=\"#000000\" fill-rule=\"nonzero\" fill-opacity=\"1\" /><path clip-path=\"url(#clip550)\" d=\"M970.451 1520.52 L976.88 1520.52 L976.88 1568.04 L970.451 1568.04 L970.451 1520.52 Z\" fill=\"#000000\" fill-rule=\"nonzero\" fill-opacity=\"1\" /><path clip-path=\"url(#clip550)\" d=\"M995.213 1522.27 L995.213 1532.4 L1007.28 1532.4 L1007.28 1536.95 L995.213 1536.95 L995.213 1556.3 Q995.213 1560.66 996.391 1561.9 Q997.6 1563.14 1001.26 1563.14 L1007.28 1563.14 L1007.28 1568.04 L1001.26 1568.04 Q994.481 1568.04 991.903 1565.53 Q989.325 1562.98 989.325 1556.3 L989.325 1536.95 L985.028 1536.95 L985.028 1532.4 L989.325 1532.4 L989.325 1522.27 L995.213 1522.27 Z\" fill=\"#000000\" fill-rule=\"nonzero\" fill-opacity=\"1\" /><path clip-path=\"url(#clip550)\" d=\"M1045.47 1548.76 L1045.47 1551.62 L1018.54 1551.62 Q1018.93 1557.67 1022.17 1560.85 Q1025.45 1564 1031.27 1564 Q1034.65 1564 1037.8 1563.17 Q1040.98 1562.35 1044.1 1560.69 L1044.1 1566.23 Q1040.95 1567.57 1037.64 1568.27 Q1034.33 1568.97 1030.92 1568.97 Q1022.39 1568.97 1017.4 1564 Q1012.43 1559.04 1012.43 1550.57 Q1012.43 1541.82 1017.14 1536.69 Q1021.89 1531.54 1029.91 1531.54 Q1037.1 1531.54 1041.27 1536.18 Q1045.47 1540.8 1045.47 1548.76 M1039.61 1547.04 Q1039.55 1542.23 1036.91 1539.37 Q1034.3 1536.5 1029.97 1536.5 Q1025.07 1536.5 1022.11 1539.27 Q1019.18 1542.04 1018.73 1547.07 L1039.61 1547.04 Z\" fill=\"#000000\" fill-rule=\"nonzero\" fill-opacity=\"1\" /><path clip-path=\"url(#clip550)\" d=\"M1075.74 1537.87 Q1074.75 1537.3 1073.57 1537.04 Q1072.43 1536.76 1071.03 1536.76 Q1066.06 1536.76 1063.39 1540 Q1060.75 1543.22 1060.75 1549.27 L1060.75 1568.04 L1054.86 1568.04 L1054.86 1532.4 L1060.75 1532.4 L1060.75 1537.93 Q1062.59 1534.69 1065.55 1533.13 Q1068.51 1531.54 1072.75 1531.54 Q1073.35 1531.54 1074.08 1531.63 Q1074.82 1531.7 1075.71 1531.85 L1075.74 1537.87 Z\" fill=\"#000000\" fill-rule=\"nonzero\" fill-opacity=\"1\" /><path clip-path=\"url(#clip550)\" d=\"M1098.08 1550.12 Q1090.99 1550.12 1088.25 1551.75 Q1085.51 1553.37 1085.51 1557.29 Q1085.51 1560.4 1087.55 1562.25 Q1089.62 1564.07 1093.15 1564.07 Q1098.02 1564.07 1100.95 1560.63 Q1103.91 1557.16 1103.91 1551.43 L1103.91 1550.12 L1098.08 1550.12 M1109.76 1547.71 L1109.76 1568.04 L1103.91 1568.04 L1103.91 1562.63 Q1101.9 1565.88 1098.91 1567.44 Q1095.92 1568.97 1091.59 1568.97 Q1086.12 1568.97 1082.87 1565.91 Q1079.65 1562.82 1079.65 1557.67 Q1079.65 1551.65 1083.66 1548.6 Q1087.71 1545.54 1095.7 1545.54 L1103.91 1545.54 L1103.91 1544.97 Q1103.91 1540.93 1101.23 1538.73 Q1098.59 1536.5 1093.79 1536.5 Q1090.73 1536.5 1087.83 1537.23 Q1084.94 1537.97 1082.26 1539.43 L1082.26 1534.02 Q1085.48 1532.78 1088.5 1532.17 Q1091.53 1531.54 1094.39 1531.54 Q1102.13 1531.54 1105.94 1535.55 Q1109.76 1539.56 1109.76 1547.71 Z\" fill=\"#000000\" fill-rule=\"nonzero\" fill-opacity=\"1\" /><path clip-path=\"url(#clip550)\" d=\"M1127.62 1522.27 L1127.62 1532.4 L1139.68 1532.4 L1139.68 1536.95 L1127.62 1536.95 L1127.62 1556.3 Q1127.62 1560.66 1128.8 1561.9 Q1130.01 1563.14 1133.67 1563.14 L1139.68 1563.14 L1139.68 1568.04 L1133.67 1568.04 Q1126.89 1568.04 1124.31 1565.53 Q1121.73 1562.98 1121.73 1556.3 L1121.73 1536.95 L1117.43 1536.95 L1117.43 1532.4 L1121.73 1532.4 L1121.73 1522.27 L1127.62 1522.27 Z\" fill=\"#000000\" fill-rule=\"nonzero\" fill-opacity=\"1\" /><path clip-path=\"url(#clip550)\" d=\"M1147.39 1532.4 L1153.24 1532.4 L1153.24 1568.04 L1147.39 1568.04 L1147.39 1532.4 M1147.39 1518.52 L1153.24 1518.52 L1153.24 1525.93 L1147.39 1525.93 L1147.39 1518.52 Z\" fill=\"#000000\" fill-rule=\"nonzero\" fill-opacity=\"1\" /><path clip-path=\"url(#clip550)\" d=\"M1179.31 1536.5 Q1174.6 1536.5 1171.86 1540.19 Q1169.12 1543.85 1169.12 1550.25 Q1169.12 1556.65 1171.83 1560.34 Q1174.57 1564 1179.31 1564 Q1183.99 1564 1186.73 1560.31 Q1189.46 1556.62 1189.46 1550.25 Q1189.46 1543.92 1186.73 1540.23 Q1183.99 1536.5 1179.31 1536.5 M1179.31 1531.54 Q1186.95 1531.54 1191.31 1536.5 Q1195.67 1541.47 1195.67 1550.25 Q1195.67 1559 1191.31 1564 Q1186.95 1568.97 1179.31 1568.97 Q1171.64 1568.97 1167.28 1564 Q1162.95 1559 1162.95 1550.25 Q1162.95 1541.47 1167.28 1536.5 Q1171.64 1531.54 1179.31 1531.54 Z\" fill=\"#000000\" fill-rule=\"nonzero\" fill-opacity=\"1\" /><path clip-path=\"url(#clip550)\" d=\"M1235.01 1546.53 L1235.01 1568.04 L1229.15 1568.04 L1229.15 1546.72 Q1229.15 1541.66 1227.18 1539.14 Q1225.21 1536.63 1221.26 1536.63 Q1216.52 1536.63 1213.78 1539.65 Q1211.04 1542.68 1211.04 1547.9 L1211.04 1568.04 L1205.15 1568.04 L1205.15 1532.4 L1211.04 1532.4 L1211.04 1537.93 Q1213.14 1534.72 1215.98 1533.13 Q1218.84 1531.54 1222.56 1531.54 Q1228.71 1531.54 1231.86 1535.36 Q1235.01 1539.14 1235.01 1546.53 Z\" fill=\"#000000\" fill-rule=\"nonzero\" fill-opacity=\"1\" /><path clip-path=\"url(#clip550)\" d=\"M1269.42 1533.45 L1269.42 1538.98 Q1266.93 1537.71 1264.26 1537.07 Q1261.59 1536.44 1258.72 1536.44 Q1254.36 1536.44 1252.16 1537.77 Q1250 1539.11 1250 1541.79 Q1250 1543.82 1251.56 1545 Q1253.12 1546.15 1257.83 1547.2 L1259.84 1547.64 Q1266.07 1548.98 1268.68 1551.43 Q1271.33 1553.85 1271.33 1558.21 Q1271.33 1563.17 1267.38 1566.07 Q1263.46 1568.97 1256.59 1568.97 Q1253.72 1568.97 1250.61 1568.39 Q1247.52 1567.85 1244.08 1566.74 L1244.08 1560.69 Q1247.33 1562.38 1250.48 1563.24 Q1253.63 1564.07 1256.72 1564.07 Q1260.85 1564.07 1263.08 1562.66 Q1265.31 1561.23 1265.31 1558.65 Q1265.31 1556.27 1263.69 1554.99 Q1262.1 1553.72 1256.65 1552.54 L1254.62 1552.07 Q1249.17 1550.92 1246.75 1548.56 Q1244.34 1546.18 1244.34 1542.04 Q1244.34 1537.01 1247.9 1534.27 Q1251.46 1531.54 1258.02 1531.54 Q1261.27 1531.54 1264.13 1532.01 Q1267 1532.49 1269.42 1533.45 Z\" fill=\"#000000\" fill-rule=\"nonzero\" fill-opacity=\"1\" /><path clip-path=\"url(#clip550)\" d=\"M1301.37 1532.4 L1307.23 1532.4 L1307.23 1568.04 L1301.37 1568.04 L1301.37 1532.4 M1301.37 1518.52 L1307.23 1518.52 L1307.23 1525.93 L1301.37 1525.93 L1301.37 1518.52 Z\" fill=\"#000000\" fill-rule=\"nonzero\" fill-opacity=\"1\" /><path clip-path=\"url(#clip550)\" d=\"M1349.11 1546.53 L1349.11 1568.04 L1343.26 1568.04 L1343.26 1546.72 Q1343.26 1541.66 1341.28 1539.14 Q1339.31 1536.63 1335.36 1536.63 Q1330.62 1536.63 1327.88 1539.65 Q1325.15 1542.68 1325.15 1547.9 L1325.15 1568.04 L1319.26 1568.04 L1319.26 1532.4 L1325.15 1532.4 L1325.15 1537.93 Q1327.25 1534.72 1330.08 1533.13 Q1332.95 1531.54 1336.67 1531.54 Q1342.81 1531.54 1345.96 1535.36 Q1349.11 1539.14 1349.11 1546.53 Z\" fill=\"#000000\" fill-rule=\"nonzero\" fill-opacity=\"1\" /><path clip-path=\"url(#clip550)\" d=\"M1384.25 1537.81 L1384.25 1518.52 L1390.11 1518.52 L1390.11 1568.04 L1384.25 1568.04 L1384.25 1562.7 Q1382.41 1565.88 1379.57 1567.44 Q1376.77 1568.97 1372.83 1568.97 Q1366.37 1568.97 1362.29 1563.81 Q1358.25 1558.65 1358.25 1550.25 Q1358.25 1541.85 1362.29 1536.69 Q1366.37 1531.54 1372.83 1531.54 Q1376.77 1531.54 1379.57 1533.1 Q1382.41 1534.62 1384.25 1537.81 M1364.3 1550.25 Q1364.3 1556.71 1366.94 1560.4 Q1369.61 1564.07 1374.26 1564.07 Q1378.91 1564.07 1381.58 1560.4 Q1384.25 1556.71 1384.25 1550.25 Q1384.25 1543.79 1381.58 1540.13 Q1378.91 1536.44 1374.26 1536.44 Q1369.61 1536.44 1366.94 1540.13 Q1364.3 1543.79 1364.3 1550.25 Z\" fill=\"#000000\" fill-rule=\"nonzero\" fill-opacity=\"1\" /><path clip-path=\"url(#clip550)\" d=\"M1432.66 1548.76 L1432.66 1551.62 L1405.74 1551.62 Q1406.12 1557.67 1409.37 1560.85 Q1412.64 1564 1418.47 1564 Q1421.84 1564 1424.99 1563.17 Q1428.18 1562.35 1431.3 1560.69 L1431.3 1566.23 Q1428.14 1567.57 1424.83 1568.27 Q1421.52 1568.97 1418.12 1568.97 Q1409.59 1568.97 1404.59 1564 Q1399.63 1559.04 1399.63 1550.57 Q1399.63 1541.82 1404.34 1536.69 Q1409.08 1531.54 1417.1 1531.54 Q1424.29 1531.54 1428.46 1536.18 Q1432.66 1540.8 1432.66 1548.76 M1426.81 1547.04 Q1426.74 1542.23 1424.1 1539.37 Q1421.49 1536.5 1417.16 1536.5 Q1412.26 1536.5 1409.3 1539.27 Q1406.37 1542.04 1405.93 1547.07 L1426.81 1547.04 Z\" fill=\"#000000\" fill-rule=\"nonzero\" fill-opacity=\"1\" /><path clip-path=\"url(#clip550)\" d=\"M1470.76 1532.4 L1457.87 1549.74 L1471.43 1568.04 L1464.52 1568.04 L1454.15 1554.04 L1443.77 1568.04 L1436.87 1568.04 L1450.71 1549.39 L1438.04 1532.4 L1444.95 1532.4 L1454.4 1545.1 L1463.86 1532.4 L1470.76 1532.4 Z\" fill=\"#000000\" fill-rule=\"nonzero\" fill-opacity=\"1\" /><path clip-path=\"url(#clip550)\" d=\"M1514.5 1518.58 Q1510.23 1525.9 1508.16 1533.06 Q1506.09 1540.23 1506.09 1547.58 Q1506.09 1554.93 1508.16 1562.16 Q1510.26 1569.35 1514.5 1576.64 L1509.4 1576.64 Q1504.63 1569.16 1502.24 1561.93 Q1499.89 1554.71 1499.89 1547.58 Q1499.89 1540.48 1502.24 1533.29 Q1504.6 1526.09 1509.4 1518.58 L1514.5 1518.58 Z\" fill=\"#000000\" fill-rule=\"nonzero\" fill-opacity=\"1\" /><path clip-path=\"url(#clip550)\" d=\"M1542 1526.86 L1533.27 1550.51 L1550.75 1550.51 L1542 1526.86 M1538.37 1520.52 L1545.66 1520.52 L1563.77 1568.04 L1557.08 1568.04 L1552.75 1555.85 L1531.33 1555.85 L1527 1568.04 L1520.22 1568.04 L1538.37 1520.52 Z\" fill=\"#000000\" fill-rule=\"nonzero\" fill-opacity=\"1\" /><path clip-path=\"url(#clip550)\" d=\"M1569.97 1520.52 L1576.43 1520.52 L1576.43 1549.39 Q1576.43 1557.03 1579.2 1560.4 Q1581.97 1563.75 1588.18 1563.75 Q1594.35 1563.75 1597.12 1560.4 Q1599.89 1557.03 1599.89 1549.39 L1599.89 1520.52 L1606.35 1520.52 L1606.35 1550.19 Q1606.35 1559.48 1601.74 1564.22 Q1597.15 1568.97 1588.18 1568.97 Q1579.17 1568.97 1574.56 1564.22 Q1569.97 1559.48 1569.97 1550.19 L1569.97 1520.52 Z\" fill=\"#000000\" fill-rule=\"nonzero\" fill-opacity=\"1\" /><path clip-path=\"url(#clip550)\" d=\"M1617.24 1518.58 L1622.33 1518.58 Q1627.1 1526.09 1629.46 1533.29 Q1631.85 1540.48 1631.85 1547.58 Q1631.85 1554.71 1629.46 1561.93 Q1627.1 1569.16 1622.33 1576.64 L1617.24 1576.64 Q1621.47 1569.35 1623.54 1562.16 Q1625.64 1554.93 1625.64 1547.58 Q1625.64 1540.23 1623.54 1533.06 Q1621.47 1525.9 1617.24 1518.58 Z\" fill=\"#000000\" fill-rule=\"nonzero\" fill-opacity=\"1\" /><polyline clip-path=\"url(#clip550)\" style=\"stroke:#000000; stroke-linecap:round; stroke-linejoin:round; stroke-width:4; stroke-opacity:1; fill:none\" points=\"249.542,1423.18 249.542,47.2441 \"/>\n",
       "<polyline clip-path=\"url(#clip550)\" style=\"stroke:#000000; stroke-linecap:round; stroke-linejoin:round; stroke-width:4; stroke-opacity:1; fill:none\" points=\"249.542,1384.24 268.44,1384.24 \"/>\n",
       "<polyline clip-path=\"url(#clip550)\" style=\"stroke:#000000; stroke-linecap:round; stroke-linejoin:round; stroke-width:4; stroke-opacity:1; fill:none\" points=\"249.542,1059.73 268.44,1059.73 \"/>\n",
       "<polyline clip-path=\"url(#clip550)\" style=\"stroke:#000000; stroke-linecap:round; stroke-linejoin:round; stroke-width:4; stroke-opacity:1; fill:none\" points=\"249.542,735.212 268.44,735.212 \"/>\n",
       "<polyline clip-path=\"url(#clip550)\" style=\"stroke:#000000; stroke-linecap:round; stroke-linejoin:round; stroke-width:4; stroke-opacity:1; fill:none\" points=\"249.542,410.699 268.44,410.699 \"/>\n",
       "<polyline clip-path=\"url(#clip550)\" style=\"stroke:#000000; stroke-linecap:round; stroke-linejoin:round; stroke-width:4; stroke-opacity:1; fill:none\" points=\"249.542,86.1857 268.44,86.1857 \"/>\n",
       "<path clip-path=\"url(#clip550)\" d=\"M126.205 1370.04 Q122.593 1370.04 120.765 1373.6 Q118.959 1377.14 118.959 1384.27 Q118.959 1391.38 120.765 1394.94 Q122.593 1398.49 126.205 1398.49 Q129.839 1398.49 131.644 1394.94 Q133.473 1391.38 133.473 1384.27 Q133.473 1377.14 131.644 1373.6 Q129.839 1370.04 126.205 1370.04 M126.205 1366.33 Q132.015 1366.33 135.07 1370.94 Q138.149 1375.52 138.149 1384.27 Q138.149 1393 135.07 1397.61 Q132.015 1402.19 126.205 1402.19 Q120.394 1402.19 117.316 1397.61 Q114.26 1393 114.26 1384.27 Q114.26 1375.52 117.316 1370.94 Q120.394 1366.33 126.205 1366.33 Z\" fill=\"#000000\" fill-rule=\"nonzero\" fill-opacity=\"1\" /><path clip-path=\"url(#clip550)\" d=\"M146.366 1395.64 L151.251 1395.64 L151.251 1401.52 L146.366 1401.52 L146.366 1395.64 Z\" fill=\"#000000\" fill-rule=\"nonzero\" fill-opacity=\"1\" /><path clip-path=\"url(#clip550)\" d=\"M171.436 1370.04 Q167.825 1370.04 165.996 1373.6 Q164.19 1377.14 164.19 1384.27 Q164.19 1391.38 165.996 1394.94 Q167.825 1398.49 171.436 1398.49 Q175.07 1398.49 176.876 1394.94 Q178.704 1391.38 178.704 1384.27 Q178.704 1377.14 176.876 1373.6 Q175.07 1370.04 171.436 1370.04 M171.436 1366.33 Q177.246 1366.33 180.301 1370.94 Q183.38 1375.52 183.38 1384.27 Q183.38 1393 180.301 1397.61 Q177.246 1402.19 171.436 1402.19 Q165.626 1402.19 162.547 1397.61 Q159.491 1393 159.491 1384.27 Q159.491 1375.52 162.547 1370.94 Q165.626 1366.33 171.436 1366.33 Z\" fill=\"#000000\" fill-rule=\"nonzero\" fill-opacity=\"1\" /><path clip-path=\"url(#clip550)\" d=\"M201.598 1370.04 Q197.987 1370.04 196.158 1373.6 Q194.352 1377.14 194.352 1384.27 Q194.352 1391.38 196.158 1394.94 Q197.987 1398.49 201.598 1398.49 Q205.232 1398.49 207.037 1394.94 Q208.866 1391.38 208.866 1384.27 Q208.866 1377.14 207.037 1373.6 Q205.232 1370.04 201.598 1370.04 M201.598 1366.33 Q207.408 1366.33 210.463 1370.94 Q213.542 1375.52 213.542 1384.27 Q213.542 1393 210.463 1397.61 Q207.408 1402.19 201.598 1402.19 Q195.787 1402.19 192.709 1397.61 Q189.653 1393 189.653 1384.27 Q189.653 1375.52 192.709 1370.94 Q195.787 1366.33 201.598 1366.33 Z\" fill=\"#000000\" fill-rule=\"nonzero\" fill-opacity=\"1\" /><path clip-path=\"url(#clip550)\" d=\"M127.2 1045.52 Q123.589 1045.52 121.76 1049.09 Q119.955 1052.63 119.955 1059.76 Q119.955 1066.87 121.76 1070.43 Q123.589 1073.97 127.2 1073.97 Q130.834 1073.97 132.64 1070.43 Q134.468 1066.87 134.468 1059.76 Q134.468 1052.63 132.64 1049.09 Q130.834 1045.52 127.2 1045.52 M127.2 1041.82 Q133.01 1041.82 136.066 1046.43 Q139.144 1051.01 139.144 1059.76 Q139.144 1068.49 136.066 1073.09 Q133.01 1077.68 127.2 1077.68 Q121.39 1077.68 118.311 1073.09 Q115.256 1068.49 115.256 1059.76 Q115.256 1051.01 118.311 1046.43 Q121.39 1041.82 127.2 1041.82 Z\" fill=\"#000000\" fill-rule=\"nonzero\" fill-opacity=\"1\" /><path clip-path=\"url(#clip550)\" d=\"M147.362 1071.13 L152.246 1071.13 L152.246 1077.01 L147.362 1077.01 L147.362 1071.13 Z\" fill=\"#000000\" fill-rule=\"nonzero\" fill-opacity=\"1\" /><path clip-path=\"url(#clip550)\" d=\"M166.459 1073.07 L182.778 1073.07 L182.778 1077.01 L160.834 1077.01 L160.834 1073.07 Q163.496 1070.32 168.079 1065.69 Q172.686 1061.03 173.866 1059.69 Q176.112 1057.17 176.991 1055.43 Q177.894 1053.67 177.894 1051.98 Q177.894 1049.23 175.95 1047.49 Q174.028 1045.76 170.927 1045.76 Q168.727 1045.76 166.274 1046.52 Q163.843 1047.28 161.065 1048.83 L161.065 1044.11 Q163.89 1042.98 166.343 1042.4 Q168.797 1041.82 170.834 1041.82 Q176.204 1041.82 179.399 1044.51 Q182.593 1047.19 182.593 1051.68 Q182.593 1053.81 181.783 1055.73 Q180.996 1057.63 178.889 1060.22 Q178.311 1060.89 175.209 1064.11 Q172.107 1067.31 166.459 1073.07 Z\" fill=\"#000000\" fill-rule=\"nonzero\" fill-opacity=\"1\" /><path clip-path=\"url(#clip550)\" d=\"M192.639 1042.45 L210.996 1042.45 L210.996 1046.38 L196.922 1046.38 L196.922 1054.85 Q197.94 1054.51 198.959 1054.34 Q199.977 1054.16 200.996 1054.16 Q206.783 1054.16 210.162 1057.33 Q213.542 1060.5 213.542 1065.92 Q213.542 1071.5 210.07 1074.6 Q206.598 1077.68 200.278 1077.68 Q198.102 1077.68 195.834 1077.31 Q193.588 1076.94 191.181 1076.19 L191.181 1071.5 Q193.264 1072.63 195.487 1073.19 Q197.709 1073.74 200.186 1073.74 Q204.19 1073.74 206.528 1071.63 Q208.866 1069.53 208.866 1065.92 Q208.866 1062.31 206.528 1060.2 Q204.19 1058.09 200.186 1058.09 Q198.311 1058.09 196.436 1058.51 Q194.584 1058.93 192.639 1059.81 L192.639 1042.45 Z\" fill=\"#000000\" fill-rule=\"nonzero\" fill-opacity=\"1\" /><path clip-path=\"url(#clip550)\" d=\"M126.205 721.011 Q122.593 721.011 120.765 724.575 Q118.959 728.117 118.959 735.247 Q118.959 742.353 120.765 745.918 Q122.593 749.46 126.205 749.46 Q129.839 749.46 131.644 745.918 Q133.473 742.353 133.473 735.247 Q133.473 728.117 131.644 724.575 Q129.839 721.011 126.205 721.011 M126.205 717.307 Q132.015 717.307 135.07 721.913 Q138.149 726.497 138.149 735.247 Q138.149 743.973 135.07 748.58 Q132.015 753.163 126.205 753.163 Q120.394 753.163 117.316 748.58 Q114.26 743.973 114.26 735.247 Q114.26 726.497 117.316 721.913 Q120.394 717.307 126.205 717.307 Z\" fill=\"#000000\" fill-rule=\"nonzero\" fill-opacity=\"1\" /><path clip-path=\"url(#clip550)\" d=\"M146.366 746.612 L151.251 746.612 L151.251 752.492 L146.366 752.492 L146.366 746.612 Z\" fill=\"#000000\" fill-rule=\"nonzero\" fill-opacity=\"1\" /><path clip-path=\"url(#clip550)\" d=\"M161.482 717.932 L179.839 717.932 L179.839 721.867 L165.765 721.867 L165.765 730.339 Q166.783 729.992 167.802 729.83 Q168.82 729.645 169.839 729.645 Q175.626 729.645 179.005 732.816 Q182.385 735.987 182.385 741.404 Q182.385 746.983 178.913 750.085 Q175.44 753.163 169.121 753.163 Q166.945 753.163 164.677 752.793 Q162.431 752.423 160.024 751.682 L160.024 746.983 Q162.107 748.117 164.329 748.673 Q166.552 749.228 169.028 749.228 Q173.033 749.228 175.371 747.122 Q177.709 745.015 177.709 741.404 Q177.709 737.793 175.371 735.687 Q173.033 733.58 169.028 733.58 Q167.153 733.58 165.278 733.997 Q163.427 734.413 161.482 735.293 L161.482 717.932 Z\" fill=\"#000000\" fill-rule=\"nonzero\" fill-opacity=\"1\" /><path clip-path=\"url(#clip550)\" d=\"M201.598 721.011 Q197.987 721.011 196.158 724.575 Q194.352 728.117 194.352 735.247 Q194.352 742.353 196.158 745.918 Q197.987 749.46 201.598 749.46 Q205.232 749.46 207.037 745.918 Q208.866 742.353 208.866 735.247 Q208.866 728.117 207.037 724.575 Q205.232 721.011 201.598 721.011 M201.598 717.307 Q207.408 717.307 210.463 721.913 Q213.542 726.497 213.542 735.247 Q213.542 743.973 210.463 748.58 Q207.408 753.163 201.598 753.163 Q195.787 753.163 192.709 748.58 Q189.653 743.973 189.653 735.247 Q189.653 726.497 192.709 721.913 Q195.787 717.307 201.598 717.307 Z\" fill=\"#000000\" fill-rule=\"nonzero\" fill-opacity=\"1\" /><path clip-path=\"url(#clip550)\" d=\"M127.2 396.498 Q123.589 396.498 121.76 400.062 Q119.955 403.604 119.955 410.734 Q119.955 417.84 121.76 421.405 Q123.589 424.946 127.2 424.946 Q130.834 424.946 132.64 421.405 Q134.468 417.84 134.468 410.734 Q134.468 403.604 132.64 400.062 Q130.834 396.498 127.2 396.498 M127.2 392.794 Q133.01 392.794 136.066 397.4 Q139.144 401.984 139.144 410.734 Q139.144 419.46 136.066 424.067 Q133.01 428.65 127.2 428.65 Q121.39 428.65 118.311 424.067 Q115.256 419.46 115.256 410.734 Q115.256 401.984 118.311 397.4 Q121.39 392.794 127.2 392.794 Z\" fill=\"#000000\" fill-rule=\"nonzero\" fill-opacity=\"1\" /><path clip-path=\"url(#clip550)\" d=\"M147.362 422.099 L152.246 422.099 L152.246 427.979 L147.362 427.979 L147.362 422.099 Z\" fill=\"#000000\" fill-rule=\"nonzero\" fill-opacity=\"1\" /><path clip-path=\"url(#clip550)\" d=\"M161.251 393.419 L183.473 393.419 L183.473 395.41 L170.927 427.979 L166.042 427.979 L177.848 397.354 L161.251 397.354 L161.251 393.419 Z\" fill=\"#000000\" fill-rule=\"nonzero\" fill-opacity=\"1\" /><path clip-path=\"url(#clip550)\" d=\"M192.639 393.419 L210.996 393.419 L210.996 397.354 L196.922 397.354 L196.922 405.826 Q197.94 405.479 198.959 405.317 Q199.977 405.132 200.996 405.132 Q206.783 405.132 210.162 408.303 Q213.542 411.474 213.542 416.891 Q213.542 422.47 210.07 425.571 Q206.598 428.65 200.278 428.65 Q198.102 428.65 195.834 428.28 Q193.588 427.909 191.181 427.169 L191.181 422.47 Q193.264 423.604 195.487 424.159 Q197.709 424.715 200.186 424.715 Q204.19 424.715 206.528 422.608 Q208.866 420.502 208.866 416.891 Q208.866 413.28 206.528 411.173 Q204.19 409.067 200.186 409.067 Q198.311 409.067 196.436 409.484 Q194.584 409.9 192.639 410.78 L192.639 393.419 Z\" fill=\"#000000\" fill-rule=\"nonzero\" fill-opacity=\"1\" /><path clip-path=\"url(#clip550)\" d=\"M117.015 99.5305 L124.654 99.5305 L124.654 73.1649 L116.343 74.8316 L116.343 70.5723 L124.607 68.9057 L129.283 68.9057 L129.283 99.5305 L136.922 99.5305 L136.922 103.466 L117.015 103.466 L117.015 99.5305 Z\" fill=\"#000000\" fill-rule=\"nonzero\" fill-opacity=\"1\" /><path clip-path=\"url(#clip550)\" d=\"M146.366 97.5861 L151.251 97.5861 L151.251 103.466 L146.366 103.466 L146.366 97.5861 Z\" fill=\"#000000\" fill-rule=\"nonzero\" fill-opacity=\"1\" /><path clip-path=\"url(#clip550)\" d=\"M171.436 71.9844 Q167.825 71.9844 165.996 75.5492 Q164.19 79.0908 164.19 86.2204 Q164.19 93.3268 165.996 96.8916 Q167.825 100.433 171.436 100.433 Q175.07 100.433 176.876 96.8916 Q178.704 93.3268 178.704 86.2204 Q178.704 79.0908 176.876 75.5492 Q175.07 71.9844 171.436 71.9844 M171.436 68.2807 Q177.246 68.2807 180.301 72.8871 Q183.38 77.4704 183.38 86.2204 Q183.38 94.9472 180.301 99.5537 Q177.246 104.137 171.436 104.137 Q165.626 104.137 162.547 99.5537 Q159.491 94.9472 159.491 86.2204 Q159.491 77.4704 162.547 72.8871 Q165.626 68.2807 171.436 68.2807 Z\" fill=\"#000000\" fill-rule=\"nonzero\" fill-opacity=\"1\" /><path clip-path=\"url(#clip550)\" d=\"M201.598 71.9844 Q197.987 71.9844 196.158 75.5492 Q194.352 79.0908 194.352 86.2204 Q194.352 93.3268 196.158 96.8916 Q197.987 100.433 201.598 100.433 Q205.232 100.433 207.037 96.8916 Q208.866 93.3268 208.866 86.2204 Q208.866 79.0908 207.037 75.5492 Q205.232 71.9844 201.598 71.9844 M201.598 68.2807 Q207.408 68.2807 210.463 72.8871 Q213.542 77.4704 213.542 86.2204 Q213.542 94.9472 210.463 99.5537 Q207.408 104.137 201.598 104.137 Q195.787 104.137 192.709 99.5537 Q189.653 94.9472 189.653 86.2204 Q189.653 77.4704 192.709 72.8871 Q195.787 68.2807 201.598 68.2807 Z\" fill=\"#000000\" fill-rule=\"nonzero\" fill-opacity=\"1\" /><path clip-path=\"url(#clip550)\" d=\"M20.7174 1219.98 Q20.7174 1224.94 25.6189 1227.46 Q30.4887 1229.94 40.2919 1229.94 Q50.0633 1229.94 54.9649 1227.46 Q59.8346 1224.94 59.8346 1219.98 Q59.8346 1214.98 54.9649 1212.5 Q50.0633 1209.98 40.2919 1209.98 Q30.4887 1209.98 25.6189 1212.5 Q20.7174 1214.98 20.7174 1219.98 M15.6248 1219.98 Q15.6248 1211.99 21.9587 1207.79 Q28.2607 1203.55 40.2919 1203.55 Q52.2913 1203.55 58.6251 1207.79 Q64.9272 1211.99 64.9272 1219.98 Q64.9272 1227.97 58.6251 1232.2 Q52.2913 1236.4 40.2919 1236.4 Q28.2607 1236.4 21.9587 1232.2 Q15.6248 1227.97 15.6248 1219.98 Z\" fill=\"#000000\" fill-rule=\"nonzero\" fill-opacity=\"1\" /><path clip-path=\"url(#clip550)\" d=\"M55.9197 1191.59 L55.9197 1184.87 L61.3942 1184.87 L71.5793 1190.09 L71.5793 1194.2 L61.3942 1191.59 L55.9197 1191.59 Z\" fill=\"#000000\" fill-rule=\"nonzero\" fill-opacity=\"1\" /><path clip-path=\"url(#clip550)\" d=\"M58.5933 1170.42 L58.5933 1159.92 L22.3406 1159.92 L24.6323 1171.34 L18.7758 1171.34 L16.4842 1159.98 L16.4842 1153.55 L58.5933 1153.55 L58.5933 1143.05 L64.0042 1143.05 L64.0042 1170.42 L58.5933 1170.42 Z\" fill=\"#000000\" fill-rule=\"nonzero\" fill-opacity=\"1\" /><path clip-path=\"url(#clip550)\" d=\"M43.5384 1133.85 L43.5384 1116.69 L48.7583 1116.69 L48.7583 1133.85 L43.5384 1133.85 Z\" fill=\"#000000\" fill-rule=\"nonzero\" fill-opacity=\"1\" /><path clip-path=\"url(#clip550)\" d=\"M18.0438 1078.63 L24.314 1078.63 Q22.5634 1082.29 21.704 1085.53 Q20.8447 1088.78 20.8447 1091.8 Q20.8447 1097.05 22.8817 1099.92 Q24.9187 1102.75 28.6745 1102.75 Q31.8255 1102.75 33.4488 1100.87 Q35.0402 1098.96 36.0269 1093.68 L36.8226 1089.8 Q38.1912 1082.6 41.6605 1079.2 Q45.098 1075.76 50.8908 1075.76 Q57.7976 1075.76 61.3624 1080.41 Q64.9272 1085.02 64.9272 1093.97 Q64.9272 1097.34 64.1633 1101.16 Q63.3994 1104.95 61.9035 1109.02 L55.2831 1109.02 Q57.4793 1105.11 58.5933 1101.35 Q59.7073 1097.6 59.7073 1093.97 Q59.7073 1088.46 57.543 1085.47 Q55.3786 1082.48 51.3682 1082.48 Q47.8671 1082.48 45.8937 1084.64 Q43.9204 1086.77 42.9337 1091.68 L42.1698 1095.59 Q40.7375 1102.78 37.682 1106 Q34.6264 1109.21 29.1837 1109.21 Q22.8817 1109.21 19.2532 1104.79 Q15.6248 1100.33 15.6248 1092.53 Q15.6248 1089.19 16.2295 1085.72 Q16.8343 1082.25 18.0438 1078.63 Z\" fill=\"#000000\" fill-rule=\"nonzero\" fill-opacity=\"1\" /><path clip-path=\"url(#clip550)\" d=\"M29.7248 1040.34 L35.1993 1040.34 Q33.8307 1042.82 33.1623 1045.33 Q32.4621 1047.82 32.4621 1050.36 Q32.4621 1056.06 36.0905 1059.21 Q39.6872 1062.36 46.212 1062.36 Q52.7369 1062.36 56.3653 1059.21 Q59.9619 1056.06 59.9619 1050.36 Q59.9619 1047.82 59.2935 1045.33 Q58.5933 1042.82 57.2247 1040.34 L62.6355 1040.34 Q63.7814 1042.79 64.3543 1045.43 Q64.9272 1048.04 64.9272 1051 Q64.9272 1059.05 59.8664 1063.79 Q54.8057 1068.54 46.212 1068.54 Q37.491 1068.54 32.4939 1063.76 Q27.4968 1058.96 27.4968 1050.62 Q27.4968 1047.91 28.0697 1045.33 Q28.6108 1042.76 29.7248 1040.34 Z\" fill=\"#000000\" fill-rule=\"nonzero\" fill-opacity=\"1\" /><path clip-path=\"url(#clip550)\" d=\"M46.0847 1013.95 Q46.0847 1021.05 47.7079 1023.79 Q49.3312 1026.52 53.2461 1026.52 Q56.3653 1026.52 58.2114 1024.49 Q60.0256 1022.42 60.0256 1018.88 Q60.0256 1014.01 56.5881 1011.09 Q53.1188 1008.13 47.3897 1008.13 L46.0847 1008.13 L46.0847 1013.95 M43.6657 1002.27 L64.0042 1002.27 L64.0042 1008.13 L58.5933 1008.13 Q61.8398 1010.13 63.3994 1013.12 Q64.9272 1016.11 64.9272 1020.44 Q64.9272 1025.92 61.8716 1029.16 Q58.7843 1032.38 53.6281 1032.38 Q47.6125 1032.38 44.5569 1028.37 Q41.5014 1024.33 41.5014 1016.34 L41.5014 1008.13 L40.9285 1008.13 Q36.8862 1008.13 34.6901 1010.8 Q32.4621 1013.44 32.4621 1018.25 Q32.4621 1021.3 33.1941 1024.2 Q33.9262 1027.1 35.3903 1029.77 L29.9795 1029.77 Q28.7381 1026.55 28.1334 1023.53 Q27.4968 1020.51 27.4968 1017.64 Q27.4968 1009.91 31.5072 1006.09 Q35.5176 1002.27 43.6657 1002.27 Z\" fill=\"#000000\" fill-rule=\"nonzero\" fill-opacity=\"1\" /><path clip-path=\"url(#clip550)\" d=\"M14.479 990.206 L14.479 984.35 L64.0042 984.35 L64.0042 990.206 L14.479 990.206 Z\" fill=\"#000000\" fill-rule=\"nonzero\" fill-opacity=\"1\" /><path clip-path=\"url(#clip550)\" d=\"M44.7161 941.604 L47.5806 941.604 L47.5806 968.531 Q53.6281 968.149 56.8109 964.903 Q59.9619 961.624 59.9619 955.8 Q59.9619 952.426 59.1344 949.275 Q58.3069 946.092 56.6518 942.973 L62.1899 942.973 Q63.5267 946.124 64.227 949.434 Q64.9272 952.744 64.9272 956.15 Q64.9272 964.68 59.9619 969.677 Q54.9967 974.642 46.5303 974.642 Q37.7774 974.642 32.6531 969.931 Q27.4968 965.189 27.4968 957.168 Q27.4968 949.975 32.1438 945.805 Q36.7589 941.604 44.7161 941.604 M42.9973 947.461 Q38.1912 947.524 35.3266 950.166 Q32.4621 952.776 32.4621 957.105 Q32.4621 962.006 35.2312 964.966 Q38.0002 967.894 43.0292 968.34 L42.9973 947.461 Z\" fill=\"#000000\" fill-rule=\"nonzero\" fill-opacity=\"1\" /><path clip-path=\"url(#clip550)\" d=\"M33.7671 908.534 L14.479 908.534 L14.479 902.678 L64.0042 902.678 L64.0042 908.534 L58.657 908.534 Q61.8398 910.38 63.3994 913.213 Q64.9272 916.014 64.9272 919.961 Q64.9272 926.422 59.771 930.496 Q54.6147 934.538 46.212 934.538 Q37.8093 934.538 32.6531 930.496 Q27.4968 926.422 27.4968 919.961 Q27.4968 916.014 29.0564 913.213 Q30.5842 910.38 33.7671 908.534 M46.212 928.491 Q52.6732 928.491 56.3653 925.849 Q60.0256 923.175 60.0256 918.528 Q60.0256 913.881 56.3653 911.208 Q52.6732 908.534 46.212 908.534 Q39.7508 908.534 36.0905 911.208 Q32.3984 913.881 32.3984 918.528 Q32.3984 923.175 36.0905 925.849 Q39.7508 928.491 46.212 928.491 Z\" fill=\"#000000\" fill-rule=\"nonzero\" fill-opacity=\"1\" /><path clip-path=\"url(#clip550)\" d=\"M21.7677 863.21 L39.6235 863.21 L39.6235 855.126 Q39.6235 850.638 37.3 848.187 Q34.9765 845.737 30.6797 845.737 Q26.4147 845.737 24.0912 848.187 Q21.7677 850.638 21.7677 855.126 L21.7677 863.21 M16.4842 869.64 L16.4842 855.126 Q16.4842 847.137 20.1126 843.063 Q23.7092 838.957 30.6797 838.957 Q37.7138 838.957 41.3104 843.063 Q44.907 847.137 44.907 855.126 L44.907 863.21 L64.0042 863.21 L64.0042 869.64 L16.4842 869.64 Z\" fill=\"#000000\" fill-rule=\"nonzero\" fill-opacity=\"1\" /><path clip-path=\"url(#clip550)\" d=\"M29.4065 809.006 L34.9447 809.006 Q33.6716 811.489 33.035 814.163 Q32.3984 816.836 32.3984 819.701 Q32.3984 824.061 33.7352 826.257 Q35.072 828.422 37.7456 828.422 Q39.7826 828.422 40.9603 826.862 Q42.1061 825.303 43.1565 820.592 L43.6021 818.587 Q44.9389 812.348 47.3897 809.738 Q49.8086 807.097 54.1691 807.097 Q59.1344 807.097 62.0308 811.043 Q64.9272 814.958 64.9272 821.833 Q64.9272 824.698 64.3543 827.817 Q63.8132 830.904 62.6992 834.342 L56.6518 834.342 Q58.3387 831.095 59.198 827.944 Q60.0256 824.793 60.0256 821.706 Q60.0256 817.568 58.6251 815.34 Q57.1929 813.112 54.6147 813.112 Q52.2276 813.112 50.9545 814.736 Q49.6813 816.327 48.5037 821.77 L48.0262 823.807 Q46.8804 829.249 44.5251 831.668 Q42.138 834.087 38.0002 834.087 Q32.9713 834.087 30.2341 830.523 Q27.4968 826.958 27.4968 820.401 Q27.4968 817.155 27.9743 814.29 Q28.4517 811.425 29.4065 809.006 Z\" fill=\"#000000\" fill-rule=\"nonzero\" fill-opacity=\"1\" /><path clip-path=\"url(#clip550)\" d=\"M44.7161 767.279 L47.5806 767.279 L47.5806 794.206 Q53.6281 793.824 56.8109 790.578 Q59.9619 787.299 59.9619 781.475 Q59.9619 778.101 59.1344 774.95 Q58.3069 771.767 56.6518 768.648 L62.1899 768.648 Q63.5267 771.799 64.227 775.109 Q64.9272 778.419 64.9272 781.825 Q64.9272 790.355 59.9619 795.352 Q54.9967 800.317 46.5303 800.317 Q37.7774 800.317 32.6531 795.607 Q27.4968 790.864 27.4968 782.843 Q27.4968 775.65 32.1438 771.481 Q36.7589 767.279 44.7161 767.279 M42.9973 773.136 Q38.1912 773.199 35.3266 775.841 Q32.4621 778.451 32.4621 782.78 Q32.4621 787.681 35.2312 790.641 Q38.0002 793.57 43.0292 794.015 L42.9973 773.136 Z\" fill=\"#000000\" fill-rule=\"nonzero\" fill-opacity=\"1\" /><path clip-path=\"url(#clip550)\" d=\"M49.9359 758.272 L28.3562 758.272 L28.3562 752.415 L49.7131 752.415 Q54.7739 752.415 57.3202 750.442 Q59.8346 748.469 59.8346 744.522 Q59.8346 739.779 56.8109 737.042 Q53.7872 734.273 48.5673 734.273 L28.3562 734.273 L28.3562 728.417 L64.0042 728.417 L64.0042 734.273 L58.5296 734.273 Q61.7762 736.406 63.3676 739.238 Q64.9272 742.039 64.9272 745.763 Q64.9272 751.906 61.1078 755.089 Q57.2883 758.272 49.9359 758.272 M27.4968 743.535 L27.4968 743.535 Z\" fill=\"#000000\" fill-rule=\"nonzero\" fill-opacity=\"1\" /><path clip-path=\"url(#clip550)\" d=\"M33.7671 692.896 L14.479 692.896 L14.479 687.039 L64.0042 687.039 L64.0042 692.896 L58.657 692.896 Q61.8398 694.742 63.3994 697.575 Q64.9272 700.376 64.9272 704.322 Q64.9272 710.784 59.771 714.858 Q54.6147 718.9 46.212 718.9 Q37.8093 718.9 32.6531 714.858 Q27.4968 710.784 27.4968 704.322 Q27.4968 700.376 29.0564 697.575 Q30.5842 694.742 33.7671 692.896 M46.212 712.852 Q52.6732 712.852 56.3653 710.211 Q60.0256 707.537 60.0256 702.89 Q60.0256 698.243 56.3653 695.57 Q52.6732 692.896 46.212 692.896 Q39.7508 692.896 36.0905 695.57 Q32.3984 698.243 32.3984 702.89 Q32.3984 707.537 36.0905 710.211 Q39.7508 712.852 46.212 712.852 Z\" fill=\"#000000\" fill-rule=\"nonzero\" fill-opacity=\"1\" /><path clip-path=\"url(#clip550)\" d=\"M32.4621 661.163 Q32.4621 665.874 36.1542 668.611 Q39.8145 671.348 46.212 671.348 Q52.6095 671.348 56.3017 668.643 Q59.9619 665.905 59.9619 661.163 Q59.9619 656.484 56.2698 653.747 Q52.5777 651.01 46.212 651.01 Q39.8781 651.01 36.186 653.747 Q32.4621 656.484 32.4621 661.163 M27.4968 661.163 Q27.4968 653.524 32.4621 649.164 Q37.4273 644.803 46.212 644.803 Q54.9649 644.803 59.9619 649.164 Q64.9272 653.524 64.9272 661.163 Q64.9272 668.834 59.9619 673.194 Q54.9649 677.523 46.212 677.523 Q37.4273 677.523 32.4621 673.194 Q27.4968 668.834 27.4968 661.163 Z\" fill=\"#000000\" fill-rule=\"nonzero\" fill-opacity=\"1\" /><path clip-path=\"url(#clip550)\" d=\"M16.4842 614.12 L16.4842 584.074 L21.895 584.074 L21.895 607.691 L35.9632 607.691 L35.9632 585.061 L41.3741 585.061 L41.3741 607.691 L58.5933 607.691 L58.5933 583.501 L64.0042 583.501 L64.0042 614.12 L16.4842 614.12 Z\" fill=\"#000000\" fill-rule=\"nonzero\" fill-opacity=\"1\" /><path clip-path=\"url(#clip550)\" d=\"M42.4881 543.556 L64.0042 543.556 L64.0042 549.413 L42.679 549.413 Q37.6183 549.413 35.1038 551.386 Q32.5894 553.36 32.5894 557.306 Q32.5894 562.049 35.6131 564.786 Q38.6368 567.523 43.8567 567.523 L64.0042 567.523 L64.0042 573.412 L28.3562 573.412 L28.3562 567.523 L33.8944 567.523 Q30.6797 565.423 29.0883 562.59 Q27.4968 559.725 27.4968 556.001 Q27.4968 549.859 31.3163 546.707 Q35.1038 543.556 42.4881 543.556 Z\" fill=\"#000000\" fill-rule=\"nonzero\" fill-opacity=\"1\" /><path clip-path=\"url(#clip550)\" d=\"M44.7161 501.384 L47.5806 501.384 L47.5806 528.311 Q53.6281 527.929 56.8109 524.682 Q59.9619 521.404 59.9619 515.579 Q59.9619 512.205 59.1344 509.054 Q58.3069 505.871 56.6518 502.752 L62.1899 502.752 Q63.5267 505.903 64.227 509.213 Q64.9272 512.524 64.9272 515.929 Q64.9272 524.459 59.9619 529.456 Q54.9967 534.422 46.5303 534.422 Q37.7774 534.422 32.6531 529.711 Q27.4968 524.969 27.4968 516.948 Q27.4968 509.755 32.1438 505.585 Q36.7589 501.384 44.7161 501.384 M42.9973 507.24 Q38.1912 507.304 35.3266 509.946 Q32.4621 512.555 32.4621 516.884 Q32.4621 521.786 35.2312 524.746 Q38.0002 527.674 43.0292 528.12 L42.9973 507.24 Z\" fill=\"#000000\" fill-rule=\"nonzero\" fill-opacity=\"1\" /><path clip-path=\"url(#clip550)\" d=\"M33.8307 471.115 Q33.2578 472.101 33.0032 473.279 Q32.7167 474.425 32.7167 475.825 Q32.7167 480.791 35.9632 483.464 Q39.1779 486.106 45.2253 486.106 L64.0042 486.106 L64.0042 491.994 L28.3562 491.994 L28.3562 486.106 L33.8944 486.106 Q30.6479 484.26 29.0883 481.3 Q27.4968 478.34 27.4968 474.107 Q27.4968 473.502 27.5923 472.77 Q27.656 472.038 27.8151 471.147 L33.8307 471.115 Z\" fill=\"#000000\" fill-rule=\"nonzero\" fill-opacity=\"1\" /><path clip-path=\"url(#clip550)\" d=\"M45.7664 442.66 Q39.4007 442.66 35.8996 445.302 Q32.3984 447.912 32.3984 452.654 Q32.3984 457.365 35.8996 460.007 Q39.4007 462.616 45.7664 462.616 Q52.1003 462.616 55.6014 460.007 Q59.1026 457.365 59.1026 452.654 Q59.1026 447.912 55.6014 445.302 Q52.1003 442.66 45.7664 442.66 M59.58 436.804 Q68.683 436.804 73.1071 440.846 Q77.5631 444.888 77.5631 453.227 Q77.5631 456.314 77.0857 459.052 Q76.6401 461.789 75.6852 464.367 L69.9879 464.367 Q71.3884 461.789 72.0568 459.275 Q72.7252 456.76 72.7252 454.15 Q72.7252 448.389 69.7015 445.525 Q66.7096 442.66 60.6303 442.66 L57.7339 442.66 Q60.885 444.474 62.4446 447.307 Q64.0042 450.14 64.0042 454.086 Q64.0042 460.643 59.0071 464.654 Q54.01 468.664 45.7664 468.664 Q37.491 468.664 32.4939 464.654 Q27.4968 460.643 27.4968 454.086 Q27.4968 450.14 29.0564 447.307 Q30.616 444.474 33.7671 442.66 L28.3562 442.66 L28.3562 436.804 L59.58 436.804 Z\" fill=\"#000000\" fill-rule=\"nonzero\" fill-opacity=\"1\" /><path clip-path=\"url(#clip550)\" d=\"M67.3143 409.908 Q73.68 412.391 75.6216 414.746 Q77.5631 417.102 77.5631 421.048 L77.5631 425.727 L72.6615 425.727 L72.6615 422.29 Q72.6615 419.871 71.5157 418.534 Q70.3699 417.197 66.1048 415.574 L63.4312 414.524 L28.3562 428.942 L28.3562 422.735 L56.238 411.595 L28.3562 400.455 L28.3562 394.249 L67.3143 409.908 Z\" fill=\"#000000\" fill-rule=\"nonzero\" fill-opacity=\"1\" /><path clip-path=\"url(#clip550)\" d=\"M14.5426 351.376 Q21.8632 355.641 29.0246 357.71 Q36.186 359.779 43.5384 359.779 Q50.8908 359.779 58.1159 357.71 Q65.3091 355.609 72.5979 351.376 L72.5979 356.468 Q65.1182 361.243 57.8931 363.63 Q50.668 365.985 43.5384 365.985 Q36.4406 365.985 29.2474 363.63 Q22.0542 361.274 14.5426 356.468 L14.5426 351.376 Z\" fill=\"#000000\" fill-rule=\"nonzero\" fill-opacity=\"1\" /><path clip-path=\"url(#clip550)\" d=\"M22.818 323.876 L46.4666 332.597 L46.4666 315.123 L22.818 323.876 M16.4842 327.504 L16.4842 320.216 L64.0042 302.105 L64.0042 308.789 L51.8138 313.118 L51.8138 334.538 L64.0042 338.867 L64.0042 345.647 L16.4842 327.504 Z\" fill=\"#000000\" fill-rule=\"nonzero\" fill-opacity=\"1\" /><path clip-path=\"url(#clip550)\" d=\"M16.4842 295.899 L16.4842 289.437 L45.3526 289.437 Q52.9915 289.437 56.3653 286.668 Q59.7073 283.899 59.7073 277.693 Q59.7073 271.518 56.3653 268.749 Q52.9915 265.98 45.3526 265.98 L16.4842 265.98 L16.4842 259.519 L46.1484 259.519 Q55.4423 259.519 60.1847 264.134 Q64.9272 268.717 64.9272 277.693 Q64.9272 286.7 60.1847 291.315 Q55.4423 295.899 46.1484 295.899 L16.4842 295.899 Z\" fill=\"#000000\" fill-rule=\"nonzero\" fill-opacity=\"1\" /><path clip-path=\"url(#clip550)\" d=\"M14.5426 248.633 L14.5426 243.541 Q22.0542 238.766 29.2474 236.411 Q36.4406 234.024 43.5384 234.024 Q50.668 234.024 57.8931 236.411 Q65.1182 238.766 72.5979 243.541 L72.5979 248.633 Q65.3091 244.4 58.1159 242.331 Q50.8908 240.231 43.5384 240.231 Q36.186 240.231 29.0246 242.331 Q21.8632 244.4 14.5426 248.633 Z\" fill=\"#000000\" fill-rule=\"nonzero\" fill-opacity=\"1\" /><polyline clip-path=\"url(#clip552)\" style=\"stroke:#000080; stroke-linecap:round; stroke-linejoin:round; stroke-width:8; stroke-opacity:1; fill:none\" points=\"309.067,86.1857 489.446,1273.71 669.824,1320.42 850.203,1345.07 1030.58,1360.17 1210.96,1373.73 1391.34,1378.46 1571.72,1380.91 1752.1,1382.53 1932.47,1383.84 2112.85,1384.13 2293.23,1384.24 \"/>\n",
       "<circle clip-path=\"url(#clip552)\" cx=\"309.067\" cy=\"86.1857\" r=\"14.4\" fill=\"#000080\" fill-rule=\"evenodd\" fill-opacity=\"1\" stroke=\"#000000\" stroke-opacity=\"1\" stroke-width=\"3.2\"/>\n",
       "<circle clip-path=\"url(#clip552)\" cx=\"489.446\" cy=\"1273.71\" r=\"14.4\" fill=\"#000080\" fill-rule=\"evenodd\" fill-opacity=\"1\" stroke=\"#000000\" stroke-opacity=\"1\" stroke-width=\"3.2\"/>\n",
       "<circle clip-path=\"url(#clip552)\" cx=\"669.824\" cy=\"1320.42\" r=\"14.4\" fill=\"#000080\" fill-rule=\"evenodd\" fill-opacity=\"1\" stroke=\"#000000\" stroke-opacity=\"1\" stroke-width=\"3.2\"/>\n",
       "<circle clip-path=\"url(#clip552)\" cx=\"850.203\" cy=\"1345.07\" r=\"14.4\" fill=\"#000080\" fill-rule=\"evenodd\" fill-opacity=\"1\" stroke=\"#000000\" stroke-opacity=\"1\" stroke-width=\"3.2\"/>\n",
       "<circle clip-path=\"url(#clip552)\" cx=\"1030.58\" cy=\"1360.17\" r=\"14.4\" fill=\"#000080\" fill-rule=\"evenodd\" fill-opacity=\"1\" stroke=\"#000000\" stroke-opacity=\"1\" stroke-width=\"3.2\"/>\n",
       "<circle clip-path=\"url(#clip552)\" cx=\"1210.96\" cy=\"1373.73\" r=\"14.4\" fill=\"#000080\" fill-rule=\"evenodd\" fill-opacity=\"1\" stroke=\"#000000\" stroke-opacity=\"1\" stroke-width=\"3.2\"/>\n",
       "<circle clip-path=\"url(#clip552)\" cx=\"1391.34\" cy=\"1378.46\" r=\"14.4\" fill=\"#000080\" fill-rule=\"evenodd\" fill-opacity=\"1\" stroke=\"#000000\" stroke-opacity=\"1\" stroke-width=\"3.2\"/>\n",
       "<circle clip-path=\"url(#clip552)\" cx=\"1571.72\" cy=\"1380.91\" r=\"14.4\" fill=\"#000080\" fill-rule=\"evenodd\" fill-opacity=\"1\" stroke=\"#000000\" stroke-opacity=\"1\" stroke-width=\"3.2\"/>\n",
       "<circle clip-path=\"url(#clip552)\" cx=\"1752.1\" cy=\"1382.53\" r=\"14.4\" fill=\"#000080\" fill-rule=\"evenodd\" fill-opacity=\"1\" stroke=\"#000000\" stroke-opacity=\"1\" stroke-width=\"3.2\"/>\n",
       "<circle clip-path=\"url(#clip552)\" cx=\"1932.47\" cy=\"1383.84\" r=\"14.4\" fill=\"#000080\" fill-rule=\"evenodd\" fill-opacity=\"1\" stroke=\"#000000\" stroke-opacity=\"1\" stroke-width=\"3.2\"/>\n",
       "<circle clip-path=\"url(#clip552)\" cx=\"2112.85\" cy=\"1384.13\" r=\"14.4\" fill=\"#000080\" fill-rule=\"evenodd\" fill-opacity=\"1\" stroke=\"#000000\" stroke-opacity=\"1\" stroke-width=\"3.2\"/>\n",
       "<circle clip-path=\"url(#clip552)\" cx=\"2293.23\" cy=\"1384.24\" r=\"14.4\" fill=\"#000080\" fill-rule=\"evenodd\" fill-opacity=\"1\" stroke=\"#000000\" stroke-opacity=\"1\" stroke-width=\"3.2\"/>\n",
       "</svg>\n"
      ]
     },
     "execution_count": 72,
     "metadata": {},
     "output_type": "execute_result"
    }
   ],
   "source": [
    "let\n",
    "    plot(energy_array[:,1],energy_array[:,2], lw=2, c=:navy, label=\"\") \n",
    "    scatter!(energy_array[:,1], energy_array[:,2], c=:navy, label=\"\")\n",
    "    xlabel!(\"Iterations index (AU)\", fontsize=18)\n",
    "    ylabel!(\"0,1-Scaled Pseudo Energy (AU)\", fontsize=18)\n",
    "end"
   ]
  },
  {
   "cell_type": "markdown",
   "id": "ab4aa663-dd7d-44a4-8ede-1df146b83860",
   "metadata": {
    "jp-MarkdownHeadingCollapsed": true
   },
   "source": [
    "### Method 1: Silhouette method\n",
    "The silhouette method evaluates data consistency in clusters. The score ranges from -1 to 1; a high score means a data point fits well in its cluster but not in neighboring ones. The number of clusters $K$ is likely correct if most points score high. Conversely, many low scores suggest there may be too many or too few clusters. \n",
    "* The silhouette method is exported by [the `Clustering.jl` package](https://github.com/JuliaStats/Clustering.jl), so let's choose the buy side of the buy versus bill trade and use the prebuilt implementation of clustering and evaluation of the performance of the clustering. "
   ]
  },
  {
   "cell_type": "code",
<<<<<<< Updated upstream
   "execution_count": 29,
=======
   "execution_count": 13,
>>>>>>> Stashed changes
   "id": "86339d26-b85c-4fa1-973f-2ab636bbbe7f",
   "metadata": {},
   "outputs": [],
   "source": [
    "performance_array_silhouette = let\n",
    "\n",
    "    number_of_clusters_to_explore = 10;\n",
    "    KA = range(2,stop=number_of_clusters_to_explore, step=1) |> collect;\n",
    "    tmp = Array{Float64,2}(undef, length(KA), 2);\n",
    "\n",
    "    for i ∈ eachindex(KA)\n",
    "\n",
    "        Kᵢ = KA[i]; # how many clusters?\n",
    "        R = kmeans(transpose(D),  Kᵢ; maxiter=maxiter, display=:none) # sensitive to the choice of maxiter. # Clustering.jl use the transpose of our method\n",
    "        M = R.centers # get the cluster centers\n",
    "        a = assignments(R) # get the assignments of points to clusters\n",
    "        value = clustering_quality(transpose(D), a; quality_index = :silhouettes)\n",
    "        \n",
    "        tmp[i,1] = Kᵢ;\n",
    "        tmp[i,2] = value;\n",
    "    end\n",
    "    tmp\n",
    "end;"
   ]
  },
  {
   "cell_type": "code",
<<<<<<< Updated upstream
   "execution_count": 30,
=======
   "execution_count": 14,
>>>>>>> Stashed changes
   "id": "71e402f5-e271-40ce-aad3-72f0ca494ff9",
   "metadata": {},
   "outputs": [
    {
     "data": {
      "text/plain": [
       "9×2 Matrix{Float64}:\n",
<<<<<<< Updated upstream
       "  2.0  0.16272\n",
       "  3.0  0.176457\n",
       "  4.0  0.15535\n",
       "  5.0  0.134959\n",
       "  6.0  0.142668\n",
       "  7.0  0.141385\n",
       "  8.0  0.160867\n",
       "  9.0  0.14115\n",
       " 10.0  0.172079"
      ]
     },
     "execution_count": 30,
=======
       "  2.0  0.253674\n",
       "  3.0  0.142587\n",
       "  4.0  0.161818\n",
       "  5.0  0.168896\n",
       "  6.0  0.191912\n",
       "  7.0  0.173867\n",
       "  8.0  0.176273\n",
       "  9.0  0.177641\n",
       " 10.0  0.179132"
      ]
     },
     "execution_count": 14,
>>>>>>> Stashed changes
     "metadata": {},
     "output_type": "execute_result"
    }
   ],
   "source": [
    "performance_array_silhouette"
   ]
  },
  {
   "cell_type": "code",
<<<<<<< Updated upstream
   "execution_count": 31,
=======
   "execution_count": 15,
>>>>>>> Stashed changes
   "id": "2c8a0b1a-5993-42bd-84fb-10a15fd3fcbe",
   "metadata": {},
   "outputs": [
    {
     "name": "stdout",
     "output_type": "stream",
     "text": [
      "Predicted number of clusters by the silhouette method : 3.0\n"
     ]
    }
   ],
   "source": [
    "k₁ = let\n",
    "    kopt = argmax(performance_array_silhouette[:,2]) |> j -> performance_array_silhouette[j,1]\n",
    "    println(\"Predicted number of clusters by the silhouette method : $(kopt)\")\n",
    "    kopt;\n",
    "end;"
   ]
  },
  {
   "cell_type": "markdown",
   "id": "862f3287-3f0b-4931-94f2-b78e377e55d5",
   "metadata": {},
   "source": [
    "### Method 2: Calinski–Harabasz index (CHI)\n",
    "The [Calinski–Harabasz index (CHI)](https://en.wikipedia.org/wiki/Calinski%E2%80%93Harabasz_index), also known as the Variance Ratio Criterion, is a widely used metric for assessing the quality of clustering algorithms. Introduced by [Tadeusz Caliński and Jerzy Harabasz in 1974](https://www.tandfonline.com/doi/abs/10.1080/03610927408827101), it evaluates the clustering performance by comparing the ratio of between-cluster variance to within-cluster variance, with higher values indicating better-defined clusters\n",
    "* The CHI method is exported by [the `Clustering.jl` package](https://github.com/JuliaStats/Clustering.jl), so let's choose the buy side of the buy versus bill trade and use the prebuilt implementation of clustering and evaluation of the performance of the clustering. "
   ]
  },
  {
   "cell_type": "code",
<<<<<<< Updated upstream
   "execution_count": 33,
=======
   "execution_count": 16,
>>>>>>> Stashed changes
   "id": "c5870872-dd52-4ea1-b75b-7a15e3c5ba97",
   "metadata": {},
   "outputs": [],
   "source": [
    "performance_array_CHI = let\n",
    "\n",
    "    number_of_samples = size(D,1);\n",
    "    number_of_features = size(D,2);\n",
    "    number_of_clusters_to_explore = 10;\n",
    "    KA = range(2,stop=number_of_clusters_to_explore, step=1) |> collect;\n",
    "    tmp = Array{Float64,2}(undef, number_of_clusters_to_explore-1, 2);\n",
    "\n",
    "    for i ∈ eachindex(KA)\n",
    "\n",
    "        Kᵢ = KA[i]; # how many clusters?\n",
    "        R = kmeans(transpose(D), Kᵢ; maxiter=maxiter, display=:none); # Clustering.jl use the transpose of our method\n",
    "        M = R.centers # get the cluster centers\n",
    "        a = assignments(R) # get the assignments of points to clusters\n",
    "        value = clustering_quality(transpose(D), M, a; quality_index = :calinski_harabasz)\n",
    "        \n",
    "        tmp[i,1] = Kᵢ;\n",
    "        tmp[i,2] = value;\n",
    "    end\n",
    "    tmp\n",
    "end;"
   ]
  },
  {
   "cell_type": "code",
<<<<<<< Updated upstream
   "execution_count": 34,
=======
   "execution_count": 17,
>>>>>>> Stashed changes
   "id": "47642c17-de97-45fb-958a-5fb8c825a7b6",
   "metadata": {},
   "outputs": [
    {
     "name": "stdout",
     "output_type": "stream",
     "text": [
      "Predicted number of clusters by CHI: 3.0\n"
     ]
    }
   ],
   "source": [
    "k₂ = let\n",
    "    kopt = argmax(performance_array_CHI[:,2]) |> j -> performance_array_CHI[j,1]\n",
    "    println(\"Predicted number of clusters by CHI: $(kopt)\")\n",
    "    kopt;\n",
    "end;"
   ]
  },
  {
   "cell_type": "markdown",
   "id": "6e974678-cc11-45d9-a135-5e0a9ffde961",
   "metadata": {},
   "source": [
    "### Method 3: Xie Beni index (XBI)\n",
    "The Xie-Beni index measures the ratio between the summed inertia of clusters and the minimum distance between cluster centers. See: \n",
    "\n",
    "* [M. Muranishi, K. Honda and A. Notsu, \"Application of xie-beni-type validity index to fuzzy co-clustering models based on cluster aggregation and pseudo-cluster-center estimation,\" 2014 14th International Conference on Intelligent Systems Design and Applications, Okinawa, Japan, 2014, pp. 34-38, doi: 10.1109/ISDA.2014.7066274.](https://ieeexplore.ieee.org/document/7066274)\n",
    "* The Xie-Beni method is exported by [the `Clustering.jl` package](https://github.com/JuliaStats/Clustering.jl), so let's choose the buy side of the buy versus bill trade and use the prebuilt implementation of clustering and evaluation of the performance of the clustering. "
   ]
  },
  {
   "cell_type": "code",
<<<<<<< Updated upstream
   "execution_count": 36,
=======
   "execution_count": 18,
>>>>>>> Stashed changes
   "id": "a8c382d3-2f66-4c94-b2b1-7925090dfb0a",
   "metadata": {
    "jupyter": {
     "source_hidden": true
    }
   },
   "outputs": [],
   "source": [
    "performance_array_xie_beni = let\n",
    "\n",
    "    number_of_samples = size(D,1);\n",
    "    number_of_features = size(D,2);\n",
    "    number_of_clusters_to_explore = 10;\n",
    "    KA = range(2,stop=number_of_clusters_to_explore, step=1) |> collect;\n",
    "    tmp = Array{Float64,2}(undef, number_of_clusters_to_explore-1, 2);\n",
    "\n",
    "    for i ∈ eachindex(KA)\n",
    "\n",
    "        Kᵢ = KA[i]; # how many clusters?\n",
    "        R = kmeans(transpose(D), Kᵢ; maxiter=maxiter, display=:none); # Clustering.jl use the transpose of our method\n",
    "        M = R.centers # get the cluster centers\n",
    "        a = assignments(R) # get the assignments of points to clusters\n",
    "        value = clustering_quality(transpose(D), M, a; quality_index = :xie_beni)\n",
    "        \n",
    "        tmp[i,1] = Kᵢ;\n",
    "        tmp[i,2] = value;\n",
    "    end\n",
    "    tmp\n",
    "end;"
   ]
  },
  {
   "cell_type": "code",
<<<<<<< Updated upstream
   "execution_count": 37,
=======
   "execution_count": 19,
>>>>>>> Stashed changes
   "id": "dfadf518-cff2-4a8d-b49f-b71654d2f6a4",
   "metadata": {},
   "outputs": [
    {
     "name": "stdout",
     "output_type": "stream",
     "text": [
      "Predicted number of clusters by XBI: 9.0\n"
     ]
    }
   ],
   "source": [
    "k₃ = let\n",
    "    kopt = argmin(performance_array_xie_beni[:,2]) |> j -> performance_array_xie_beni[j,1]\n",
    "    println(\"Predicted number of clusters by XBI: $(kopt)\")\n",
    "    kopt;\n",
    "end;"
   ]
  },
  {
   "cell_type": "markdown",
   "id": "24894224-bde2-4e5b-a5df-3f9012a91b38",
   "metadata": {},
   "source": [
    "Finally, let's compute $K^{\\star}$ (the number of clusters we should choose):"
   ]
  },
  {
   "cell_type": "code",
<<<<<<< Updated upstream
   "execution_count": 39,
=======
   "execution_count": 20,
>>>>>>> Stashed changes
   "id": "fbb7a8b4-9c10-49a9-89ca-cf5c240bfffd",
   "metadata": {},
   "outputs": [
    {
     "data": {
      "text/plain": [
       "2.0"
      ]
     },
<<<<<<< Updated upstream
     "execution_count": 39,
=======
     "execution_count": 20,
>>>>>>> Stashed changes
     "metadata": {},
     "output_type": "execute_result"
    }
   ],
   "source": [
    "K = minimum([k₁,k₂,k₃])"
   ]
  },
  {
   "cell_type": "markdown",
   "id": "f6f08ec4-7eb8-4af5-800f-4066decfb26c",
   "metadata": {},
   "source": [
    "## Task 3: Interpretation of the data in the clusters\n",
    "We've run the clustering algorithm on the clinical dataset. Now, let's figure out what is in each cluster. In particular, specify which cluster we want to analyze in the `my_cluster_index::Int64` variable, where `my_cluster_index` $\\in\\left\\{1,2,\\dots,K\\right\\}$."
   ]
  },
  {
   "cell_type": "code",
<<<<<<< Updated upstream
   "execution_count": 108,
=======
   "execution_count": 21,
>>>>>>> Stashed changes
   "id": "1f5b214f-6485-4e28-93fb-a06037ade9c8",
   "metadata": {},
   "outputs": [],
   "source": [
    "my_cluster_index = 3; # i ∈ {1,2,...,K}"
   ]
  },
  {
   "cell_type": "markdown",
   "id": "ae8e075f-0da8-461a-a403-3c3f49d1f9c1",
   "metadata": {},
   "source": [
    "Next, let's make a table [using the `pretty_table(...)` function exported by the `PrettyTables.jl` package](https://github.com/ronisbr/PrettyTables.jl) which displays the raw data associated with `my_cluster_index::Int64`. This table will display the raw (scaled) data from `D::Array{Float64,2}`. "
   ]
  },
  {
   "cell_type": "code",
<<<<<<< Updated upstream
   "execution_count": 110,
=======
   "execution_count": 22,
>>>>>>> Stashed changes
   "id": "ed5b8c9c-7f97-413d-adce-9d931bccb0b5",
   "metadata": {
    "jupyter": {
     "source_hidden": true
    }
   },
   "outputs": [
    {
     "name": "stdout",
     "output_type": "stream",
     "text": [
<<<<<<< Updated upstream
      "======== ======= ============ ========= ===================== ============== ================== =================== ========= ========\n",
      " \u001b[1m     c \u001b[0m \u001b[1m    id \u001b[0m \u001b[1m        age \u001b[0m \u001b[1m  gender \u001b[0m \u001b[1m high_blood_pressure \u001b[0m \u001b[1m serum_sodium \u001b[0m \u001b[1m serum_creatinine \u001b[0m \u001b[1m ejection_fraction \u001b[0m \u001b[1m smoking \u001b[0m \u001b[1m death \u001b[0m\n",
      " \u001b[90m Int64 \u001b[0m \u001b[90m Int64 \u001b[0m \u001b[90m    Float64 \u001b[0m \u001b[90m Float64 \u001b[0m \u001b[90m             Float64 \u001b[0m \u001b[90m      Float64 \u001b[0m \u001b[90m          Float64 \u001b[0m \u001b[90m           Float64 \u001b[0m \u001b[90m Float64 \u001b[0m \u001b[90m Int64 \u001b[0m\n",
      "======== ======= ============ ========= ===================== ============== ================== =================== ========= ========\n",
      "      3       5     0.350246      -1.0                  -1.0       -4.67434            1.26255              -1.528      -1.0       1\n",
      "      3       9     0.350246      -1.0                  -1.0       0.311522            0.10258             2.27433      -1.0       1\n",
      "      3      14    -0.910808       1.0                   1.0      0.0848915          -0.284076         -0.00706491      -1.0       1\n",
      "      3      15    -0.994879      -1.0                   1.0       0.311522           -0.38074           -0.683035      -1.0      -1\n",
      "      3      19     0.770597      -1.0                   1.0       0.764782           -0.38074            -1.10552      -1.0       1\n",
      "      3      20     -1.07895      -1.0                  -1.0       -3.54119           0.489237             1.42937      -1.0       1\n",
      "      3      21     0.350246      -1.0                   1.0      0.0848915         -0.0907479            -1.10552      -1.0      -1\n",
      "      3      22     0.350246      -1.0                   1.0      -0.141739           0.199244           -0.683035      -1.0       1\n",
      "      3      24    -0.658598       1.0                  -1.0      -0.368369          -0.574068             1.85185      -1.0      -1\n",
      "      3      25      1.19095      -1.0                   1.0      -0.594999           0.421572           -0.683035      -1.0       1\n",
      "      3      27      2.87235      -1.0                   1.0       0.311522           -0.38074            0.161928      -1.0       1\n",
      "      3      33    -0.910808      -1.0                   1.0       -1.95478           -0.38074           -0.260554      -1.0       1\n",
      "      3      34    -0.910808      -1.0                  -1.0       0.311522          -0.187412           -0.683035      -1.0      -1\n",
      "      3      35     0.350246       1.0                   1.0       0.764782           -0.38074             1.00689      -1.0       1\n",
      "      3      38      1.77944      -1.0                   1.0        1.89793           -0.38074             1.00689      -1.0       1\n",
      "      3      40   -0.0701056      -1.0                  -1.0        1.21804            1.55254         -0.00706491      -1.0       1\n",
      "      3      42    -0.910808      -1.0                   1.0      -0.141739          -0.187412           -0.683035       1.0       1\n",
      "      3      45   -0.0701056      -1.0                  -1.0        1.21804          -0.284076             1.85185      -1.0       1\n",
      "      3      50    -0.322316      -1.0                  -1.0       0.764782           -0.38074           -0.683035      -1.0       1\n",
      "      3      52    -0.658598      -1.0                   1.0       0.538152         0.00591623              -1.528      -1.0       1\n",
      "      3      53   -0.0701056      -1.0                  -1.0        2.12456            5.22578             2.02085      -1.0       1\n",
      "      3      54     0.770597      -1.0                   1.0      -0.594999           -0.38074             1.00689      -1.0       1\n",
      "      3      55   -0.0701056      -1.0                  -1.0       -1.04826           0.779229         -0.00706491       1.0       1\n",
      "      3      62    -0.910808      -1.0                   1.0       -1.27489           0.875893            0.161928      -1.0       1\n",
      "      3      65     -1.33116      -1.0                  -1.0      0.0848915          -0.206745             3.54178      -1.0      -1\n",
      "      3      67     -1.58337      -1.0                  -1.0      -0.141739         -0.0907479            -1.95048      -1.0       1\n",
      "      3      69     0.770597      -1.0                  -1.0        1.21804          -0.187412            -1.10552      -1.0       1\n",
      "      3      77     0.770597      -1.0                   1.0       0.764782          -0.574068             1.85185       1.0      -1\n",
      "      3      80    -0.490457      -1.0                   1.0       0.764782          -0.477404            0.584409      -1.0      -1\n",
      "      3      81     0.770597      -1.0                  -1.0      -0.141739           0.295909            0.161928      -1.0      -1\n",
      "      3      83   -0.0701056      -1.0                  -1.0       -1.04826            1.06922            -1.10552      -1.0       1\n",
      "      3      85    -0.154176      -1.0                   1.0       0.991412           -0.38074            -1.10552      -1.0       1\n",
      "      3      88     0.350246       1.0                   1.0       0.764782          -0.574068             1.85185      -1.0      -1\n",
      "      3      93     -1.58337      -1.0                  -1.0      0.0848915          -0.206745             1.85185      -1.0      -1\n",
      "      3      95    -0.238246      -1.0                   1.0        1.21804          -0.670733         -0.00706491      -1.0      -1\n",
      "      3      96    -0.238246       1.0                   1.0       0.991412           -0.38074             1.85185      -1.0      -1\n",
      "      3      98     0.770597      -1.0                  -1.0      -0.141739          -0.284076             1.85185      -1.0      -1\n",
      "      3      99   -0.0701056      -1.0                   1.0      0.0848915          -0.187412            -1.10552      -1.0      -1\n",
      "      3     100     0.182105      -1.0                  -1.0       0.764782          -0.284076            0.161928      -1.0      -1\n",
      "      3     105   -0.0701056      -1.0                   1.0        1.44467           0.875893             1.00689      -1.0      -1\n",
      "      3     106     0.938738      -1.0                   1.0       0.311522           0.295909           -0.683035       1.0       1\n",
      "      3     114     0.770597      -1.0                  -1.0      0.0848915         -0.0907479             1.85185      -1.0       1\n",
      "      3     115   -0.0701056       1.0                   1.0       -2.40804          -0.187412            0.161928      -1.0      -1\n",
      "      3     116    -0.238246      -1.0                  -1.0       0.538152           -0.38074            0.161928      -1.0      -1\n",
      "      3     117   -0.0701056      -1.0                   1.0      -0.141739          -0.670733             1.85185      -1.0      -1\n",
      "      3     118      2.03165      -1.0                  -1.0       0.311522            1.74587             1.85185      -1.0      -1\n",
      "      3     119     0.350246      -1.0                   1.0       0.764782          -0.477404             1.85185      -1.0      -1\n",
      "      3     120      2.11572      -1.0                  -1.0      -0.594999           0.421572         -0.00706491      -1.0       1\n",
      "      3     122     0.434316      -1.0                   1.0      -0.141739           -0.38074         -0.00706491      -1.0      -1\n",
      "      3     123   -0.0701056      -1.0                  -1.0       0.764782          -0.622401         -0.00706491      -1.0      -1\n",
      "      3     124   -0.0701056      -1.0                   1.0        1.89793          -0.477404           -0.683035      -1.0      -1\n",
      "      3     126      -1.4993      -1.0                  -1.0      -0.368369         -0.0907479             1.00689      -1.0      -1\n",
      "      3     127     -1.24709      -1.0                   1.0        -2.8613           0.682565            -1.78149      -1.0       1\n",
      "      3     128    -0.238246      -1.0                  -1.0      0.0848915          -0.574068             1.85185      -1.0      -1\n",
      "      3     133     -1.24709      -1.0                   1.0      0.0848915          -0.206745            0.161928      -1.0      -1\n",
      "      3     137     0.350246      -1.0                  -1.0      0.0848915          -0.477404             1.85185      -1.0      -1\n",
      "      3     139     0.098035      -1.0                  -1.0      -0.141739           -0.38074           -0.260554      -1.0      -1\n",
      "      3     142     -1.24709      -1.0                  -1.0       0.764782          -0.477404           -0.260554      -1.0      -1\n",
      "      3     143    -0.910808      -1.0                  -1.0       -1.04826          -0.477404           -0.683035      -1.0      -1\n",
      "      3     144    0.0139647      -1.0                   1.0       0.991412          -0.477404            0.161928      -1.0      -1\n",
      "      3     151     0.938738      -1.0                   1.0      -0.368369            1.06922            0.584409      -1.0       1\n",
      "      3     152     0.098035       1.0                   1.0       0.538152          -0.477404             1.85185      -1.0      -1\n",
      "      3     155     0.350246      -1.0                   1.0      -0.141739          -0.574068           -0.260554      -1.0      -1\n",
      "      3     157    -0.742668      -1.0                  -1.0      -0.141739         0.00591623           -0.260554      -1.0      -1\n",
      "      3     166       1.6113      -1.0                   1.0      -0.368369         -0.0907479         -0.00706491      -1.0       1\n",
      "      3     169     0.350246      -1.0                  -1.0       0.311522           -0.38074            0.161928      -1.0      -1\n",
      "      3     170     0.770597      -1.0                   1.0      -0.821629          -0.574068           -0.260554      -1.0      -1\n",
      "      3     178    -0.994879      -1.0                  -1.0       0.764782           -0.38074             1.00689      -1.0      -1\n",
      "      3     189   -0.0140307      -1.0                   1.0      -0.141739           -0.38074            0.161928      -1.0      -1\n",
      "      3     190     -1.75151      -1.0                   1.0       0.764782          -0.477404            0.584409      -1.0      -1\n",
      "      3     192     0.266176      -1.0                  -1.0      -0.368369            0.10258             1.85185      -1.0      -1\n",
      "      3     197     -1.33116      -1.0                   1.0      0.0848915          -0.206745         -0.00706491      -1.0      -1\n",
      "      3     199    -0.910808      -1.0                   1.0      -0.594999           -0.38074              -1.528      -1.0      -1\n",
      "      3     206    -0.910808      -1.0                  -1.0      -0.141739           -0.38074            0.584409      -1.0      -1\n",
      "      3     210    -0.994879      -1.0                   1.0       -1.50152          -0.574068           -0.260554      -1.0      -1\n",
      "      3     214     -1.07895      -1.0                   1.0       -1.50152           0.199244           -0.683035      -1.0       1\n",
      "      3     217     0.770597      -1.0                   1.0       0.991412          -0.477404             1.00689      -1.0      -1\n",
      "      3     218    -0.574527      -1.0                   1.0      0.0848915            7.35239             2.69682      -1.0       1\n",
      "      3     220    -0.490457      -1.0                   1.0       0.764782          -0.670733           -0.260554      -1.0      -1\n",
      "      3     226      1.19095      -1.0                  -1.0       -2.63467         0.00591623             1.85185      -1.0      -1\n",
      "      3     230     0.938738      -1.0                  -1.0      -0.594999          -0.187412            -1.10552      -1.0      -1\n",
      "      3     236      1.35909       1.0                   1.0      0.0848915          -0.284076             1.00689      -1.0      -1\n",
      "      3     239     0.350246      -1.0                  -1.0      -0.141739           -0.38074            0.161928      -1.0      -1\n",
      "      3     241     0.770597      -1.0                   1.0       0.538152         -0.0907479           -0.260554      -1.0      -1\n",
      "      3     244      1.02281      -1.0                   1.0       0.991412          -0.477404            0.161928      -1.0      -1\n",
      "      3     254     0.770597      -1.0                   1.0       -1.04826          -0.187412           -0.260554      -1.0      -1\n",
      "      3     262     0.098035      -1.0                  -1.0      -0.821629          -0.670733            0.161928      -1.0      -1\n",
      "      3     264     0.602457      -1.0                  -1.0       0.764782           -0.38074             1.85185      -1.0      -1\n",
      "      3     290        2.452      -1.0                  -1.0         1.6713          -0.477404         -0.00706491      -1.0      -1\n",
      "======== ======= ============ ========= ===================== ============== ================== =================== ========= ========\n"
=======
      "======== ======= ============ ========= ===================== ============== ========= ==========\n",
      " \u001b[1m     c \u001b[0m \u001b[1m    id \u001b[0m \u001b[1m        age \u001b[0m \u001b[1m  gender \u001b[0m \u001b[1m high_blood_pressure \u001b[0m \u001b[1m serum_sodium \u001b[0m \u001b[1m smoking \u001b[0m \u001b[1m   death \u001b[0m\n",
      " \u001b[90m Int64 \u001b[0m \u001b[90m Int64 \u001b[0m \u001b[90m    Float64 \u001b[0m \u001b[90m Float64 \u001b[0m \u001b[90m             Float64 \u001b[0m \u001b[90m      Float64 \u001b[0m \u001b[90m Float64 \u001b[0m \u001b[90m Float64 \u001b[0m\n",
      "======== ======= ============ ========= ===================== ============== ========= ==========\n",
      "      2      10       1.6113       1.0                   1.0      -0.821629       1.0       1.0\n",
      "      2      11      1.19095       1.0                   1.0       -1.27489       1.0       1.0\n",
      "      2      29    -0.238246       1.0                  -1.0      -0.594999      -1.0       1.0\n",
      "      2      49       1.6113       1.0                   1.0      -0.821629      -1.0       1.0\n",
      "      2      53   -0.0701056      -1.0                  -1.0        2.12456      -1.0       1.0\n",
      "      2     118      2.03165      -1.0                  -1.0       0.311522      -1.0      -1.0\n",
      "      2     125   -0.0701056       1.0                  -1.0      -0.594999      -1.0       1.0\n",
      "      2     132   -0.0701056       1.0                  -1.0       -1.27489      -1.0      -1.0\n",
      "      2     218    -0.574527      -1.0                   1.0      0.0848915      -1.0       1.0\n",
      "      2     229     0.350246      -1.0                  -1.0       -1.50152      -1.0      -1.0\n",
      "======== ======= ============ ========= ===================== ============== ========= ==========\n"
>>>>>>> Stashed changes
     ]
    }
   ],
   "source": [
    "let\n",
    "\n",
    "    # names - \n",
    "    names_dictionary = Dict{String,Int}();\n",
    "    loopcounter = 1;\n",
    "    for name ∈ names(dataset)\n",
    "        names_dictionary[name] = loopcounter;\n",
    "        loopcounter += 1;\n",
    "    end\n",
    "\n",
    "    df = DataFrame(); \n",
    "    assignment = result.assignments;\n",
    "    index_array = findall(a -> a == my_cluster_index, assignment);\n",
    "\n",
    "    for i ∈ eachindex(index_array)\n",
    "        a = index_array[i]; # what is the assignment\n",
    "        row_df = (\n",
    "            c = my_cluster_index,\n",
    "            id = a, # proxy for patient id?\n",
    "            age = D[a,names_dictionary[\"age\"]],\n",
    "            gender = D[a,names_dictionary[\"sex\"]],\n",
    "            high_blood_pressure = D[a,names_dictionary[\"high_blood_pressure\"]],\n",
    "            serum_sodium = D[a,names_dictionary[\"serum_sodium\"]],\n",
    "            serum_creatinine = D[a, names_dictionary[\"serum_creatinine\"]],\n",
    "            ejection_fraction = D[a, names_dictionary[\"ejection_fraction\"]],\n",
    "            smoking = D[a,names_dictionary[\"smoking\"]],\n",
    "            death = dataset[a, :death_event] # this was NOT included in the cluster dataset D\n",
    "        );\n",
    "        push!(df, row_df);\n",
    "    end\n",
    "    pretty_table(df, tf = tf_simple)\n",
    "end"
   ]
  },
  {
   "cell_type": "markdown",
   "id": "6f69cb97-cf17-45fb-96f1-1ecebf1e8749",
   "metadata": {},
   "source": [
    "We can see the averages, i.e., the centroids of each feature in the `my_cluster_index::Int` by looking at the centroids dictionary. This will give us a representation of the data in this cluster."
   ]
  },
  {
   "cell_type": "code",
<<<<<<< Updated upstream
   "execution_count": 112,
=======
   "execution_count": 23,
>>>>>>> Stashed changes
   "id": "a69e3349-23a1-40d8-8c0e-19ed9c08eb06",
   "metadata": {},
   "outputs": [
    {
     "name": "stdout",
     "output_type": "stream",
     "text": [
<<<<<<< Updated upstream
      "======== =========== =========== ===================== ============== ================== =================== =========== ============\n",
      " \u001b[1m     c \u001b[0m \u001b[1m       age \u001b[0m \u001b[1m    gender \u001b[0m \u001b[1m high_blood_pressure \u001b[0m \u001b[1m serum_sodium \u001b[0m \u001b[1m serum_creatinine \u001b[0m \u001b[1m ejection_fraction \u001b[0m \u001b[1m   smoking \u001b[0m \u001b[1m     death \u001b[0m\n",
      " \u001b[90m Int64 \u001b[0m \u001b[90m   Float64 \u001b[0m \u001b[90m   Float64 \u001b[0m \u001b[90m             Float64 \u001b[0m \u001b[90m      Float64 \u001b[0m \u001b[90m          Float64 \u001b[0m \u001b[90m           Float64 \u001b[0m \u001b[90m   Float64 \u001b[0m \u001b[90m   Float64 \u001b[0m\n",
      "======== =========== =========== ===================== ============== ================== =================== =========== ============\n",
      "      3   0.0391546   -0.820225              0.101124    0.000860157         0.00298372            0.341364   -0.910112   -0.280899\n",
      "======== =========== =========== ===================== ============== ================== =================== =========== ============\n"
=======
      "======== ========== ========= ===================== ============== ========= ==========\n",
      " \u001b[1m     c \u001b[0m \u001b[1m      age \u001b[0m \u001b[1m  gender \u001b[0m \u001b[1m high_blood_pressure \u001b[0m \u001b[1m serum_sodium \u001b[0m \u001b[1m smoking \u001b[0m \u001b[1m   death \u001b[0m\n",
      " \u001b[90m Int64 \u001b[0m \u001b[90m  Float64 \u001b[0m \u001b[90m Float64 \u001b[0m \u001b[90m             Float64 \u001b[0m \u001b[90m      Float64 \u001b[0m \u001b[90m Float64 \u001b[0m \u001b[90m Float64 \u001b[0m\n",
      "======== ========== ========= ===================== ============== ========= ==========\n",
      "      2   0.577236       0.2                  -0.2      -0.436358      -0.6       0.4\n",
      "======== ========== ========= ===================== ============== ========= ==========\n"
>>>>>>> Stashed changes
     ]
    }
   ],
   "source": [
    "let\n",
    "\n",
    "    # names - \n",
    "    names_dictionary = Dict{String,Int}();\n",
    "    loopcounter = 1;\n",
    "    for name ∈ names(dataset)\n",
    "        names_dictionary[name] = loopcounter;\n",
    "        loopcounter += 1;\n",
    "    end\n",
    "\n",
    "    # for this cluster configuration, what is the death centroid?\n",
    "    tmp = 0.0;\n",
    "    idx_cluster = findall(x-> x == my_cluster_index, result.assignments);\n",
    "    N = length(idx_cluster);\n",
    "    for i ∈ idx_cluster\n",
    "        tmp += dataset[i,:death_event];\n",
    "    end\n",
    "    death_centroid = (1/N)*tmp;\n",
    "    \n",
    "    μ = result.centroids[my_cluster_index]\n",
    "    df = DataFrame();\n",
    "    row_df = (\n",
    "        c = my_cluster_index,\n",
    "        age = μ[names_dictionary[\"age\"]],\n",
    "        gender = μ[names_dictionary[\"sex\"]],\n",
    "        high_blood_pressure = μ[names_dictionary[\"high_blood_pressure\"]],\n",
    "        serum_sodium = μ[names_dictionary[\"serum_sodium\"]],\n",
    "        serum_creatinine = μ[names_dictionary[\"serum_creatinine\"]],\n",
    "        ejection_fraction = μ[names_dictionary[\"ejection_fraction\"]],\n",
    "        smoking = μ[names_dictionary[\"smoking\"]],\n",
    "        death = death_centroid,\n",
    "    );\n",
    "    push!(df, row_df);\n",
    "    pretty_table(df, tf=tf_simple)\n",
    "end"
   ]
  },
  {
   "cell_type": "code",
   "execution_count": 2,
   "id": "4813da0e-4b55-404d-840e-70db66be20b6",
   "metadata": {},
   "outputs": [],
   "source": [
    "# neg = under the mean\n",
    "# pos = over the mean\n",
    "# -1 is women\n",
    "# -1 in smoking is non-smoker\n",
    "# fx cluster 2 is elderly, women/men, lower blood pressure, very low sodium = higher death"
   ]
  },
  {
   "cell_type": "code",
   "execution_count": null,
   "id": "29ac63b6-b0a4-4da6-a84c-7a9f23b7279d",
   "metadata": {},
   "outputs": [],
   "source": []
  }
 ],
 "metadata": {
  "kernelspec": {
   "display_name": "Julia 1.11.2",
   "language": "julia",
   "name": "julia-1.11"
  },
  "language_info": {
   "file_extension": ".jl",
   "mimetype": "application/julia",
   "name": "julia",
   "version": "1.11.2"
  }
 },
 "nbformat": 4,
 "nbformat_minor": 5
}
