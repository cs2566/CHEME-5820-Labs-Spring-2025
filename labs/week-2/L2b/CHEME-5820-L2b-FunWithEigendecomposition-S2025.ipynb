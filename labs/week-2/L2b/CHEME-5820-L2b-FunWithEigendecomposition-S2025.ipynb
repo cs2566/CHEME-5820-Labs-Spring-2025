{
 "cells": [
  {
   "cell_type": "markdown",
   "id": "8ad43c13-6cb6-43ba-90b5-4688aa087375",
   "metadata": {},
   "source": [
    "# Lab 2b: Eigendecomposition of Stoichiometric Matrices\n",
    "Fill me in"
   ]
  },
  {
   "cell_type": "markdown",
   "id": "d1018fc3-c3b2-4c66-9c03-17e4b0a1d8fa",
   "metadata": {},
   "source": [
    "## Setup, Data and Prerequisites\n",
    "We set up the computational environment by including the `Include.jl` file, loading any needed resources, such as sample datasets, and setting up any required constants. The `Include.jl` file loads external packages, various functions that we will use in the exercise, and custom types to model the components of our problem."
   ]
  },
  {
   "cell_type": "code",
   "execution_count": 1,
   "id": "a955d0e5-44a6-43c2-9e19-690e523d2068",
   "metadata": {
    "scrolled": true
   },
   "outputs": [
    {
     "name": "stderr",
     "output_type": "stream",
     "text": [
      "\u001b[32m\u001b[1m  Activating\u001b[22m\u001b[39m project at `~/Documents/GitHub/CHEME-5820-Labs-Spring-2025/labs/week-2/L2b`\n",
      "\u001b[32m\u001b[1m    Updating\u001b[22m\u001b[39m `~/Documents/GitHub/CHEME-5820-Labs-Spring-2025/labs/week-2/L2b/Project.toml`\n",
      "  \u001b[90m[336ed68f] \u001b[39m\u001b[92m+ CSV v0.10.15\u001b[39m\n",
      "  \u001b[90m[a93c6f00] \u001b[39m\u001b[92m+ DataFrames v1.7.0\u001b[39m\n",
      "  \u001b[90m[5789e2e9] \u001b[39m\u001b[92m+ FileIO v1.16.6\u001b[39m\n",
      "  \u001b[90m[cd3eb016] \u001b[39m\u001b[92m+ HTTP v1.10.15\u001b[39m\n",
      "  \u001b[90m[033835bb] \u001b[39m\u001b[92m+ JLD2 v0.5.11\u001b[39m\n",
      "  \u001b[90m[682c06a0] \u001b[39m\u001b[92m+ JSON v0.21.4\u001b[39m\n",
      "  \u001b[90m[b27032c2] \u001b[39m\u001b[93m~ LibCURL ⇒ v0.6.4\u001b[39m\n",
      "  \u001b[90m[37e2e46d] \u001b[39m\u001b[93m~ LinearAlgebra ⇒ v1.11.0\u001b[39m\n",
      "\u001b[32m\u001b[1m    Updating\u001b[22m\u001b[39m `~/Documents/GitHub/CHEME-5820-Labs-Spring-2025/labs/week-2/L2b/Manifest.toml`\n",
      "  \u001b[90m[d1d4a3ce] \u001b[39m\u001b[92m+ BitFlags v0.1.9\u001b[39m\n",
      "  \u001b[90m[336ed68f] \u001b[39m\u001b[92m+ CSV v0.10.15\u001b[39m\n",
      "  \u001b[90m[944b1d66] \u001b[39m\u001b[92m+ CodecZlib v0.7.6\u001b[39m\n",
      "  \u001b[90m[34da2185] \u001b[39m\u001b[92m+ Compat v4.16.0\u001b[39m\n",
      "  \u001b[90m[f0e56b4a] \u001b[39m\u001b[92m+ ConcurrentUtilities v2.4.3\u001b[39m\n",
      "  \u001b[90m[a8cc5b0e] \u001b[39m\u001b[92m+ Crayons v4.1.1\u001b[39m\n",
      "  \u001b[90m[9a962f9c] \u001b[39m\u001b[92m+ DataAPI v1.16.0\u001b[39m\n",
      "  \u001b[90m[a93c6f00] \u001b[39m\u001b[92m+ DataFrames v1.7.0\u001b[39m\n",
      "  \u001b[90m[864edb3b] \u001b[39m\u001b[92m+ DataStructures v0.18.20\u001b[39m\n",
      "  \u001b[90m[e2d170a0] \u001b[39m\u001b[92m+ DataValueInterfaces v1.0.0\u001b[39m\n",
      "  \u001b[90m[460bff9d] \u001b[39m\u001b[92m+ ExceptionUnwrapping v0.1.11\u001b[39m\n",
      "  \u001b[90m[5789e2e9] \u001b[39m\u001b[92m+ FileIO v1.16.6\u001b[39m\n",
      "  \u001b[90m[48062228] \u001b[39m\u001b[92m+ FilePathsBase v0.9.22\u001b[39m\n",
      "  \u001b[90m[cd3eb016] \u001b[39m\u001b[92m+ HTTP v1.10.15\u001b[39m\n",
      "  \u001b[90m[842dd82b] \u001b[39m\u001b[92m+ InlineStrings v1.4.2\u001b[39m\n",
      "  \u001b[90m[41ab1584] \u001b[39m\u001b[92m+ InvertedIndices v1.3.1\u001b[39m\n",
      "  \u001b[90m[82899510] \u001b[39m\u001b[92m+ IteratorInterfaceExtensions v1.0.0\u001b[39m\n",
      "  \u001b[90m[033835bb] \u001b[39m\u001b[92m+ JLD2 v0.5.11\u001b[39m\n",
      "  \u001b[90m[692b3bcd] \u001b[39m\u001b[92m+ JLLWrappers v1.7.0\u001b[39m\n",
      "  \u001b[90m[682c06a0] \u001b[39m\u001b[92m+ JSON v0.21.4\u001b[39m\n",
      "  \u001b[90m[b964fa9f] \u001b[39m\u001b[92m+ LaTeXStrings v1.4.0\u001b[39m\n",
      "  \u001b[90m[e6f89c97] \u001b[39m\u001b[92m+ LoggingExtras v1.1.0\u001b[39m\n",
      "  \u001b[90m[1914dd2f] \u001b[39m\u001b[92m+ MacroTools v0.5.15\u001b[39m\n",
      "  \u001b[90m[739be429] \u001b[39m\u001b[92m+ MbedTLS v1.1.9\u001b[39m\n",
      "  \u001b[90m[e1d29d7a] \u001b[39m\u001b[92m+ Missings v1.2.0\u001b[39m\n",
      "  \u001b[90m[4d8831e6] \u001b[39m\u001b[92m+ OpenSSL v1.4.3\u001b[39m\n",
      "  \u001b[90m[bac558e1] \u001b[39m\u001b[92m+ OrderedCollections v1.7.0\u001b[39m\n",
      "  \u001b[90m[69de0a69] \u001b[39m\u001b[92m+ Parsers v2.8.1\u001b[39m\n",
      "  \u001b[90m[2dfb63ee] \u001b[39m\u001b[92m+ PooledArrays v1.4.3\u001b[39m\n",
      "  \u001b[90m[aea7be01] \u001b[39m\u001b[92m+ PrecompileTools v1.2.1\u001b[39m\n",
      "  \u001b[90m[21216c6a] \u001b[39m\u001b[92m+ Preferences v1.4.3\u001b[39m\n",
      "  \u001b[90m[08abe8d2] \u001b[39m\u001b[92m+ PrettyTables v2.4.0\u001b[39m\n",
      "  \u001b[90m[189a3867] \u001b[39m\u001b[92m+ Reexport v1.2.2\u001b[39m\n",
      "  \u001b[90m[ae029012] \u001b[39m\u001b[92m+ Requires v1.3.0\u001b[39m\n",
      "  \u001b[90m[91c51154] \u001b[39m\u001b[92m+ SentinelArrays v1.4.8\u001b[39m\n",
      "  \u001b[90m[777ac1f9] \u001b[39m\u001b[92m+ SimpleBufferStream v1.2.0\u001b[39m\n",
      "  \u001b[90m[a2af1166] \u001b[39m\u001b[92m+ SortingAlgorithms v1.2.1\u001b[39m\n",
      "  \u001b[90m[10745b16] \u001b[39m\u001b[92m+ Statistics v1.11.1\u001b[39m\n",
      "  \u001b[90m[892a3eda] \u001b[39m\u001b[92m+ StringManipulation v0.4.0\u001b[39m\n",
      "  \u001b[90m[3783bdb8] \u001b[39m\u001b[92m+ TableTraits v1.0.1\u001b[39m\n",
      "  \u001b[90m[bd369af6] \u001b[39m\u001b[92m+ Tables v1.12.0\u001b[39m\n",
      "  \u001b[90m[3bb67fe8] \u001b[39m\u001b[92m+ TranscodingStreams v0.11.3\u001b[39m\n",
      "  \u001b[90m[5c2747f8] \u001b[39m\u001b[92m+ URIs v1.5.1\u001b[39m\n",
      "  \u001b[90m[ea10d353] \u001b[39m\u001b[92m+ WeakRefStrings v1.4.2\u001b[39m\n",
      "  \u001b[90m[76eceee3] \u001b[39m\u001b[92m+ WorkerUtilities v1.6.1\u001b[39m\n",
      "  \u001b[90m[458c3c95] \u001b[39m\u001b[92m+ OpenSSL_jll v3.0.15+3\u001b[39m\n",
      "  \u001b[90m[0dad84c5] \u001b[39m\u001b[92m+ ArgTools v1.1.2\u001b[39m\n",
      "  \u001b[90m[56f22d72] \u001b[39m\u001b[92m+ Artifacts v1.11.0\u001b[39m\n",
      "  \u001b[90m[2a0f44e3] \u001b[39m\u001b[92m+ Base64 v1.11.0\u001b[39m\n",
      "  \u001b[90m[ade2ca70] \u001b[39m\u001b[92m+ Dates v1.11.0\u001b[39m\n",
      "  \u001b[90m[f43a241f] \u001b[39m\u001b[92m+ Downloads v1.6.0\u001b[39m\n",
      "  \u001b[90m[7b1f6079] \u001b[39m\u001b[92m+ FileWatching v1.11.0\u001b[39m\n",
      "  \u001b[90m[9fa8497b] \u001b[39m\u001b[92m+ Future v1.11.0\u001b[39m\n",
      "  \u001b[90m[b77e0a4c] \u001b[39m\u001b[92m+ InteractiveUtils v1.11.0\u001b[39m\n",
      "  \u001b[90m[b27032c2] \u001b[39m\u001b[92m+ LibCURL v0.6.4\u001b[39m\n",
      "  \u001b[90m[76f85450] \u001b[39m\u001b[92m+ LibGit2 v1.11.0\u001b[39m\n",
      "  \u001b[90m[8f399da3] \u001b[39m\u001b[92m+ Libdl v1.11.0\u001b[39m\n",
      "  \u001b[90m[37e2e46d] \u001b[39m\u001b[92m+ LinearAlgebra v1.11.0\u001b[39m\n",
      "  \u001b[90m[56ddb016] \u001b[39m\u001b[92m+ Logging v1.11.0\u001b[39m\n",
      "  \u001b[90m[d6f4376e] \u001b[39m\u001b[92m+ Markdown v1.11.0\u001b[39m\n",
      "  \u001b[90m[a63ad114] \u001b[39m\u001b[92m+ Mmap v1.11.0\u001b[39m\n",
      "  \u001b[90m[ca575930] \u001b[39m\u001b[92m+ NetworkOptions v1.2.0\u001b[39m\n",
      "  \u001b[90m[44cfe95a] \u001b[39m\u001b[92m+ Pkg v1.11.0\u001b[39m\n",
      "  \u001b[90m[de0858da] \u001b[39m\u001b[92m+ Printf v1.11.0\u001b[39m\n",
      "  \u001b[90m[9a3f8284] \u001b[39m\u001b[92m+ Random v1.11.0\u001b[39m\n",
      "  \u001b[90m[ea8e919c] \u001b[39m\u001b[92m+ SHA v0.7.0\u001b[39m\n",
      "  \u001b[90m[9e88b42a] \u001b[39m\u001b[92m+ Serialization v1.11.0\u001b[39m\n",
      "  \u001b[90m[6462fe0b] \u001b[39m\u001b[92m+ Sockets v1.11.0\u001b[39m\n",
      "  \u001b[90m[fa267f1f] \u001b[39m\u001b[92m+ TOML v1.0.3\u001b[39m\n",
      "  \u001b[90m[a4e569a6] \u001b[39m\u001b[92m+ Tar v1.10.0\u001b[39m\n",
      "  \u001b[90m[8dfed614] \u001b[39m\u001b[92m+ Test v1.11.0\u001b[39m\n",
      "  \u001b[90m[cf7118a7] \u001b[39m\u001b[92m+ UUIDs v1.11.0\u001b[39m\n",
      "  \u001b[90m[4ec0a83e] \u001b[39m\u001b[92m+ Unicode v1.11.0\u001b[39m\n",
      "  \u001b[90m[e66e0078] \u001b[39m\u001b[92m+ CompilerSupportLibraries_jll v1.1.1+0\u001b[39m\n",
      "  \u001b[90m[deac9b47] \u001b[39m\u001b[92m+ LibCURL_jll v8.6.0+0\u001b[39m\n",
      "  \u001b[90m[e37daf67] \u001b[39m\u001b[92m+ LibGit2_jll v1.7.2+0\u001b[39m\n",
      "  \u001b[90m[29816b5a] \u001b[39m\u001b[92m+ LibSSH2_jll v1.11.0+1\u001b[39m\n",
      "  \u001b[90m[c8ffd9c3] \u001b[39m\u001b[92m+ MbedTLS_jll v2.28.6+0\u001b[39m\n",
      "  \u001b[90m[14a3606d] \u001b[39m\u001b[92m+ MozillaCACerts_jll v2023.12.12\u001b[39m\n",
      "  \u001b[90m[4536629a] \u001b[39m\u001b[92m+ OpenBLAS_jll v0.3.27+1\u001b[39m\n",
      "  \u001b[90m[83775a58] \u001b[39m\u001b[92m+ Zlib_jll v1.2.13+1\u001b[39m\n",
      "  \u001b[90m[8e850b90] \u001b[39m\u001b[92m+ libblastrampoline_jll v5.11.0+0\u001b[39m\n",
      "  \u001b[90m[8e850ede] \u001b[39m\u001b[92m+ nghttp2_jll v1.59.0+0\u001b[39m\n",
      "  \u001b[90m[3f19e933] \u001b[39m\u001b[92m+ p7zip_jll v17.4.0+2\u001b[39m\n",
      "\u001b[32m\u001b[1m    Updating\u001b[22m\u001b[39m registry at `~/.julia/registries/General.toml`\n",
      "\u001b[32m\u001b[1m  No Changes\u001b[22m\u001b[39m to `~/Documents/GitHub/CHEME-5820-Labs-Spring-2025/labs/week-2/L2b/Project.toml`\n",
      "\u001b[32m\u001b[1m  No Changes\u001b[22m\u001b[39m to `~/Documents/GitHub/CHEME-5820-Labs-Spring-2025/labs/week-2/L2b/Manifest.toml`\n"
     ]
    }
   ],
   "source": [
    "include(\"Include.jl\");"
   ]
  },
  {
   "cell_type": "markdown",
   "id": "8e164a9e-f226-4120-a7cf-5575f73296bf",
   "metadata": {},
   "source": [
    "Download a model."
   ]
  },
  {
   "cell_type": "code",
   "execution_count": 2,
   "id": "5651b4e0-a56f-43d7-b350-3caeb68bed66",
   "metadata": {},
   "outputs": [
    {
     "data": {
      "text/plain": [
       "Dict{String, Any} with 6 entries:\n",
       "  \"metabolites\"  => Any[Dict{String, Any}(\"compartment\"=>\"e\", \"name\"=>\"D-Glucos…\n",
       "  \"id\"           => \"e_coli_core\"\n",
       "  \"compartments\" => Dict{String, Any}(\"c\"=>\"cytosol\", \"e\"=>\"extracellular space…\n",
       "  \"reactions\"    => Any[Dict{String, Any}(\"name\"=>\"Phosphofructokinase\", \"metab…\n",
       "  \"version\"      => \"1\"\n",
       "  \"genes\"        => Any[Dict{String, Any}(\"name\"=>\"adhE\", \"id\"=>\"b1241\", \"notes…"
      ]
     },
     "execution_count": 2,
     "metadata": {},
     "output_type": "execute_result"
    }
   ],
   "source": [
    "model = let\n",
    "\n",
    "    # build download endpoint -\n",
    "    baseurl = \"http://bigg.ucsd.edu\"; # base url to download model\n",
    "    modelid = \"e_coli_core\"; # model id to download\n",
    "    path_to_saved_model_file = joinpath(_PATH_TO_DATA, \"saved-model-$(modelid).jld2\");\n",
    "\n",
    "    # check: do we have a model file saved?\n",
    "    model = nothing;\n",
    "    if (isfile(path_to_saved_model_file) == false)\n",
    "        \n",
    "        endpoint = MyBiggModelsDownloadModelEndpointModel();\n",
    "        endpoint.bigg_id = modelid;\n",
    "        url = build(baseurl, endpoint)\n",
    "        model = MyBiggModelsDownloadModelEndpointModel(url);\n",
    "\n",
    "        # Before we move on, save this model for later (so we don't keep hitting the API)\n",
    "        save(path_to_saved_model_file, Dict(\"model\" => model));\n",
    "    else\n",
    "        model = load(path_to_saved_model_file)[\"model\"];\n",
    "    end\n",
    "    model; # return the model (either saved, or downloaded)\n",
    "end"
   ]
  },
  {
   "cell_type": "markdown",
   "id": "fddedbf8-8031-492f-89ee-cfce4a37facc",
   "metadata": {},
   "source": [
    "Next, let's build a stoichiometric matrix."
   ]
  },
  {
   "cell_type": "code",
   "execution_count": 3,
   "id": "9afddf7b-38d8-4330-8334-5bdf7fdea790",
   "metadata": {},
   "outputs": [
    {
     "data": {
      "text/plain": [
       "Dict{String, Any} with 7 entries:\n",
       "  \"compartment\" => \"e\"\n",
       "  \"name\"        => \"D-Glucose\"\n",
       "  \"formula\"     => \"C6H12O6\"\n",
       "  \"id\"          => \"glc__D_e\"\n",
       "  \"charge\"      => 0\n",
       "  \"notes\"       => Dict{String, Any}(\"original_bigg_ids\"=>Any[\"glc_D_e\"])\n",
       "  \"annotation\"  => Dict{String, Any}(\"kegg.drug\"=>Any[\"D00009\"], \"sabiork\"=>Any…"
      ]
     },
     "execution_count": 3,
     "metadata": {},
     "output_type": "execute_result"
    }
   ],
   "source": [
    "model[\"metabolites\"][1] # example metabolite record"
   ]
  },
  {
   "cell_type": "code",
   "execution_count": 4,
   "id": "9a972ff2-5203-4aca-ab7c-3fda49f8162c",
   "metadata": {},
   "outputs": [
    {
     "data": {
      "text/plain": [
       "Dict{String, Any} with 9 entries:\n",
       "  \"name\"               => \"Phosphofructokinase\"\n",
       "  \"metabolites\"        => Dict{String, Any}(\"adp_c\"=>1.0, \"atp_c\"=>-1.0, \"f6p_c…\n",
       "  \"lower_bound\"        => 0.0\n",
       "  \"id\"                 => \"PFK\"\n",
       "  \"notes\"              => Dict{String, Any}(\"original_bigg_ids\"=>Any[\"PFK\"])\n",
       "  \"gene_reaction_rule\" => \"b3916 or b1723\"\n",
       "  \"upper_bound\"        => 1000.0\n",
       "  \"subsystem\"          => \"Glycolysis/Gluconeogenesis\"\n",
       "  \"annotation\"         => Dict{String, Any}(\"bigg.reaction\"=>Any[\"PFK\"], \"metan…"
      ]
     },
     "execution_count": 4,
     "metadata": {},
     "output_type": "execute_result"
    }
   ],
   "source": [
    "model[\"reactions\"][1] # example reaction record"
   ]
  },
  {
   "cell_type": "code",
   "execution_count": 5,
   "id": "59ccfc68-3498-4cac-bed6-846ad7281736",
   "metadata": {},
   "outputs": [],
   "source": [
    "S = let\n",
    "\n",
    "    # get some data from the model -\n",
    "    m = model[\"metabolites\"]; # get list of metabolites\n",
    "    r = model[\"reactions\"]; # get list of reactions\n",
    "    number_of_rows = length(m); # how many metabolites do we have? (rows)\n",
    "    number_of_cols = length(r); # how many reactions do we have? (cols)\n",
    "    S = zeros(number_of_rows,number_of_cols); # initialize an empty stoichiometric matrix\n",
    "\n",
    "    # let's build a stm -\n",
    "    for i ∈ eachindex(m)\n",
    "        metabolite = m[i][\"id\"]; # we are checking if this metabolite is in the reaction record\n",
    "        for j ∈ eachindex(r)\n",
    "            reaction = r[j];\n",
    "            if (haskey(reaction[\"metabolites\"], metabolite) == true)\n",
    "                S[i,j] = reaction[\"metabolites\"][metabolite];\n",
    "            end\n",
    "        end\n",
    "    end\n",
    "    S;\n",
    "end;"
   ]
  },
  {
   "cell_type": "markdown",
   "id": "9d6a9108-39ef-47f2-9a52-c37621761e40",
   "metadata": {},
   "source": [
    "Binary stoichiometric array."
   ]
  },
  {
   "cell_type": "code",
   "execution_count": 6,
   "id": "1c9cc289-ca72-4372-bbda-67a1533d1257",
   "metadata": {},
   "outputs": [
    {
     "data": {
      "text/plain": [
       "72×95 Matrix{Float64}:\n",
       " 0.0  0.0  0.0  0.0  0.0  0.0  0.0  0.0  …  0.0  0.0  0.0  0.0  0.0  0.0  0.0\n",
       " 0.0  0.0  0.0  0.0  0.0  0.0  0.0  0.0     0.0  0.0  0.0  0.0  0.0  0.0  0.0\n",
       " 0.0  0.0  0.0  0.0  0.0  0.0  0.0  0.0     0.0  0.0  0.0  0.0  0.0  0.0  0.0\n",
       " 0.0  0.0  0.0  0.0  0.0  0.0  0.0  0.0     0.0  0.0  0.0  0.0  0.0  0.0  0.0\n",
       " 0.0  0.0  0.0  0.0  0.0  0.0  0.0  0.0     0.0  0.0  0.0  0.0  0.0  0.0  0.0\n",
       " 0.0  0.0  0.0  0.0  0.0  0.0  0.0  0.0  …  0.0  0.0  0.0  0.0  0.0  0.0  0.0\n",
       " 0.0  0.0  0.0  0.0  1.0  0.0  0.0  0.0     0.0  0.0  0.0  0.0  0.0  0.0  0.0\n",
       " 0.0  0.0  0.0  0.0  0.0  0.0  0.0  0.0     0.0  0.0  0.0  0.0  0.0  0.0  0.0\n",
       " 1.0  0.0  0.0  0.0  1.0  1.0  1.0  0.0     0.0  0.0  1.0  0.0  0.0  0.0  0.0\n",
       " 0.0  0.0  0.0  0.0  0.0  0.0  1.0  0.0     0.0  0.0  1.0  0.0  0.0  0.0  0.0\n",
       " 0.0  0.0  0.0  0.0  0.0  0.0  0.0  0.0  …  0.0  0.0  0.0  0.0  0.0  0.0  0.0\n",
       " 0.0  0.0  0.0  0.0  0.0  0.0  0.0  0.0     0.0  0.0  0.0  0.0  0.0  0.0  0.0\n",
       " 0.0  0.0  0.0  0.0  0.0  0.0  0.0  0.0     0.0  0.0  0.0  0.0  0.0  0.0  0.0\n",
       " ⋮                        ⋮              ⋱            ⋮                   \n",
       " 0.0  0.0  0.0  0.0  0.0  0.0  0.0  0.0  …  0.0  0.0  0.0  0.0  0.0  0.0  0.0\n",
       " 0.0  0.0  0.0  0.0  0.0  0.0  0.0  0.0     0.0  0.0  0.0  0.0  0.0  0.0  0.0\n",
       " 0.0  0.0  0.0  0.0  0.0  0.0  0.0  0.0     0.0  0.0  0.0  0.0  0.0  0.0  0.0\n",
       " 1.0  0.0  1.0  0.0  0.0  0.0  0.0  0.0     0.0  0.0  0.0  0.0  0.0  0.0  0.0\n",
       " 1.0  0.0  0.0  0.0  0.0  0.0  0.0  0.0     0.0  0.0  0.0  0.0  0.0  0.0  0.0\n",
       " 0.0  1.0  0.0  0.0  0.0  0.0  0.0  0.0  …  0.0  0.0  0.0  0.0  0.0  0.0  0.0\n",
       " 0.0  0.0  0.0  0.0  0.0  0.0  0.0  0.0     0.0  0.0  0.0  0.0  0.0  0.0  0.0\n",
       " 0.0  0.0  0.0  0.0  0.0  0.0  0.0  0.0     0.0  0.0  0.0  0.0  0.0  0.0  0.0\n",
       " 0.0  0.0  0.0  0.0  0.0  0.0  0.0  0.0     0.0  0.0  0.0  0.0  0.0  0.0  0.0\n",
       " 0.0  0.0  0.0  0.0  0.0  0.0  0.0  0.0     0.0  0.0  0.0  0.0  0.0  0.0  0.0\n",
       " 0.0  0.0  0.0  0.0  0.0  0.0  0.0  0.0  …  0.0  0.0  0.0  0.0  0.0  0.0  0.0\n",
       " 0.0  0.0  1.0  0.0  0.0  0.0  0.0  0.0     0.0  0.0  0.0  0.0  0.0  0.0  0.0"
      ]
     },
     "execution_count": 6,
     "metadata": {},
     "output_type": "execute_result"
    }
   ],
   "source": [
    "Ŝ = let\n",
    "\n",
    "    (m,r) = size(S);\n",
    "    Ŝ = zeros(m,r);\n",
    "\n",
    "    for i ∈ 1:m\n",
    "        for j ∈ 1:r\n",
    "            if (S[i,j] != 0.0)\n",
    "                Ŝ[i,j] = 1.0;\n",
    "            end\n",
    "        end\n",
    "    end    \n",
    "    Ŝ;\n",
    "end"
   ]
  },
  {
   "cell_type": "code",
   "execution_count": 7,
   "id": "ad83683e-e022-4aba-b82e-6ca3ed559c37",
   "metadata": {},
   "outputs": [
    {
     "data": {
      "text/plain": [
       "5-element Vector{String}:\n",
       " \"h_c\"\n",
       " \"adp_c\"\n",
       " \"atp_c\"\n",
       " \"f6p_c\"\n",
       " \"fdp_c\""
      ]
     },
     "execution_count": 7,
     "metadata": {},
     "output_type": "execute_result"
    }
   ],
   "source": [
    "i = S[:,1] |> x -> findall(m -> m != 0.0, x);\n",
    "m = model[\"metabolites\"][i] .|> m -> m[\"id\"]"
   ]
  },
  {
   "cell_type": "code",
   "execution_count": 8,
   "id": "95dca22c-b087-4587-a9d9-df1502671041",
   "metadata": {},
   "outputs": [
    {
     "data": {
      "text/plain": [
       "95×95 Matrix{Float64}:\n",
       "  5.0   0.0  -1.0   2.0   1.0   1.0  …   0.0   -4.0   0.0  0.0  0.0   0.0\n",
       "  0.0   4.0   0.0   0.0   0.0   2.0     -1.0    0.0   0.0  0.0  0.0   3.0\n",
       " -1.0   0.0   2.0   0.0   0.0   0.0      0.0    0.0   0.0  0.0  0.0   0.0\n",
       "  2.0   0.0   0.0   4.0   0.0   0.0      0.0    0.0   0.0  0.0  0.0   0.0\n",
       "  1.0   0.0   0.0   0.0   4.0   1.0      0.0   -4.0   0.0  0.0  0.0   0.0\n",
       "  1.0   2.0   0.0   0.0   1.0   6.0  …   0.0   -6.0   2.0  0.0  0.0   4.0\n",
       "  1.0   0.0   0.0   0.0   1.0   1.0      0.0   -7.0   0.0  0.0  0.0   0.0\n",
       "  0.0   0.0   0.0  -1.0   0.0   0.0      0.0    0.0   0.0  0.0  0.0   0.0\n",
       "  1.0   0.0   0.0   0.0   1.0   1.0      0.0   -7.0   0.0  0.0  0.0   0.0\n",
       "  1.0   0.0   0.0   0.0   1.0   2.0      0.0   -6.0   2.0  0.0  0.0   2.0\n",
       "  0.0   0.0   0.0   0.0   0.0  -1.0  …   0.0    0.0   0.0  0.0  0.0   0.0\n",
       "  2.0   0.0   0.0   2.0   0.0   0.0      0.0    0.0   0.0  0.0  0.0   0.0\n",
       "  1.0   0.0   0.0   0.0   2.0   1.0     -1.0   -4.0   0.0  0.0  0.0  -1.0\n",
       "  ⋮                             ⋮    ⋱          ⋮                    \n",
       "  0.0   0.0   0.0   0.0   0.0   0.0      0.0    0.0   0.0  0.0  0.0   0.0\n",
       "  1.0  -1.0   0.0   0.0   1.0   3.0      1.0   -6.0   2.0  0.0  0.0   1.0\n",
       "  1.0  -2.0   0.0   0.0   2.0  -1.0  …  -1.0   -4.0   0.0  0.0  0.0  -2.0\n",
       "  2.0   0.0   0.0   0.0   2.0   2.0     -1.0  -14.0   0.0  0.0  0.0   0.0\n",
       "  1.0   0.0   0.0   0.0   1.0   3.0      1.0   -6.0   2.0  0.0  0.0   2.0\n",
       "  0.0  -1.0   0.0   0.0   0.0   2.0      3.0   -2.0   2.0  0.0  0.0   2.0\n",
       "  0.0  -1.0   0.0   0.0   0.0   0.0      5.0    0.0  -2.0  0.0  0.0   0.0\n",
       " -4.0   0.0   0.0   0.0  -4.0  -6.0  …   0.0   29.0  -2.0  0.0  0.0  -2.0\n",
       "  0.0   0.0   0.0   0.0   0.0   2.0     -2.0   -2.0   4.0  0.0  0.0   2.0\n",
       "  0.0   0.0   0.0   0.0   0.0   0.0      0.0    0.0   0.0  2.0  0.0   0.0\n",
       "  0.0   0.0   0.0   0.0   0.0   0.0      0.0    0.0   0.0  0.0  2.0   0.0\n",
       "  0.0   3.0   0.0   0.0   0.0   4.0      0.0   -2.0   2.0  0.0  0.0   6.0"
      ]
     },
     "execution_count": 8,
     "metadata": {},
     "output_type": "execute_result"
    }
   ],
   "source": [
    "A = transpose(S)*S"
   ]
  },
  {
   "cell_type": "code",
   "execution_count": 9,
   "id": "b7561591-026c-49fe-b8e7-33619f4eafdf",
   "metadata": {},
   "outputs": [],
   "source": [
    "(λ, V) = let\n",
    "    F = eigen(A)\n",
    "    λ = F.values\n",
    "    V = F.vectors;\n",
    "    λ,V\n",
    "end;"
   ]
  },
  {
   "cell_type": "code",
   "execution_count": 10,
   "id": "19bbb025-3688-4938-be93-b3a32358a837",
   "metadata": {},
   "outputs": [
    {
     "data": {
      "text/plain": [
       "95-element Vector{Float64}:\n",
       "    -5.43916732781253e-13\n",
       "    -3.1345029002727397e-13\n",
       "    -1.4368964136799667e-13\n",
       "    -2.4609023408405857e-14\n",
       "    -1.9085291125109742e-14\n",
       "    -1.605095040435873e-14\n",
       "    -9.5011692322834e-15\n",
       "    -9.43459782200966e-15\n",
       "    -8.218911057864698e-15\n",
       "    -6.650847310648314e-15\n",
       "    -6.604102758255699e-15\n",
       "    -5.7953895714569975e-15\n",
       "    -5.3013149425851225e-15\n",
       "     ⋮\n",
       "     7.179651550389857\n",
       "     7.981251263708931\n",
       "     9.303622040338322\n",
       "    11.409865219522086\n",
       "    12.527717460707946\n",
       "    14.051747930083371\n",
       "    14.948791470915314\n",
       "    20.036045187910993\n",
       "    23.11730912834329\n",
       "    28.587080267156356\n",
       "   110.07704573669785\n",
       " 18380.95463382443"
      ]
     },
     "execution_count": 10,
     "metadata": {},
     "output_type": "execute_result"
    }
   ],
   "source": [
    "λ"
   ]
  },
  {
   "cell_type": "code",
   "execution_count": 11,
   "id": "437ebf68-84c8-4b3d-9a9f-0c691ef2bb3a",
   "metadata": {},
   "outputs": [],
   "source": [
    "imax = argmax(abs.(V[:,92]));"
   ]
  },
  {
   "cell_type": "code",
   "execution_count": 12,
   "id": "048a3e1a-2ac0-4033-a559-e3d0c1394afb",
   "metadata": {},
   "outputs": [
    {
     "data": {
      "text/plain": [
       "Dict{String, Any} with 9 entries:\n",
       "  \"name\"               => \"Glutamate synthase (NADPH)\"\n",
       "  \"metabolites\"        => Dict{String, Any}(\"glu__L_c\"=>2.0, \"nadph_c\"=>-1.0, \"…\n",
       "  \"lower_bound\"        => 0.0\n",
       "  \"id\"                 => \"GLUSy\"\n",
       "  \"notes\"              => Dict{String, Any}(\"original_bigg_ids\"=>Any[\"GLUSy\"])\n",
       "  \"gene_reaction_rule\" => \"b3212 and b3213\"\n",
       "  \"upper_bound\"        => 1000.0\n",
       "  \"subsystem\"          => \"Glutamate Metabolism\"\n",
       "  \"annotation\"         => Dict{String, Any}(\"bigg.reaction\"=>Any[\"GLUSy\"], \"sab…"
      ]
     },
     "execution_count": 12,
     "metadata": {},
     "output_type": "execute_result"
    }
   ],
   "source": [
    "model[\"reactions\"][imax]"
   ]
  },
  {
   "cell_type": "code",
   "execution_count": 13,
   "id": "c658c77b-621f-4508-bc00-6e4b30fa3bd4",
   "metadata": {},
   "outputs": [
    {
     "data": {
      "text/plain": [
       "95-element Vector{Float64}:\n",
       "    -5.43916732781253e-13\n",
       "    -3.1345029002727397e-13\n",
       "    -1.4368964136799667e-13\n",
       "    -2.4609023408405857e-14\n",
       "    -1.9085291125109742e-14\n",
       "    -1.605095040435873e-14\n",
       "    -9.5011692322834e-15\n",
       "    -9.43459782200966e-15\n",
       "    -8.218911057864698e-15\n",
       "    -6.650847310648314e-15\n",
       "    -6.604102758255699e-15\n",
       "    -5.7953895714569975e-15\n",
       "    -5.3013149425851225e-15\n",
       "     ⋮\n",
       "     7.179651550389857\n",
       "     7.981251263708931\n",
       "     9.303622040338322\n",
       "    11.409865219522086\n",
       "    12.527717460707946\n",
       "    14.051747930083371\n",
       "    14.948791470915314\n",
       "    20.036045187910993\n",
       "    23.11730912834329\n",
       "    28.587080267156356\n",
       "   110.07704573669785\n",
       " 18380.95463382443"
      ]
     },
     "execution_count": 13,
     "metadata": {},
     "output_type": "execute_result"
    }
   ],
   "source": [
    "λ"
   ]
  },
  {
   "cell_type": "code",
   "execution_count": 14,
   "id": "1df47baf-6243-445e-b8de-2be7438b5826",
   "metadata": {},
   "outputs": [
    {
     "data": {
      "text/plain": [
       "72×72 Matrix{Float64}:\n",
       "  2.0    0.0         0.0     0.0       …   0.0   0.0   0.0         -1.0\n",
       "  0.0    4.06538    -1.0    -2.73648       0.0   0.0   0.0329853    0.0524185\n",
       "  0.0   -1.0         2.0     0.0           0.0   0.0   0.0          0.0\n",
       "  0.0   -2.73648     0.0    32.4174        0.0   0.0   0.637441     1.01299\n",
       "  0.0    0.0         0.0    -1.0           0.0   0.0   0.0          0.0\n",
       "  0.0    0.0         0.0     0.0       …   0.0   0.0   0.0          0.0\n",
       "  0.0   15.2934      1.0   295.545         1.0   0.0   7.71549     12.261\n",
       "  0.0    0.0         0.0     0.0           0.0   0.0   0.0          0.0\n",
       "  0.0  -12.2934     -1.0  -298.545         2.0  -2.0  -8.71549    -13.261\n",
       "  0.0    0.0         0.0    -1.0          -2.0   2.0   0.0          0.0\n",
       "  0.0    0.0         0.0     0.0       …   0.0   0.0   0.0          0.0\n",
       "  0.0    0.0         0.0     0.0           0.0   0.0   0.0          0.0\n",
       "  0.0    0.0         0.0     0.0           0.0   0.0   0.0          0.0\n",
       "  ⋮                                    ⋱               ⋮          \n",
       "  0.0    0.0923077   0.0     1.78385   …   0.0   0.0  -1.95343      0.074005\n",
       "  0.0    0.0         0.0     0.0           0.0   0.0   0.0          0.0\n",
       "  0.0    0.0         0.0     0.0           0.0   0.0   0.0          0.0\n",
       "  0.0    0.0181291   0.0     0.350345      0.0   0.0   0.0091461   -0.985465\n",
       "  0.0    0.0         0.0     0.0           0.0   0.0  -1.0          0.0\n",
       "  0.0    0.0         0.0     0.0       …   0.0   0.0   0.0          0.0\n",
       "  0.0    0.0         0.0     0.0           0.0   0.0   0.0          0.0\n",
       "  0.0    0.0         0.0     0.0           0.0   0.0   0.0          0.0\n",
       "  0.0    0.0         0.0     0.0           4.0  -1.0   0.0          0.0\n",
       "  0.0    0.0         0.0     0.0          -1.0   2.0   0.0          0.0\n",
       "  0.0    0.0329853   0.0     0.637441  …   0.0   0.0   6.01664      0.026445\n",
       " -1.0    0.0524185   0.0     1.01299       0.0   0.0   0.026445     3.04202"
      ]
     },
     "execution_count": 14,
     "metadata": {},
     "output_type": "execute_result"
    }
   ],
   "source": [
    "B = S*transpose(S)"
   ]
  },
  {
   "cell_type": "code",
   "execution_count": 15,
   "id": "b3c868ab-ce23-479f-98a8-67a7af883e0f",
   "metadata": {},
   "outputs": [],
   "source": [
    "(λ̂, V̂) = let\n",
    "    F = eigen(B)\n",
    "    λ = F.values\n",
    "    V = F.vectors;\n",
    "    λ,V\n",
    "end;"
   ]
  },
  {
   "cell_type": "code",
   "execution_count": 16,
   "id": "8fdbb890-0f39-406e-92eb-906b57f98b8f",
   "metadata": {},
   "outputs": [
    {
     "data": {
      "text/plain": [
       "72-element Vector{Float64}:\n",
       "    -2.5139842438751256e-13\n",
       "    -1.036257577237626e-15\n",
       "    -7.912576699525912e-16\n",
       "    -1.0359315354547157e-16\n",
       "     8.296695395685386e-13\n",
       "     0.013482156741456438\n",
       "     0.11584214049426257\n",
       "     0.1547500835845582\n",
       "     0.2003211061826032\n",
       "     0.29949893101043173\n",
       "     0.3725051995305418\n",
       "     0.40158399313598475\n",
       "     0.4321113939614752\n",
       "     ⋮\n",
       "     7.179651550389532\n",
       "     7.981251263708104\n",
       "     9.303622040337865\n",
       "    11.409865219521995\n",
       "    12.527717460707915\n",
       "    14.051747930083273\n",
       "    14.94879147091537\n",
       "    20.03604518791126\n",
       "    23.117309128343408\n",
       "    28.58708026715736\n",
       "   110.0770457366979\n",
       " 18380.95463382443"
      ]
     },
     "execution_count": 16,
     "metadata": {},
     "output_type": "execute_result"
    }
   ],
   "source": [
    "λ̂"
   ]
  },
  {
   "cell_type": "code",
   "execution_count": 17,
   "id": "95f133b9-fca1-4812-af87-8f9f195b7127",
   "metadata": {},
   "outputs": [],
   "source": [
    "imax = argmax(abs.(V̂[:,70]));"
   ]
  },
  {
   "cell_type": "code",
   "execution_count": 18,
   "id": "63d251c7-55f6-4cf7-af40-0dfaff3263ed",
   "metadata": {},
   "outputs": [
    {
     "data": {
      "text/plain": [
       "Dict{String, Any} with 7 entries:\n",
       "  \"compartment\" => \"c\"\n",
       "  \"name\"        => \"Nicotinamide adenine dinucleotide\"\n",
       "  \"formula\"     => \"C21H26N7O14P2\"\n",
       "  \"id\"          => \"nad_c\"\n",
       "  \"charge\"      => -1\n",
       "  \"notes\"       => Dict{String, Any}(\"original_bigg_ids\"=>Any[\"nad_c\"])\n",
       "  \"annotation\"  => Dict{String, Any}(\"kegg.drug\"=>Any[\"D00002\"], \"sabiork\"=>Any…"
      ]
     },
     "execution_count": 18,
     "metadata": {},
     "output_type": "execute_result"
    }
   ],
   "source": [
    "model[\"metabolites\"][imax]"
   ]
  },
  {
   "cell_type": "code",
   "execution_count": null,
   "id": "647b58f6-361c-4463-bcd7-a0aa86e10c94",
   "metadata": {},
   "outputs": [],
   "source": []
  }
 ],
 "metadata": {
  "kernelspec": {
   "display_name": "Julia 1.11.2",
   "language": "julia",
   "name": "julia-1.11"
  },
  "language_info": {
   "file_extension": ".jl",
   "mimetype": "application/julia",
   "name": "julia",
   "version": "1.11.2"
  }
 },
 "nbformat": 4,
 "nbformat_minor": 5
}
